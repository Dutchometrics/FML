{
 "cells": [
  {
   "cell_type": "code",
   "execution_count": 1,
   "id": "3401528b",
   "metadata": {
    "execution": {
     "iopub.execute_input": "2021-12-28T15:55:44.466834Z",
     "iopub.status.busy": "2021-12-28T15:55:44.466168Z",
     "iopub.status.idle": "2021-12-28T15:55:48.751418Z",
     "shell.execute_reply": "2021-12-28T15:55:48.750860Z",
     "shell.execute_reply.started": "2021-12-28T13:43:52.017815Z"
    },
    "papermill": {
     "duration": 4.344054,
     "end_time": "2021-12-28T15:55:48.751558",
     "exception": false,
     "start_time": "2021-12-28T15:55:44.407504",
     "status": "completed"
    },
    "tags": []
   },
   "outputs": [],
   "source": [
    "%load_ext autoreload\n",
    "%autoreload 2\n",
    "\n",
    "import os\n",
    "from datetime import datetime\n",
    "import glob\n",
    "import pandas as pd\n",
    "import numpy as np\n",
    "import matplotlib.pyplot as plt\n",
    "import torch\n",
    "from torch.utils.data import Dataset, DataLoader\n",
    "from torch.optim import Adam\n",
    "from torch.optim.lr_scheduler import ExponentialLR\n",
    "from torch.utils.tensorboard import SummaryWriter\n",
    "\n",
    "from market_dynamics import bs_delta, bs_call_price\n",
    "\n",
    "from data import DataFromFolder, DataRes\n",
    "from utils import call_payoff, stochastic_integral\n",
    "from models import ControlNet, EnsembleNet\n",
    "from train import train_val\n",
    "from evaluation import get_eval_data\n",
    "from risk_measures import median_loss\n",
    "\n",
    "import yfinance as yf\n",
    "from arch import arch_model\n",
    "import dask.dataframe as dd\n",
    "\n",
    "from tqdm import tqdm, trange\n",
    "\n",
    "from typing import Callable, Optional\n",
    "import multiprocessing\n",
    "import time"
   ]
  },
  {
   "cell_type": "markdown",
   "id": "582716c1",
   "metadata": {
    "papermill": {
     "duration": 0.046797,
     "end_time": "2021-12-28T15:55:48.847371",
     "exception": false,
     "start_time": "2021-12-28T15:55:48.800574",
     "status": "completed"
    },
    "tags": []
   },
   "source": [
    "## Data"
   ]
  },
  {
   "cell_type": "code",
   "execution_count": 2,
   "id": "a0176bfc",
   "metadata": {
    "execution": {
     "iopub.execute_input": "2021-12-28T15:55:48.949045Z",
     "iopub.status.busy": "2021-12-28T15:55:48.948352Z",
     "iopub.status.idle": "2021-12-28T15:55:50.372732Z",
     "shell.execute_reply": "2021-12-28T15:55:50.372042Z",
     "shell.execute_reply.started": "2021-12-28T13:43:53.979680Z"
    },
    "papermill": {
     "duration": 1.478434,
     "end_time": "2021-12-28T15:55:50.372888",
     "exception": false,
     "start_time": "2021-12-28T15:55:48.894454",
     "status": "completed"
    },
    "tags": []
   },
   "outputs": [
    {
     "data": {
      "text/plain": [
       "[<matplotlib.lines.Line2D at 0x7ff177e67550>]"
      ]
     },
     "execution_count": 2,
     "metadata": {},
     "output_type": "execute_result"
    },
    {
     "data": {
      "image/png": "[encoded data removed]",
      "text/plain": [
       "<Figure size 432x288 with 1 Axes>"
      ]
     },
     "metadata": {
      "needs_background": "light"
     },
     "output_type": "display_data"
    }
   ],
   "source": [
    "ticker = yf.Ticker('^GSPC')\n",
    "hist_v1 = ticker.history(start='2013-03-04', end='2018-01-02').Close\n",
    "hist_v2 = ticker.history(start='2007-06-11', end='2012-04-10').Close\n",
    "plt.plot(hist_v2);\n",
    "plt.plot(hist_v1)"
   ]
  },
  {
   "cell_type": "code",
   "execution_count": 6,
   "id": "72c8f666",
   "metadata": {
    "execution": {
     "iopub.execute_input": "2021-12-28T15:55:50.474092Z",
     "iopub.status.busy": "2021-12-28T15:55:50.473106Z",
     "iopub.status.idle": "2021-12-28T15:55:50.515368Z",
     "shell.execute_reply": "2021-12-28T15:55:50.515933Z",
     "shell.execute_reply.started": "2021-12-28T13:43:54.655783Z"
    },
    "papermill": {
     "duration": 0.093795,
     "end_time": "2021-12-28T15:55:50.516108",
     "exception": false,
     "start_time": "2021-12-28T15:55:50.422313",
     "status": "completed"
    },
    "tags": []
   },
   "outputs": [],
   "source": [
    "# From fitting the GARCH model using R get following parameters\n",
    "\n",
    "SIGMA_V1 = 0.0643661\n",
    "SIGMA_V2 = 0.1221684\n",
    "\n",
    "MU_V1 = 0.048758\n",
    "MU_V2 = 0.056105\n",
    "\n",
    "SQRT_252 = 252 ** 0.5"
   ]
  },
  {
   "cell_type": "code",
   "execution_count": 7,
   "id": "cb7e79a6",
   "metadata": {
    "execution": {
     "iopub.execute_input": "2021-12-28T15:55:50.618573Z",
     "iopub.status.busy": "2021-12-28T15:55:50.617619Z",
     "iopub.status.idle": "2021-12-28T15:55:50.658998Z",
     "shell.execute_reply": "2021-12-28T15:55:50.659429Z",
     "shell.execute_reply.started": "2021-12-28T13:43:54.700226Z"
    },
    "papermill": {
     "duration": 0.095483,
     "end_time": "2021-12-28T15:55:50.659617",
     "exception": false,
     "start_time": "2021-12-28T15:55:50.564134",
     "status": "completed"
    },
    "tags": []
   },
   "outputs": [],
   "source": [
    "h_params = {\"N_SIM\": 4000,\n",
    "            \"RF\": 0,\n",
    "            \"N_DIMS\": 2,\n",
    "            \"FC_DIM\": 20,\n",
    "            \"LR\": 0.005,\n",
    "            \"GAMMA\": 0.96,\n",
    "            \"EPOCHS\": 10,\n",
    "            \"BATCH_SIZE\": 256,}"
   ]
  },
  {
   "cell_type": "code",
   "execution_count": 8,
   "id": "5900e8d5",
   "metadata": {
    "execution": {
     "iopub.execute_input": "2021-12-28T15:55:50.919709Z",
     "iopub.status.busy": "2021-12-28T15:55:50.919062Z",
     "iopub.status.idle": "2021-12-28T15:55:50.962438Z",
     "shell.execute_reply": "2021-12-28T15:55:50.963058Z",
     "shell.execute_reply.started": "2021-12-28T13:43:54.796545Z"
    },
    "papermill": {
     "duration": 0.096686,
     "end_time": "2021-12-28T15:55:50.963228",
     "exception": false,
     "start_time": "2021-12-28T15:55:50.866542",
     "status": "completed"
    },
    "tags": []
   },
   "outputs": [
    {
     "data": {
      "text/plain": [
       "(1509.1199951171875, 1509.1199951171875, 0.1221684, 21.0855397479188)"
      ]
     },
     "execution_count": 8,
     "metadata": {},
     "output_type": "execute_result"
    }
   ],
   "source": [
    "initial_value = hist_v2.iloc[0]\n",
    "strike = initial_value\n",
    "n_steps = 30\n",
    "price = bs_call_price(n_steps, initial_value, SIGMA_V2, h_params[\"RF\"], strike)\n",
    "initial_value, strike, SIGMA_V2, price"
   ]
  },
  {
   "cell_type": "code",
   "execution_count": 9,
   "id": "9871bb23",
   "metadata": {
    "execution": {
     "iopub.execute_input": "2021-12-28T15:55:51.440444Z",
     "iopub.status.busy": "2021-12-28T15:55:51.439732Z",
     "iopub.status.idle": "2021-12-28T15:55:51.485578Z",
     "shell.execute_reply": "2021-12-28T15:55:51.484948Z",
     "shell.execute_reply.started": "2021-12-28T13:43:58.924074Z"
    },
    "papermill": {
     "duration": 0.098928,
     "end_time": "2021-12-28T15:55:51.485719",
     "exception": false,
     "start_time": "2021-12-28T15:55:51.386791",
     "status": "completed"
    },
    "tags": []
   },
   "outputs": [],
   "source": [
    "dt = DataFromFolder(\"v2/\", price, call_payoff, {\"strike\": strike}, splits=h_params[\"N_SIM\"], S0=initial_value, sigma_0=SIGMA_V2, mu_const=MU_V2, take_log=True)\n"
   ]
  },
  {
   "cell_type": "markdown",
   "id": "caaf55f3",
   "metadata": {
    "papermill": {
     "duration": 0.048699,
     "end_time": "2021-12-28T15:55:51.583325",
     "exception": false,
     "start_time": "2021-12-28T15:55:51.534626",
     "status": "completed"
    },
    "tags": []
   },
   "source": [
    "## Training"
   ]
  },
  {
   "cell_type": "code",
   "execution_count": 10,
   "id": "a8ae45a8",
   "metadata": {
    "execution": {
     "iopub.execute_input": "2021-12-28T15:55:51.688129Z",
     "iopub.status.busy": "2021-12-28T15:55:51.687448Z",
     "iopub.status.idle": "2021-12-28T16:07:45.694089Z",
     "shell.execute_reply": "2021-12-28T16:07:45.694531Z",
     "shell.execute_reply.started": "2021-12-28T13:44:41.287251Z"
    },
    "papermill": {
     "duration": 714.061122,
     "end_time": "2021-12-28T16:07:45.694701",
     "exception": false,
     "start_time": "2021-12-28T15:55:51.633579",
     "status": "completed"
    },
    "tags": []
   },
   "outputs": [
    {
     "name": "stderr",
     "output_type": "stream",
     "text": [
      "Epoch 0: 100%|███████████████████████████████████████████████████████████████████████████████████████████████████████████████████████████████████████████████████████████████████| 334/334 [00:25<00:00, 13.22batch/s, loss=62.4, metric=21.4]\n"
     ]
    },
    {
     "name": "stdout",
     "output_type": "stream",
     "text": [
      "validation loss: 928.5533233642578\n"
     ]
    },
    {
     "name": "stderr",
     "output_type": "stream",
     "text": [
      "Epoch 1: 100%|███████████████████████████████████████████████████████████████████████████████████████████████████████████████████████████████████████████████████████████████████| 334/334 [00:24<00:00, 13.55batch/s, loss=54.8, metric=16.7]\n",
      "Epoch 2: 100%|███████████████████████████████████████████████████████████████████████████████████████████████████████████████████████████████████████████████████████████████████| 334/334 [00:24<00:00, 13.57batch/s, loss=49.7, metric=15.3]\n",
      "Epoch 3: 100%|███████████████████████████████████████████████████████████████████████████████████████████████████████████████████████████████████████████████████████████████████| 334/334 [00:24<00:00, 13.72batch/s, loss=47.1, metric=15.7]\n",
      "Epoch 4: 100%|███████████████████████████████████████████████████████████████████████████████████████████████████████████████████████████████████████████████████████████████████| 334/334 [00:23<00:00, 13.97batch/s, loss=44.9, metric=16.2]\n",
      "Epoch 5: 100%|█████████████████████████████████████████████████████████████████████████████████████████████████████████████████████████████████████████████████████████████████████| 334/334 [00:24<00:00, 13.68batch/s, loss=44.4, metric=18]\n"
     ]
    },
    {
     "name": "stdout",
     "output_type": "stream",
     "text": [
      "validation loss: 415.34756622314455\n"
     ]
    },
    {
     "name": "stderr",
     "output_type": "stream",
     "text": [
      "Epoch 6: 100%|███████████████████████████████████████████████████████████████████████████████████████████████████████████████████████████████████████████████████████████████████| 334/334 [00:23<00:00, 13.97batch/s, loss=43.8, metric=17.8]\n",
      "Epoch 7: 100%|███████████████████████████████████████████████████████████████████████████████████████████████████████████████████████████████████████████████████████████████████| 334/334 [00:24<00:00, 13.63batch/s, loss=43.4, metric=16.9]\n",
      "Epoch 8: 100%|███████████████████████████████████████████████████████████████████████████████████████████████████████████████████████████████████████████████████████████████████| 334/334 [00:24<00:00, 13.49batch/s, loss=42.6, metric=17.4]\n",
      "Epoch 9: 100%|███████████████████████████████████████████████████████████████████████████████████████████████████████████████████████████████████████████████████████████████████| 334/334 [00:24<00:00, 13.56batch/s, loss=41.9, metric=16.7]\n",
      "Epoch 0: 100%|█████████████████████████████████████████████████████████████████████████████████████████████████████████████████████████████████████████████████████████████████████| 333/333 [00:25<00:00, 13.31batch/s, loss=69.3, metric=14]\n"
     ]
    },
    {
     "name": "stdout",
     "output_type": "stream",
     "text": [
      "validation loss: 1241.0244720458984\n"
     ]
    },
    {
     "name": "stderr",
     "output_type": "stream",
     "text": [
      "Epoch 1: 100%|███████████████████████████████████████████████████████████████████████████████████████████████████████████████████████████████████████████████████████████████████| 333/333 [00:23<00:00, 13.88batch/s, loss=52.4, metric=16.4]\n",
      "Epoch 2: 100%|███████████████████████████████████████████████████████████████████████████████████████████████████████████████████████████████████████████████████████████████████| 333/333 [00:23<00:00, 13.95batch/s, loss=49.6, metric=15.5]\n",
      "Epoch 3: 100%|███████████████████████████████████████████████████████████████████████████████████████████████████████████████████████████████████████████████████████████████████| 333/333 [00:24<00:00, 13.70batch/s, loss=46.1, metric=15.5]\n",
      "Epoch 4: 100%|███████████████████████████████████████████████████████████████████████████████████████████████████████████████████████████████████████████████████████████████████| 333/333 [00:23<00:00, 13.94batch/s, loss=45.5, metric=14.9]\n",
      "Epoch 5: 100%|███████████████████████████████████████████████████████████████████████████████████████████████████████████████████████████████████████████████████████████████████| 333/333 [00:24<00:00, 13.78batch/s, loss=45.5, metric=14.7]\n"
     ]
    },
    {
     "name": "stdout",
     "output_type": "stream",
     "text": [
      "validation loss: 800.4832458496094\n"
     ]
    },
    {
     "name": "stderr",
     "output_type": "stream",
     "text": [
      "Epoch 6: 100%|███████████████████████████████████████████████████████████████████████████████████████████████████████████████████████████████████████████████████████████████████| 333/333 [00:23<00:00, 13.89batch/s, loss=45.2, metric=12.8]\n",
      "Epoch 7: 100%|███████████████████████████████████████████████████████████████████████████████████████████████████████████████████████████████████████████████████████████████████| 333/333 [00:23<00:00, 13.93batch/s, loss=44.4, metric=10.9]\n",
      "Epoch 8: 100%|███████████████████████████████████████████████████████████████████████████████████████████████████████████████████████████████████████████████████████████████████| 333/333 [00:26<00:00, 12.37batch/s, loss=43.7, metric=10.4]\n",
      "Epoch 9: 100%|███████████████████████████████████████████████████████████████████████████████████████████████████████████████████████████████████████████████████████████████████| 333/333 [00:27<00:00, 12.20batch/s, loss=43.3, metric=10.8]\n",
      "Epoch 0: 100%|███████████████████████████████████████████████████████████████████████████████████████████████████████████████████████████████████████████████████████████████████| 333/333 [00:26<00:00, 12.35batch/s, loss=46.9, metric=15.6]\n"
     ]
    },
    {
     "name": "stdout",
     "output_type": "stream",
     "text": [
      "validation loss: 188.34401168823243\n"
     ]
    },
    {
     "name": "stderr",
     "output_type": "stream",
     "text": [
      "Epoch 1: 100%|███████████████████████████████████████████████████████████████████████████████████████████████████████████████████████████████████████████████████████████████████| 333/333 [00:24<00:00, 13.41batch/s, loss=40.6, metric=13.3]\n",
      "Epoch 2: 100%|███████████████████████████████████████████████████████████████████████████████████████████████████████████████████████████████████████████████████████████████████| 333/333 [00:24<00:00, 13.48batch/s, loss=37.2, metric=14.3]\n",
      "Epoch 3: 100%|███████████████████████████████████████████████████████████████████████████████████████████████████████████████████████████████████████████████████████████████████| 333/333 [00:24<00:00, 13.34batch/s, loss=35.3, metric=13.7]\n",
      "Epoch 4: 100%|███████████████████████████████████████████████████████████████████████████████████████████████████████████████████████████████████████████████████████████████████| 333/333 [00:25<00:00, 13.08batch/s, loss=34.5, metric=14.2]\n",
      "Epoch 5: 100%|███████████████████████████████████████████████████████████████████████████████████████████████████████████████████████████████████████████████████████████████████| 333/333 [00:27<00:00, 12.27batch/s, loss=34.8, metric=14.7]\n"
     ]
    },
    {
     "name": "stdout",
     "output_type": "stream",
     "text": [
      "validation loss: 569.7212753295898\n"
     ]
    },
    {
     "name": "stderr",
     "output_type": "stream",
     "text": [
      "Epoch 6: 100%|███████████████████████████████████████████████████████████████████████████████████████████████████████████████████████████████████████████████████████████████████| 333/333 [00:24<00:00, 13.76batch/s, loss=34.9, metric=15.5]\n",
      "Epoch 7: 100%|███████████████████████████████████████████████████████████████████████████████████████████████████████████████████████████████████████████████████████████████████| 333/333 [00:23<00:00, 13.93batch/s, loss=34.1, metric=16.2]\n",
      "Epoch 8: 100%|███████████████████████████████████████████████████████████████████████████████████████████████████████████████████████████████████████████████████████████████████| 333/333 [00:23<00:00, 13.97batch/s, loss=33.5, metric=15.9]\n",
      "Epoch 9: 100%|█████████████████████████████████████████████████████████████████████████████████████████████████████████████████████████████████████████████████████████████████████| 333/333 [00:24<00:00, 13.37batch/s, loss=32.8, metric=15]"
     ]
    },
    {
     "name": "stdout",
     "output_type": "stream",
     "text": [
      "CPU times: user 14min 32s, sys: 3min 26s, total: 17min 58s\n",
      "Wall time: 12min 28s\n"
     ]
    },
    {
     "name": "stderr",
     "output_type": "stream",
     "text": [
      "\n"
     ]
    }
   ],
   "source": [
    "%%time\n",
    "\n",
    "# Training three models on different training paths\n",
    "\n",
    "n_models = 3\n",
    "models, optimizers, schedulers = [], [], []\n",
    "n = 1000\n",
    "val_n = 20\n",
    "criterion = torch.nn.MSELoss()\n",
    "\n",
    "for _ in range(n_models):\n",
    "    model = ControlNet(n_steps, 2, [20, 20], 1, learn_price=False, learn_vol=True)\n",
    "    models.append(model)\n",
    "    optimizer = Adam(model.parameters(), lr=h_params[\"LR\"])\n",
    "    optimizers.append(optimizer)\n",
    "    schedulers.append(ExponentialLR(optimizer, gamma=h_params[\"GAMMA\"]))\n",
    "\n",
    "idx_list = np.array_split(np.arange(n) + 1, 3)\n",
    "val_idx_list = [np.arange(start=idx[-1]+1, stop=idx[-1]+1+val_n) for idx in idx_list]\n",
    "\n",
    "# Training each model\n",
    "\n",
    "res_list = []\n",
    "for model, optimizer, scheduler, indices, val_indices in zip(models, optimizers, schedulers, idx_list, val_idx_list):\n",
    "    results = train_val(dt, model, criterion, optimizer, h_params[\"EPOCHS\"], indices, val_indices, scheduler, metric=median_loss, val_every=5)\n",
    "    res_list.append(results)\n",
    "\n",
    "ens = EnsembleNet(models)"
   ]
  },
  {
   "cell_type": "markdown",
   "id": "6d2a43b7",
   "metadata": {
    "execution": {
     "iopub.execute_input": "2021-12-21T14:26:13.976978Z",
     "iopub.status.busy": "2021-12-21T14:26:13.976323Z",
     "iopub.status.idle": "2021-12-21T14:26:14.025297Z",
     "shell.execute_reply": "2021-12-21T14:26:14.024673Z",
     "shell.execute_reply.started": "2021-12-21T14:26:13.976942Z"
    },
    "papermill": {
     "duration": 5.883135,
     "end_time": "2021-12-28T16:07:57.398494",
     "exception": false,
     "start_time": "2021-12-28T16:07:51.515359",
     "status": "completed"
    },
    "tags": []
   },
   "source": [
    "## Performance on GJR validation paths & Delta Hedging Benchmark"
   ]
  },
  {
   "cell_type": "code",
   "execution_count": 11,
   "id": "7ccac2e1",
   "metadata": {
    "execution": {
     "iopub.execute_input": "2021-12-28T16:08:09.131343Z",
     "iopub.status.busy": "2021-12-28T16:08:09.130649Z",
     "iopub.status.idle": "2021-12-28T16:08:09.183096Z",
     "shell.execute_reply": "2021-12-28T16:08:09.182360Z",
     "shell.execute_reply.started": "2021-12-28T13:56:35.250458Z"
    },
    "papermill": {
     "duration": 5.921471,
     "end_time": "2021-12-28T16:08:09.183251",
     "exception": false,
     "start_time": "2021-12-28T16:08:03.261780",
     "status": "completed"
    },
    "tags": []
   },
   "outputs": [],
   "source": [
    "# Cython code based on: https://github.com/JackJacquier/python-for-finance/blob/master/Session-7-Cython/Intro_to_Cython.ipynb"
   ]
  },
  {
   "cell_type": "code",
   "execution_count": 12,
   "id": "0b7e5a40",
   "metadata": {
    "execution": {
     "iopub.execute_input": "2021-12-28T16:08:20.877192Z",
     "iopub.status.busy": "2021-12-28T16:08:20.876257Z",
     "iopub.status.idle": "2021-12-28T16:08:21.772142Z",
     "shell.execute_reply": "2021-12-28T16:08:21.772589Z",
     "shell.execute_reply.started": "2021-12-28T13:56:35.300074Z"
    },
    "papermill": {
     "duration": 6.668742,
     "end_time": "2021-12-28T16:08:21.772766",
     "exception": false,
     "start_time": "2021-12-28T16:08:15.104024",
     "status": "completed"
    },
    "tags": []
   },
   "outputs": [],
   "source": [
    "%load_ext Cython"
   ]
  },
  {
   "cell_type": "code",
   "execution_count": 13,
   "id": "79d6af70",
   "metadata": {
    "execution": {
     "iopub.execute_input": "2021-12-28T16:08:33.470117Z",
     "iopub.status.busy": "2021-12-28T16:08:33.469447Z",
     "iopub.status.idle": "2021-12-28T16:08:34.983349Z",
     "shell.execute_reply": "2021-12-28T16:08:34.982716Z",
     "shell.execute_reply.started": "2021-12-28T13:56:35.348731Z"
    },
    "papermill": {
     "duration": 7.437603,
     "end_time": "2021-12-28T16:08:34.983518",
     "exception": false,
     "start_time": "2021-12-28T16:08:27.545915",
     "status": "completed"
    },
    "tags": []
   },
   "outputs": [],
   "source": [
    "%%cython --compile-args=-O3\n",
    "cimport cython\n",
    "from libc.math cimport  sqrt,log,exp,erf\n",
    "cdef double ONE_OVER_SQRT_TWO=0.7071067811865476\n",
    "import numpy as np\n",
    "cimport numpy as cnp\n",
    "\n",
    "@cython.cdivision(True)\n",
    "@cython.boundscheck(False)\n",
    "@cython.wraparound(False)\n",
    "@cython.nonecheck(False)\n",
    "cdef double gaussian_cdf(double x) nogil:\n",
    "    return 0.5*(1+erf(x*ONE_OVER_SQRT_TWO))\n",
    "\n",
    "@cython.cdivision(True)\n",
    "@cython.boundscheck(False)\n",
    "@cython.wraparound(False)\n",
    "@cython.nonecheck(False)\n",
    "cpdef cnp.ndarray[cnp.double_t, ndim=1] cython_bs_delta(cnp.ndarray[cnp.double_t, ndim=1] sigma, cnp.ndarray[cnp.double_t, ndim=1] S0,double K, cnp.ndarray[cnp.double_t, ndim=1] T):\n",
    "    cdef int size=len(S0)\n",
    "    cdef double k, d1, sigmaT\n",
    "    cdef cnp.ndarray[cnp.double_t, ndim=1] result=np.zeros(size)\n",
    "        \n",
    "    with nogil:\n",
    "        for i in range(size):\n",
    "            sigmaT = sigma[i] * sqrt(T[i])\n",
    "            k = log(S0[i] / K)\n",
    "            d1 = k / sigmaT + 0.5*sigmaT\n",
    "            result[i] = gaussian_cdf(d1)\n",
    "        \n",
    "    return result"
   ]
  },
  {
   "cell_type": "code",
   "execution_count": 14,
   "id": "e8271090",
   "metadata": {
    "execution": {
     "iopub.execute_input": "2021-12-28T16:08:46.591904Z",
     "iopub.status.busy": "2021-12-28T16:08:46.590988Z",
     "iopub.status.idle": "2021-12-28T16:08:46.636742Z",
     "shell.execute_reply": "2021-12-28T16:08:46.636233Z",
     "shell.execute_reply.started": "2021-12-28T13:56:35.403160Z"
    },
    "papermill": {
     "duration": 5.84752,
     "end_time": "2021-12-28T16:08:46.636897",
     "exception": false,
     "start_time": "2021-12-28T16:08:40.789377",
     "status": "completed"
    },
    "tags": []
   },
   "outputs": [],
   "source": [
    "# make index to pass decreasing time to maturity to the bs_delta function\n",
    "idx = np.arange(n_steps) + 1\n",
    "idx = idx[::-1]"
   ]
  },
  {
   "cell_type": "code",
   "execution_count": 15,
   "id": "12ebf0ec",
   "metadata": {
    "execution": {
     "iopub.execute_input": "2021-12-28T16:08:58.283560Z",
     "iopub.status.busy": "2021-12-28T16:08:58.282912Z",
     "iopub.status.idle": "2021-12-28T16:08:58.327419Z",
     "shell.execute_reply": "2021-12-28T16:08:58.326686Z",
     "shell.execute_reply.started": "2021-12-28T13:56:35.449725Z"
    },
    "papermill": {
     "duration": 5.797086,
     "end_time": "2021-12-28T16:08:58.327563",
     "exception": false,
     "start_time": "2021-12-28T16:08:52.530477",
     "status": "completed"
    },
    "tags": []
   },
   "outputs": [],
   "source": [
    "def cython_d_hedge(x, vol):\n",
    "    return cython_bs_delta(vol.numpy().astype(np.float64), torch.exp(x).numpy().astype(np.float64), strike, idx.astype(np.float64) *  ( 1 / 365))"
   ]
  },
  {
   "cell_type": "code",
   "execution_count": 16,
   "id": "5f109716",
   "metadata": {
    "execution": {
     "iopub.execute_input": "2021-12-28T16:09:09.966235Z",
     "iopub.status.busy": "2021-12-28T16:09:09.965559Z",
     "iopub.status.idle": "2021-12-28T16:09:10.013531Z",
     "shell.execute_reply": "2021-12-28T16:09:10.014008Z",
     "shell.execute_reply.started": "2021-12-28T14:05:43.261454Z"
    },
    "papermill": {
     "duration": 5.803795,
     "end_time": "2021-12-28T16:09:10.014208",
     "exception": false,
     "start_time": "2021-12-28T16:09:04.210413",
     "status": "completed"
    },
    "tags": []
   },
   "outputs": [],
   "source": [
    "def hedge_diff(x, x1, x_inc, payoff, price, vol, model=ens, normalized=True):\n",
    "\n",
    "    # calculate delta hedge; assuming x is log price!\n",
    "    if normalized:\n",
    "        path = initial_value * x\n",
    "    else:\n",
    "        path = x\n",
    "    \n",
    "    d_hedge_list = [cython_d_hedge(a.squeeze(), b.squeeze()) for a, b in zip(path, vol)]\n",
    "    si_delta = stochastic_integral(x_inc, torch.Tensor(d_hedge_list))\n",
    "    diff_delta = (price.squeeze() + si_delta).float() - payoff.float()\n",
    "\n",
    "    # calculating model hedge\n",
    "    if model.learn_price:\n",
    "        output, price = model(x, x1)\n",
    "    else:\n",
    "        output = model(x, x1)\n",
    "\n",
    "    si = stochastic_integral(x_inc, output)\n",
    "    diff = (price.squeeze() + si).float() - payoff.float()\n",
    "\n",
    "    return diff, diff_delta"
   ]
  },
  {
   "cell_type": "code",
   "execution_count": 17,
   "id": "a2353eda",
   "metadata": {
    "execution": {
     "iopub.execute_input": "2021-12-28T16:09:21.802768Z",
     "iopub.status.busy": "2021-12-28T16:09:21.801753Z",
     "iopub.status.idle": "2021-12-28T16:09:51.425218Z",
     "shell.execute_reply": "2021-12-28T16:09:51.424697Z",
     "shell.execute_reply.started": "2021-12-28T14:07:31.760162Z"
    },
    "papermill": {
     "duration": 35.462764,
     "end_time": "2021-12-28T16:09:51.425363",
     "exception": false,
     "start_time": "2021-12-28T16:09:15.962599",
     "status": "completed"
    },
    "tags": []
   },
   "outputs": [],
   "source": [
    "diffs, diffs_delta = [], []\n",
    "\n",
    "for i in np.arange(start=3500, stop=3700):\n",
    "    \n",
    "    x, x1, x_inc, payoff, price = dt[i]\n",
    "    vol = dt.get_vol(i)\n",
    "    \n",
    "    diff, diff_delta = hedge_diff(x, x1, x_inc, payoff, price, vol)\n",
    "    diffs.append(diff)\n",
    "    diffs_delta.append(diff_delta)\n",
    "    \n",
    "d = torch.cat(diffs)\n",
    "d_delta = torch.cat(diffs_delta)"
   ]
  },
  {
   "cell_type": "code",
   "execution_count": 18,
   "id": "1092691f",
   "metadata": {},
   "outputs": [
    {
     "name": "stdout",
     "output_type": "stream",
     "text": [
      "Model:\n",
      "RMSE 6.621359825134277\n",
      "Using median 3.2889022827148438\n",
      "Using mode 0.2271575927734375\n",
      "Delta Hedge:\n",
      "RMSE 15.667876243591309\n",
      "Using median 9.739227294921875\n",
      "Using mode 21.085538864135742\n"
     ]
    }
   ],
   "source": [
    "print('Model:')\n",
    "print(f\"RMSE {(d ** 2).mean() ** 0.5}\")\n",
    "print(f\"Using median {(d ** 2).median() ** 0.5}\")\n",
    "print(f\"Using mode {(d ** 2).mode()[0] ** 0.5}\")\n",
    "\n",
    "print('Delta Hedge:')\n",
    "print(f\"RMSE {(d_delta ** 2).mean() ** 0.5}\")\n",
    "print(f\"Using median {(d_delta ** 2).median() ** 0.5}\")\n",
    "print(f\"Using mode {(d_delta ** 2).mode()[0] ** 0.5}\")"
   ]
  },
  {
   "cell_type": "code",
   "execution_count": 19,
   "id": "95ef87c1",
   "metadata": {
    "execution": {
     "iopub.execute_input": "2021-12-28T16:10:14.679188Z",
     "iopub.status.busy": "2021-12-28T16:10:14.674719Z",
     "iopub.status.idle": "2021-12-28T16:10:15.162308Z",
     "shell.execute_reply": "2021-12-28T16:10:15.162733Z",
     "shell.execute_reply.started": "2021-12-28T14:07:57.843326Z"
    },
    "papermill": {
     "duration": 6.186328,
     "end_time": "2021-12-28T16:10:15.162933",
     "exception": false,
     "start_time": "2021-12-28T16:10:08.976605",
     "status": "completed"
    },
    "tags": []
   },
   "outputs": [
    {
     "data": {
      "image/png": "[encoded data removed]",
      "text/plain": [
       "<Figure size 432x288 with 1 Axes>"
      ]
     },
     "metadata": {
      "needs_background": "light"
     },
     "output_type": "display_data"
    }
   ],
   "source": [
    "plt.hist([d.detach().numpy(), d_delta.detach().numpy()], range=(-250, 100), bins=50, label=['Model', 'Delta'])\n",
    "plt.legend();"
   ]
  },
  {
   "cell_type": "code",
   "execution_count": 20,
   "id": "d80dc369",
   "metadata": {
    "execution": {
     "iopub.execute_input": "2021-12-28T16:10:26.883023Z",
     "iopub.status.busy": "2021-12-28T16:10:26.882355Z",
     "iopub.status.idle": "2021-12-28T16:10:26.934348Z",
     "shell.execute_reply": "2021-12-28T16:10:26.933837Z",
     "shell.execute_reply.started": "2021-12-28T14:08:08.998098Z"
    },
    "papermill": {
     "duration": 5.982962,
     "end_time": "2021-12-28T16:10:26.934505",
     "exception": false,
     "start_time": "2021-12-28T16:10:20.951543",
     "status": "completed"
    },
    "tags": []
   },
   "outputs": [
    {
     "data": {
      "text/plain": [
       "count    51200.000000\n",
       "mean        -0.094304\n",
       "std         15.667855\n",
       "min       -204.078278\n",
       "25%         -7.247254\n",
       "50%          3.881438\n",
       "75%         10.595092\n",
       "max         21.085539\n",
       "dtype: float64"
      ]
     },
     "execution_count": 20,
     "metadata": {},
     "output_type": "execute_result"
    }
   ],
   "source": [
    "pd.Series(d_delta.detach()).describe()"
   ]
  },
  {
   "cell_type": "code",
   "execution_count": 21,
   "id": "f5e36ae2",
   "metadata": {
    "execution": {
     "iopub.execute_input": "2021-12-28T16:10:38.458392Z",
     "iopub.status.busy": "2021-12-28T16:10:38.457696Z",
     "iopub.status.idle": "2021-12-28T16:10:38.508266Z",
     "shell.execute_reply": "2021-12-28T16:10:38.508682Z",
     "shell.execute_reply.started": "2021-12-28T14:08:09.940270Z"
    },
    "papermill": {
     "duration": 5.730195,
     "end_time": "2021-12-28T16:10:38.508881",
     "exception": false,
     "start_time": "2021-12-28T16:10:32.778686",
     "status": "completed"
    },
    "tags": []
   },
   "outputs": [
    {
     "data": {
      "text/plain": [
       "count    51200.000000\n",
       "mean         1.124987\n",
       "std          6.525132\n",
       "min       -135.143738\n",
       "25%         -1.441749\n",
       "50%          1.408454\n",
       "75%          4.771420\n",
       "max         36.305290\n",
       "dtype: float64"
      ]
     },
     "execution_count": 21,
     "metadata": {},
     "output_type": "execute_result"
    }
   ],
   "source": [
    "d_series = pd.Series(d.detach())\n",
    "d_series.describe()"
   ]
  },
  {
   "cell_type": "markdown",
   "id": "41d0e2cc",
   "metadata": {
    "execution": {
     "iopub.execute_input": "2021-12-22T13:24:36.048493Z",
     "iopub.status.busy": "2021-12-22T13:24:36.048204Z",
     "iopub.status.idle": "2021-12-22T13:24:36.091854Z",
     "shell.execute_reply": "2021-12-22T13:24:36.090771Z",
     "shell.execute_reply.started": "2021-12-22T13:24:36.048459Z"
    },
    "papermill": {
     "duration": 5.824808,
     "end_time": "2021-12-28T16:10:50.115852",
     "exception": false,
     "start_time": "2021-12-28T16:10:44.291044",
     "status": "completed"
    },
    "tags": []
   },
   "source": [
    "## Performance on real paths"
   ]
  },
  {
   "cell_type": "code",
   "execution_count": 54,
   "id": "bacb84b9",
   "metadata": {
    "execution": {
     "iopub.execute_input": "2021-12-28T16:11:01.665422Z",
     "iopub.status.busy": "2021-12-28T16:11:01.664408Z",
     "iopub.status.idle": "2021-12-28T16:11:01.796166Z",
     "shell.execute_reply": "2021-12-28T16:11:01.795520Z",
     "shell.execute_reply.started": "2021-12-28T13:56:38.686885Z"
    },
    "papermill": {
     "duration": 5.805401,
     "end_time": "2021-12-28T16:11:01.796305",
     "exception": false,
     "start_time": "2021-12-28T16:10:55.990904",
     "status": "completed"
    },
    "tags": []
   },
   "outputs": [],
   "source": [
    "# Creating the validation paths\n",
    "n_steps = 30\n",
    "step = 5  # number of days by which to shift the window \n",
    "valid_paths, valid_prices, valid_strikes = [], [], []\n",
    "\n",
    "for i in np.arange(start=0, stop=len(hist_v2) - n_steps, step=step):\n",
    "    \n",
    "    valid_path = hist_v2[i:i+n_steps+1]\n",
    "    S0 = valid_path[0]\n",
    "    valid_price = bs_call_price(n_steps, S0, sigma=SIGMA_V2, rf=0, strike=S0)  # TODO: CORRECT SIGMA HERE    \n",
    "    \n",
    "    valid_paths.append(valid_path)\n",
    "    valid_strikes.append(S0)\n",
    "    valid_prices.append(valid_price)\n",
    "\n",
    "valid_paths = np.array(valid_paths)\n",
    "valid_paths = valid_paths.reshape(valid_paths.shape[0], valid_paths.shape[1], 1)\n",
    "valid_paths = torch.from_numpy(valid_paths).float()\n",
    "\n",
    "valid_prices = torch.Tensor(valid_prices)\n",
    "valid_strikes = torch.Tensor(valid_strikes)"
   ]
  },
  {
   "cell_type": "code",
   "execution_count": 55,
   "id": "b188aa04",
   "metadata": {
    "execution": {
     "iopub.execute_input": "2021-12-28T16:11:13.433890Z",
     "iopub.status.busy": "2021-12-28T16:11:13.432964Z",
     "iopub.status.idle": "2021-12-28T16:11:13.475749Z",
     "shell.execute_reply": "2021-12-28T16:11:13.476246Z",
     "shell.execute_reply.started": "2021-12-28T14:03:58.325508Z"
    },
    "papermill": {
     "duration": 5.865772,
     "end_time": "2021-12-28T16:11:13.476439",
     "exception": false,
     "start_time": "2021-12-28T16:11:07.610667",
     "status": "completed"
    },
    "tags": []
   },
   "outputs": [],
   "source": [
    "if dt.take_log:\n",
    "    paths = valid_paths.squeeze().T /  valid_paths[:, 0].squeeze()\n",
    "    paths = paths.T\n",
    "    paths = torch.unsqueeze(paths, dim=2)\n",
    "    paths = torch.log(paths[:, :-1])\n",
    "    x_inc = valid_paths.squeeze().diff()\n",
    "    payoff = call_payoff(valid_paths.squeeze(), strike=valid_strikes)"
   ]
  },
  {
   "cell_type": "code",
   "execution_count": 56,
   "id": "bfac1fc0",
   "metadata": {
    "execution": {
     "iopub.execute_input": "2021-12-28T16:11:25.005255Z",
     "iopub.status.busy": "2021-12-28T16:11:25.004625Z",
     "iopub.status.idle": "2021-12-28T16:11:25.050481Z",
     "shell.execute_reply": "2021-12-28T16:11:25.049897Z",
     "shell.execute_reply.started": "2021-12-28T14:03:59.011735Z"
    },
    "papermill": {
     "duration": 5.793857,
     "end_time": "2021-12-28T16:11:25.050615",
     "exception": false,
     "start_time": "2021-12-28T16:11:19.256758",
     "status": "completed"
    },
    "scrolled": true,
    "tags": []
   },
   "outputs": [
    {
     "data": {
      "text/plain": [
       "torch.Size([238, 30, 1])"
      ]
     },
     "execution_count": 56,
     "metadata": {},
     "output_type": "execute_result"
    }
   ],
   "source": [
    "paths.shape"
   ]
  },
  {
   "cell_type": "code",
   "execution_count": 64,
   "id": "e0d45730",
   "metadata": {
    "execution": {
     "iopub.execute_input": "2021-12-28T16:11:36.844520Z",
     "iopub.status.busy": "2021-12-28T16:11:36.843907Z",
     "iopub.status.idle": "2021-12-28T16:11:36.923357Z",
     "shell.execute_reply": "2021-12-28T16:11:36.922257Z",
     "shell.execute_reply.started": "2021-12-28T14:03:59.359762Z"
    },
    "papermill": {
     "duration": 5.95479,
     "end_time": "2021-12-28T16:11:36.923514",
     "exception": false,
     "start_time": "2021-12-28T16:11:30.968724",
     "status": "completed"
    },
    "tags": []
   },
   "outputs": [],
   "source": [
    "x1 = torch.ones([256, 30, 1]) * SIGMA_V2 #!!!!!!FIX THIS WITH THE SIGMA\n",
    "output = ens(paths, x1)\n",
    "si = stochastic_integral(x_inc, output)\n",
    "diff = (valid_prices.squeeze() + si).float() - payoff.float()\n",
    "d = diff"
   ]
  },
  {
   "cell_type": "code",
   "execution_count": 66,
   "id": "160ad182",
   "metadata": {
    "execution": {
     "iopub.execute_input": "2021-12-28T16:11:48.571132Z",
     "iopub.status.busy": "2021-12-28T16:11:48.570524Z",
     "iopub.status.idle": "2021-12-28T16:11:48.614869Z",
     "shell.execute_reply": "2021-12-28T16:11:48.614345Z",
     "shell.execute_reply.started": "2021-12-28T14:04:01.895117Z"
    },
    "papermill": {
     "duration": 5.835376,
     "end_time": "2021-12-28T16:11:48.615045",
     "exception": false,
     "start_time": "2021-12-28T16:11:42.779669",
     "status": "completed"
    },
    "tags": []
   },
   "outputs": [
    {
     "name": "stdout",
     "output_type": "stream",
     "text": [
      "Model:\n",
      "RMSE 29.437355041503906\n",
      "Using median 15.217658996582031\n"
     ]
    }
   ],
   "source": [
    "print('Model:')\n",
    "print(f\"RMSE {(d ** 2).mean() ** 0.5}\")\n",
    "print(f\"Using median {(d ** 2).median() ** 0.5}\")"
   ]
  },
  {
   "cell_type": "code",
   "execution_count": 69,
   "id": "901f8870",
   "metadata": {
    "execution": {
     "iopub.execute_input": "2021-12-28T16:12:00.277283Z",
     "iopub.status.busy": "2021-12-28T16:12:00.276577Z",
     "iopub.status.idle": "2021-12-28T16:12:00.673742Z",
     "shell.execute_reply": "2021-12-28T16:12:00.673223Z",
     "shell.execute_reply.started": "2021-12-28T14:04:03.040889Z"
    },
    "papermill": {
     "duration": 6.278377,
     "end_time": "2021-12-28T16:12:00.673918",
     "exception": false,
     "start_time": "2021-12-28T16:11:54.395541",
     "status": "completed"
    },
    "tags": []
   },
   "outputs": [
    {
     "data": {
      "image/png": "[encoded data removed]",
      "text/plain": [
       "<Figure size 432x288 with 1 Axes>"
      ]
     },
     "metadata": {
      "needs_background": "light"
     },
     "output_type": "display_data"
    }
   ],
   "source": [
    "plt.hist(d.detach().numpy(), range=(-250, 100), bins=50, label=['Model'])\n",
    "plt.legend();"
   ]
  },
  {
   "cell_type": "code",
   "execution_count": 68,
   "id": "9999560a",
   "metadata": {
    "execution": {
     "iopub.execute_input": "2021-12-28T16:12:12.172831Z",
     "iopub.status.busy": "2021-12-28T16:12:12.171927Z",
     "iopub.status.idle": "2021-12-28T16:12:12.218961Z",
     "shell.execute_reply": "2021-12-28T16:12:12.219498Z",
     "shell.execute_reply.started": "2021-12-28T14:04:08.100209Z"
    },
    "papermill": {
     "duration": 5.769207,
     "end_time": "2021-12-28T16:12:12.219666",
     "exception": false,
     "start_time": "2021-12-28T16:12:06.450459",
     "status": "completed"
    },
    "tags": []
   },
   "outputs": [
    {
     "data": {
      "text/plain": [
       "count    238.000000\n",
       "mean     -18.999050\n",
       "std       22.532801\n",
       "min      -99.066925\n",
       "25%      -31.445137\n",
       "50%      -14.929764\n",
       "75%       -2.031241\n",
       "max       24.538765\n",
       "dtype: float64"
      ]
     },
     "execution_count": 68,
     "metadata": {},
     "output_type": "execute_result"
    }
   ],
   "source": [
    "d_series = pd.Series(d.detach())\n",
    "d_series.describe()"
   ]
  },
  {
   "cell_type": "code",
   "execution_count": 31,
   "id": "050fb9e0",
   "metadata": {
    "execution": {
     "iopub.execute_input": "2021-12-28T16:12:23.823452Z",
     "iopub.status.busy": "2021-12-28T16:12:23.822449Z",
     "iopub.status.idle": "2021-12-28T16:12:23.865430Z",
     "shell.execute_reply": "2021-12-28T16:12:23.864900Z",
     "shell.execute_reply.started": "2021-12-22T20:35:26.608005Z"
    },
    "papermill": {
     "duration": 5.889402,
     "end_time": "2021-12-28T16:12:23.865562",
     "exception": false,
     "start_time": "2021-12-28T16:12:17.976160",
     "status": "completed"
    },
    "tags": []
   },
   "outputs": [],
   "source": [
    "# TODO:\n",
    "# Sigma not correct yet that is used to caldulate the BS price\n",
    "# Would also need that to implement delte hedging"
   ]
  },
  {
   "cell_type": "code",
   "execution_count": null,
   "id": "5e1e14f6",
   "metadata": {
    "papermill": {
     "duration": 5.847253,
     "end_time": "2021-12-28T16:12:35.485134",
     "exception": false,
     "start_time": "2021-12-28T16:12:29.637881",
     "status": "completed"
    },
    "tags": []
   },
   "outputs": [],
   "source": []
  },
  {
   "cell_type": "markdown",
   "id": "72250289",
   "metadata": {
    "papermill": {
     "duration": 5.807484,
     "end_time": "2021-12-28T16:12:47.112589",
     "exception": false,
     "start_time": "2021-12-28T16:12:41.305105",
     "status": "completed"
    },
    "tags": []
   },
   "source": [
    "## Reservoir paths"
   ]
  },
  {
   "cell_type": "code",
   "execution_count": 73,
   "id": "53c90b6b",
   "metadata": {
    "execution": {
     "iopub.execute_input": "2021-12-28T16:12:58.686766Z",
     "iopub.status.busy": "2021-12-28T16:12:58.685855Z",
     "iopub.status.idle": "2021-12-28T16:12:58.728981Z",
     "shell.execute_reply": "2021-12-28T16:12:58.728305Z",
     "shell.execute_reply.started": "2021-12-28T15:39:32.097183Z"
    },
    "papermill": {
     "duration": 5.801419,
     "end_time": "2021-12-28T16:12:58.729138",
     "exception": false,
     "start_time": "2021-12-28T16:12:52.927719",
     "status": "completed"
    },
    "tags": []
   },
   "outputs": [],
   "source": [
    "res_dt = DataRes('resssim/', price, call_payoff, {\"strike\": strike}, splits=100, S0=initial_value, take_log=True)"
   ]
  },
  {
   "cell_type": "code",
   "execution_count": 80,
   "id": "c7bfb0a5",
   "metadata": {
    "execution": {
     "iopub.execute_input": "2021-12-28T16:13:10.657540Z",
     "iopub.status.busy": "2021-12-28T16:13:10.656619Z",
     "iopub.status.idle": "2021-12-28T16:13:15.646337Z",
     "shell.execute_reply": "2021-12-28T16:13:15.647008Z",
     "shell.execute_reply.started": "2021-12-28T14:33:40.541595Z"
    },
    "papermill": {
     "duration": 10.999764,
     "end_time": "2021-12-28T16:13:15.647232",
     "exception": false,
     "start_time": "2021-12-28T16:13:04.647468",
     "status": "completed"
    },
    "tags": []
   },
   "outputs": [
    {
     "name": "stdout",
     "output_type": "stream",
     "text": [
      "Model:\n",
      "RMSE 15.098674774169922\n",
      "Using median 10.466758728027344\n",
      "Using mode 1.304962158203125\n"
     ]
    }
   ],
   "source": [
    "diffs = []\n",
    "\n",
    "for i in range(100):\n",
    "    x, x1, x_inc, payoff, price = res_dt[i]\n",
    "    output = ens(x, x1) #SECOND ARGUMENT VOL RN IT\"S PATH\n",
    "    si = stochastic_integral(x_inc, output)\n",
    "    diff = (price.squeeze() + si).float() - payoff.float()\n",
    "    diffs.append(diff)\n",
    "    \n",
    "d = torch.cat(diffs)\n",
    "\n",
    "print('Model:')\n",
    "print(f\"RMSE {(d ** 2).mean() ** 0.5}\")\n",
    "print(f\"Using median {(d ** 2).median() ** 0.5}\")\n",
    "print(f\"Using mode {(d ** 2).mode()[0] ** 0.5}\")"
   ]
  },
  {
   "cell_type": "code",
   "execution_count": 81,
   "id": "eb825b1f",
   "metadata": {
    "execution": {
     "iopub.execute_input": "2021-12-28T16:13:27.251146Z",
     "iopub.status.busy": "2021-12-28T16:13:27.250494Z",
     "iopub.status.idle": "2021-12-28T16:13:27.613530Z",
     "shell.execute_reply": "2021-12-28T16:13:27.614006Z",
     "shell.execute_reply.started": "2021-12-28T14:34:41.162976Z"
    },
    "papermill": {
     "duration": 6.137611,
     "end_time": "2021-12-28T16:13:27.614184",
     "exception": false,
     "start_time": "2021-12-28T16:13:21.476573",
     "status": "completed"
    },
    "tags": []
   },
   "outputs": [
    {
     "data": {
      "image/png": "[encoded data removed]",
      "text/plain": [
       "<Figure size 432x288 with 1 Axes>"
      ]
     },
     "metadata": {
      "needs_background": "light"
     },
     "output_type": "display_data"
    }
   ],
   "source": [
    "plt.hist(d.detach().numpy(), range=(-250, 100), bins=50, label=['Model'])\n",
    "plt.legend();"
   ]
  },
  {
   "cell_type": "markdown",
   "id": "e1dd7074",
   "metadata": {
    "papermill": {
     "duration": 5.977044,
     "end_time": "2021-12-28T16:13:39.442758",
     "exception": false,
     "start_time": "2021-12-28T16:13:33.465714",
     "status": "completed"
    },
    "tags": []
   },
   "source": [
    "## Compare with training on reservoir paths"
   ]
  },
  {
   "cell_type": "code",
   "execution_count": 82,
   "id": "b3eb9010",
   "metadata": {
    "execution": {
     "iopub.execute_input": "2021-12-28T16:13:51.003704Z",
     "iopub.status.busy": "2021-12-28T16:13:51.002556Z",
     "iopub.status.idle": "2021-12-28T16:22:14.274769Z",
     "shell.execute_reply": "2021-12-28T16:22:14.275308Z",
     "shell.execute_reply.started": "2021-12-28T15:39:59.839775Z"
    },
    "papermill": {
     "duration": 509.007519,
     "end_time": "2021-12-28T16:22:14.275490",
     "exception": false,
     "start_time": "2021-12-28T16:13:45.267971",
     "status": "completed"
    },
    "tags": []
   },
   "outputs": [
    {
     "name": "stderr",
     "output_type": "stream",
     "text": [
      "Epoch 0: 100%|███████████████████████████████████████████████████████████████████████████████████████████████████████████████████████████████████████████████████████████████████| 300/300 [00:12<00:00, 23.80batch/s, loss=94.5, metric=53.4]\n"
     ]
    },
    {
     "name": "stdout",
     "output_type": "stream",
     "text": [
      "validation loss: 27570.894921875\n"
     ]
    },
    {
     "name": "stderr",
     "output_type": "stream",
     "text": [
      "Epoch 1: 100%|█████████████████████████████████████████████████████████████████████████████████████████████████████████████████████████████████████████████████████████████████████| 300/300 [00:12<00:00, 24.46batch/s, loss=91, metric=52.1]\n",
      "Epoch 2: 100%|█████████████████████████████████████████████████████████████████████████████████████████████████████████████████████████████████████████████████████████████████████| 300/300 [00:12<00:00, 24.32batch/s, loss=89.1, metric=55]\n",
      "Epoch 3: 100%|███████████████████████████████████████████████████████████████████████████████████████████████████████████████████████████████████████████████████████████████████| 300/300 [00:12<00:00, 24.33batch/s, loss=87.3, metric=53.5]\n",
      "Epoch 4: 100%|█████████████████████████████████████████████████████████████████████████████████████████████████████████████████████████████████████████████████████████████████████| 300/300 [00:12<00:00, 24.25batch/s, loss=86.3, metric=51]\n",
      "Epoch 5: 100%|███████████████████████████████████████████████████████████████████████████████████████████████████████████████████████████████████████████████████████████████████| 300/300 [00:12<00:00, 24.20batch/s, loss=85.8, metric=50.8]\n"
     ]
    },
    {
     "name": "stdout",
     "output_type": "stream",
     "text": [
      "validation loss: 29001.86259765625\n"
     ]
    },
    {
     "name": "stderr",
     "output_type": "stream",
     "text": [
      "Epoch 6: 100%|█████████████████████████████████████████████████████████████████████████████████████████████████████████████████████████████████████████████████████████████████████| 300/300 [00:12<00:00, 24.13batch/s, loss=85.3, metric=50]\n",
      "Epoch 7: 100%|█████████████████████████████████████████████████████████████████████████████████████████████████████████████████████████████████████████████████████████████████████| 300/300 [00:12<00:00, 24.28batch/s, loss=84.8, metric=50]\n",
      "Epoch 8: 100%|███████████████████████████████████████████████████████████████████████████████████████████████████████████████████████████████████████████████████████████████████| 300/300 [00:12<00:00, 24.31batch/s, loss=84.1, metric=50.5]\n",
      "Epoch 9: 100%|███████████████████████████████████████████████████████████████████████████████████████████████████████████████████████████████████████████████████████████████████| 300/300 [00:12<00:00, 23.85batch/s, loss=83.3, metric=51.6]\n",
      "Epoch 0: 100%|███████████████████████████████████████████████████████████████████████████████████████████████████████████████████████████████████████████████████████████████████| 300/300 [00:12<00:00, 24.13batch/s, loss=90.8, metric=50.2]\n"
     ]
    },
    {
     "name": "stdout",
     "output_type": "stream",
     "text": [
      "validation loss: 20212.56484375\n"
     ]
    },
    {
     "name": "stderr",
     "output_type": "stream",
     "text": [
      "Epoch 1: 100%|█████████████████████████████████████████████████████████████████████████████████████████████████████████████████████████████████████████████████████████████████████| 300/300 [00:12<00:00, 24.65batch/s, loss=89, metric=52.3]\n",
      "Epoch 2: 100%|█████████████████████████████████████████████████████████████████████████████████████████████████████████████████████████████████████████████████████████████████████| 300/300 [00:12<00:00, 24.61batch/s, loss=87.4, metric=50]\n",
      "Epoch 3: 100%|███████████████████████████████████████████████████████████████████████████████████████████████████████████████████████████████████████████████████████████████████| 300/300 [00:12<00:00, 24.54batch/s, loss=85.4, metric=47.6]\n",
      "Epoch 4: 100%|███████████████████████████████████████████████████████████████████████████████████████████████████████████████████████████████████████████████████████████████████| 300/300 [00:12<00:00, 24.38batch/s, loss=83.8, metric=45.7]\n",
      "Epoch 5: 100%|█████████████████████████████████████████████████████████████████████████████████████████████████████████████████████████████████████████████████████████████████████| 300/300 [00:12<00:00, 24.53batch/s, loss=83, metric=46.4]\n"
     ]
    },
    {
     "name": "stdout",
     "output_type": "stream",
     "text": [
      "validation loss: 30420.15751953125\n"
     ]
    },
    {
     "name": "stderr",
     "output_type": "stream",
     "text": [
      "Epoch 6: 100%|█████████████████████████████████████████████████████████████████████████████████████████████████████████████████████████████████████████████████████████████████████| 300/300 [00:12<00:00, 24.55batch/s, loss=81.8, metric=45]\n",
      "Epoch 7: 100%|███████████████████████████████████████████████████████████████████████████████████████████████████████████████████████████████████████████████████████████████████| 300/300 [00:12<00:00, 24.44batch/s, loss=80.7, metric=44.8]\n",
      "Epoch 8: 100%|███████████████████████████████████████████████████████████████████████████████████████████████████████████████████████████████████████████████████████████████████| 300/300 [00:12<00:00, 24.47batch/s, loss=79.9, metric=47.9]\n",
      "Epoch 9: 100%|███████████████████████████████████████████████████████████████████████████████████████████████████████████████████████████████████████████████████████████████████| 300/300 [00:12<00:00, 24.67batch/s, loss=79.4, metric=49.7]\n",
      "Epoch 0: 100%|███████████████████████████████████████████████████████████████████████████████████████████████████████████████████████████████████████████████████████████████████| 300/300 [00:12<00:00, 24.24batch/s, loss=90.8, metric=54.3]\n"
     ]
    },
    {
     "name": "stdout",
     "output_type": "stream",
     "text": [
      "validation loss: 1572.9624084472657\n"
     ]
    },
    {
     "name": "stderr",
     "output_type": "stream",
     "text": [
      "Epoch 1: 100%|███████████████████████████████████████████████████████████████████████████████████████████████████████████████████████████████████████████████████████████████████| 300/300 [00:12<00:00, 24.59batch/s, loss=85.6, metric=51.2]\n",
      "Epoch 2: 100%|█████████████████████████████████████████████████████████████████████████████████████████████████████████████████████████████████████████████████████████████████████| 300/300 [00:12<00:00, 24.62batch/s, loss=81.4, metric=47]\n",
      "Epoch 3: 100%|███████████████████████████████████████████████████████████████████████████████████████████████████████████████████████████████████████████████████████████████████| 300/300 [00:12<00:00, 24.48batch/s, loss=78.7, metric=44.5]\n",
      "Epoch 4: 100%|███████████████████████████████████████████████████████████████████████████████████████████████████████████████████████████████████████████████████████████████████| 300/300 [00:12<00:00, 24.62batch/s, loss=77.1, metric=43.9]\n",
      "Epoch 5: 100%|███████████████████████████████████████████████████████████████████████████████████████████████████████████████████████████████████████████████████████████████████| 300/300 [00:12<00:00, 24.48batch/s, loss=75.9, metric=44.7]\n"
     ]
    },
    {
     "name": "stdout",
     "output_type": "stream",
     "text": [
      "validation loss: 5243.073950195312\n"
     ]
    },
    {
     "name": "stderr",
     "output_type": "stream",
     "text": [
      "Epoch 6: 100%|███████████████████████████████████████████████████████████████████████████████████████████████████████████████████████████████████████████████████████████████████| 300/300 [00:12<00:00, 24.61batch/s, loss=75.1, metric=44.7]\n",
      "Epoch 7: 100%|███████████████████████████████████████████████████████████████████████████████████████████████████████████████████████████████████████████████████████████████████| 300/300 [00:12<00:00, 24.64batch/s, loss=74.4, metric=44.5]\n",
      "Epoch 8: 100%|███████████████████████████████████████████████████████████████████████████████████████████████████████████████████████████████████████████████████████████████████| 300/300 [00:12<00:00, 24.57batch/s, loss=73.7, metric=45.9]\n",
      "Epoch 9: 100%|███████████████████████████████████████████████████████████████████████████████████████████████████████████████████████████████████████████████████████████████████| 300/300 [00:12<00:00, 24.44batch/s, loss=73.4, metric=43.9]"
     ]
    },
    {
     "name": "stdout",
     "output_type": "stream",
     "text": [
      "CPU times: user 6min 49s, sys: 41.3 s, total: 7min 30s\n",
      "Wall time: 6min 10s\n"
     ]
    },
    {
     "name": "stderr",
     "output_type": "stream",
     "text": [
      "\n"
     ]
    }
   ],
   "source": [
    "%%time\n",
    "\n",
    "# Training three models on different training paths\n",
    "\n",
    "n_models = 3\n",
    "models, optimizers, schedulers = [], [], []\n",
    "n = 900\n",
    "val_n = 20\n",
    "criterion = torch.nn.MSELoss()\n",
    "\n",
    "for _ in range(n_models):\n",
    "    model = ControlNet(n_steps, 1, [20, 20], 1, learn_price=False, learn_vol=False)\n",
    "    models.append(model)\n",
    "    optimizer = Adam(model.parameters(), lr=h_params[\"LR\"])\n",
    "    optimizers.append(optimizer)\n",
    "    schedulers.append(ExponentialLR(optimizer, gamma=h_params[\"GAMMA\"]))\n",
    "\n",
    "idx_list = np.array_split(np.arange(n) + 1, 3)\n",
    "val_idx_list = [np.arange(start=idx[-1]+1, stop=idx[-1]+1+val_n) for idx in idx_list]\n",
    "\n",
    "# Training each model\n",
    "\n",
    "res_list = []\n",
    "for model, optimizer, scheduler, indices, val_indices in zip(models, optimizers, schedulers, idx_list, val_idx_list):\n",
    "    results = train_val(res_dt, model, criterion, optimizer, h_params[\"EPOCHS\"], indices, val_indices, scheduler, metric=median_loss, val_every=5)\n",
    "    res_list.append(results)\n",
    "\n",
    "ens = EnsembleNet(models)"
   ]
  },
  {
   "cell_type": "code",
   "execution_count": 83,
   "id": "498b3c12",
   "metadata": {
    "execution": {
     "iopub.execute_input": "2021-12-28T16:22:36.398015Z",
     "iopub.status.busy": "2021-12-28T16:22:36.396730Z",
     "iopub.status.idle": "2021-12-28T16:22:40.933087Z",
     "shell.execute_reply": "2021-12-28T16:22:40.932369Z",
     "shell.execute_reply.started": "2021-12-28T15:48:26.139175Z"
    },
    "papermill": {
     "duration": 15.707048,
     "end_time": "2021-12-28T16:22:40.933237",
     "exception": false,
     "start_time": "2021-12-28T16:22:25.226189",
     "status": "completed"
    },
    "tags": []
   },
   "outputs": [
    {
     "name": "stdout",
     "output_type": "stream",
     "text": [
      "Model:\n",
      "RMSE 8.993473052978516\n",
      "Using median 7.230739593505859\n",
      "Using mode 0.1012420654296875\n"
     ]
    }
   ],
   "source": [
    "# Out of sample performance\n",
    "\n",
    "diffs = []\n",
    "\n",
    "for i in np.arange(n+10,1000):\n",
    "    x, x1, x_inc, payoff, price = res_dt[i]\n",
    "    output = ens(x, x1)\n",
    "    si = stochastic_integral(x_inc, output)\n",
    "    diff = (price.squeeze() + si).float() - payoff.float()\n",
    "    diffs.append(diff)\n",
    "    \n",
    "d = torch.cat(diffs)\n",
    "\n",
    "print('Model:')\n",
    "print(f\"RMSE {(d ** 2).mean() ** 0.5}\")\n",
    "print(f\"Using median {(d ** 2).median() ** 0.5}\")\n",
    "print(f\"Using mode {(d ** 2).mode()[0] ** 0.5}\")"
   ]
  },
  {
   "cell_type": "code",
   "execution_count": 84,
   "id": "997e6055",
   "metadata": {
    "execution": {
     "iopub.execute_input": "2021-12-28T16:23:03.256030Z",
     "iopub.status.busy": "2021-12-28T16:23:03.255223Z",
     "iopub.status.idle": "2021-12-28T16:23:03.588515Z",
     "shell.execute_reply": "2021-12-28T16:23:03.588052Z",
     "shell.execute_reply.started": "2021-12-28T15:48:30.169288Z"
    },
    "papermill": {
     "duration": 11.439608,
     "end_time": "2021-12-28T16:23:03.588665",
     "exception": false,
     "start_time": "2021-12-28T16:22:52.149057",
     "status": "completed"
    },
    "tags": []
   },
   "outputs": [
    {
     "data": {
      "image/png": "[encoded data removed]",
      "text/plain": [
       "<Figure size 432x288 with 1 Axes>"
      ]
     },
     "metadata": {
      "needs_background": "light"
     },
     "output_type": "display_data"
    }
   ],
   "source": [
    "plt.hist(d.detach().numpy(), range=(-250, 100), bins=50, label=['Model'])\n",
    "plt.legend();"
   ]
  },
  {
   "cell_type": "code",
   "execution_count": 85,
   "id": "11c8a0f8",
   "metadata": {
    "execution": {
     "iopub.execute_input": "2021-12-28T16:23:25.850882Z",
     "iopub.status.busy": "2021-12-28T16:23:25.849914Z",
     "iopub.status.idle": "2021-12-28T16:23:25.894780Z",
     "shell.execute_reply": "2021-12-28T16:23:25.894297Z",
     "shell.execute_reply.started": "2021-12-28T15:48:30.539120Z"
    },
    "papermill": {
     "duration": 11.124802,
     "end_time": "2021-12-28T16:23:25.894964",
     "exception": false,
     "start_time": "2021-12-28T16:23:14.770162",
     "status": "completed"
    },
    "tags": []
   },
   "outputs": [
    {
     "data": {
      "text/plain": [
       "torch.Size([256, 30])"
      ]
     },
     "execution_count": 85,
     "metadata": {},
     "output_type": "execute_result"
    }
   ],
   "source": [
    "output.shape"
   ]
  },
  {
   "cell_type": "code",
   "execution_count": 86,
   "id": "ea3643ee",
   "metadata": {
    "execution": {
     "iopub.execute_input": "2021-12-28T16:23:48.302924Z",
     "iopub.status.busy": "2021-12-28T16:23:48.302266Z",
     "iopub.status.idle": "2021-12-28T16:23:48.383217Z",
     "shell.execute_reply": "2021-12-28T16:23:48.382647Z",
     "shell.execute_reply.started": "2021-12-28T15:48:30.585156Z"
    },
    "papermill": {
     "duration": 11.445253,
     "end_time": "2021-12-28T16:23:48.383376",
     "exception": false,
     "start_time": "2021-12-28T16:23:36.938123",
     "status": "completed"
    },
    "tags": []
   },
   "outputs": [
    {
     "name": "stdout",
     "output_type": "stream",
     "text": [
      "Model:\n",
      "RMSE 26.957229614257812\n",
      "Using median 15.382831573486328\n",
      "Using mode 0.08292579650878906\n"
     ]
    }
   ],
   "source": [
    "# Performance on real data\n",
    "\n",
    "if dt.take_log:\n",
    "    paths = valid_paths.squeeze().T /  valid_paths[:, 0].squeeze()\n",
    "    paths = paths.T\n",
    "    paths = torch.unsqueeze(paths, dim=2)\n",
    "    paths = torch.log(paths[:, :-1])\n",
    "    x_inc = valid_paths.squeeze().diff()\n",
    "    payoff = call_payoff(valid_paths.squeeze(), strike=valid_strikes)\n",
    "    \n",
    "    \n",
    "output = ens(paths, paths) #VOLLLLL\n",
    "si = stochastic_integral(x_inc, output)\n",
    "diff = (valid_prices.squeeze() + si).float() - payoff.float()\n",
    "d = diff\n",
    "\n",
    "print('Model:')\n",
    "print(f\"RMSE {(d ** 2).mean() ** 0.5}\")\n",
    "print(f\"Using median {(d ** 2).median() ** 0.5}\")\n",
    "print(f\"Using mode {(d ** 2).mode()[0] ** 0.5}\")"
   ]
  },
  {
   "cell_type": "code",
   "execution_count": 87,
   "id": "98945edb",
   "metadata": {
    "execution": {
     "iopub.execute_input": "2021-12-28T16:24:10.714767Z",
     "iopub.status.busy": "2021-12-28T16:24:10.713841Z",
     "iopub.status.idle": "2021-12-28T16:24:11.048386Z",
     "shell.execute_reply": "2021-12-28T16:24:11.047886Z",
     "shell.execute_reply.started": "2021-12-28T15:48:30.669733Z"
    },
    "papermill": {
     "duration": 11.391229,
     "end_time": "2021-12-28T16:24:11.048530",
     "exception": false,
     "start_time": "2021-12-28T16:23:59.657301",
     "status": "completed"
    },
    "tags": []
   },
   "outputs": [
    {
     "data": {
      "image/png": "[encoded data removed]",
      "text/plain": [
       "<Figure size 432x288 with 1 Axes>"
      ]
     },
     "metadata": {
      "needs_background": "light"
     },
     "output_type": "display_data"
    }
   ],
   "source": [
    "plt.hist(d.detach().numpy(), range=(-250, 100), bins=50, label=['Model'])\n",
    "plt.legend();"
   ]
  },
  {
   "cell_type": "markdown",
   "id": "79d755da",
   "metadata": {
    "execution": {
     "iopub.execute_input": "2021-12-28T15:04:11.140322Z",
     "iopub.status.busy": "2021-12-28T15:04:11.139759Z",
     "iopub.status.idle": "2021-12-28T15:04:11.184192Z",
     "shell.execute_reply": "2021-12-28T15:04:11.183470Z",
     "shell.execute_reply.started": "2021-12-28T15:04:11.140284Z"
    },
    "papermill": {
     "duration": 11.034484,
     "end_time": "2021-12-28T16:24:33.201539",
     "exception": false,
     "start_time": "2021-12-28T16:24:22.167055",
     "status": "completed"
    },
    "tags": []
   },
   "source": [
    "### Plotting training, validation loss & metric"
   ]
  },
  {
   "cell_type": "code",
   "execution_count": 88,
   "id": "9485eef9",
   "metadata": {
    "execution": {
     "iopub.execute_input": "2021-12-28T16:24:55.579458Z",
     "iopub.status.busy": "2021-12-28T16:24:55.577771Z",
     "iopub.status.idle": "2021-12-28T16:24:55.805092Z",
     "shell.execute_reply": "2021-12-28T16:24:55.805510Z",
     "shell.execute_reply.started": "2021-12-28T15:48:31.037539Z"
    },
    "papermill": {
     "duration": 11.459614,
     "end_time": "2021-12-28T16:24:55.805683",
     "exception": false,
     "start_time": "2021-12-28T16:24:44.346069",
     "status": "completed"
    },
    "tags": []
   },
   "outputs": [
    {
     "data": {
      "text/plain": [
       "[<matplotlib.lines.Line2D at 0x7fb6bae98940>]"
      ]
     },
     "execution_count": 88,
     "metadata": {},
     "output_type": "execute_result"
    },
    {
     "data": {
      "image/png": "[encoded data removed]",
      "text/plain": [
       "<Figure size 432x288 with 1 Axes>"
      ]
     },
     "metadata": {
      "needs_background": "light"
     },
     "output_type": "display_data"
    }
   ],
   "source": [
    "l, vl, m = res_list[1]\n",
    "plt.plot(l, marker='o')"
   ]
  },
  {
   "cell_type": "code",
   "execution_count": 89,
   "id": "80c7503d",
   "metadata": {
    "execution": {
     "iopub.execute_input": "2021-12-28T16:25:18.452590Z",
     "iopub.status.busy": "2021-12-28T16:25:18.451634Z",
     "iopub.status.idle": "2021-12-28T16:25:18.690215Z",
     "shell.execute_reply": "2021-12-28T16:25:18.689700Z",
     "shell.execute_reply.started": "2021-12-28T15:48:31.261337Z"
    },
    "papermill": {
     "duration": 11.514379,
     "end_time": "2021-12-28T16:25:18.690366",
     "exception": false,
     "start_time": "2021-12-28T16:25:07.175987",
     "status": "completed"
    },
    "tags": []
   },
   "outputs": [
    {
     "data": {
      "text/plain": [
       "[<matplotlib.lines.Line2D at 0x7fb6baea7be0>]"
      ]
     },
     "execution_count": 89,
     "metadata": {},
     "output_type": "execute_result"
    },
    {
     "data": {
      "image/png": "[encoded data removed]",
      "text/plain": [
       "<Figure size 432x288 with 1 Axes>"
      ]
     },
     "metadata": {
      "needs_background": "light"
     },
     "output_type": "display_data"
    }
   ],
   "source": [
    "plt.plot(vl, marker='o')"
   ]
  },
  {
   "cell_type": "code",
   "execution_count": 91,
   "id": "7a90eab0",
   "metadata": {
    "execution": {
     "iopub.execute_input": "2021-12-28T16:25:40.868971Z",
     "iopub.status.busy": "2021-12-28T16:25:40.868322Z",
     "iopub.status.idle": "2021-12-28T16:25:41.712321Z",
     "shell.execute_reply": "2021-12-28T16:25:41.711732Z",
     "shell.execute_reply.started": "2021-12-28T15:52:48.407461Z"
    },
    "papermill": {
     "duration": 12.020756,
     "end_time": "2021-12-28T16:25:41.712463",
     "exception": false,
     "start_time": "2021-12-28T16:25:29.691707",
     "status": "completed"
    },
    "tags": []
   },
   "outputs": [
    {
     "data": {
      "image/png": "[encoded data removed]",
      "text/plain": [
       "<Figure size 432x288 with 1 Axes>"
      ]
     },
     "metadata": {
      "needs_background": "light"
     },
     "output_type": "display_data"
    }
   ],
   "source": [
    "gjr_x, _, _, _, _ = dt[1]\n",
    "res_x, _, _, _, _ = res_dt[1]\n",
    "gjr_x, res_x = torch.exp(gjr_x), torch.exp(res_x)\n",
    "\n",
    "gjr_example_paths = gjr_x[:10]\n",
    "res_example_paths= res_x[:10]\n",
    "\n",
    "fut = ticker.history(start='2018-01-02', end='2019-01-02').Close\n",
    "m = np.floor(len(fut) / n_steps)\n",
    "real_example_paths = []\n",
    "\n",
    "for i in np.arange(start=0, stop=(m-1)*n_steps, step=n_steps):\n",
    "    i = int(i)\n",
    "    path = fut.iloc[i:i+n_steps].values\n",
    "    path = path / path[0]\n",
    "    real_example_paths.append(path)\n",
    "\n",
    "plt.plot(gjr_example_paths.T.squeeze(), c='blue');\n",
    "plt.plot(res_example_paths.T.squeeze(), c='orange');\n",
    "plt.plot(np.array(real_example_paths).T, c='black');"
   ]
  },
  {
   "cell_type": "code",
   "execution_count": null,
   "id": "0904b882",
   "metadata": {
    "papermill": {
     "duration": 11.023625,
     "end_time": "2021-12-28T16:26:03.871956",
     "exception": false,
     "start_time": "2021-12-28T16:25:52.848331",
     "status": "completed"
    },
    "tags": []
   },
   "outputs": [],
   "source": []
  }
 ],
 "metadata": {
  "kernelspec": {
   "display_name": "Python 3 (ipykernel)",
   "language": "python",
   "name": "python3"
  },
  "language_info": {
   "codemirror_mode": {
    "name": "ipython",
    "version": 3
   },
   "file_extension": ".py",
   "mimetype": "text/x-python",
   "name": "python",
   "nbconvert_exporter": "python",
   "pygments_lexer": "ipython3",
   "version": "3.8.12"
  },
  "papermill": {
   "default_parameters": {},
   "duration": 1881.267052,
   "end_time": "2021-12-28T16:26:16.200880",
   "environment_variables": {},
   "exception": null,
   "input_path": "__notebook__.ipynb",
   "output_path": "__notebook__.ipynb",
   "parameters": {},
   "start_time": "2021-12-28T15:54:54.933828",
   "version": "2.3.3"
  }
 },
 "nbformat": 4,
 "nbformat_minor": 5
}
