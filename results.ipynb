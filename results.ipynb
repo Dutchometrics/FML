{
 "cells": [
  {
   "cell_type": "code",
   "execution_count": 18,
   "metadata": {
    "execution": {
     "iopub.execute_input": "2021-12-29T14:59:11.216053Z",
     "iopub.status.busy": "2021-12-29T14:59:11.215493Z",
     "iopub.status.idle": "2021-12-29T14:59:11.220581Z",
     "shell.execute_reply": "2021-12-29T14:59:11.219957Z",
     "shell.execute_reply.started": "2021-12-29T14:59:11.216009Z"
    }
   },
   "outputs": [],
   "source": [
    "os.chdir(fml_path)"
   ]
  },
  {
   "cell_type": "code",
   "execution_count": 1,
   "metadata": {
    "execution": {
     "iopub.execute_input": "2021-12-29T14:59:11.222809Z",
     "iopub.status.busy": "2021-12-29T14:59:11.222552Z",
     "iopub.status.idle": "2021-12-29T14:59:15.355152Z",
     "shell.execute_reply": "2021-12-29T14:59:15.354454Z",
     "shell.execute_reply.started": "2021-12-29T14:59:11.222782Z"
    },
    "papermill": {
     "duration": 4.344054,
     "end_time": "2021-12-28T15:55:48.751558",
     "exception": false,
     "start_time": "2021-12-28T15:55:44.407504",
     "status": "completed"
    },
    "tags": []
   },
   "outputs": [],
   "source": [
    "%load_ext autoreload\n",
    "%autoreload 2\n",
    "\n",
    "import numpy as np\n",
    "import pandas as pd\n",
    "import matplotlib.pyplot as plt\n",
    "from matplotlib.lines import Line2D\n",
    "import yfinance as yf\n",
    "\n",
    "import torch\n",
    "from torch.optim import Adam\n",
    "from torch.optim.lr_scheduler import ExponentialLR\n",
    "\n",
    "from data import DataGJR, DataRes\n",
    "from market_dynamics import bs_call_price\n",
    "from models import ControlNet, EnsembleNet\n",
    "from train import train_val\n",
    "from risk_measures import median_loss\n",
    "from utils import call_payoff, stochastic_integral"
   ]
  },
  {
   "cell_type": "code",
   "execution_count": 7,
   "metadata": {
    "execution": {
     "iopub.execute_input": "2021-12-29T14:59:15.357674Z",
     "iopub.status.busy": "2021-12-29T14:59:15.356713Z",
     "iopub.status.idle": "2021-12-29T14:59:15.399579Z",
     "shell.execute_reply": "2021-12-29T14:59:15.398683Z",
     "shell.execute_reply.started": "2021-12-29T14:59:15.357628Z"
    }
   },
   "outputs": [],
   "source": [
    "GJR_FOLDER = \"v2/\"\n",
    "RES_FOLDER = \"resssim/\""
   ]
  },
  {
   "cell_type": "markdown",
   "metadata": {
    "papermill": {
     "duration": 0.046797,
     "end_time": "2021-12-28T15:55:48.847371",
     "exception": false,
     "start_time": "2021-12-28T15:55:48.800574",
     "status": "completed"
    },
    "tags": []
   },
   "source": [
    "## Data"
   ]
  },
  {
   "cell_type": "code",
   "execution_count": 8,
   "metadata": {
    "execution": {
     "iopub.execute_input": "2021-12-29T14:59:15.455456Z",
     "iopub.status.busy": "2021-12-29T14:59:15.454775Z",
     "iopub.status.idle": "2021-12-29T14:59:16.340193Z",
     "shell.execute_reply": "2021-12-29T14:59:16.339331Z",
     "shell.execute_reply.started": "2021-12-29T14:59:15.455397Z"
    },
    "papermill": {
     "duration": 1.478434,
     "end_time": "2021-12-28T15:55:50.372888",
     "exception": false,
     "start_time": "2021-12-28T15:55:48.894454",
     "status": "completed"
    },
    "tags": []
   },
   "outputs": [
    {
     "data": {
      "image/png": "[encoded data removed]",
      "text/plain": [
       "<Figure size 432x288 with 1 Axes>"
      ]
     },
     "metadata": {
      "needs_background": "light"
     },
     "output_type": "display_data"
    }
   ],
   "source": [
    "ticker = yf.Ticker('^GSPC')\n",
    "hist = ticker.history(start='2007-06-11', end='2012-04-10').Close\n",
    "plt.plot(hist);"
   ]
  },
  {
   "cell_type": "code",
   "execution_count": 9,
   "metadata": {
    "execution": {
     "iopub.execute_input": "2021-12-29T14:59:16.341620Z",
     "iopub.status.busy": "2021-12-29T14:59:16.341400Z",
     "iopub.status.idle": "2021-12-29T14:59:16.383752Z",
     "shell.execute_reply": "2021-12-29T14:59:16.382239Z",
     "shell.execute_reply.started": "2021-12-29T14:59:16.341595Z"
    },
    "papermill": {
     "duration": 0.093795,
     "end_time": "2021-12-28T15:55:50.516108",
     "exception": false,
     "start_time": "2021-12-28T15:55:50.422313",
     "status": "completed"
    },
    "tags": []
   },
   "outputs": [],
   "source": [
    "# From fitting the GARCH model using R get following parameters\n",
    "\n",
    "SIGMA = 0.1221684\n",
    "MU = 0.056105\n",
    "\n",
    "SQRT_252 = 252 ** 0.5"
   ]
  },
  {
   "cell_type": "code",
   "execution_count": 10,
   "metadata": {
    "execution": {
     "iopub.execute_input": "2021-12-29T15:21:49.908166Z",
     "iopub.status.busy": "2021-12-29T15:21:49.907197Z",
     "iopub.status.idle": "2021-12-29T15:21:50.015721Z",
     "shell.execute_reply": "2021-12-29T15:21:50.014851Z",
     "shell.execute_reply.started": "2021-12-29T15:21:49.908098Z"
    },
    "papermill": {
     "duration": 0.095483,
     "end_time": "2021-12-28T15:55:50.659617",
     "exception": false,
     "start_time": "2021-12-28T15:55:50.564134",
     "status": "completed"
    },
    "tags": []
   },
   "outputs": [],
   "source": [
    "h_params = {\"N_SIM\": 4000,\n",
    "            \"RF\": 0,\n",
    "            \"N_DIMS\": 2,\n",
    "            \"FC_DIM\": 20,\n",
    "            \"LR\": 0.005,\n",
    "            \"GAMMA\": 0.96,\n",
    "            \"EPOCHS\": 10,\n",
    "            \"BATCH_SIZE\": 256,}"
   ]
  },
  {
   "cell_type": "code",
   "execution_count": 11,
   "metadata": {
    "execution": {
     "iopub.execute_input": "2021-12-29T15:21:50.868406Z",
     "iopub.status.busy": "2021-12-29T15:21:50.868093Z",
     "iopub.status.idle": "2021-12-29T15:21:50.928072Z",
     "shell.execute_reply": "2021-12-29T15:21:50.926799Z",
     "shell.execute_reply.started": "2021-12-29T15:21:50.868372Z"
    },
    "papermill": {
     "duration": 0.096686,
     "end_time": "2021-12-28T15:55:50.963228",
     "exception": false,
     "start_time": "2021-12-28T15:55:50.866542",
     "status": "completed"
    },
    "tags": []
   },
   "outputs": [
    {
     "data": {
      "text/plain": [
       "(1509.1199951171875, 1509.1199951171875, 0.1221684, 21.0855397479188)"
      ]
     },
     "execution_count": 11,
     "metadata": {},
     "output_type": "execute_result"
    }
   ],
   "source": [
    "initial_value = hist.iloc[0]\n",
    "strike = initial_value\n",
    "n_steps = 30\n",
    "price = bs_call_price(n_steps, initial_value, SIGMA, h_params[\"RF\"], strike)\n",
    "initial_value, strike, SIGMA, price"
   ]
  },
  {
   "cell_type": "code",
   "execution_count": 12,
   "metadata": {
    "execution": {
     "iopub.execute_input": "2021-12-29T15:21:51.377720Z",
     "iopub.status.busy": "2021-12-29T15:21:51.377448Z",
     "iopub.status.idle": "2021-12-29T15:21:51.422635Z",
     "shell.execute_reply": "2021-12-29T15:21:51.421154Z",
     "shell.execute_reply.started": "2021-12-29T15:21:51.377691Z"
    },
    "papermill": {
     "duration": 0.098928,
     "end_time": "2021-12-28T15:55:51.485719",
     "exception": false,
     "start_time": "2021-12-28T15:55:51.386791",
     "status": "completed"
    },
    "tags": []
   },
   "outputs": [],
   "source": [
    "dt = DataGJR(GJR_FOLDER, price, call_payoff, {\"strike\": strike}, splits=h_params[\"N_SIM\"], S0=initial_value, sigma_0=SIGMA, mu_const=MU, take_log=True, vol_feature=False)"
   ]
  },
  {
   "cell_type": "markdown",
   "metadata": {
    "papermill": {
     "duration": 0.048699,
     "end_time": "2021-12-28T15:55:51.583325",
     "exception": false,
     "start_time": "2021-12-28T15:55:51.534626",
     "status": "completed"
    },
    "tags": []
   },
   "source": [
    "## Training"
   ]
  },
  {
   "cell_type": "code",
   "execution_count": 13,
   "metadata": {
    "execution": {
     "iopub.execute_input": "2021-12-29T15:21:51.754025Z",
     "iopub.status.busy": "2021-12-29T15:21:51.753339Z",
     "iopub.status.idle": "2021-12-29T15:35:21.045651Z",
     "shell.execute_reply": "2021-12-29T15:35:21.044713Z",
     "shell.execute_reply.started": "2021-12-29T15:21:51.753974Z"
    },
    "papermill": {
     "duration": 714.061122,
     "end_time": "2021-12-28T16:07:45.694701",
     "exception": false,
     "start_time": "2021-12-28T15:55:51.633579",
     "status": "completed"
    },
    "tags": []
   },
   "outputs": [
    {
     "name": "stderr",
     "output_type": "stream",
     "text": [
      "Epoch 0: 100%|███████████████████████████████████████████████████████████████████████████████████████████████████████████████████████████████████████████████████████████████████| 334/334 [00:18<00:00, 17.88batch/s, loss=53.4, metric=21.1]\n"
     ]
    },
    {
     "name": "stdout",
     "output_type": "stream",
     "text": [
      "validation loss: 747.8818481445312\n"
     ]
    },
    {
     "name": "stderr",
     "output_type": "stream",
     "text": [
      "Epoch 1: 100%|███████████████████████████████████████████████████████████████████████████████████████████████████████████████████████████████████████████████████████████████████| 334/334 [00:18<00:00, 18.23batch/s, loss=51.4, metric=18.7]\n",
      "Epoch 2: 100%|███████████████████████████████████████████████████████████████████████████████████████████████████████████████████████████████████████████████████████████████████| 334/334 [00:18<00:00, 18.08batch/s, loss=48.1, metric=17.5]\n",
      "Epoch 3: 100%|█████████████████████████████████████████████████████████████████████████████████████████████████████████████████████████████████████████████████████████████████████| 334/334 [00:18<00:00, 17.61batch/s, loss=45, metric=17.7]\n",
      "Epoch 4: 100%|███████████████████████████████████████████████████████████████████████████████████████████████████████████████████████████████████████████████████████████████████| 334/334 [00:18<00:00, 17.88batch/s, loss=43.5, metric=17.7]\n",
      "Epoch 5: 100%|█████████████████████████████████████████████████████████████████████████████████████████████████████████████████████████████████████████████████████████████████████| 334/334 [00:18<00:00, 17.78batch/s, loss=42, metric=17.7]\n"
     ]
    },
    {
     "name": "stdout",
     "output_type": "stream",
     "text": [
      "validation loss: 51.92439212799072\n"
     ]
    },
    {
     "name": "stderr",
     "output_type": "stream",
     "text": [
      "Epoch 6: 100%|███████████████████████████████████████████████████████████████████████████████████████████████████████████████████████████████████████████████████████████████████| 334/334 [00:18<00:00, 18.20batch/s, loss=41.3, metric=16.6]\n",
      "Epoch 7: 100%|███████████████████████████████████████████████████████████████████████████████████████████████████████████████████████████████████████████████████████████████████| 334/334 [00:18<00:00, 18.19batch/s, loss=40.8, metric=16.8]\n",
      "Epoch 8: 100%|█████████████████████████████████████████████████████████████████████████████████████████████████████████████████████████████████████████████████████████████████████| 334/334 [00:18<00:00, 18.02batch/s, loss=40.1, metric=16]\n",
      "Epoch 9: 100%|███████████████████████████████████████████████████████████████████████████████████████████████████████████████████████████████████████████████████████████████████| 334/334 [00:18<00:00, 18.14batch/s, loss=39.9, metric=15.4]\n",
      "Epoch 0: 100%|███████████████████████████████████████████████████████████████████████████████████████████████████████████████████████████████████████████████████████████████████| 333/333 [00:18<00:00, 18.34batch/s, loss=54.4, metric=16.3]\n"
     ]
    },
    {
     "name": "stdout",
     "output_type": "stream",
     "text": [
      "validation loss: 2826.2915771484377\n"
     ]
    },
    {
     "name": "stderr",
     "output_type": "stream",
     "text": [
      "Epoch 1: 100%|███████████████████████████████████████████████████████████████████████████████████████████████████████████████████████████████████████████████████████████████████| 333/333 [00:18<00:00, 17.61batch/s, loss=47.8, metric=13.2]\n",
      "Epoch 2: 100%|███████████████████████████████████████████████████████████████████████████████████████████████████████████████████████████████████████████████████████████████████| 333/333 [00:19<00:00, 17.38batch/s, loss=46.1, metric=13.8]\n",
      "Epoch 3: 100%|███████████████████████████████████████████████████████████████████████████████████████████████████████████████████████████████████████████████████████████████████| 333/333 [00:19<00:00, 17.35batch/s, loss=45.3, metric=13.8]\n",
      "Epoch 4: 100%|███████████████████████████████████████████████████████████████████████████████████████████████████████████████████████████████████████████████████████████████████| 333/333 [00:20<00:00, 16.24batch/s, loss=45.2, metric=14.1]\n",
      "Epoch 5: 100%|█████████████████████████████████████████████████████████████████████████████████████████████████████████████████████████████████████████████████████████████████████| 333/333 [00:18<00:00, 18.32batch/s, loss=45, metric=13.6]\n"
     ]
    },
    {
     "name": "stdout",
     "output_type": "stream",
     "text": [
      "validation loss: 2768.93984375\n"
     ]
    },
    {
     "name": "stderr",
     "output_type": "stream",
     "text": [
      "Epoch 6: 100%|███████████████████████████████████████████████████████████████████████████████████████████████████████████████████████████████████████████████████████████████████| 333/333 [00:18<00:00, 18.09batch/s, loss=44.7, metric=14.5]\n",
      "Epoch 7: 100%|███████████████████████████████████████████████████████████████████████████████████████████████████████████████████████████████████████████████████████████████████| 333/333 [00:18<00:00, 18.20batch/s, loss=44.6, metric=14.8]\n",
      "Epoch 8: 100%|███████████████████████████████████████████████████████████████████████████████████████████████████████████████████████████████████████████████████████████████████| 333/333 [00:18<00:00, 18.17batch/s, loss=44.6, metric=14.1]\n",
      "Epoch 9: 100%|███████████████████████████████████████████████████████████████████████████████████████████████████████████████████████████████████████████████████████████████████| 333/333 [00:18<00:00, 17.84batch/s, loss=44.4, metric=13.8]\n",
      "Epoch 0: 100%|███████████████████████████████████████████████████████████████████████████████████████████████████████████████████████████████████████████████████████████████████| 333/333 [00:18<00:00, 17.86batch/s, loss=37.9, metric=14.5]\n"
     ]
    },
    {
     "name": "stdout",
     "output_type": "stream",
     "text": [
      "validation loss: 4176.038110351563\n"
     ]
    },
    {
     "name": "stderr",
     "output_type": "stream",
     "text": [
      "Epoch 1: 100%|███████████████████████████████████████████████████████████████████████████████████████████████████████████████████████████████████████████████████████████████████| 333/333 [00:19<00:00, 17.05batch/s, loss=34.3, metric=14.4]\n",
      "Epoch 2: 100%|███████████████████████████████████████████████████████████████████████████████████████████████████████████████████████████████████████████████████████████████████| 333/333 [00:18<00:00, 18.16batch/s, loss=33.3, metric=13.2]\n",
      "Epoch 3: 100%|███████████████████████████████████████████████████████████████████████████████████████████████████████████████████████████████████████████████████████████████████| 333/333 [00:18<00:00, 18.13batch/s, loss=32.9, metric=14.3]\n",
      "Epoch 4: 100%|███████████████████████████████████████████████████████████████████████████████████████████████████████████████████████████████████████████████████████████████████| 333/333 [00:18<00:00, 17.61batch/s, loss=32.8, metric=14.9]\n",
      "Epoch 5: 100%|█████████████████████████████████████████████████████████████████████████████████████████████████████████████████████████████████████████████████████████████████████| 333/333 [00:18<00:00, 17.86batch/s, loss=33, metric=14.6]\n"
     ]
    },
    {
     "name": "stdout",
     "output_type": "stream",
     "text": [
      "validation loss: 296.9997894287109\n"
     ]
    },
    {
     "name": "stderr",
     "output_type": "stream",
     "text": [
      "Epoch 6: 100%|███████████████████████████████████████████████████████████████████████████████████████████████████████████████████████████████████████████████████████████████████| 333/333 [00:18<00:00, 18.11batch/s, loss=32.8, metric=14.6]\n",
      "Epoch 7: 100%|███████████████████████████████████████████████████████████████████████████████████████████████████████████████████████████████████████████████████████████████████| 333/333 [00:18<00:00, 18.20batch/s, loss=32.4, metric=14.8]\n",
      "Epoch 8: 100%|███████████████████████████████████████████████████████████████████████████████████████████████████████████████████████████████████████████████████████████████████| 333/333 [00:18<00:00, 18.04batch/s, loss=31.8, metric=13.6]\n",
      "Epoch 9: 100%|███████████████████████████████████████████████████████████████████████████████████████████████████████████████████████████████████████████████████████████████████| 333/333 [00:18<00:00, 18.12batch/s, loss=31.8, metric=14.4]"
     ]
    },
    {
     "name": "stdout",
     "output_type": "stream",
     "text": [
      "CPU times: user 10min 42s, sys: 1min 53s, total: 12min 36s\n",
      "Wall time: 9min 22s\n"
     ]
    },
    {
     "name": "stderr",
     "output_type": "stream",
     "text": [
      "\n"
     ]
    }
   ],
   "source": [
    "%%time\n",
    "\n",
    "# Training three models on different training paths\n",
    "\n",
    "n_models = 3\n",
    "models, optimizers, schedulers = [], [], []\n",
    "n = 1000\n",
    "val_n = 20\n",
    "criterion = torch.nn.MSELoss()\n",
    "\n",
    "for _ in range(n_models):\n",
    "    model = ControlNet(n_steps, 1, [20, 20], 1, learn_price=False, learn_vol=False)\n",
    "    models.append(model)\n",
    "    optimizer = Adam(model.parameters(), lr=h_params[\"LR\"])\n",
    "    optimizers.append(optimizer)\n",
    "    schedulers.append(ExponentialLR(optimizer, gamma=h_params[\"GAMMA\"]))\n",
    "\n",
    "idx_list = np.array_split(np.arange(n) + 1, 3)\n",
    "val_idx_list = [np.arange(start=idx[-1]+1, stop=idx[-1]+1+val_n) for idx in idx_list]\n",
    "\n",
    "# Training each model\n",
    "\n",
    "res_list = []\n",
    "for model, optimizer, scheduler, indices, val_indices in zip(models, optimizers, schedulers, idx_list, val_idx_list):\n",
    "    results = train_val(dt, model, criterion, optimizer, h_params[\"EPOCHS\"], indices, val_indices, scheduler, metric=median_loss, val_every=5)\n",
    "    res_list.append(results)\n",
    "\n",
    "ens = EnsembleNet(models)"
   ]
  },
  {
   "cell_type": "markdown",
   "metadata": {
    "execution": {
     "iopub.execute_input": "2021-12-21T14:26:13.976978Z",
     "iopub.status.busy": "2021-12-21T14:26:13.976323Z",
     "iopub.status.idle": "2021-12-21T14:26:14.025297Z",
     "shell.execute_reply": "2021-12-21T14:26:14.024673Z",
     "shell.execute_reply.started": "2021-12-21T14:26:13.976942Z"
    },
    "papermill": {
     "duration": 5.883135,
     "end_time": "2021-12-28T16:07:57.398494",
     "exception": false,
     "start_time": "2021-12-28T16:07:51.515359",
     "status": "completed"
    },
    "tags": []
   },
   "source": [
    "## Performance on GJR validation paths & Delta Hedging Benchmark"
   ]
  },
  {
   "cell_type": "code",
   "execution_count": 14,
   "metadata": {
    "execution": {
     "iopub.execute_input": "2021-12-29T15:35:21.047637Z",
     "iopub.status.busy": "2021-12-29T15:35:21.047336Z",
     "iopub.status.idle": "2021-12-29T15:35:21.090940Z",
     "shell.execute_reply": "2021-12-29T15:35:21.090132Z",
     "shell.execute_reply.started": "2021-12-29T15:35:21.047611Z"
    },
    "papermill": {
     "duration": 5.921471,
     "end_time": "2021-12-28T16:08:09.183251",
     "exception": false,
     "start_time": "2021-12-28T16:08:03.26178",
     "status": "completed"
    },
    "tags": []
   },
   "outputs": [],
   "source": [
    "# Cython code based on: https://github.com/JackJacquier/python-for-finance/blob/master/Session-7-Cython/Intro_to_Cython.ipynb"
   ]
  },
  {
   "cell_type": "code",
   "execution_count": 15,
   "metadata": {
    "execution": {
     "iopub.execute_input": "2021-12-29T15:35:21.092982Z",
     "iopub.status.busy": "2021-12-29T15:35:21.092207Z",
     "iopub.status.idle": "2021-12-29T15:35:21.138243Z",
     "shell.execute_reply": "2021-12-29T15:35:21.137431Z",
     "shell.execute_reply.started": "2021-12-29T15:35:21.092950Z"
    },
    "papermill": {
     "duration": 6.668742,
     "end_time": "2021-12-28T16:08:21.772766",
     "exception": false,
     "start_time": "2021-12-28T16:08:15.104024",
     "status": "completed"
    },
    "tags": []
   },
   "outputs": [],
   "source": [
    "%load_ext Cython"
   ]
  },
  {
   "cell_type": "code",
   "execution_count": 16,
   "metadata": {
    "execution": {
     "iopub.execute_input": "2021-12-29T15:35:21.140807Z",
     "iopub.status.busy": "2021-12-29T15:35:21.140582Z",
     "iopub.status.idle": "2021-12-29T15:35:21.188398Z",
     "shell.execute_reply": "2021-12-29T15:35:21.187535Z",
     "shell.execute_reply.started": "2021-12-29T15:35:21.140781Z"
    },
    "papermill": {
     "duration": 7.437603,
     "end_time": "2021-12-28T16:08:34.983518",
     "exception": false,
     "start_time": "2021-12-28T16:08:27.545915",
     "status": "completed"
    },
    "tags": []
   },
   "outputs": [],
   "source": [
    "%%cython --compile-args=-O3\n",
    "cimport cython\n",
    "from libc.math cimport  sqrt,log,exp,erf\n",
    "cdef double ONE_OVER_SQRT_TWO=0.7071067811865476\n",
    "import numpy as np\n",
    "cimport numpy as cnp\n",
    "\n",
    "@cython.cdivision(True)\n",
    "@cython.boundscheck(False)\n",
    "@cython.wraparound(False)\n",
    "@cython.nonecheck(False)\n",
    "cdef double gaussian_cdf(double x) nogil:\n",
    "    return 0.5*(1+erf(x*ONE_OVER_SQRT_TWO))\n",
    "\n",
    "@cython.cdivision(True)\n",
    "@cython.boundscheck(False)\n",
    "@cython.wraparound(False)\n",
    "@cython.nonecheck(False)\n",
    "cpdef cnp.ndarray[cnp.double_t, ndim=1] cython_bs_delta(cnp.ndarray[cnp.double_t, ndim=1] sigma, cnp.ndarray[cnp.double_t, ndim=1] S0,double K, cnp.ndarray[cnp.double_t, ndim=1] T):\n",
    "    cdef int size=len(S0)\n",
    "    cdef double k, d1, sigmaT\n",
    "    cdef cnp.ndarray[cnp.double_t, ndim=1] result=np.zeros(size)\n",
    "        \n",
    "    with nogil:\n",
    "        for i in range(size):\n",
    "            sigmaT = sigma[i] * sqrt(T[i])\n",
    "            k = log(S0[i] / K)\n",
    "            d1 = k / sigmaT + 0.5*sigmaT\n",
    "            result[i] = gaussian_cdf(d1)\n",
    "        \n",
    "    return result"
   ]
  },
  {
   "cell_type": "code",
   "execution_count": 17,
   "metadata": {
    "execution": {
     "iopub.execute_input": "2021-12-29T15:35:21.190022Z",
     "iopub.status.busy": "2021-12-29T15:35:21.189797Z",
     "iopub.status.idle": "2021-12-29T15:35:21.233282Z",
     "shell.execute_reply": "2021-12-29T15:35:21.232237Z",
     "shell.execute_reply.started": "2021-12-29T15:35:21.189993Z"
    },
    "papermill": {
     "duration": 5.84752,
     "end_time": "2021-12-28T16:08:46.636897",
     "exception": false,
     "start_time": "2021-12-28T16:08:40.789377",
     "status": "completed"
    },
    "tags": []
   },
   "outputs": [],
   "source": [
    "# make index to pass decreasing time to maturity to the bs_delta function\n",
    "idx = np.arange(n_steps) + 1\n",
    "idx = idx[::-1]"
   ]
  },
  {
   "cell_type": "code",
   "execution_count": 18,
   "metadata": {
    "execution": {
     "iopub.execute_input": "2021-12-29T15:35:21.235554Z",
     "iopub.status.busy": "2021-12-29T15:35:21.234719Z",
     "iopub.status.idle": "2021-12-29T15:35:21.288861Z",
     "shell.execute_reply": "2021-12-29T15:35:21.288192Z",
     "shell.execute_reply.started": "2021-12-29T15:35:21.235507Z"
    },
    "papermill": {
     "duration": 5.803795,
     "end_time": "2021-12-28T16:09:10.014208",
     "exception": false,
     "start_time": "2021-12-28T16:09:04.210413",
     "status": "completed"
    },
    "tags": []
   },
   "outputs": [],
   "source": [
    "def cython_d_hedge(x, vol):\n",
    "    return cython_bs_delta(vol.numpy().astype(np.float64), torch.exp(x).numpy().astype(np.float64), strike, idx.astype(np.float64) *  ( 1 / 365))\n",
    "\n",
    "def hedge_diff(x, x_inc, payoff, price, vol, model=ens, normalized=True, x1=None):\n",
    "\n",
    "    # calculate delta hedge; assuming x is log price!\n",
    "    if normalized:\n",
    "        path = initial_value * x\n",
    "    else:\n",
    "        path = x\n",
    "    \n",
    "    d_hedge_list = [cython_d_hedge(a.squeeze(), b.squeeze()) for a, b in zip(path, vol)]\n",
    "    si_delta = stochastic_integral(x_inc, torch.Tensor(d_hedge_list))\n",
    "    diff_delta = (price.squeeze() + si_delta).float() - payoff.float()\n",
    "\n",
    "    # calculating model hedge\n",
    "    if dt.vol_feature:\n",
    "        output = model(x, x1)\n",
    "    else:\n",
    "        output = model(x)\n",
    "\n",
    "    if model.learn_price:\n",
    "        output, price = output\n",
    "\n",
    "    si = stochastic_integral(x_inc, output)\n",
    "    diff = (price.squeeze() + si).float() - payoff.float()\n",
    "\n",
    "    return diff, diff_delta"
   ]
  },
  {
   "cell_type": "code",
   "execution_count": 19,
   "metadata": {
    "execution": {
     "iopub.execute_input": "2021-12-29T15:35:21.290571Z",
     "iopub.status.busy": "2021-12-29T15:35:21.289858Z",
     "iopub.status.idle": "2021-12-29T15:35:40.884525Z",
     "shell.execute_reply": "2021-12-29T15:35:40.883710Z",
     "shell.execute_reply.started": "2021-12-29T15:35:21.290532Z"
    },
    "papermill": {
     "duration": 35.462764,
     "end_time": "2021-12-28T16:09:51.425363",
     "exception": false,
     "start_time": "2021-12-28T16:09:15.962599",
     "status": "completed"
    },
    "tags": []
   },
   "outputs": [],
   "source": [
    "diffs, diffs_delta = [], []\n",
    "\n",
    "for i in np.arange(start=3500, stop=3700):\n",
    "    \n",
    "    if dt.vol_feature:\n",
    "        x, x1, x_inc, payoff, price = dt[i]\n",
    "    else:\n",
    "        x, x_inc, payoff, price = dt[i]\n",
    "        x1 = None\n",
    "        \n",
    "    vol = dt.get_vol(i)\n",
    "    diff, diff_delta = hedge_diff(x, x_inc, payoff, price, vol, x1=x1)\n",
    "    diffs.append(diff)\n",
    "    diffs_delta.append(diff_delta)\n",
    "    \n",
    "d = torch.cat(diffs)\n",
    "d_delta = torch.cat(diffs_delta)"
   ]
  },
  {
   "cell_type": "code",
   "execution_count": 20,
   "metadata": {
    "execution": {
     "iopub.execute_input": "2021-12-29T15:35:40.885877Z",
     "iopub.status.busy": "2021-12-29T15:35:40.885670Z",
     "iopub.status.idle": "2021-12-29T15:35:40.943129Z",
     "shell.execute_reply": "2021-12-29T15:35:40.941730Z",
     "shell.execute_reply.started": "2021-12-29T15:35:40.885854Z"
    }
   },
   "outputs": [
    {
     "name": "stdout",
     "output_type": "stream",
     "text": [
      "Model:\n",
      "RMSE 6.723581314086914\n",
      "Using median 3.3887939453125\n",
      "Using mode 0.01953887939453125\n",
      "Delta Hedge:\n",
      "RMSE 15.667876243591309\n",
      "Using median 9.739227294921875\n",
      "Using mode 21.085538864135742\n"
     ]
    }
   ],
   "source": [
    "print('Model:')\n",
    "print(f\"RMSE {(d ** 2).mean() ** 0.5}\")\n",
    "print(f\"Using median {(d ** 2).median() ** 0.5}\")\n",
    "print(f\"Using mode {(d ** 2).mode()[0] ** 0.5}\")\n",
    "\n",
    "print('Delta Hedge:')\n",
    "print(f\"RMSE {(d_delta ** 2).mean() ** 0.5}\")\n",
    "print(f\"Using median {(d_delta ** 2).median() ** 0.5}\")\n",
    "print(f\"Using mode {(d_delta ** 2).mode()[0] ** 0.5}\")"
   ]
  },
  {
   "cell_type": "code",
   "execution_count": 21,
   "metadata": {
    "execution": {
     "iopub.execute_input": "2021-12-29T15:35:40.944554Z",
     "iopub.status.busy": "2021-12-29T15:35:40.944334Z",
     "iopub.status.idle": "2021-12-29T15:35:41.434269Z",
     "shell.execute_reply": "2021-12-29T15:35:41.433345Z",
     "shell.execute_reply.started": "2021-12-29T15:35:40.944529Z"
    },
    "papermill": {
     "duration": 6.186328,
     "end_time": "2021-12-28T16:10:15.162933",
     "exception": false,
     "start_time": "2021-12-28T16:10:08.976605",
     "status": "completed"
    },
    "tags": []
   },
   "outputs": [
    {
     "data": {
      "image/png": "[encoded data removed]",
      "text/plain": [
       "<Figure size 432x288 with 1 Axes>"
      ]
     },
     "metadata": {
      "needs_background": "light"
     },
     "output_type": "display_data"
    }
   ],
   "source": [
    "plt.hist([d.detach().numpy(), d_delta.detach().numpy()], range=(-250, 100), bins=50, label=['Model', 'Delta'])\n",
    "plt.legend();"
   ]
  },
  {
   "cell_type": "code",
   "execution_count": 22,
   "metadata": {
    "execution": {
     "iopub.execute_input": "2021-12-29T15:35:41.437817Z",
     "iopub.status.busy": "2021-12-29T15:35:41.437003Z",
     "iopub.status.idle": "2021-12-29T15:35:41.488358Z",
     "shell.execute_reply": "2021-12-29T15:35:41.487334Z",
     "shell.execute_reply.started": "2021-12-29T15:35:41.437784Z"
    },
    "papermill": {
     "duration": 5.982962,
     "end_time": "2021-12-28T16:10:26.934505",
     "exception": false,
     "start_time": "2021-12-28T16:10:20.951543",
     "status": "completed"
    },
    "tags": []
   },
   "outputs": [
    {
     "data": {
      "text/plain": [
       "count    51200.000000\n",
       "mean        -0.094304\n",
       "std         15.667855\n",
       "min       -204.078278\n",
       "25%         -7.247254\n",
       "50%          3.881438\n",
       "75%         10.595092\n",
       "max         21.085539\n",
       "dtype: float64"
      ]
     },
     "execution_count": 22,
     "metadata": {},
     "output_type": "execute_result"
    }
   ],
   "source": [
    "pd.Series(d_delta.detach()).describe()"
   ]
  },
  {
   "cell_type": "code",
   "execution_count": 23,
   "metadata": {
    "execution": {
     "iopub.execute_input": "2021-12-29T15:35:41.489829Z",
     "iopub.status.busy": "2021-12-29T15:35:41.489588Z",
     "iopub.status.idle": "2021-12-29T15:35:41.539413Z",
     "shell.execute_reply": "2021-12-29T15:35:41.538350Z",
     "shell.execute_reply.started": "2021-12-29T15:35:41.489800Z"
    },
    "papermill": {
     "duration": 5.730195,
     "end_time": "2021-12-28T16:10:38.508881",
     "exception": false,
     "start_time": "2021-12-28T16:10:32.778686",
     "status": "completed"
    },
    "tags": []
   },
   "outputs": [
    {
     "data": {
      "text/plain": [
       "count    51200.000000\n",
       "mean         1.216600\n",
       "std          6.612624\n",
       "min       -141.337021\n",
       "25%         -1.430024\n",
       "50%          1.509899\n",
       "75%          4.880909\n",
       "max         19.088650\n",
       "dtype: float64"
      ]
     },
     "execution_count": 23,
     "metadata": {},
     "output_type": "execute_result"
    }
   ],
   "source": [
    "d_series = pd.Series(d.detach())\n",
    "d_series.describe()"
   ]
  },
  {
   "cell_type": "markdown",
   "metadata": {
    "execution": {
     "iopub.execute_input": "2021-12-22T13:24:36.048493Z",
     "iopub.status.busy": "2021-12-22T13:24:36.048204Z",
     "iopub.status.idle": "2021-12-22T13:24:36.091854Z",
     "shell.execute_reply": "2021-12-22T13:24:36.090771Z",
     "shell.execute_reply.started": "2021-12-22T13:24:36.048459Z"
    },
    "papermill": {
     "duration": 5.824808,
     "end_time": "2021-12-28T16:10:50.115852",
     "exception": false,
     "start_time": "2021-12-28T16:10:44.291044",
     "status": "completed"
    },
    "tags": []
   },
   "source": [
    "## Performance on real paths"
   ]
  },
  {
   "cell_type": "code",
   "execution_count": 24,
   "metadata": {
    "execution": {
     "iopub.execute_input": "2021-12-29T15:39:53.232307Z",
     "iopub.status.busy": "2021-12-29T15:39:53.231299Z",
     "iopub.status.idle": "2021-12-29T15:39:53.534509Z",
     "shell.execute_reply": "2021-12-29T15:39:53.533531Z",
     "shell.execute_reply.started": "2021-12-29T15:39:53.232240Z"
    },
    "papermill": {
     "duration": 5.805401,
     "end_time": "2021-12-28T16:11:01.796305",
     "exception": false,
     "start_time": "2021-12-28T16:10:55.990904",
     "status": "completed"
    },
    "tags": []
   },
   "outputs": [],
   "source": [
    "# Creating the validation paths\n",
    "n_steps = 30# Creating the validation paths\n",
    "\n",
    "n_steps = 30\n",
    "step = 5  # number of days by which to shift the window\n",
    "sigma_est_period = 30\n",
    "valid_paths, valid_prices, valid_strikes, sigma_estimates = [], [], [], []\n",
    "\n",
    "for i in np.arange(start=sigma_est_period, stop=len(hist) - n_steps, step=step):\n",
    "    \n",
    "    valid_path = hist[i:i+n_steps+1]\n",
    "    simga_est_path = hist[i-sigma_est_period:i]\n",
    "    sigma_est = simga_est_path.diff().dropna().std() / 100\n",
    "    sigma_estimates.append(sigma_est)\n",
    "\n",
    "    S0 = valid_path[0]\n",
    "    valid_price = bs_call_price(n_steps, S0, sigma=sigma_est, rf=0, strike=S0)      \n",
    "\n",
    "    valid_paths.append(valid_path)\n",
    "    valid_strikes.append(S0)\n",
    "    valid_prices.append(valid_price)\n",
    "\n",
    "valid_paths = np.array(valid_paths)\n",
    "valid_paths = valid_paths.reshape(valid_paths.shape[0], valid_paths.shape[1], 1)\n",
    "valid_paths = torch.from_numpy(valid_paths).float()\n",
    "\n",
    "valid_prices = torch.Tensor(valid_prices)\n",
    "valid_strikes = torch.Tensor(valid_strikes)"
   ]
  },
  {
   "cell_type": "code",
   "execution_count": 25,
   "metadata": {
    "execution": {
     "iopub.execute_input": "2021-12-29T15:39:54.907785Z",
     "iopub.status.busy": "2021-12-29T15:39:54.907464Z",
     "iopub.status.idle": "2021-12-29T15:39:54.957912Z",
     "shell.execute_reply": "2021-12-29T15:39:54.957302Z",
     "shell.execute_reply.started": "2021-12-29T15:39:54.907753Z"
    },
    "papermill": {
     "duration": 5.865772,
     "end_time": "2021-12-28T16:11:13.476439",
     "exception": false,
     "start_time": "2021-12-28T16:11:07.610667",
     "status": "completed"
    },
    "tags": []
   },
   "outputs": [],
   "source": [
    "if dt.take_log:\n",
    "    paths = valid_paths.squeeze().T /  valid_paths[:, 0].squeeze()\n",
    "    paths = paths.T\n",
    "    paths = torch.unsqueeze(paths, dim=2)\n",
    "    paths = torch.log(paths[:, :-1])\n",
    "    x_inc = valid_paths.squeeze().diff()\n",
    "\n",
    "    payoff = call_payoff(valid_paths.squeeze(), strike=valid_strikes)"
   ]
  },
  {
   "cell_type": "code",
   "execution_count": 26,
   "metadata": {
    "execution": {
     "iopub.execute_input": "2021-12-29T15:39:55.263300Z",
     "iopub.status.busy": "2021-12-29T15:39:55.262488Z",
     "iopub.status.idle": "2021-12-29T15:39:55.347119Z",
     "shell.execute_reply": "2021-12-29T15:39:55.346527Z",
     "shell.execute_reply.started": "2021-12-29T15:39:55.263264Z"
    },
    "papermill": {
     "duration": 5.95479,
     "end_time": "2021-12-28T16:11:36.923514",
     "exception": false,
     "start_time": "2021-12-28T16:11:30.968724",
     "status": "completed"
    },
    "tags": []
   },
   "outputs": [],
   "source": [
    "output = ens(paths)\n",
    "si = stochastic_integral(x_inc, output)\n",
    "diff = (valid_prices.squeeze() + si).float() - payoff.float()\n",
    "d = diff"
   ]
  },
  {
   "cell_type": "code",
   "execution_count": 27,
   "metadata": {
    "execution": {
     "iopub.execute_input": "2021-12-29T15:39:55.647130Z",
     "iopub.status.busy": "2021-12-29T15:39:55.646293Z",
     "iopub.status.idle": "2021-12-29T15:39:55.693029Z",
     "shell.execute_reply": "2021-12-29T15:39:55.691888Z",
     "shell.execute_reply.started": "2021-12-29T15:39:55.647084Z"
    },
    "papermill": {
     "duration": 5.835376,
     "end_time": "2021-12-28T16:11:48.615045",
     "exception": false,
     "start_time": "2021-12-28T16:11:42.779669",
     "status": "completed"
    },
    "tags": []
   },
   "outputs": [
    {
     "name": "stdout",
     "output_type": "stream",
     "text": [
      "Model:\n",
      "RMSE 24.148603439331055\n",
      "Using median 11.944046020507812\n"
     ]
    }
   ],
   "source": [
    "print('Model:')\n",
    "print(f\"RMSE {(d ** 2).mean() ** 0.5}\")\n",
    "print(f\"Using median {(d ** 2).median() ** 0.5}\")"
   ]
  },
  {
   "cell_type": "code",
   "execution_count": 28,
   "metadata": {
    "execution": {
     "iopub.execute_input": "2021-12-29T15:39:56.804823Z",
     "iopub.status.busy": "2021-12-29T15:39:56.804377Z",
     "iopub.status.idle": "2021-12-29T15:39:57.127624Z",
     "shell.execute_reply": "2021-12-29T15:39:57.126755Z",
     "shell.execute_reply.started": "2021-12-29T15:39:56.804779Z"
    },
    "papermill": {
     "duration": 6.278377,
     "end_time": "2021-12-28T16:12:00.673918",
     "exception": false,
     "start_time": "2021-12-28T16:11:54.395541",
     "status": "completed"
    },
    "tags": []
   },
   "outputs": [
    {
     "data": {
      "image/png": "[encoded data removed]",
      "text/plain": [
       "<Figure size 432x288 with 1 Axes>"
      ]
     },
     "metadata": {
      "needs_background": "light"
     },
     "output_type": "display_data"
    }
   ],
   "source": [
    "plt.hist(d.detach().numpy(), range=(-250, 100), bins=50, label=['Model'])\n",
    "plt.legend();"
   ]
  },
  {
   "cell_type": "code",
   "execution_count": 29,
   "metadata": {
    "execution": {
     "iopub.execute_input": "2021-12-29T15:39:59.671019Z",
     "iopub.status.busy": "2021-12-29T15:39:59.670682Z",
     "iopub.status.idle": "2021-12-29T15:39:59.730007Z",
     "shell.execute_reply": "2021-12-29T15:39:59.728020Z",
     "shell.execute_reply.started": "2021-12-29T15:39:59.670986Z"
    },
    "papermill": {
     "duration": 5.769207,
     "end_time": "2021-12-28T16:12:12.219666",
     "exception": false,
     "start_time": "2021-12-28T16:12:06.450459",
     "status": "completed"
    },
    "tags": []
   },
   "outputs": [
    {
     "data": {
      "text/plain": [
       "count    232.000000\n",
       "mean     -12.957440\n",
       "std       20.421984\n",
       "min      -88.134216\n",
       "25%      -23.568654\n",
       "50%       -9.252910\n",
       "75%        0.251401\n",
       "max       28.855267\n",
       "dtype: float64"
      ]
     },
     "execution_count": 29,
     "metadata": {},
     "output_type": "execute_result"
    }
   ],
   "source": [
    "d_series = pd.Series(d.detach())\n",
    "d_series.describe()"
   ]
  },
  {
   "cell_type": "markdown",
   "metadata": {
    "papermill": {
     "duration": 5.807484,
     "end_time": "2021-12-28T16:12:47.112589",
     "exception": false,
     "start_time": "2021-12-28T16:12:41.305105",
     "status": "completed"
    },
    "tags": []
   },
   "source": [
    "## Reservoir paths"
   ]
  },
  {
   "cell_type": "code",
   "execution_count": 30,
   "metadata": {
    "execution": {
     "iopub.execute_input": "2021-12-29T15:40:04.852771Z",
     "iopub.status.busy": "2021-12-29T15:40:04.852486Z",
     "iopub.status.idle": "2021-12-29T15:40:04.896703Z",
     "shell.execute_reply": "2021-12-29T15:40:04.895539Z",
     "shell.execute_reply.started": "2021-12-29T15:40:04.852745Z"
    },
    "papermill": {
     "duration": 5.801419,
     "end_time": "2021-12-28T16:12:58.729138",
     "exception": false,
     "start_time": "2021-12-28T16:12:52.927719",
     "status": "completed"
    },
    "tags": []
   },
   "outputs": [],
   "source": [
    "res_dt = DataRes(RES_FOLDER, price, call_payoff, {\"strike\": strike}, splits=100, S0=initial_value, take_log=True)"
   ]
  },
  {
   "cell_type": "code",
   "execution_count": 31,
   "metadata": {
    "execution": {
     "iopub.execute_input": "2021-12-29T15:40:05.288391Z",
     "iopub.status.busy": "2021-12-29T15:40:05.287975Z",
     "iopub.status.idle": "2021-12-29T15:40:09.528007Z",
     "shell.execute_reply": "2021-12-29T15:40:09.526504Z",
     "shell.execute_reply.started": "2021-12-29T15:40:05.288343Z"
    },
    "papermill": {
     "duration": 10.999764,
     "end_time": "2021-12-28T16:13:15.647232",
     "exception": false,
     "start_time": "2021-12-28T16:13:04.647468",
     "status": "completed"
    },
    "tags": []
   },
   "outputs": [
    {
     "name": "stdout",
     "output_type": "stream",
     "text": [
      "Model:\n",
      "RMSE 15.091951370239258\n",
      "Using median 10.518844604492188\n",
      "Using mode 1.0627975463867188\n"
     ]
    }
   ],
   "source": [
    "diffs = []\n",
    "\n",
    "for i in range(100):\n",
    "    x, x_inc, payoff, price = res_dt[i]\n",
    "    output = ens(x)\n",
    "    si = stochastic_integral(x_inc, output)\n",
    "    diff = (price.squeeze() + si).float() - payoff.float()\n",
    "    diffs.append(diff)\n",
    "    \n",
    "d = torch.cat(diffs)\n",
    "\n",
    "print('Model:')\n",
    "print(f\"RMSE {(d ** 2).mean() ** 0.5}\")\n",
    "print(f\"Using median {(d ** 2).median() ** 0.5}\")\n",
    "print(f\"Using mode {(d ** 2).mode()[0] ** 0.5}\")"
   ]
  },
  {
   "cell_type": "code",
   "execution_count": 32,
   "metadata": {
    "execution": {
     "iopub.execute_input": "2021-12-29T15:40:09.530650Z",
     "iopub.status.busy": "2021-12-29T15:40:09.530296Z",
     "iopub.status.idle": "2021-12-29T15:40:09.869834Z",
     "shell.execute_reply": "2021-12-29T15:40:09.868921Z",
     "shell.execute_reply.started": "2021-12-29T15:40:09.530607Z"
    },
    "papermill": {
     "duration": 6.137611,
     "end_time": "2021-12-28T16:13:27.614184",
     "exception": false,
     "start_time": "2021-12-28T16:13:21.476573",
     "status": "completed"
    },
    "tags": []
   },
   "outputs": [
    {
     "data": {
      "image/png": "[encoded data removed]",
      "text/plain": [
       "<Figure size 432x288 with 1 Axes>"
      ]
     },
     "metadata": {
      "needs_background": "light"
     },
     "output_type": "display_data"
    }
   ],
   "source": [
    "plt.hist(d.detach().numpy(), range=(-250, 100), bins=50, label=['Model'])\n",
    "plt.legend();"
   ]
  },
  {
   "cell_type": "markdown",
   "metadata": {
    "papermill": {
     "duration": 5.977044,
     "end_time": "2021-12-28T16:13:39.442758",
     "exception": false,
     "start_time": "2021-12-28T16:13:33.465714",
     "status": "completed"
    },
    "tags": []
   },
   "source": [
    "## Compare with training on reservoir paths"
   ]
  },
  {
   "cell_type": "code",
   "execution_count": 46,
   "metadata": {
    "execution": {
     "iopub.execute_input": "2021-12-29T15:40:12.109626Z",
     "iopub.status.busy": "2021-12-29T15:40:12.109301Z",
     "iopub.status.idle": "2021-12-29T15:48:13.588306Z",
     "shell.execute_reply": "2021-12-29T15:48:13.587433Z",
     "shell.execute_reply.started": "2021-12-29T15:40:12.109592Z"
    },
    "papermill": {
     "duration": 509.007519,
     "end_time": "2021-12-28T16:22:14.27549",
     "exception": false,
     "start_time": "2021-12-28T16:13:45.267971",
     "status": "completed"
    },
    "tags": []
   },
   "outputs": [
    {
     "name": "stderr",
     "output_type": "stream",
     "text": [
      "Epoch 0: 100%|███████████████████████████████████████████████████████████████████████████████████████████████████████████████████████████████████████████████████████████████████| 300/300 [00:12<00:00, 23.16batch/s, loss=89.5, metric=52.2]\n"
     ]
    },
    {
     "name": "stdout",
     "output_type": "stream",
     "text": [
      "validation loss: 21703.2056640625\n"
     ]
    },
    {
     "name": "stderr",
     "output_type": "stream",
     "text": [
      "Epoch 1: 100%|███████████████████████████████████████████████████████████████████████████████████████████████████████████████████████████████████████████████████████████████████| 300/300 [00:12<00:00, 23.48batch/s, loss=87.7, metric=47.4]\n",
      "Epoch 2: 100%|███████████████████████████████████████████████████████████████████████████████████████████████████████████████████████████████████████████████████████████████████| 300/300 [00:12<00:00, 23.40batch/s, loss=86.5, metric=45.4]\n",
      "Epoch 3: 100%|█████████████████████████████████████████████████████████████████████████████████████████████████████████████████████████████████████████████████████████████████████| 300/300 [00:12<00:00, 23.49batch/s, loss=85, metric=46.8]\n",
      "Epoch 4: 100%|███████████████████████████████████████████████████████████████████████████████████████████████████████████████████████████████████████████████████████████████████| 300/300 [00:12<00:00, 23.49batch/s, loss=83.7, metric=49.5]\n",
      "Epoch 5: 100%|███████████████████████████████████████████████████████████████████████████████████████████████████████████████████████████████████████████████████████████████████| 300/300 [00:12<00:00, 23.48batch/s, loss=83.2, metric=49.7]\n"
     ]
    },
    {
     "name": "stdout",
     "output_type": "stream",
     "text": [
      "validation loss: 5861.1658935546875\n"
     ]
    },
    {
     "name": "stderr",
     "output_type": "stream",
     "text": [
      "Epoch 6: 100%|███████████████████████████████████████████████████████████████████████████████████████████████████████████████████████████████████████████████████████████████████| 300/300 [00:12<00:00, 23.55batch/s, loss=82.1, metric=49.7]\n",
      "Epoch 7: 100%|███████████████████████████████████████████████████████████████████████████████████████████████████████████████████████████████████████████████████████████████████| 300/300 [00:12<00:00, 23.52batch/s, loss=81.6, metric=49.4]\n",
      "Epoch 8: 100%|███████████████████████████████████████████████████████████████████████████████████████████████████████████████████████████████████████████████████████████████████| 300/300 [00:12<00:00, 23.44batch/s, loss=81.1, metric=49.7]\n",
      "Epoch 9: 100%|███████████████████████████████████████████████████████████████████████████████████████████████████████████████████████████████████████████████████████████████████| 300/300 [00:12<00:00, 23.48batch/s, loss=80.9, metric=49.2]\n",
      "Epoch 0: 100%|███████████████████████████████████████████████████████████████████████████████████████████████████████████████████████████████████████████████████████████████████| 300/300 [00:12<00:00, 23.44batch/s, loss=94.6, metric=53.3]\n"
     ]
    },
    {
     "name": "stdout",
     "output_type": "stream",
     "text": [
      "validation loss: 201319.64140625\n"
     ]
    },
    {
     "name": "stderr",
     "output_type": "stream",
     "text": [
      "Epoch 1: 100%|███████████████████████████████████████████████████████████████████████████████████████████████████████████████████████████████████████████████████████████████████| 300/300 [00:12<00:00, 23.49batch/s, loss=90.8, metric=52.3]\n",
      "Epoch 2: 100%|███████████████████████████████████████████████████████████████████████████████████████████████████████████████████████████████████████████████████████████████████| 300/300 [00:12<00:00, 23.53batch/s, loss=88.1, metric=53.6]\n",
      "Epoch 3: 100%|███████████████████████████████████████████████████████████████████████████████████████████████████████████████████████████████████████████████████████████████████| 300/300 [00:12<00:00, 23.26batch/s, loss=86.5, metric=50.1]\n",
      "Epoch 4: 100%|███████████████████████████████████████████████████████████████████████████████████████████████████████████████████████████████████████████████████████████████████████| 300/300 [00:12<00:00, 23.47batch/s, loss=85, metric=49]\n",
      "Epoch 5: 100%|███████████████████████████████████████████████████████████████████████████████████████████████████████████████████████████████████████████████████████████████████| 300/300 [00:12<00:00, 23.54batch/s, loss=84.1, metric=47.2]\n"
     ]
    },
    {
     "name": "stdout",
     "output_type": "stream",
     "text": [
      "validation loss: 39126.7607421875\n"
     ]
    },
    {
     "name": "stderr",
     "output_type": "stream",
     "text": [
      "Epoch 6: 100%|███████████████████████████████████████████████████████████████████████████████████████████████████████████████████████████████████████████████████████████████████| 300/300 [00:12<00:00, 23.46batch/s, loss=83.4, metric=47.3]\n",
      "Epoch 7: 100%|███████████████████████████████████████████████████████████████████████████████████████████████████████████████████████████████████████████████████████████████████| 300/300 [00:12<00:00, 23.56batch/s, loss=82.6, metric=46.5]\n",
      "Epoch 8: 100%|███████████████████████████████████████████████████████████████████████████████████████████████████████████████████████████████████████████████████████████████████| 300/300 [00:12<00:00, 23.48batch/s, loss=81.8, metric=48.5]\n",
      "Epoch 9: 100%|███████████████████████████████████████████████████████████████████████████████████████████████████████████████████████████████████████████████████████████████████| 300/300 [00:12<00:00, 23.48batch/s, loss=80.8, metric=48.5]\n",
      "Epoch 0: 100%|███████████████████████████████████████████████████████████████████████████████████████████████████████████████████████████████████████████████████████████████████| 300/300 [00:12<00:00, 23.65batch/s, loss=91.7, metric=52.8]\n"
     ]
    },
    {
     "name": "stdout",
     "output_type": "stream",
     "text": [
      "validation loss: 18996.095458984375\n"
     ]
    },
    {
     "name": "stderr",
     "output_type": "stream",
     "text": [
      "Epoch 1: 100%|███████████████████████████████████████████████████████████████████████████████████████████████████████████████████████████████████████████████████████████████████| 300/300 [00:12<00:00, 23.52batch/s, loss=82.7, metric=54.3]\n",
      "Epoch 2: 100%|███████████████████████████████████████████████████████████████████████████████████████████████████████████████████████████████████████████████████████████████████| 300/300 [00:12<00:00, 23.22batch/s, loss=78.5, metric=45.4]\n",
      "Epoch 3: 100%|███████████████████████████████████████████████████████████████████████████████████████████████████████████████████████████████████████████████████████████████████| 300/300 [00:12<00:00, 23.52batch/s, loss=77.4, metric=45.6]\n",
      "Epoch 4: 100%|███████████████████████████████████████████████████████████████████████████████████████████████████████████████████████████████████████████████████████████████████| 300/300 [00:12<00:00, 23.51batch/s, loss=76.1, metric=45.3]\n",
      "Epoch 5: 100%|███████████████████████████████████████████████████████████████████████████████████████████████████████████████████████████████████████████████████████████████████| 300/300 [00:12<00:00, 23.64batch/s, loss=75.3, metric=46.1]\n"
     ]
    },
    {
     "name": "stdout",
     "output_type": "stream",
     "text": [
      "validation loss: 1952.9287414550781\n"
     ]
    },
    {
     "name": "stderr",
     "output_type": "stream",
     "text": [
      "Epoch 6: 100%|███████████████████████████████████████████████████████████████████████████████████████████████████████████████████████████████████████████████████████████████████| 300/300 [00:12<00:00, 23.54batch/s, loss=75.1, metric=45.1]\n",
      "Epoch 7: 100%|███████████████████████████████████████████████████████████████████████████████████████████████████████████████████████████████████████████████████████████████████| 300/300 [00:12<00:00, 23.58batch/s, loss=74.5, metric=45.2]\n",
      "Epoch 8: 100%|███████████████████████████████████████████████████████████████████████████████████████████████████████████████████████████████████████████████████████████████████| 300/300 [00:12<00:00, 23.54batch/s, loss=74.1, metric=45.8]\n",
      "Epoch 9: 100%|███████████████████████████████████████████████████████████████████████████████████████████████████████████████████████████████████████████████████████████████████| 300/300 [00:12<00:00, 23.63batch/s, loss=73.7, metric=45.6]"
     ]
    },
    {
     "name": "stdout",
     "output_type": "stream",
     "text": [
      "CPU times: user 7min 5s, sys: 41.5 s, total: 7min 46s\n",
      "Wall time: 6min 24s\n"
     ]
    },
    {
     "name": "stderr",
     "output_type": "stream",
     "text": [
      "\n"
     ]
    }
   ],
   "source": [
    "%%time\n",
    "\n",
    "# Training three models on different training paths\n",
    "\n",
    "n_models = 3\n",
    "models, optimizers, schedulers = [], [], []\n",
    "n = 900\n",
    "val_n = 20\n",
    "criterion = torch.nn.MSELoss()\n",
    "\n",
    "for _ in range(n_models):\n",
    "    model = ControlNet(n_steps, 1, [20, 20], 1, learn_price=False, learn_vol=False)\n",
    "    models.append(model)\n",
    "    optimizer = Adam(model.parameters(), lr=h_params[\"LR\"])\n",
    "    optimizers.append(optimizer)\n",
    "    schedulers.append(ExponentialLR(optimizer, gamma=h_params[\"GAMMA\"]))\n",
    "\n",
    "idx_list = np.array_split(np.arange(n) + 1, 3)\n",
    "val_idx_list = [np.arange(start=idx[-1]+1, stop=idx[-1]+1+val_n) for idx in idx_list]\n",
    "\n",
    "# Training each model\n",
    "\n",
    "res_list = []\n",
    "for model, optimizer, scheduler, indices, val_indices in zip(models, optimizers, schedulers, idx_list, val_idx_list):\n",
    "    results = train_val(res_dt, model, criterion, optimizer, h_params[\"EPOCHS\"], indices, val_indices, scheduler, metric=median_loss, val_every=5)\n",
    "    res_list.append(results)\n",
    "\n",
    "ens = EnsembleNet(models)"
   ]
  },
  {
   "cell_type": "code",
   "execution_count": 55,
   "metadata": {
    "execution": {
     "iopub.execute_input": "2021-12-29T15:48:13.590868Z",
     "iopub.status.busy": "2021-12-29T15:48:13.590470Z",
     "iopub.status.idle": "2021-12-29T15:48:17.219716Z",
     "shell.execute_reply": "2021-12-29T15:48:17.218826Z",
     "shell.execute_reply.started": "2021-12-29T15:48:13.590826Z"
    },
    "papermill": {
     "duration": 15.707048,
     "end_time": "2021-12-28T16:22:40.933237",
     "exception": false,
     "start_time": "2021-12-28T16:22:25.226189",
     "status": "completed"
    },
    "tags": []
   },
   "outputs": [
    {
     "name": "stdout",
     "output_type": "stream",
     "text": [
      "Model:\n",
      "RMSE 8.993297576904297\n",
      "Using median 7.256441116333008\n",
      "Using mode 2.2422027587890625\n"
     ]
    }
   ],
   "source": [
    "# Out of sample performance\n",
    "\n",
    "diffs = []\n",
    "\n",
    "for i in np.arange(n+10,1000):\n",
    "    x, x_inc, payoff, price = res_dt[i]\n",
    "    output = ens(x)\n",
    "    si = stochastic_integral(x_inc, output)\n",
    "    diff = (price.squeeze() + si).float() - payoff.float()\n",
    "    diffs.append(diff)\n",
    "    \n",
    "d = torch.cat(diffs)\n",
    "\n",
    "print('Model:')\n",
    "print(f\"RMSE {(d ** 2).mean() ** 0.5}\")\n",
    "print(f\"Using median {(d ** 2).median() ** 0.5}\")\n",
    "print(f\"Using mode {(d ** 2).mode()[0] ** 0.5}\")"
   ]
  },
  {
   "cell_type": "code",
   "execution_count": 56,
   "metadata": {},
   "outputs": [],
   "source": [
    "diffs.append(diff)"
   ]
  },
  {
   "cell_type": "code",
   "execution_count": 57,
   "metadata": {
    "execution": {
     "iopub.execute_input": "2021-12-29T15:48:17.221491Z",
     "iopub.status.busy": "2021-12-29T15:48:17.221197Z",
     "iopub.status.idle": "2021-12-29T15:48:17.553014Z",
     "shell.execute_reply": "2021-12-29T15:48:17.552173Z",
     "shell.execute_reply.started": "2021-12-29T15:48:17.221462Z"
    },
    "papermill": {
     "duration": 11.439608,
     "end_time": "2021-12-28T16:23:03.588665",
     "exception": false,
     "start_time": "2021-12-28T16:22:52.149057",
     "status": "completed"
    },
    "tags": []
   },
   "outputs": [
    {
     "data": {
      "image/png": "[encoded data removed]",
      "text/plain": [
       "<Figure size 432x288 with 1 Axes>"
      ]
     },
     "metadata": {
      "needs_background": "light"
     },
     "output_type": "display_data"
    }
   ],
   "source": [
    "plt.hist(d.detach().numpy(), range=(-250, 100), bins=50, label=['Model'])\n",
    "plt.legend();"
   ]
  },
  {
   "cell_type": "code",
   "execution_count": 58,
   "metadata": {
    "execution": {
     "iopub.execute_input": "2021-12-29T15:48:17.555847Z",
     "iopub.status.busy": "2021-12-29T15:48:17.555536Z",
     "iopub.status.idle": "2021-12-29T15:48:17.642202Z",
     "shell.execute_reply": "2021-12-29T15:48:17.641303Z",
     "shell.execute_reply.started": "2021-12-29T15:48:17.555807Z"
    },
    "papermill": {
     "duration": 11.445253,
     "end_time": "2021-12-28T16:23:48.383376",
     "exception": false,
     "start_time": "2021-12-28T16:23:36.938123",
     "status": "completed"
    },
    "tags": []
   },
   "outputs": [
    {
     "name": "stdout",
     "output_type": "stream",
     "text": [
      "Model:\n",
      "RMSE 20.407093048095703\n",
      "Using median 12.67622184753418\n",
      "Using mode 0.14478302001953125\n"
     ]
    }
   ],
   "source": [
    "# Performance on real data\n",
    "\n",
    "if dt.take_log:\n",
    "    paths = valid_paths.squeeze().T /  valid_paths[:, 0].squeeze()\n",
    "    paths = paths.T\n",
    "    paths = torch.unsqueeze(paths, dim=2)\n",
    "    paths = torch.log(paths[:, :-1])\n",
    "    x_inc = valid_paths.squeeze().diff()\n",
    "    payoff = call_payoff(valid_paths.squeeze(), strike=valid_strikes)\n",
    "    \n",
    "    \n",
    "output = ens(paths)\n",
    "si = stochastic_integral(x_inc, output)\n",
    "diff = (valid_prices.squeeze() + si).float() - payoff.float()\n",
    "d = diff\n",
    "\n",
    "print('Model:')\n",
    "print(f\"RMSE {(d ** 2).mean() ** 0.5}\")\n",
    "print(f\"Using median {(d ** 2).median() ** 0.5}\")\n",
    "print(f\"Using mode {(d ** 2).mode()[0] ** 0.5}\")"
   ]
  },
  {
   "cell_type": "code",
   "execution_count": 59,
   "metadata": {
    "execution": {
     "iopub.execute_input": "2021-12-29T15:48:17.643689Z",
     "iopub.status.busy": "2021-12-29T15:48:17.643486Z",
     "iopub.status.idle": "2021-12-29T15:48:17.962574Z",
     "shell.execute_reply": "2021-12-29T15:48:17.961909Z",
     "shell.execute_reply.started": "2021-12-29T15:48:17.643664Z"
    },
    "papermill": {
     "duration": 11.391229,
     "end_time": "2021-12-28T16:24:11.04853",
     "exception": false,
     "start_time": "2021-12-28T16:23:59.657301",
     "status": "completed"
    },
    "tags": []
   },
   "outputs": [
    {
     "data": {
      "image/png": "[encoded data removed]",
      "text/plain": [
       "<Figure size 432x288 with 1 Axes>"
      ]
     },
     "metadata": {
      "needs_background": "light"
     },
     "output_type": "display_data"
    }
   ],
   "source": [
    "plt.hist(d.detach().numpy(), range=(-250, 100), bins=50, label=['Model'])\n",
    "plt.legend();"
   ]
  },
  {
   "cell_type": "markdown",
   "metadata": {
    "execution": {
     "iopub.execute_input": "2021-12-28T15:04:11.140322Z",
     "iopub.status.busy": "2021-12-28T15:04:11.139759Z",
     "iopub.status.idle": "2021-12-28T15:04:11.184192Z",
     "shell.execute_reply": "2021-12-28T15:04:11.18347Z",
     "shell.execute_reply.started": "2021-12-28T15:04:11.140284Z"
    },
    "papermill": {
     "duration": 11.034484,
     "end_time": "2021-12-28T16:24:33.201539",
     "exception": false,
     "start_time": "2021-12-28T16:24:22.167055",
     "status": "completed"
    },
    "tags": []
   },
   "source": [
    "### Plotting training, validation loss & metric"
   ]
  },
  {
   "cell_type": "code",
   "execution_count": 60,
   "metadata": {
    "execution": {
     "iopub.execute_input": "2021-12-29T15:48:17.964116Z",
     "iopub.status.busy": "2021-12-29T15:48:17.963561Z",
     "iopub.status.idle": "2021-12-29T15:48:18.130109Z",
     "shell.execute_reply": "2021-12-29T15:48:18.129591Z",
     "shell.execute_reply.started": "2021-12-29T15:48:17.964084Z"
    },
    "papermill": {
     "duration": 11.459614,
     "end_time": "2021-12-28T16:24:55.805683",
     "exception": false,
     "start_time": "2021-12-28T16:24:44.346069",
     "status": "completed"
    },
    "tags": []
   },
   "outputs": [
    {
     "data": {
      "text/plain": [
       "[<matplotlib.lines.Line2D at 0x7f810bbc7a90>]"
      ]
     },
     "execution_count": 60,
     "metadata": {},
     "output_type": "execute_result"
    },
    {
     "data": {
      "image/png": "[encoded data removed]",
      "text/plain": [
       "<Figure size 432x288 with 1 Axes>"
      ]
     },
     "metadata": {
      "needs_background": "light"
     },
     "output_type": "display_data"
    }
   ],
   "source": [
    "l, vl, m = res_list[1]\n",
    "plt.plot(l, marker='o')"
   ]
  },
  {
   "cell_type": "code",
   "execution_count": 61,
   "metadata": {
    "execution": {
     "iopub.execute_input": "2021-12-29T15:48:18.132476Z",
     "iopub.status.busy": "2021-12-29T15:48:18.131484Z",
     "iopub.status.idle": "2021-12-29T15:48:18.317779Z",
     "shell.execute_reply": "2021-12-29T15:48:18.316910Z",
     "shell.execute_reply.started": "2021-12-29T15:48:18.132432Z"
    },
    "papermill": {
     "duration": 11.514379,
     "end_time": "2021-12-28T16:25:18.690366",
     "exception": false,
     "start_time": "2021-12-28T16:25:07.175987",
     "status": "completed"
    },
    "tags": []
   },
   "outputs": [
    {
     "data": {
      "text/plain": [
       "[<matplotlib.lines.Line2D at 0x7f810bea0b80>]"
      ]
     },
     "execution_count": 61,
     "metadata": {},
     "output_type": "execute_result"
    },
    {
     "data": {
      "image/png": "[encoded data removed]",
      "text/plain": [
       "<Figure size 432x288 with 1 Axes>"
      ]
     },
     "metadata": {
      "needs_background": "light"
     },
     "output_type": "display_data"
    }
   ],
   "source": [
    "plt.plot(vl, marker='o')"
   ]
  },
  {
   "cell_type": "code",
   "execution_count": 62,
   "metadata": {
    "execution": {
     "iopub.execute_input": "2021-12-29T15:48:18.320158Z",
     "iopub.status.busy": "2021-12-29T15:48:18.319342Z",
     "iopub.status.idle": "2021-12-29T15:48:19.168829Z",
     "shell.execute_reply": "2021-12-29T15:48:19.167760Z",
     "shell.execute_reply.started": "2021-12-29T15:48:18.320109Z"
    },
    "papermill": {
     "duration": 12.020756,
     "end_time": "2021-12-28T16:25:41.712463",
     "exception": false,
     "start_time": "2021-12-28T16:25:29.691707",
     "status": "completed"
    },
    "tags": []
   },
   "outputs": [
    {
     "name": "stderr",
     "output_type": "stream",
     "text": [
      "The PostScript backend does not support transparency; partially transparent artists will be rendered opaque.\n",
      "The PostScript backend does not support transparency; partially transparent artists will be rendered opaque.\n"
     ]
    },
    {
     "data": {
      "image/png": "[encoded data removed]",
      "text/plain": [
       "<Figure size 432x288 with 1 Axes>"
      ]
     },
     "metadata": {
      "needs_background": "light"
     },
     "output_type": "display_data"
    }
   ],
   "source": [
    "gjr_x, _, _, _, = dt[1]\n",
    "res_x, _, _, _, = res_dt[1]\n",
    "gjr_x, res_x = torch.exp(gjr_x), torch.exp(res_x)\n",
    "\n",
    "gjr_example_paths = gjr_x[:10]\n",
    "res_example_paths= res_x[:10]\n",
    "\n",
    "fut = ticker.history(start='2018-01-02', end='2019-01-02').Close\n",
    "m = np.floor(len(fut) / n_steps)\n",
    "real_example_paths = []\n",
    "\n",
    "for i in np.arange(start=0, stop=(m-1)*n_steps, step=n_steps):\n",
    "    i = int(i)\n",
    "    path = fut.iloc[i:i+n_steps].values\n",
    "    path = path / path[0]\n",
    "    real_example_paths.append(path)\n",
    "\n",
    "plt.plot(gjr_example_paths.T.squeeze(), c='blue');\n",
    "plt.plot(res_example_paths.T.squeeze(), c='orange');\n",
    "plt.plot(np.array(real_example_paths).T, c='black');\n",
    "\n",
    "# plt.legend(['GJR-GARCH', 'Reservoir Computing', 'Real paths'])\n",
    "gjrpath_leg = Line2D([0], [0], color='blue', label='GJR-GARCH')\n",
    "rc_leg = Line2D([0], [0], color='orange', label='Reservoir Computing')\n",
    "real_leg = Line2D([0], [0], color='black', label='Real paths')\n",
    "plt.legend(handles=[gjrpath_leg, rc_leg, real_leg])\n",
    "\n",
    "plt.savefig('compare_paths.eps', format='eps')\n",
    "\n",
    "plt.show()"
   ]
  },
  {
   "cell_type": "code",
   "execution_count": null,
   "metadata": {
    "papermill": {
     "duration": 11.023625,
     "end_time": "2021-12-28T16:26:03.871956",
     "exception": false,
     "start_time": "2021-12-28T16:25:52.848331",
     "status": "completed"
    },
    "tags": []
   },
   "outputs": [],
   "source": []
  }
 ],
 "metadata": {
  "kernelspec": {
   "display_name": "Python 3 (ipykernel)",
   "language": "python",
   "name": "python3"
  },
  "language_info": {
   "codemirror_mode": {
    "name": "ipython",
    "version": 3
   },
   "file_extension": ".py",
   "mimetype": "text/x-python",
   "name": "python",
   "nbconvert_exporter": "python",
   "pygments_lexer": "ipython3",
   "version": "3.8.12"
  }
 },
 "nbformat": 4,
 "nbformat_minor": 4
}
