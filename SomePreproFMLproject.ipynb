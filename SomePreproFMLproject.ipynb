{
  "nbformat": 4,
  "nbformat_minor": 2,
  "metadata": {
    "colab": {
      "name": "SomePreproFMLproject.ipynb",
      "provenance": [],
      "collapsed_sections": [],
      "toc_visible": true
    },
    "kernelspec": {
      "name": "python3",
      "display_name": "Python 3"
    },
    "language_info": {
      "name": "python"
    }
  },
  "cells": [
    {
      "cell_type": "markdown",
      "source": [
        "# $\\color{violet}{\\textbf{Heston Pricer}}$"
      ],
      "metadata": {
        "id": "ZNxdyr-2Lktc"
      }
    },
    {
      "cell_type": "code",
      "execution_count": 2,
      "source": [
        "!pip install QuantLib"
      ],
      "outputs": [
        {
          "output_type": "stream",
          "name": "stdout",
          "text": [
            "Collecting QuantLib\n",
            "  Downloading QuantLib-1.23-cp37-cp37m-manylinux_2_12_x86_64.manylinux2010_x86_64.whl (20.1 MB)\n",
            "\u001b[K     |████████████████████████████████| 20.1 MB 1.3 MB/s \n",
            "\u001b[?25hInstalling collected packages: QuantLib\n",
            "Successfully installed QuantLib-1.23\n"
          ]
        }
      ],
      "metadata": {
        "colab": {
          "base_uri": "https://localhost:8080/"
        },
        "id": "m7axEMXX71BL",
        "outputId": "96b61b41-46c5-4d38-fefb-8d664dba592b"
      }
    },
    {
      "cell_type": "code",
      "execution_count": 61,
      "source": [
        "import QuantLib as ql\r\n",
        "import pandas as pd\r\n",
        "import numpy as np\r\n",
        "import matplotlib.pyplot as plt\r\n",
        "from datetime import datetime \r\n",
        "import random\r\n",
        "import time\r\n",
        "from math import sqrt, exp"
      ],
      "outputs": [],
      "metadata": {
        "id": "3ok_6juU73we"
      }
    },
    {
      "cell_type": "code",
      "execution_count": 202,
      "source": [
        "def heston_EUCall_price(strike_price, maturity, spot_price, variance, kappa, theta, epsilon, rho):\r\n",
        "  # Payoff function inputs are option type and strike price\r\n",
        "  option_type = ql.Option.Call\r\n",
        "  call_payoff = ql.PlainVanillaPayoff(option_type, strike_price) \r\n",
        "\r\n",
        "  # Exercise function takes maturity date of the option as input\r\n",
        "  day_count = ql.Actual365Fixed()\r\n",
        "  calendar = ql.UnitedStates()\r\n",
        "  today = ql.Date(1, 1,2021)\r\n",
        "\r\n",
        "  call_exercise = ql.EuropeanExercise(maturity)\r\n",
        "\r\n",
        "  # Function inputs are striked type payoff and exercise\r\n",
        "  option = ql.VanillaOption(call_payoff, call_exercise)\r\n",
        "\r\n",
        "  riskfree_rate = 0.0\r\n",
        "  dividend = 0\r\n",
        "\r\n",
        "  initial_value = ql.QuoteHandle(ql.SimpleQuote(spot_price))\r\n",
        "\r\n",
        "  # Setting up flat risk free curves\r\n",
        "  discount_curve = ql.YieldTermStructureHandle(ql.FlatForward(today, riskfree_rate,day_count))\r\n",
        "  dividend_yield = ql.YieldTermStructureHandle(ql.FlatForward(today, dividend, day_count))\r\n",
        "\r\n",
        "  heston_process = ql.HestonProcess(discount_curve,dividend_yield, initial_value,variance,kappa,theta,epsilon,rho)\r\n",
        " \r\n",
        "  # Inputs used for the engine are model, Tolerance level, maximum evaluations\r\n",
        "  engine = ql.AnalyticHestonEngine(ql.HestonModel(heston_process),0.01,100000000)\r\n",
        "  option.setPricingEngine(engine)\r\n",
        "  price = option.NPV()\r\n",
        "  return price"
      ],
      "outputs": [],
      "metadata": {
        "id": "QNmmJ_Kt8jhj"
      }
    },
    {
      "cell_type": "code",
      "execution_count": 134,
      "source": [
        "###################\r\n",
        "# test the pricer #\r\n",
        "###################\r\n",
        "\r\n",
        "strike_price = 100\r\n",
        "T = 364 #no of days to maturity\r\n",
        "today = ql.Date(1, 1,2021)\r\n",
        "maturity = today+T\r\n",
        "\r\n",
        "# Option input values\r\n",
        "spot_price = 105\r\n",
        "v0 = 0.01 # Initial variance is square of volatility\r\n",
        "kappa = 2       # Speed of mean reversion \r\n",
        "theta = 0.01    # Long-run variance\r\n",
        "sigma = 0.1   # Volatility of volatility\r\n",
        "rho = 0.0       # Correlation  \r\n",
        "\r\n",
        "t = time.time()\r\n",
        "print(\"option price =\", heston_EUCall_price(strike_price, maturity, spot_price, v0, kappa, theta, sigma, rho))\r\n",
        "end = time.time()-t\r\n",
        "print(\"elapsed time:\", end)"
      ],
      "outputs": [
        {
          "output_type": "stream",
          "name": "stdout",
          "text": [
            "option price = 7.027599518261383\n",
            "elapsed time: 0.004851341247558594\n"
          ]
        }
      ],
      "metadata": {
        "colab": {
          "base_uri": "https://localhost:8080/"
        },
        "id": "TTX-eQArAnSY",
        "outputId": "0e3f140d-c4bd-4fbe-96cd-5a8b9fcf5f4b"
      }
    },
    {
      "cell_type": "markdown",
      "source": [
        "#  $\\color{violet}{\\textbf{Making a grid for the parameters}: \\kappa\\times\\theta\\times\\sigma\\times\\nu_0\\times\\rho}$"
      ],
      "metadata": {
        "id": "eZUs2XvBNGyF"
      }
    },
    {
      "cell_type": "code",
      "execution_count": 85,
      "source": [
        "def make_heston_grid(kappa, theta, sigma, v0, rho):\r\n",
        "  grid = np.array([[0,0,0,0,0]])\r\n",
        "  n = kappa.shape[0]\r\n",
        "  for i in range(n):\r\n",
        "    for j in range(n):\r\n",
        "      for k in range(n):\r\n",
        "        for l in range(n):\r\n",
        "          for m in range(n):\r\n",
        "            grid = np.concatenate((grid, [[kappa[i], theta[j], sigma[k], v0[l], rho[m]]]), axis=0)\r\n",
        "  return pd.DataFrame(np.delete(grid,0,axis=0), columns=['kappa', 'theta', 'sigma', 'v0', 'rho']).round(decimals=2)"
      ],
      "outputs": [],
      "metadata": {
        "id": "12Ty1UvjWis3"
      }
    },
    {
      "cell_type": "code",
      "execution_count": 86,
      "source": [
        "######################\r\n",
        "# choice of the grid #\r\n",
        "######################\r\n",
        "\r\n",
        "kappa = np.linspace(0.01,10,10)\r\n",
        "theta = np.linspace(0.01,1,10)\r\n",
        "sigma = np.linspace(0.01,1,10)\r\n",
        "v0 = np.linspace(0.01,1,10)\r\n",
        "rho = np.linspace(-.95,.95,10)"
      ],
      "outputs": [],
      "metadata": {
        "id": "neyL2SyuNc-j"
      }
    },
    {
      "cell_type": "code",
      "execution_count": 87,
      "source": [
        "#################\r\n",
        "# run time ~40s #\r\n",
        "#################\r\n",
        "\r\n",
        "train = make_heston_grid(kappa, theta, sigma, v0, rho)"
      ],
      "outputs": [],
      "metadata": {
        "id": "P8gFmeb7W0jY"
      }
    },
    {
      "cell_type": "code",
      "execution_count": 88,
      "source": [
        "train.sample(5)"
      ],
      "outputs": [
        {
          "output_type": "execute_result",
          "data": {
            "text/html": [
              "<div>\n",
              "<style scoped>\n",
              "    .dataframe tbody tr th:only-of-type {\n",
              "        vertical-align: middle;\n",
              "    }\n",
              "\n",
              "    .dataframe tbody tr th {\n",
              "        vertical-align: top;\n",
              "    }\n",
              "\n",
              "    .dataframe thead th {\n",
              "        text-align: right;\n",
              "    }\n",
              "</style>\n",
              "<table border=\"1\" class=\"dataframe\">\n",
              "  <thead>\n",
              "    <tr style=\"text-align: right;\">\n",
              "      <th></th>\n",
              "      <th>kappa</th>\n",
              "      <th>theta</th>\n",
              "      <th>sigma</th>\n",
              "      <th>v0</th>\n",
              "      <th>rho</th>\n",
              "    </tr>\n",
              "  </thead>\n",
              "  <tbody>\n",
              "    <tr>\n",
              "      <th>8277</th>\n",
              "      <td>0.01</td>\n",
              "      <td>0.89</td>\n",
              "      <td>0.23</td>\n",
              "      <td>0.78</td>\n",
              "      <td>0.53</td>\n",
              "    </tr>\n",
              "    <tr>\n",
              "      <th>31404</th>\n",
              "      <td>3.34</td>\n",
              "      <td>0.12</td>\n",
              "      <td>0.45</td>\n",
              "      <td>0.01</td>\n",
              "      <td>-0.11</td>\n",
              "    </tr>\n",
              "    <tr>\n",
              "      <th>1475</th>\n",
              "      <td>0.01</td>\n",
              "      <td>0.12</td>\n",
              "      <td>0.45</td>\n",
              "      <td>0.78</td>\n",
              "      <td>0.11</td>\n",
              "    </tr>\n",
              "    <tr>\n",
              "      <th>33812</th>\n",
              "      <td>3.34</td>\n",
              "      <td>0.34</td>\n",
              "      <td>0.89</td>\n",
              "      <td>0.12</td>\n",
              "      <td>-0.53</td>\n",
              "    </tr>\n",
              "    <tr>\n",
              "      <th>360</th>\n",
              "      <td>0.01</td>\n",
              "      <td>0.01</td>\n",
              "      <td>0.34</td>\n",
              "      <td>0.67</td>\n",
              "      <td>-0.95</td>\n",
              "    </tr>\n",
              "  </tbody>\n",
              "</table>\n",
              "</div>"
            ],
            "text/plain": [
              "       kappa  theta  sigma    v0   rho\n",
              "8277    0.01   0.89   0.23  0.78  0.53\n",
              "31404   3.34   0.12   0.45  0.01 -0.11\n",
              "1475    0.01   0.12   0.45  0.78  0.11\n",
              "33812   3.34   0.34   0.89  0.12 -0.53\n",
              "360     0.01   0.01   0.34  0.67 -0.95"
            ]
          },
          "metadata": {},
          "execution_count": 88
        }
      ],
      "metadata": {
        "colab": {
          "base_uri": "https://localhost:8080/",
          "height": 204
        },
        "id": "Mz6rwLEeXs4H",
        "outputId": "0f88587b-79e8-4dff-b105-afa20b58bc50"
      }
    },
    {
      "cell_type": "markdown",
      "source": [
        "#  $\\color{violet}{\\textbf{Creating the responses}}$"
      ],
      "metadata": {
        "id": "FngMROt2O8qw"
      }
    },
    {
      "cell_type": "code",
      "execution_count": 193,
      "source": [
        "########################################\r\n",
        "# fix grid for maturities and strikes #\r\n",
        "########################################\r\n",
        "\r\n",
        "\"\"\"\r\n",
        "changes in the vectors T, K according to data\r\n",
        "\"\"\"\r\n",
        "\r\n",
        "T = np.arange(301, 401, step=10) \r\n",
        "K = np.arange(51, 151, step=10)\r\n",
        "grid = np.zeros((T.shape[0]*K.shape[0],2))\r\n",
        "grid[:,0] = np.repeat(T,K.shape[0])\r\n",
        "grid[:,1] = np.tile(K, T.shape[0])"
      ],
      "outputs": [],
      "metadata": {
        "id": "S0p20ob1PDwH"
      }
    },
    {
      "cell_type": "code",
      "execution_count": 203,
      "source": [
        "labels = np.zeros((1, grid.shape[0]))\r\n",
        "temp = np.zeros((1, grid.shape[0]))"
      ],
      "outputs": [],
      "metadata": {
        "id": "CVZ8OPAMR1Hw"
      }
    },
    {
      "cell_type": "code",
      "execution_count": 156,
      "source": [
        "!pip install tqdm"
      ],
      "outputs": [
        {
          "output_type": "stream",
          "name": "stdout",
          "text": [
            "Requirement already satisfied: tqdm in /usr/local/lib/python3.7/dist-packages (4.62.3)\n"
          ]
        }
      ],
      "metadata": {
        "colab": {
          "base_uri": "https://localhost:8080/"
        },
        "id": "DeulfxsrWp4C",
        "outputId": "c64d5c23-145c-4b78-95f1-01a8978de7a3"
      }
    },
    {
      "cell_type": "code",
      "execution_count": null,
      "source": [
        "\"\"\"\r\n",
        "pay attention to the spot price\r\n",
        "\"\"\"\r\n",
        "\r\n",
        "from tqdm import tqdm\r\n",
        "for i in tqdm(range(train.shape[0]),colour=\"red\", smoothing=0.5, miniters=0):\r\n",
        "  for j in range(labels.shape[1]):\r\n",
        "    temp[0,j] = heston_EUCall_price(strike_price = grid[j,1], maturity = today+int(grid[j,0]), spot_price = 100, variance= train[\"v0\"][i], kappa = train[\"kappa\"][i],\r\n",
        "                                   theta = train[\"theta\"][i], epsilon = train[\"sigma\"][i], rho = train[\"rho\"][i])\r\n",
        "  labels = np.concatenate((labels, temp))  "
      ],
      "outputs": [
        {
          "output_type": "stream",
          "name": "stderr",
          "text": [
            " 16%|\u001b[31m█▌        \u001b[0m| 16174/100000 [06:54<45:46, 30.52it/s]"
          ]
        }
      ],
      "metadata": {
        "colab": {
          "base_uri": "https://localhost:8080/"
        },
        "id": "yoQHq5r2SP8x",
        "outputId": "5cf897af-ee60-4763-b793-38c239517fd4"
      }
    },
    {
      "cell_type": "code",
      "execution_count": 196,
      "source": [
        "labels = np.delete(labels,0,axis=0)"
      ],
      "outputs": [],
      "metadata": {
        "id": "soOzhh_4YQlx"
      }
    },
    {
      "cell_type": "code",
      "execution_count": null,
      "source": [
        "pd.DataFrame(labels).to_csv(\"labels.csv\", header = False, index = True) "
      ],
      "outputs": [],
      "metadata": {
        "id": "UoU_3H0Kc8Da"
      }
    }
  ]
}