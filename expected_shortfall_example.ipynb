{
  "cells": [
    {
      "cell_type": "code",
      "execution_count": 1,
      "metadata": {
        "colab": {
          "base_uri": "https://localhost:8080/"
        },
        "id": "h_8FvuUufp-Z",
        "outputId": "c7160dbe-6c82-49d6-dc84-27485a08ed07"
      },
      "outputs": [
        {
          "name": "stdout",
          "output_type": "stream",
          "text": [
            "Cloning into 'FML'...\n",
            "remote: Enumerating objects: 396, done.\u001b[K\n",
            "remote: Counting objects: 100% (396/396), done.\u001b[K\n",
            "remote: Compressing objects: 100% (290/290), done.\u001b[K\n",
            "remote: Total 396 (delta 168), reused 288 (delta 96), pack-reused 0\u001b[K\n",
            "Receiving objects: 100% (396/396), 805.63 KiB | 19.18 MiB/s, done.\n",
            "Resolving deltas: 100% (168/168), done.\n"
          ]
        }
      ],
      "source": [
        "!rm -rf FML\n",
        "!git clone https://github.com/svenspa/FML.git"
      ]
    },
    {
      "cell_type": "code",
      "execution_count": 2,
      "metadata": {
        "id": "WoI9OmhVgKTd"
      },
      "outputs": [],
      "source": [
        "import sys\n",
        "sys.path.append(\"FML\")"
      ]
    },
    {
      "cell_type": "code",
      "execution_count": 43,
      "metadata": {
        "id": "CD-mOhsgf1sJ"
      },
      "outputs": [
        {
          "name": "stdout",
          "output_type": "stream",
          "text": [
            "The autoreload extension is already loaded. To reload it, use:\n",
            "  %reload_ext autoreload\n"
          ]
        }
      ],
      "source": [
        "%load_ext autoreload\n",
        "%autoreload 2\n",
        "\n",
        "import os\n",
        "from datetime import datetime\n",
        "import glob\n",
        "import numpy as np\n",
        "import pandas as pd\n",
        "import matplotlib.pyplot as plt\n",
        "import torch\n",
        "from torch.utils.data import DataLoader\n",
        "from torch.optim import Adam\n",
        "from torch.optim.lr_scheduler import ExponentialLR\n",
        "from torch.utils.tensorboard import SummaryWriter\n",
        "from risk_measures import expected_shortfall\n",
        "\n",
        "from market_dynamics import bs_delta, bs_generator, bs_call_price\n",
        "from data import SimulationData\n",
        "from utils import call_payoff, stochastic_integral\n",
        "from models import ControlNet\n",
        "from train import train, test\n",
        "from evaluation import get_eval_data\n",
        "\n",
        "import seaborn as sns"
      ]
    },
    {
      "cell_type": "code",
      "execution_count": 44,
      "metadata": {
        "id": "1eSt02m-HFwC"
      },
      "outputs": [],
      "source": [
        "device = torch.device('cpu')"
      ]
    },
    {
      "cell_type": "code",
      "execution_count": 45,
      "metadata": {
        "id": "noElIuxLm9Po"
      },
      "outputs": [],
      "source": [
        "#device = torch.device('cuda' if torch.cuda.is_available() else 'cpu')\n"
      ]
    },
    {
      "cell_type": "code",
      "execution_count": 46,
      "metadata": {
        "id": "U--Cp_oohLl9"
      },
      "outputs": [],
      "source": [
        "worst_option = pd.read_csv(\"data/121415366.csv\", index_col=0)\n",
        "best_option = pd.read_csv(\"data/110253979.csv\", index_col=0)\n",
        "option_ids = [\"121415366\", \"110253979\"]\n",
        "option_dfs = [worst_option, best_option]"
      ]
    },
    {
      "cell_type": "code",
      "execution_count": 47,
      "metadata": {
        "id": "3U6JaGCOjnYz"
      },
      "outputs": [],
      "source": [
        "# Hyperparameters to choose from\n",
        "\n",
        "e = [5, 10, 15]\n",
        "e2 = [1, 2, 4, 5]\n",
        "lr = np.logspace(0.001, 0.01, num=4)\n",
        "bs = [100, 250, 500, 1000, 2000]\n",
        "ndims = [2, 3, 5]\n",
        "fcdims = [16, 32, 64]"
      ]
    },
    {
      "cell_type": "code",
      "execution_count": 48,
      "metadata": {},
      "outputs": [],
      "source": [
        "def es_criterion(input, target):\n",
        "    return expected_shortfall(input - target)"
      ]
    },
    {
      "cell_type": "code",
      "execution_count": 49,
      "metadata": {
        "colab": {
          "base_uri": "https://localhost:8080/"
        },
        "id": "QoVK1vuBj06r",
        "outputId": "c5d7e162-d611-4776-a680-8e09b8232eb8"
      },
      "outputs": [
        {
          "name": "stderr",
          "output_type": "stream",
          "text": [
            "Epoch 0: : 60batch [00:24,  2.44batch/s, loss=9.45, metric=125]\n",
            "Epoch 1: : 60batch [00:23,  2.50batch/s, loss=8.26, metric=60.6]\n",
            "Epoch 2: : 60batch [00:22,  2.67batch/s, loss=7.24, metric=70.4]\n",
            "Epoch 3: : 60batch [00:21,  2.75batch/s, loss=5.73, metric=44.7]\n",
            "Epoch 4: : 60batch [00:21,  2.82batch/s, loss=7.74, metric=67.6]\n",
            "Epoch 5: : 60batch [00:21,  2.83batch/s, loss=6.94, metric=53]\n",
            "Epoch 6: : 60batch [00:25,  2.39batch/s, loss=7.58, metric=55.9]\n",
            "Epoch 7: : 60batch [00:22,  2.66batch/s, loss=6.4, metric=52.2]\n",
            "Epoch 8: : 60batch [00:22,  2.67batch/s, loss=5.81, metric=39.2]\n",
            "Epoch 9: : 60batch [00:27,  2.16batch/s, loss=7.44, metric=61.8]\n",
            "Epoch 0: : 60batch [00:28,  2.08batch/s, loss=6.26, metric=38.1]\n",
            "Epoch 1: : 60batch [00:28,  2.11batch/s, loss=6.35, metric=41.2]\n",
            "Epoch 2: : 60batch [00:23,  2.53batch/s, loss=5.98, metric=40.2]\n",
            "Epoch 3: : 60batch [00:21,  2.76batch/s, loss=6.65, metric=42.1]\n",
            "Epoch 4: : 60batch [00:21,  2.80batch/s, loss=5.17, metric=34.2]\n",
            "Epoch 5: : 60batch [00:20,  2.90batch/s, loss=4.97, metric=31.9]\n",
            "Epoch 6: : 60batch [00:22,  2.65batch/s, loss=5.21, metric=28.6]\n",
            "Epoch 7: : 60batch [00:22,  2.67batch/s, loss=5.56, metric=31.7]\n",
            "Epoch 8: : 60batch [00:21,  2.80batch/s, loss=5.66, metric=30.8]\n",
            "Epoch 9: : 60batch [00:21,  2.79batch/s, loss=5.47, metric=35]\n",
            "Epoch 0: : 60batch [00:18,  3.31batch/s, loss=11, metric=227]\n",
            "Epoch 1: : 60batch [00:16,  3.56batch/s, loss=9.05, metric=126]\n",
            "Epoch 2: : 60batch [00:17,  3.48batch/s, loss=8.56, metric=79.5]\n",
            "Epoch 3: : 60batch [00:16,  3.54batch/s, loss=6.28, metric=83.9]\n",
            "Epoch 4: : 60batch [00:16,  3.56batch/s, loss=7.65, metric=75.9]\n",
            "Epoch 5: : 60batch [00:20,  2.90batch/s, loss=7.24, metric=56.5]\n",
            "Epoch 6: : 60batch [00:17,  3.43batch/s, loss=6.1, metric=50.8]\n",
            "Epoch 7: : 60batch [00:16,  3.75batch/s, loss=6.57, metric=58.8]\n",
            "Epoch 8: : 60batch [00:16,  3.63batch/s, loss=5.61, metric=54.5]\n",
            "Epoch 9: : 60batch [00:20,  2.96batch/s, loss=5.34, metric=39.4]\n",
            "Epoch 0: : 60batch [00:17,  3.46batch/s, loss=6.82, metric=71.6]\n",
            "Epoch 1: : 60batch [00:26,  2.26batch/s, loss=5.71, metric=44.1]\n",
            "Epoch 2: : 60batch [00:19,  3.11batch/s, loss=5.72, metric=43]\n",
            "Epoch 3: : 60batch [00:18,  3.21batch/s, loss=7.1, metric=61.1]\n",
            "Epoch 4: : 60batch [00:17,  3.45batch/s, loss=5.45, metric=43.7]\n",
            "Epoch 5: : 60batch [00:19,  3.14batch/s, loss=5.41, metric=34]\n",
            "Epoch 6: : 60batch [00:16,  3.56batch/s, loss=5.97, metric=39.4]\n",
            "Epoch 7: : 60batch [00:18,  3.21batch/s, loss=5.61, metric=36.4]\n",
            "Epoch 8: : 60batch [00:20,  2.86batch/s, loss=5.94, metric=40.4]\n",
            "Epoch 9: : 60batch [00:16,  3.71batch/s, loss=5.34, metric=41.8]\n"
          ]
        }
      ],
      "source": [
        "for _ in range(1):\n",
        "\n",
        "  # Chosing parameters\n",
        "  ndim = int(np.random.choice(ndims))\n",
        "  fcdim = int(np.random.choice(fcdims))\n",
        "\n",
        "  h_params = {\"N_SIM\": 15_000,\n",
        "              \"RF\": 0,\n",
        "              \"N_DIMS\": 3,\n",
        "              \"FC_DIM\": 32,\n",
        "              \"LR\": 0.005,\n",
        "              \"GAMMA\": 0.99,\n",
        "              \"EPOCHS\": 10,\n",
        "              \"EPOCHS_2\": 2, \n",
        "              \"BATCH_SIZE\": 250,}\n",
        "\n",
        "  for option_id, option_df in zip(option_ids, option_dfs):\n",
        "\n",
        "      current_time = datetime.now().strftime('%b%d_%H-%M-%S')\n",
        "      comment = option_id\n",
        "      log_dir = os.path.join('experiments', current_time + '_' + comment)\n",
        "      writer = SummaryWriter(log_dir)\n",
        "\n",
        "      # Get params dependent on data\n",
        "      strike, sigma, n_steps, initial_value, x, x_inc, payoff, price = get_eval_data(option_df)\n",
        "      x, x_inc = x.to(device), x_inc.to(device)\n",
        "\n",
        "      # Using implied volatility should give back market price \n",
        "      price, bs_call_price(n_steps, initial_value, sigma, h_params[\"RF\"], strike)\n",
        "\n",
        "\n",
        "      bs_params = {\"n_simulations\": h_params[\"N_SIM\"],\n",
        "                  \"n_steps\": n_steps,\n",
        "                  \"initial_value\": initial_value,\n",
        "                  \"sigma\": sigma,\n",
        "                  }\n",
        "\n",
        "      price_params = {\"n_steps\": n_steps,\n",
        "                      \"initial_value\": initial_value,\n",
        "                      \"sigma\": sigma,\n",
        "                      \"rf\": h_params[\"RF\"],\n",
        "                      \"strike\": strike,\n",
        "                      }\n",
        "\n",
        "      payoff_params = {\"strike\": strike}\n",
        "\n",
        "      cn = ControlNet(n_steps, 1, h_params['N_DIMS'] * [h_params[\"FC_DIM\"]], 1, learn_price=False)\n",
        "      cn.to(device)\n",
        "      cn.bn_to(device)\n",
        "\n",
        "      optimizer = Adam(cn.parameters(), lr=h_params[\"LR\"])\n",
        "      scheduler = ExponentialLR(optimizer, gamma=h_params[\"GAMMA\"])\n",
        "\n",
        "      for i in range(h_params[\"EPOCHS_2\"]):\n",
        "        dt = SimulationData(bs_generator, bs_params, lambda x: x, {\"x\": price}, call_payoff, payoff_params)\n",
        "        data_loader_train = DataLoader(dt, batch_size=h_params[\"BATCH_SIZE\"], shuffle=True, pin_memory=True)\n",
        "        train(data_loader_train, cn, es_criterion , optimizer, h_params[\"EPOCHS\"], writer, scheduler, device=device, metric=torch.nn.MSELoss())\n",
        "\n",
        "      # Model\n",
        "      cn.eval_mode()\n",
        "\n",
        "      hedge = cn(x)\n",
        "      si = stochastic_integral(x_inc, hedge)\n",
        "\n",
        "      ml_mkt_price = (price + si - payoff) ** 2\n",
        "      #ml_learned_price = (learned_price + si - payoff) ** 2\n",
        "\n",
        "      # Delta hedge benchmark\n",
        "      def delta(x):\n",
        "          return bs_delta(n_steps, x, sigma, h_params[\"RF\"], strike)\n",
        "\n",
        "      d_hedge = torch.Tensor([delta(i) for i in x.squeeze().detach().cpu().numpy()])\n",
        "      si = stochastic_integral(x_inc.cpu(), d_hedge)\n",
        "      dl_mkt_price = (price + si - payoff) ** 2\n",
        "      #dl_learned_price = (learned_price + si - payoff) ** 2\n",
        "\n",
        "      metrics = {\"price\": price,\n",
        "                \"bs_price\": bs_call_price(n_steps, initial_value, sigma, h_params[\"RF\"], strike),\n",
        "                \"learned_price\": learned_price.detach().item(),\n",
        "                \"ml_mkt_price\": ml_mkt_price.detach().item(),\n",
        "                \"ml_learned_price\": ml_learned_price.detach().item(),\n",
        "                \"dl_mkt_price\": dl_mkt_price.detach().item(),\n",
        "                \"dl_learned_price\": dl_learned_price.detach().item(),\n",
        "                }\n",
        "\n",
        "      writer.add_hparams(h_params, metrics)\n",
        "\n",
        "      for s, m, d in zip(option_df.S.values, hedge[0].detach().tolist(), d_hedge.detach().tolist()):\n",
        "        writer.add_scalars('hedge', {\"S\": s,\n",
        "                                    \"model_hedge\": m,\n",
        "                                    \"delta_hedge\": d})"
      ]
    },
    {
      "cell_type": "code",
      "execution_count": 28,
      "metadata": {},
      "outputs": [
        {
          "data": {
            "text/plain": [
              "<AxesSubplot:>"
            ]
          },
          "execution_count": 28,
          "metadata": {},
          "output_type": "execute_result"
        },
        {
          "data": {
            "image/png": "[encoded data removed]",
            "text/plain": [
              "<Figure size 432x288 with 1 Axes>"
            ]
          },
          "metadata": {
            "needs_background": "light"
          },
          "output_type": "display_data"
        }
      ],
      "source": [
        "pd.Series(hedge.squeeze().detach().numpy()).plot()\n",
        "pd.Series(d_hedge.squeeze().detach().numpy()).plot()"
      ]
    },
    {
      "cell_type": "code",
      "execution_count": null,
      "metadata": {
        "colab": {
          "base_uri": "https://localhost:8080/"
        },
        "id": "6f597dWuuWcr",
        "outputId": "971edb7c-9f67-4acf-c691-278eeaaf7a63"
      },
      "outputs": [
        {
          "name": "stdout",
          "output_type": "stream",
          "text": [
            "2021-11-30 15:52:15.393380: E tensorflow/stream_executor/cuda/cuda_driver.cc:271] failed call to cuInit: CUDA_ERROR_NO_DEVICE: no CUDA-capable device is detected\n",
            "\n",
            "***** TensorBoard Uploader *****\n",
            "\n",
            "This will upload your TensorBoard logs to https://tensorboard.dev/ from\n",
            "the following directory:\n",
            "\n",
            "./experiments\n",
            "\n",
            "This TensorBoard will be visible to everyone. Do not upload sensitive\n",
            "data.\n",
            "\n",
            "Your use of this service is subject to Google's Terms of Service\n",
            "<https://policies.google.com/terms> and Privacy Policy\n",
            "<https://policies.google.com/privacy>, and TensorBoard.dev's Terms of Service\n",
            "<https://tensorboard.dev/policy/terms/>.\n",
            "\n",
            "This notice will not be shown again while you are logged into the uploader.\n",
            "To log out, run `tensorboard dev auth revoke`.\n",
            "\n",
            "Continue? (yes/NO) yes\n",
            "\n",
            "Please visit this URL to authorize this application: https://accounts.google.com/o/oauth2/auth?response_type=code&client_id=373649185512-8v619h5kft38l4456nm2dj4ubeqsrvh6.apps.googleusercontent.com&redirect_uri=urn%3Aietf%3Awg%3Aoauth%3A2.0%3Aoob&scope=openid+https%3A%2F%2Fwww.googleapis.com%2Fauth%2Fuserinfo.email&state=G0pHplKMYwjJC4YTOrBNn4KcwbZrsq&prompt=consent&access_type=offline\n",
            "Enter the authorization code: 4/1AX4XfWg5dgzxLroUPM89rT0ySbrz4asoOr2M_L1v6jcaUw024HWOSCF0NFg\n",
            "\n",
            "\n",
            "New experiment created. View your TensorBoard at: https://tensorboard.dev/experiment/G5QmHdDwQOS4FrOupr0E4g/\n",
            "\n",
            "\u001b[1m[2021-11-30T15:52:31]\u001b[0m Started scanning logdir.\n",
            "\u001b[1m[2021-11-30T15:52:33]\u001b[0m Total uploaded: 2295 scalars, 33 tensors (198 B), 0 binary objects\n",
            "\u001b[1m[2021-11-30T15:52:33]\u001b[0m Done scanning logdir.\n",
            "\n",
            "\n",
            "Done. View your TensorBoard at https://tensorboard.dev/experiment/G5QmHdDwQOS4FrOupr0E4g/\n"
          ]
        }
      ],
      "source": [
        "!tensorboard dev upload --logdir ./experiments \\\n",
        "  --name \"Model risk in deep hedging\" \\\n",
        "  --description \"FML project\" \\\n",
        "  --one_shot"
      ]
    },
    {
      "cell_type": "code",
      "execution_count": null,
      "metadata": {
        "id": "ai-_9h8Ai9s4"
      },
      "outputs": [],
      "source": []
    }
  ],
  "metadata": {
    "colab": {
      "collapsed_sections": [],
      "name": "param_tuning.ipynb",
      "provenance": []
    },
    "kernelspec": {
      "display_name": "Python 3",
      "name": "python3"
    },
    "language_info": {
      "codemirror_mode": {
        "name": "ipython",
        "version": 3
      },
      "file_extension": ".py",
      "mimetype": "text/x-python",
      "name": "python",
      "nbconvert_exporter": "python",
      "pygments_lexer": "ipython3",
      "version": "3.8.10"
    }
  },
  "nbformat": 4,
  "nbformat_minor": 0
}
