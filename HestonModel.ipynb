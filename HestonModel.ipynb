{
 "cells": [
  {
   "cell_type": "code",
   "execution_count": 62,
   "id": "d650afde",
   "metadata": {},
   "outputs": [],
   "source": [
    "import os\n",
    "\n",
    "import QuantLib as ql\n",
    "import numpy as np\n",
    "import pandas as pd"
   ]
  },
  {
   "cell_type": "code",
   "execution_count": 29,
   "id": "b6ce2192",
   "metadata": {},
   "outputs": [],
   "source": [
    "def hestonPricing(callput,calculation_date,maturity_date,spot_price,strike_price,volatility,dividend_rate,risk_free_rate,\n",
    "                  kappa,theta,sigma,rho):\n",
    "    if callput == 'call':\n",
    "        option_type = ql.Option.Call\n",
    "    else: \n",
    "        option_type = ql.Option.Put\n",
    "    \n",
    "    #Day count settings in QL\n",
    "    day_count = ql.Actual365Fixed()\n",
    "    ql.Settings.instance().evaluationDate = calculation_date\n",
    "    \n",
    "    # construct the option payoff\n",
    "    payoff = ql.PlainVanillaPayoff(option_type, strike_price)\n",
    "    exercise = ql.EuropeanExercise(maturity_date)\n",
    "    european_option = ql.VanillaOption(payoff, exercise)\n",
    "    \n",
    "    # set the remaining Heston parameters\n",
    "    v0 = volatility*volatility # spot variance\n",
    "    spot_handle = ql.QuoteHandle(ql.SimpleQuote(spot_price))\n",
    "    \n",
    "    # construct the Heston process\n",
    "    rf_rate = ql.YieldTermStructureHandle(ql.FlatForward(calculation_date,\n",
    "                                                         risk_free_rate, day_count))\n",
    "\n",
    "    dividend_yield = ql.YieldTermStructureHandle(ql.FlatForward(calculation_date,\n",
    "                                                                dividend_rate, day_count))\n",
    "\n",
    "    heston_process = ql.HestonProcess(rf_rate, dividend_yield,\n",
    "                                      spot_handle, v0, kappa,\n",
    "                                      theta, sigma, rho)\n",
    "    \n",
    "    # run the pricing engine\n",
    "    engine = ql.AnalyticHestonEngine(ql.HestonModel(heston_process),10**(-4), 10**(4))\n",
    "    european_option.setPricingEngine(engine)\n",
    "    \n",
    "    return european_option.NPV()\n",
    "        \n",
    "    "
   ]
  },
  {
   "cell_type": "code",
   "execution_count": 57,
   "id": "786fc6ce",
   "metadata": {},
   "outputs": [],
   "source": [
    "def createGridSpace(arrays, out=None):\n",
    "    arrays = [np.asarray(x) for x in arrays]\n",
    "    dtype = arrays[0].dtype\n",
    "\n",
    "    n = np.prod([x.size for x in arrays])\n",
    "    if out is None:\n",
    "        out = np.zeros([n, len(arrays)], dtype=dtype)\n",
    "\n",
    "    m = int(n / arrays[0].size) \n",
    "    out[:,0] = np.repeat(arrays[0], m)\n",
    "    if arrays[1:]:\n",
    "        createGridSpace(arrays[1:], out=out[0:m, 1:])\n",
    "        for j in range(1, arrays[0].size):\n",
    "            out[j*m:(j+1)*m, 1:] = out[0:m, 1:]\n",
    "    return out"
   ]
  },
  {
   "cell_type": "markdown",
   "id": "d9cc7e27",
   "metadata": {},
   "source": [
    "### The heston price for given inputs"
   ]
  },
  {
   "cell_type": "code",
   "execution_count": 58,
   "id": "3cfa5898",
   "metadata": {},
   "outputs": [],
   "source": [
    "callput = 'call' #call or put\n",
    "calculation_date = ql.Date(26, 6, 2020)\n",
    "maturity_date = ql.Date(30, 6, 2020)\n",
    "spot_price = 969.74\n",
    "strike_price = 1000\n",
    "volatility = 0.2\n",
    "dividend_rate = 0.0\n",
    "risk_free_rate = 0.0\n",
    "kappa = 0.1\n",
    "theta = 0.01\n",
    "sigma = 0.1\n",
    "rho = -0.75"
   ]
  },
  {
   "cell_type": "code",
   "execution_count": 59,
   "id": "8065e90f",
   "metadata": {},
   "outputs": [
    {
     "data": {
      "text/plain": [
       "0.6091512720622063"
      ]
     },
     "execution_count": 59,
     "metadata": {},
     "output_type": "execute_result"
    }
   ],
   "source": [
    "hestonPricing(callput,calculation_date,maturity_date,spot_price,strike_price,volatility,dividend_rate,risk_free_rate,\n",
    "                  kappa,theta,sigma,rho)"
   ]
  },
  {
   "cell_type": "markdown",
   "id": "666220c0",
   "metadata": {},
   "source": [
    "### Create the Heston GRID"
   ]
  },
  {
   "cell_type": "code",
   "execution_count": 60,
   "id": "77e2baf3",
   "metadata": {},
   "outputs": [],
   "source": [
    "kappa = np.linspace(0.1,1,10)\n",
    "theta = np.linspace(0.1,1,10)\n",
    "sigma = np.linspace(0.1,1,10)\n",
    "rho = np.linspace(0.1,1,10)\n",
    "volatility = np.linspace(0.1,1,10)\n",
    "grid = createGridSpace([kappa,theta,sigma,rho,volatility])"
   ]
  },
  {
   "cell_type": "code",
   "execution_count": 67,
   "id": "47712279",
   "metadata": {
    "scrolled": true
   },
   "outputs": [
    {
     "data": {
      "text/plain": [
       "100000"
      ]
     },
     "execution_count": 67,
     "metadata": {},
     "output_type": "execute_result"
    }
   ],
   "source": [
    "len(grid)"
   ]
  },
  {
   "cell_type": "markdown",
   "id": "b3f3cb4c",
   "metadata": {},
   "source": [
    "### The xeo (sp100 eu) data"
   ]
  },
  {
   "cell_type": "code",
   "execution_count": 64,
   "id": "d65b5223",
   "metadata": {},
   "outputs": [],
   "source": [
    "xeo = pd.read_csv('xeo option data 2000-2020.csv')"
   ]
  },
  {
   "cell_type": "code",
   "execution_count": 70,
   "id": "a22cb6c4",
   "metadata": {},
   "outputs": [],
   "source": [
    "xeoSpot = pd.read_csv('xeoSpotPrice.csv') #=GOOGLEFINANCE(\"XEO\", \"price\", DATE(2001,7,20), DATE(2020,12,31), \"DAILY\")"
   ]
  },
  {
   "cell_type": "code",
   "execution_count": 72,
   "id": "1016b720",
   "metadata": {},
   "outputs": [
    {
     "data": {
      "text/html": [
       "<div>\n",
       "<style scoped>\n",
       "    .dataframe tbody tr th:only-of-type {\n",
       "        vertical-align: middle;\n",
       "    }\n",
       "\n",
       "    .dataframe tbody tr th {\n",
       "        vertical-align: top;\n",
       "    }\n",
       "\n",
       "    .dataframe thead th {\n",
       "        text-align: right;\n",
       "    }\n",
       "</style>\n",
       "<table border=\"1\" class=\"dataframe\">\n",
       "  <thead>\n",
       "    <tr style=\"text-align: right;\">\n",
       "      <th></th>\n",
       "      <th>secid</th>\n",
       "      <th>date</th>\n",
       "      <th>exdate</th>\n",
       "      <th>last_date</th>\n",
       "      <th>cp_flag</th>\n",
       "      <th>strike_price</th>\n",
       "      <th>best_bid</th>\n",
       "      <th>best_offer</th>\n",
       "      <th>volume</th>\n",
       "      <th>impl_volatility</th>\n",
       "      <th>optionid</th>\n",
       "      <th>forward_price</th>\n",
       "      <th>index_flag</th>\n",
       "      <th>issuer</th>\n",
       "      <th>exercise_style</th>\n",
       "    </tr>\n",
       "  </thead>\n",
       "  <tbody>\n",
       "    <tr>\n",
       "      <th>0</th>\n",
       "      <td>112878</td>\n",
       "      <td>20010723</td>\n",
       "      <td>20010818</td>\n",
       "      <td>NaN</td>\n",
       "      <td>C</td>\n",
       "      <td>550000</td>\n",
       "      <td>64.5</td>\n",
       "      <td>66.5</td>\n",
       "      <td>0</td>\n",
       "      <td>0.212728</td>\n",
       "      <td>20418435</td>\n",
       "      <td>NaN</td>\n",
       "      <td>1</td>\n",
       "      <td>CBOE S&amp;P 100 INDEX</td>\n",
       "      <td>E</td>\n",
       "    </tr>\n",
       "    <tr>\n",
       "      <th>1</th>\n",
       "      <td>112878</td>\n",
       "      <td>20010723</td>\n",
       "      <td>20010818</td>\n",
       "      <td>NaN</td>\n",
       "      <td>C</td>\n",
       "      <td>560000</td>\n",
       "      <td>55.3</td>\n",
       "      <td>57.3</td>\n",
       "      <td>0</td>\n",
       "      <td>0.238091</td>\n",
       "      <td>20418436</td>\n",
       "      <td>NaN</td>\n",
       "      <td>1</td>\n",
       "      <td>CBOE S&amp;P 100 INDEX</td>\n",
       "      <td>E</td>\n",
       "    </tr>\n",
       "    <tr>\n",
       "      <th>2</th>\n",
       "      <td>112878</td>\n",
       "      <td>20010723</td>\n",
       "      <td>20010818</td>\n",
       "      <td>NaN</td>\n",
       "      <td>C</td>\n",
       "      <td>570000</td>\n",
       "      <td>46.4</td>\n",
       "      <td>48.4</td>\n",
       "      <td>0</td>\n",
       "      <td>0.243815</td>\n",
       "      <td>20418437</td>\n",
       "      <td>NaN</td>\n",
       "      <td>1</td>\n",
       "      <td>CBOE S&amp;P 100 INDEX</td>\n",
       "      <td>E</td>\n",
       "    </tr>\n",
       "    <tr>\n",
       "      <th>3</th>\n",
       "      <td>112878</td>\n",
       "      <td>20010723</td>\n",
       "      <td>20010818</td>\n",
       "      <td>NaN</td>\n",
       "      <td>C</td>\n",
       "      <td>580000</td>\n",
       "      <td>37.8</td>\n",
       "      <td>39.8</td>\n",
       "      <td>0</td>\n",
       "      <td>0.240366</td>\n",
       "      <td>20418438</td>\n",
       "      <td>NaN</td>\n",
       "      <td>1</td>\n",
       "      <td>CBOE S&amp;P 100 INDEX</td>\n",
       "      <td>E</td>\n",
       "    </tr>\n",
       "    <tr>\n",
       "      <th>4</th>\n",
       "      <td>112878</td>\n",
       "      <td>20010723</td>\n",
       "      <td>20010818</td>\n",
       "      <td>NaN</td>\n",
       "      <td>C</td>\n",
       "      <td>590000</td>\n",
       "      <td>29.9</td>\n",
       "      <td>31.9</td>\n",
       "      <td>0</td>\n",
       "      <td>0.237942</td>\n",
       "      <td>20418439</td>\n",
       "      <td>NaN</td>\n",
       "      <td>1</td>\n",
       "      <td>CBOE S&amp;P 100 INDEX</td>\n",
       "      <td>E</td>\n",
       "    </tr>\n",
       "  </tbody>\n",
       "</table>\n",
       "</div>"
      ],
      "text/plain": [
       "    secid      date    exdate  last_date cp_flag  strike_price  best_bid  \\\n",
       "0  112878  20010723  20010818        NaN       C        550000      64.5   \n",
       "1  112878  20010723  20010818        NaN       C        560000      55.3   \n",
       "2  112878  20010723  20010818        NaN       C        570000      46.4   \n",
       "3  112878  20010723  20010818        NaN       C        580000      37.8   \n",
       "4  112878  20010723  20010818        NaN       C        590000      29.9   \n",
       "\n",
       "   best_offer  volume  impl_volatility  optionid  forward_price  index_flag  \\\n",
       "0        66.5       0         0.212728  20418435            NaN           1   \n",
       "1        57.3       0         0.238091  20418436            NaN           1   \n",
       "2        48.4       0         0.243815  20418437            NaN           1   \n",
       "3        39.8       0         0.240366  20418438            NaN           1   \n",
       "4        31.9       0         0.237942  20418439            NaN           1   \n",
       "\n",
       "               issuer exercise_style  \n",
       "0  CBOE S&P 100 INDEX              E  \n",
       "1  CBOE S&P 100 INDEX              E  \n",
       "2  CBOE S&P 100 INDEX              E  \n",
       "3  CBOE S&P 100 INDEX              E  \n",
       "4  CBOE S&P 100 INDEX              E  "
      ]
     },
     "execution_count": 72,
     "metadata": {},
     "output_type": "execute_result"
    }
   ],
   "source": [
    "xeo.head(5)"
   ]
  },
  {
   "cell_type": "code",
   "execution_count": 71,
   "id": "138e980a",
   "metadata": {},
   "outputs": [
    {
     "data": {
      "text/html": [
       "<div>\n",
       "<style scoped>\n",
       "    .dataframe tbody tr th:only-of-type {\n",
       "        vertical-align: middle;\n",
       "    }\n",
       "\n",
       "    .dataframe tbody tr th {\n",
       "        vertical-align: top;\n",
       "    }\n",
       "\n",
       "    .dataframe thead th {\n",
       "        text-align: right;\n",
       "    }\n",
       "</style>\n",
       "<table border=\"1\" class=\"dataframe\">\n",
       "  <thead>\n",
       "    <tr style=\"text-align: right;\">\n",
       "      <th></th>\n",
       "      <th>Date</th>\n",
       "      <th>Close</th>\n",
       "    </tr>\n",
       "  </thead>\n",
       "  <tbody>\n",
       "    <tr>\n",
       "      <th>0</th>\n",
       "      <td>30/04/2004 15:16:00</td>\n",
       "      <td>540.88</td>\n",
       "    </tr>\n",
       "    <tr>\n",
       "      <th>1</th>\n",
       "      <td>03/05/2004 15:16:00</td>\n",
       "      <td>545.85</td>\n",
       "    </tr>\n",
       "    <tr>\n",
       "      <th>2</th>\n",
       "      <td>04/05/2004 15:16:00</td>\n",
       "      <td>547.15</td>\n",
       "    </tr>\n",
       "    <tr>\n",
       "      <th>3</th>\n",
       "      <td>05/05/2004 15:16:00</td>\n",
       "      <td>547.19</td>\n",
       "    </tr>\n",
       "    <tr>\n",
       "      <th>4</th>\n",
       "      <td>06/05/2004 15:16:00</td>\n",
       "      <td>543.90</td>\n",
       "    </tr>\n",
       "  </tbody>\n",
       "</table>\n",
       "</div>"
      ],
      "text/plain": [
       "                  Date   Close\n",
       "0  30/04/2004 15:16:00  540.88\n",
       "1  03/05/2004 15:16:00  545.85\n",
       "2  04/05/2004 15:16:00  547.15\n",
       "3  05/05/2004 15:16:00  547.19\n",
       "4  06/05/2004 15:16:00  543.90"
      ]
     },
     "execution_count": 71,
     "metadata": {},
     "output_type": "execute_result"
    }
   ],
   "source": [
    "xeoSpot.head(5)"
   ]
  },
  {
   "cell_type": "code",
   "execution_count": null,
   "id": "cf00668b",
   "metadata": {},
   "outputs": [],
   "source": []
  }
 ],
 "metadata": {
  "kernelspec": {
   "display_name": "Python 3",
   "language": "python",
   "name": "python3"
  },
  "language_info": {
   "codemirror_mode": {
    "name": "ipython",
    "version": 3
   },
   "file_extension": ".py",
   "mimetype": "text/x-python",
   "name": "python",
   "nbconvert_exporter": "python",
   "pygments_lexer": "ipython3",
   "version": "3.8.8"
  }
 },
 "nbformat": 4,
 "nbformat_minor": 5
}
