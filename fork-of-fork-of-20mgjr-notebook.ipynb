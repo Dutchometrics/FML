{
 "cells": [
  {
   "cell_type": "code",
   "execution_count": 39,
   "id": "9b875465",
   "metadata": {
    "execution": {
     "iopub.execute_input": "2021-12-18T17:48:00.406009Z",
     "iopub.status.busy": "2021-12-18T17:48:00.405275Z",
     "iopub.status.idle": "2021-12-18T17:48:05.568482Z",
     "shell.execute_reply": "2021-12-18T17:48:05.569059Z",
     "shell.execute_reply.started": "2021-12-18T16:12:24.085714Z"
    },
    "papermill": {
     "duration": 5.225255,
     "end_time": "2021-12-18T17:48:05.569239",
     "exception": false,
     "start_time": "2021-12-18T17:48:00.343984",
     "status": "completed"
    },
    "tags": []
   },
   "outputs": [
    {
     "name": "stdout",
     "output_type": "stream",
     "text": [
      "The autoreload extension is already loaded. To reload it, use:\n",
      "  %reload_ext autoreload\n"
     ]
    }
   ],
   "source": [
    "%load_ext autoreload\n",
    "%autoreload 2\n",
    "\n",
    "import os\n",
    "from datetime import datetime\n",
    "import glob\n",
    "import pandas as pd\n",
    "import numpy as np\n",
    "import matplotlib.pyplot as plt\n",
    "import torch\n",
    "from torch.utils.data import Dataset, DataLoader\n",
    "from torch.optim import Adam\n",
    "from torch.optim.lr_scheduler import ExponentialLR\n",
    "from torch.utils.tensorboard import SummaryWriter\n",
    "\n",
    "from market_dynamics import bs_delta, bs_call_price\n",
    "\n",
    "from data import DataFromFile\n",
    "from utils import call_payoff, stochastic_integral\n",
    "from models import ControlNet\n",
    "from train import train_dataset, test\n",
    "from evaluation import get_eval_data\n",
    "\n",
    "import yfinance as yf\n",
    "from arch import arch_model\n",
    "import dask.dataframe as dd\n",
    "\n",
    "from tqdm import tqdm, trange\n",
    "\n",
    "from typing import Callable, Optional"
   ]
  },
  {
   "cell_type": "code",
   "execution_count": 40,
   "id": "aa94f1c6",
   "metadata": {
    "execution": {
     "iopub.execute_input": "2021-12-18T17:48:05.666529Z",
     "iopub.status.busy": "2021-12-18T17:48:05.665856Z",
     "iopub.status.idle": "2021-12-18T17:48:07.201174Z",
     "shell.execute_reply": "2021-12-18T17:48:07.200092Z",
     "shell.execute_reply.started": "2021-12-18T16:12:29.373881Z"
    },
    "papermill": {
     "duration": 1.586512,
     "end_time": "2021-12-18T17:48:07.201339",
     "exception": false,
     "start_time": "2021-12-18T17:48:05.614827",
     "status": "completed"
    },
    "tags": []
   },
   "outputs": [
    {
     "data": {
      "text/plain": [
       "[<matplotlib.lines.Line2D at 0x7fccd6a371c0>]"
      ]
     },
     "execution_count": 40,
     "metadata": {},
     "output_type": "execute_result"
    },
    {
     "data": {
      "image/png": "[encoded data removed]",
      "text/plain": [
       "<Figure size 432x288 with 1 Axes>"
      ]
     },
     "metadata": {
      "needs_background": "light"
     },
     "output_type": "display_data"
    }
   ],
   "source": [
    "ticker = yf.Ticker('^GSPC')\n",
    "hist = ticker.history(period='1y', start='2013-03-05', end='2018-01-02')\n",
    "initial_value = hist.Close.iloc[-1]\n",
    "rets = 100 * hist.Close.pct_change().dropna()\n",
    "plt.plot(hist.Close)"
   ]
  },
  {
   "cell_type": "code",
   "execution_count": 41,
   "id": "603c88c4",
   "metadata": {
    "execution": {
     "iopub.execute_input": "2021-12-18T17:48:07.300071Z",
     "iopub.status.busy": "2021-12-18T17:48:07.299408Z",
     "iopub.status.idle": "2021-12-18T17:48:07.418196Z",
     "shell.execute_reply": "2021-12-18T17:48:07.418669Z",
     "shell.execute_reply.started": "2021-12-18T16:12:30.591659Z"
    },
    "papermill": {
     "duration": 0.170485,
     "end_time": "2021-12-18T17:48:07.418870",
     "exception": false,
     "start_time": "2021-12-18T17:48:07.248385",
     "status": "completed"
    },
    "tags": []
   },
   "outputs": [
    {
     "data": {
      "text/plain": [
       "mu          4.937301e-02\n",
       "omega       2.947883e-02\n",
       "alpha[1]    1.055132e-11\n",
       "gamma[1]    3.811128e-01\n",
       "beta[1]     7.770165e-01\n",
       "nu          5.719110e+00\n",
       "Name: params, dtype: float64"
      ]
     },
     "execution_count": 41,
     "metadata": {},
     "output_type": "execute_result"
    }
   ],
   "source": [
    "fit_model = arch_model(rets, p=1, o=1, q=1, dist='t') #Right now fit to full data set, o=1 for gjr-garch\n",
    "res = fit_model.fit(disp='off')\n",
    "params = res.params\n",
    "params"
   ]
  },
  {
   "cell_type": "code",
   "execution_count": 42,
   "id": "73b37368",
   "metadata": {
    "execution": {
     "iopub.execute_input": "2021-12-18T17:48:07.521566Z",
     "iopub.status.busy": "2021-12-18T17:48:07.520915Z",
     "iopub.status.idle": "2021-12-18T17:48:07.569695Z",
     "shell.execute_reply": "2021-12-18T17:48:07.570191Z",
     "shell.execute_reply.started": "2021-12-18T16:12:30.724935Z"
    },
    "papermill": {
     "duration": 0.101721,
     "end_time": "2021-12-18T17:48:07.570410",
     "exception": false,
     "start_time": "2021-12-18T17:48:07.468689",
     "status": "completed"
    },
    "tags": []
   },
   "outputs": [],
   "source": [
    "h_params = {\"N_SIM\": 10 ** 6, #The parameters as specificied in the paper\n",
    "            \"RF\": 0,\n",
    "            \"N_DIMS\": 2,\n",
    "            \"FC_DIM\": 20,\n",
    "            \"LR\": 0.004,\n",
    "            \"GAMMA\": 1,\n",
    "            \"EPOCHS\": 40,\n",
    "            \"EPOCHS_2\": 5, \n",
    "            \"BATCH_SIZE\": 10_000,}"
   ]
  },
  {
   "cell_type": "code",
   "execution_count": 43,
   "id": "a6a6332b",
   "metadata": {
    "execution": {
     "iopub.execute_input": "2021-12-18T17:48:07.671947Z",
     "iopub.status.busy": "2021-12-18T17:48:07.671165Z",
     "iopub.status.idle": "2021-12-18T17:48:07.720303Z",
     "shell.execute_reply": "2021-12-18T17:48:07.720845Z",
     "shell.execute_reply.started": "2021-12-18T16:12:30.781587Z"
    },
    "papermill": {
     "duration": 0.102781,
     "end_time": "2021-12-18T17:48:07.721053",
     "exception": false,
     "start_time": "2021-12-18T17:48:07.618272",
     "status": "completed"
    },
    "tags": []
   },
   "outputs": [
    {
     "data": {
      "text/plain": [
       "(2673.610107421875, 2728.0, 0.06413026856822653, 7.0684978380948)"
      ]
     },
     "execution_count": 43,
     "metadata": {},
     "output_type": "execute_result"
    }
   ],
   "source": [
    "strike = np.ceil(initial_value * 1.02)\n",
    "sigma = (res._volatility[-1] / 100) * (252**0.5)\n",
    "n_steps = 50\n",
    "price = bs_call_price(n_steps, initial_value, sigma, h_params[\"RF\"], strike)\n",
    "initial_value, strike, sigma, price"
   ]
  },
  {
   "cell_type": "code",
   "execution_count": 75,
   "id": "aa7b505d",
   "metadata": {
    "execution": {
     "iopub.execute_input": "2021-12-18T17:48:07.821468Z",
     "iopub.status.busy": "2021-12-18T17:48:07.820758Z",
     "iopub.status.idle": "2021-12-18T17:48:07.876925Z",
     "shell.execute_reply": "2021-12-18T17:48:07.877469Z",
     "shell.execute_reply.started": "2021-12-18T16:12:30.839908Z"
    },
    "papermill": {
     "duration": 0.107734,
     "end_time": "2021-12-18T17:48:07.877673",
     "exception": false,
     "start_time": "2021-12-18T17:48:07.769939",
     "status": "completed"
    },
    "tags": []
   },
   "outputs": [],
   "source": [
    "class DataFromFolder(Dataset):\n",
    "    def __init__(\n",
    "        self,\n",
    "        folder_path: str,\n",
    "        price: float,\n",
    "        payoff: Callable,\n",
    "        payoff_params: dict,\n",
    "        splits: int,\n",
    "        init_val: float,\n",
    "        mu: float,\n",
    "        take_log: bool = False\n",
    "    ):\n",
    "\n",
    "        self.folder_path = folder_path\n",
    "        self.price = price\n",
    "        self.payoff = payoff\n",
    "        self.payoff_params = payoff_params\n",
    "        self.splits = splits\n",
    "        self.take_log = take_log\n",
    "\n",
    "    def __len__(self):\n",
    "        return self.splits\n",
    "\n",
    "    def __getitem__(self, idx):\n",
    "        \n",
    "        # Assume that you pass number of batch as index\n",
    "        x = pd.read_parquet(f\"{self.folder_path}gjrpath{idx}.parquet\")\n",
    "        x = x.T + 0.3374 #UGLY\n",
    "        x = np.exp(x/100)\n",
    "        x.insert(loc=0, column='initvalue', value=2673.610107421875)\n",
    "        x = np.cumprod(x,axis=1)\n",
    "        x = x.values\n",
    "        x = x.reshape(x.shape[0], x.shape[1], 1)\n",
    "        x = torch.from_numpy(x).float()\n",
    "        \n",
    "        # Skipping batches that haves problematic paths (e.g., path goes to infinity or 0)\n",
    "        if x.isinf().sum() + x.isnan().sum() + (x <= 0).sum() > 0:\n",
    "            print(f\"data problem with {idx}\")\n",
    "            return None, None, None, None\n",
    "        \n",
    "        if not self.take_log:\n",
    "            return (\n",
    "                x[:, :-1],\n",
    "                x.squeeze().diff(),\n",
    "                self.payoff(x, **self.payoff_params),\n",
    "                self.price * torch.ones(x.shape[0]),\n",
    "            )\n",
    "        else:\n",
    "            return (\n",
    "                torch.log(x[:, :-1]),\n",
    "                x.squeeze().diff(),\n",
    "                self.payoff(x, **self.payoff_params),\n",
    "                self.price * torch.ones(x.shape[0]),\n",
    "            )"
   ]
  },
  {
   "cell_type": "code",
   "execution_count": 95,
   "id": "33612699",
   "metadata": {
    "execution": {
     "iopub.execute_input": "2021-12-18T17:48:07.986241Z",
     "iopub.status.busy": "2021-12-18T17:48:07.985463Z",
     "iopub.status.idle": "2021-12-18T17:48:08.040905Z",
     "shell.execute_reply": "2021-12-18T17:48:08.041429Z",
     "shell.execute_reply.started": "2021-12-18T16:12:30.906450Z"
    },
    "papermill": {
     "duration": 0.114531,
     "end_time": "2021-12-18T17:48:08.041640",
     "exception": false,
     "start_time": "2021-12-18T17:48:07.927109",
     "status": "completed"
    },
    "tags": []
   },
   "outputs": [],
   "source": [
    "def train_dataset(\n",
    "    dataset,\n",
    "    model,\n",
    "    criterion,\n",
    "    optimizer,\n",
    "    epochs,\n",
    "    writer,\n",
    "    scheduler=None,\n",
    "    device=\"cpu\",\n",
    "    metric=None,\n",
    "    p=1,  # percentage of data set to use in each epoch\n",
    "    max_norm=10,\n",
    "):\n",
    "    last = None\n",
    "    \n",
    "    losses = []\n",
    "    metrics = []\n",
    "    \n",
    "    model.train()\n",
    "    \n",
    "    for epoch in range(epochs):\n",
    "\n",
    "        running_loss = 0\n",
    "        running_metric = 0\n",
    "        \n",
    "        if p != 1:\n",
    "            indices = np.random.choice(np.arange(dataset.splits)+1, size=int(np.ceil(p * dataset.splits)), replace=False)\n",
    "        else:\n",
    "            indices = np.arange(dataset.splits)\n",
    "\n",
    "        with tqdm(indices, unit=\"batch\") as tepoch:\n",
    "            for i in tepoch:\n",
    "                tepoch.set_description(f\"Epoch {epoch}\")\n",
    "\n",
    "                x, x_inc, payoff, price = dataset[i]\n",
    "                \n",
    "                if x is None:  # None means that there are strange paths in the batch (e.g., x going to 0 or infty); skip those in training\n",
    "                    continue\n",
    "                \n",
    "                x, x_inc, payoff, price = (\n",
    "                    x.to(device),\n",
    "                    x_inc.to(device),\n",
    "                    payoff.to(device),\n",
    "                    price.to(device),\n",
    "                )\n",
    "\n",
    "                \n",
    "                optimizer.zero_grad()\n",
    "                if not model.learn_price:\n",
    "                    output = model(x)\n",
    "                else:\n",
    "                    output, price = model(x)\n",
    "                si = stochastic_integral(x_inc, output)\n",
    "                loss = criterion((price.squeeze() + si).float(), payoff.float())\n",
    "\n",
    "                # Debugging\n",
    "                if output.isnan().sum() > 0:\n",
    "                    print(f\"nan loss occured with file {i}\")\n",
    "                    print(output)\n",
    "                    print(price.shape)\n",
    "                    print(si)\n",
    "                    \n",
    "                    sys.exit()\n",
    "                    \n",
    "                loss.backward()\n",
    "                \n",
    "                # Clipping gradients\n",
    "                torch.nn.utils.clip_grad_norm_(cn.parameters(), max_norm=max_norm)\n",
    "                \n",
    "                optimizer.step()\n",
    "                \n",
    "                met = metric(price + si, payoff).item()\n",
    "                running_metric += met\n",
    "                running_loss += loss.item()\n",
    "          \n",
    "                if metric is not None:\n",
    "                    tepoch.set_postfix(\n",
    "                        {\n",
    "                            \"loss\": loss.item(),\n",
    "                            \"metric\": met,\n",
    "                        }\n",
    "                    )\n",
    "                else:\n",
    "                    tepoch.set_postfix(loss=loss.item())\n",
    "\n",
    "\n",
    "        if scheduler is not None:\n",
    "            scheduler.step()\n",
    "\n",
    "        writer.add_scalar(\n",
    "            \"Average Loss in Epoch\",\n",
    "            running_loss,\n",
    "            epoch * dataset.splits,\n",
    "        )\n",
    "\n",
    "        writer.close()\n",
    "        \n",
    "        losses.append(running_loss / (256 * len(indices)))\n",
    "    \n",
    "    return losses, metrics"
   ]
  },
  {
   "cell_type": "code",
   "execution_count": 96,
   "id": "ce9b46ab",
   "metadata": {
    "execution": {
     "iopub.execute_input": "2021-12-18T17:48:08.144026Z",
     "iopub.status.busy": "2021-12-18T17:48:08.143280Z",
     "iopub.status.idle": "2021-12-18T17:48:08.189710Z",
     "shell.execute_reply": "2021-12-18T17:48:08.190177Z",
     "shell.execute_reply.started": "2021-12-18T16:12:30.980953Z"
    },
    "papermill": {
     "duration": 0.099942,
     "end_time": "2021-12-18T17:48:08.190367",
     "exception": false,
     "start_time": "2021-12-18T17:48:08.090425",
     "status": "completed"
    },
    "tags": []
   },
   "outputs": [],
   "source": [
    "dt = DataFromFolder(\"gjrpaths/\", price, call_payoff, {\"strike\": strike}, 2000, initial_value, 0.3374, take_log=True)"
   ]
  },
  {
   "cell_type": "code",
   "execution_count": 97,
   "id": "2d6a6bdb",
   "metadata": {
    "execution": {
     "iopub.execute_input": "2021-12-18T17:48:08.291325Z",
     "iopub.status.busy": "2021-12-18T17:48:08.290669Z",
     "iopub.status.idle": "2021-12-18T17:48:08.424776Z",
     "shell.execute_reply": "2021-12-18T17:48:08.424167Z",
     "shell.execute_reply.started": "2021-12-18T16:12:31.035197Z"
    },
    "papermill": {
     "duration": 0.18697,
     "end_time": "2021-12-18T17:48:08.424930",
     "exception": false,
     "start_time": "2021-12-18T17:48:08.237960",
     "status": "completed"
    },
    "tags": []
   },
   "outputs": [],
   "source": [
    "cn = ControlNet(n_steps, 1, [20, 20], 1, learn_price=True)\n",
    "optimizer = Adam(cn.parameters(), lr=h_params[\"LR\"])\n",
    "scheduler = ExponentialLR(optimizer, gamma=1)"
   ]
  },
  {
   "cell_type": "code",
   "execution_count": 98,
   "id": "23e18aaa",
   "metadata": {
    "execution": {
     "iopub.execute_input": "2021-12-18T17:48:08.524257Z",
     "iopub.status.busy": "2021-12-18T17:48:08.523258Z",
     "iopub.status.idle": "2021-12-18T17:48:08.577145Z",
     "shell.execute_reply": "2021-12-18T17:48:08.576570Z",
     "shell.execute_reply.started": "2021-12-18T16:12:31.181091Z"
    },
    "papermill": {
     "duration": 0.104781,
     "end_time": "2021-12-18T17:48:08.577305",
     "exception": false,
     "start_time": "2021-12-18T17:48:08.472524",
     "status": "completed"
    },
    "tags": []
   },
   "outputs": [],
   "source": [
    "# Some loss functions\n",
    "\n",
    "def trimmed_mean_loss(preds, targets, alpha=0.01, criterion=torch.nn.MSELoss(reduction='none'), reduction='mean'):\n",
    "    loss = criterion(preds, targets)\n",
    "    q = torch.quantile(loss, 1 - alpha)\n",
    "    if reduction == 'mean':\n",
    "        return loss[loss < q].mean()\n",
    "    elif reduction == 'none':\n",
    "        return loss[loss < q]\n",
    "\n",
    "# was an idea, but really makes not a lot of sense to use in backprop\n",
    "def median_loss(preds, targets, criterion=torch.nn.MSELoss(reduction='none')):\n",
    "    loss = criterion(preds, targets)\n",
    "    return loss.median()\n",
    "\n",
    "\n",
    "def loss_robust(preds, targets, criterion=torch.nn.SmoothL1Loss(reduction='none', beta=10)):\n",
    "    loss = criterion(preds, targets)\n",
    "    loss = loss.nan_to_num(nan=10_000)\n",
    "    return loss.mean()"
   ]
  },
  {
   "cell_type": "code",
   "execution_count": 99,
   "id": "78cc35ad",
   "metadata": {
    "execution": {
     "iopub.execute_input": "2021-12-18T17:48:08.678423Z",
     "iopub.status.busy": "2021-12-18T17:48:08.677767Z",
     "iopub.status.idle": "2021-12-18T18:05:03.438904Z",
     "shell.execute_reply": "2021-12-18T18:05:03.436042Z",
     "shell.execute_reply.started": "2021-12-18T16:12:31.249073Z"
    },
    "papermill": {
     "duration": 1014.814499,
     "end_time": "2021-12-18T18:05:03.439318",
     "exception": false,
     "start_time": "2021-12-18T17:48:08.624819",
     "status": "completed"
    },
    "tags": []
   },
   "outputs": [
    {
     "name": "stderr",
     "output_type": "stream",
     "text": [
      "Epoch 0: 100%|██████████████████████████████████████████| 20/20 [00:01<00:00, 10.28batch/s, loss=83.7, metric=6.48e+3]\n",
      "Epoch 1: 100%|██████████████████████████████████████████████| 20/20 [00:01<00:00, 10.88batch/s, loss=27.7, metric=565]\n",
      "Epoch 2: 100%|██████████████████████████████████████████████| 20/20 [00:01<00:00, 10.84batch/s, loss=19.5, metric=289]\n",
      "Epoch 3: 100%|██████████████████████████████████████████████| 20/20 [00:02<00:00,  9.74batch/s, loss=15.6, metric=262]\n",
      "Epoch 4: 100%|██████████████████████████████████████████████| 20/20 [00:02<00:00,  9.80batch/s, loss=21.1, metric=326]\n",
      "Epoch 5: 100%|████████████████████████████████████████████| 20/20 [00:01<00:00, 10.91batch/s, loss=39, metric=1.29e+3]\n",
      "Epoch 6: 100%|██████████████████████████████████████████████| 20/20 [00:01<00:00, 11.21batch/s, loss=13.9, metric=150]\n",
      "Epoch 7: 100%|██████████████████████████████████████████████| 20/20 [00:01<00:00, 11.43batch/s, loss=23.3, metric=201]\n",
      "Epoch 8: 100%|██████████████████████████████████████████████| 20/20 [00:01<00:00, 11.40batch/s, loss=12.8, metric=172]\n",
      "Epoch 9: 100%|███████████████████████████████████████████████| 20/20 [00:01<00:00, 10.80batch/s, loss=15.9, metric=77]\n",
      "Epoch 10: 100%|██████████████████████████████████████████████| 20/20 [00:01<00:00, 10.89batch/s, loss=9.09, metric=51]\n",
      "Epoch 11: 100%|█████████████████████████████████████████| 20/20 [00:02<00:00,  9.97batch/s, loss=68.5, metric=2.69e+3]\n",
      "Epoch 12: 100%|████████████████████████████████████████████| 20/20 [00:01<00:00, 10.85batch/s, loss=12.9, metric=89.6]\n",
      "Epoch 13: 100%|█████████████████████████████████████████████| 20/20 [00:01<00:00, 11.29batch/s, loss=13.7, metric=188]\n",
      "Epoch 14: 100%|█████████████████████████████████████████████| 20/20 [00:01<00:00, 10.90batch/s, loss=14.7, metric=108]\n",
      "Epoch 15: 100%|████████████████████████████████████████████| 20/20 [00:01<00:00, 10.04batch/s, loss=7.31, metric=19.4]\n",
      "Epoch 16: 100%|████████████████████████████████████████████| 20/20 [00:01<00:00, 10.29batch/s, loss=8.34, metric=69.8]\n",
      "Epoch 17: 100%|███████████████████████████████████████████████| 20/20 [00:01<00:00, 10.60batch/s, loss=20, metric=168]\n",
      "Epoch 18: 100%|████████████████████████████████████████████| 20/20 [00:01<00:00, 11.10batch/s, loss=8.03, metric=25.1]\n",
      "Epoch 19: 100%|██████████████████████████████████████████████| 20/20 [00:01<00:00, 11.25batch/s, loss=7.62, metric=66]\n"
     ]
    }
   ],
   "source": [
    "current_time = datetime.now().strftime('%b%d_%H-%M-%S')\n",
    "comment = \"\"\n",
    "log_dir = os.path.join('experiments', current_time + '_' + comment)\n",
    "writer = SummaryWriter(log_dir)\n",
    "\n",
    "losses = train_dataset(dt, cn, loss_robust, optimizer, 20, writer, scheduler, metric=median_loss, p=0.01)"
   ]
  },
  {
   "cell_type": "code",
   "execution_count": 100,
   "id": "dccad063",
   "metadata": {
    "execution": {
     "iopub.execute_input": "2021-12-18T18:05:04.297374Z",
     "iopub.status.busy": "2021-12-18T18:05:04.296408Z",
     "iopub.status.idle": "2021-12-18T18:05:04.439516Z",
     "shell.execute_reply": "2021-12-18T18:05:04.438954Z",
     "shell.execute_reply.started": "2021-12-18T16:31:23.118207Z"
    },
    "papermill": {
     "duration": 0.57583,
     "end_time": "2021-12-18T18:05:04.439693",
     "exception": false,
     "start_time": "2021-12-18T18:05:03.863863",
     "status": "completed"
    },
    "tags": []
   },
   "outputs": [
    {
     "data": {
      "text/plain": [
       "4.0"
      ]
     },
     "execution_count": 100,
     "metadata": {},
     "output_type": "execute_result"
    }
   ],
   "source": [
    "n_of_training_paths = 10_000 * int(np.ceil(0.01 * dt.splits)) * 20\n",
    "n_of_training_paths / (10 ** 6)"
   ]
  },
  {
   "cell_type": "code",
   "execution_count": 101,
   "id": "48d5a134",
   "metadata": {
    "execution": {
     "iopub.execute_input": "2021-12-18T18:05:05.291137Z",
     "iopub.status.busy": "2021-12-18T18:05:05.290412Z",
     "iopub.status.idle": "2021-12-18T18:05:05.359604Z",
     "shell.execute_reply": "2021-12-18T18:05:05.358914Z",
     "shell.execute_reply.started": "2021-12-18T16:31:23.265357Z"
    },
    "papermill": {
     "duration": 0.497504,
     "end_time": "2021-12-18T18:05:05.359770",
     "exception": false,
     "start_time": "2021-12-18T18:05:04.862266",
     "status": "completed"
    },
    "tags": []
   },
   "outputs": [
    {
     "data": {
      "text/plain": [
       "([0.9447009682655334,\n",
       "  0.18360010012984276,\n",
       "  0.10938203483819961,\n",
       "  0.08658212535083294,\n",
       "  0.10218465887010098,\n",
       "  0.0883537121117115,\n",
       "  0.10757773295044899,\n",
       "  0.06978000160306692,\n",
       "  0.06559580955654383,\n",
       "  0.06132596405223012,\n",
       "  0.06346379751339555,\n",
       "  0.08337897974997759,\n",
       "  0.05517817120999098,\n",
       "  0.057628095149993896,\n",
       "  0.05057274289429188,\n",
       "  0.04925028588622808,\n",
       "  0.048981521278619766,\n",
       "  0.05958937965333462,\n",
       "  0.04849355947226286,\n",
       "  0.039558340795338154],\n",
       " [])"
      ]
     },
     "execution_count": 101,
     "metadata": {},
     "output_type": "execute_result"
    }
   ],
   "source": [
    "losses"
   ]
  },
  {
   "cell_type": "code",
   "execution_count": 102,
   "id": "a6862bee",
   "metadata": {
    "execution": {
     "iopub.execute_input": "2021-12-18T18:05:06.219949Z",
     "iopub.status.busy": "2021-12-18T18:05:06.219265Z",
     "iopub.status.idle": "2021-12-18T18:05:06.283368Z",
     "shell.execute_reply": "2021-12-18T18:05:06.283886Z",
     "shell.execute_reply.started": "2021-12-18T16:31:23.341582Z"
    },
    "papermill": {
     "duration": 0.494502,
     "end_time": "2021-12-18T18:05:06.284066",
     "exception": false,
     "start_time": "2021-12-18T18:05:05.789564",
     "status": "completed"
    },
    "tags": []
   },
   "outputs": [],
   "source": [
    "# Delta hedging benchmark\n",
    "# Does this make sense with constant vola???\n",
    "# n_steps not constant!!! I think we had this wrong the entire project!!\n",
    "\n",
    "def delta(x):\n",
    "    return bs_delta(n_steps, x, sigma, h_params[\"RF\"], strike)"
   ]
  },
  {
   "cell_type": "code",
   "execution_count": 103,
   "id": "d94fd335",
   "metadata": {
    "execution": {
     "iopub.execute_input": "2021-12-18T18:05:07.147238Z",
     "iopub.status.busy": "2021-12-18T18:05:07.146241Z",
     "iopub.status.idle": "2021-12-18T18:22:27.985347Z",
     "shell.execute_reply": "2021-12-18T18:22:27.983634Z"
    },
    "papermill": {
     "duration": 1041.273724,
     "end_time": "2021-12-18T18:22:27.985569",
     "exception": false,
     "start_time": "2021-12-18T18:05:06.711845",
     "status": "completed"
    },
    "tags": []
   },
   "outputs": [
    {
     "name": "stderr",
     "output_type": "stream",
     "text": [
      "100%|█████████████████████████████████████████████████████████████████████████████████| 10/10 [00:21<00:00,  2.17s/it]\n"
     ]
    }
   ],
   "source": [
    "n = 10\n",
    "\n",
    "diffs = []\n",
    "diffs_delta = []\n",
    "\n",
    "# make index to pass decreasing time to maturity to the bs_delta function\n",
    "idx = np.arange(n_steps) + 1\n",
    "idx = idx[::-1]\n",
    "\n",
    "for i in trange(1,n+1):\n",
    "    x, x_inc, payoff, price = dt[i]\n",
    "\n",
    "    # calculate delta hedge; assuming x is log price!\n",
    "    hedge_list = [torch.Tensor([bs_delta(idx[j], torch.exp(path[j]), sigma, 0, strike) for j in range(n_steps)]).unsqueeze(0) for path in x.squeeze()]\n",
    "    d_hedge = torch.cat(hedge_list)\n",
    "    si_delta = stochastic_integral(x_inc, d_hedge)\n",
    "    diff_delta = (price.squeeze() + si_delta).float() - payoff.float()\n",
    "    diffs_delta.append(diff_delta)\n",
    "\n",
    "    # calculating model hedge\n",
    "    if cn.learn_price:\n",
    "        output, price = cn(x)\n",
    "    else:\n",
    "        output = cn(x)\n",
    "        \n",
    "    si = stochastic_integral(x_inc, output)\n",
    "    diff = (price.squeeze() + si).float() - payoff.float()\n",
    "    diffs.append(diff)\n",
    "\n",
    "\n",
    "d = torch.cat(diffs)\n",
    "d_delta = torch.cat(diffs_delta)"
   ]
  },
  {
   "cell_type": "code",
   "execution_count": 104,
   "id": "3709a56f",
   "metadata": {
    "execution": {
     "iopub.execute_input": "2021-12-18T18:22:28.854857Z",
     "iopub.status.busy": "2021-12-18T18:22:28.854170Z",
     "iopub.status.idle": "2021-12-18T18:22:28.946165Z",
     "shell.execute_reply": "2021-12-18T18:22:28.945018Z",
     "shell.execute_reply.started": "2021-12-18T16:31:23.833947Z"
    },
    "papermill": {
     "duration": 0.527837,
     "end_time": "2021-12-18T18:22:28.946374",
     "exception": false,
     "start_time": "2021-12-18T18:22:28.418537",
     "status": "completed"
    },
    "tags": []
   },
   "outputs": [
    {
     "name": "stdout",
     "output_type": "stream",
     "text": [
      "RMSE 53.240962982177734\n",
      "Using median 6.984375\n",
      "Using mode 0.5809326171875\n"
     ]
    }
   ],
   "source": [
    "print(f\"RMSE {(d ** 2).mean() ** 0.5}\")\n",
    "print(f\"Using median {(d ** 2).median() ** 0.5}\")\n",
    "print(f\"Using mode {(d ** 2).mode()[0] ** 0.5}\")"
   ]
  },
  {
   "cell_type": "code",
   "execution_count": 92,
   "id": "13cb4452",
   "metadata": {
    "execution": {
     "iopub.execute_input": "2021-12-18T18:22:29.828534Z",
     "iopub.status.busy": "2021-12-18T18:22:29.827861Z",
     "iopub.status.idle": "2021-12-18T18:22:30.431155Z",
     "shell.execute_reply": "2021-12-18T18:22:30.430472Z",
     "shell.execute_reply.started": "2021-12-18T16:31:23.835685Z"
    },
    "papermill": {
     "duration": 1.048275,
     "end_time": "2021-12-18T18:22:30.431305",
     "exception": false,
     "start_time": "2021-12-18T18:22:29.383030",
     "status": "completed"
    },
    "tags": []
   },
   "outputs": [
    {
     "data": {
      "image/png": "[encoded data removed]",
      "text/plain": [
       "<Figure size 432x288 with 1 Axes>"
      ]
     },
     "metadata": {
      "needs_background": "light"
     },
     "output_type": "display_data"
    }
   ],
   "source": [
    "plt.hist([d.detach().numpy(), d_delta.detach().numpy()], range=(-250, 100), bins=50, label=['Model', 'Delta'])\n",
    "plt.legend();"
   ]
  },
  {
   "cell_type": "code",
   "execution_count": 93,
   "id": "790e3d54",
   "metadata": {
    "execution": {
     "iopub.execute_input": "2021-12-18T18:22:31.308136Z",
     "iopub.status.busy": "2021-12-18T18:22:31.307137Z",
     "iopub.status.idle": "2021-12-18T18:22:31.385706Z",
     "shell.execute_reply": "2021-12-18T18:22:31.385027Z",
     "shell.execute_reply.started": "2021-12-18T16:31:23.837760Z"
    },
    "papermill": {
     "duration": 0.519912,
     "end_time": "2021-12-18T18:22:31.385859",
     "exception": false,
     "start_time": "2021-12-18T18:22:30.865947",
     "status": "completed"
    },
    "tags": []
   },
   "outputs": [
    {
     "data": {
      "text/plain": [
       "count    2560.000000\n",
       "mean      -25.942312\n",
       "std        35.909565\n",
       "min      -462.815125\n",
       "25%       -26.625519\n",
       "50%       -14.852119\n",
       "75%        -9.332733\n",
       "max        -1.485260\n",
       "dtype: float64"
      ]
     },
     "execution_count": 93,
     "metadata": {},
     "output_type": "execute_result"
    }
   ],
   "source": [
    "pd.Series(d_delta.detach()).describe()"
   ]
  },
  {
   "cell_type": "code",
   "execution_count": 94,
   "id": "072bdeeb",
   "metadata": {
    "execution": {
     "iopub.execute_input": "2021-12-18T18:22:32.254646Z",
     "iopub.status.busy": "2021-12-18T18:22:32.253961Z",
     "iopub.status.idle": "2021-12-18T18:22:32.328485Z",
     "shell.execute_reply": "2021-12-18T18:22:32.327995Z",
     "shell.execute_reply.started": "2021-12-18T16:31:23.840296Z"
    },
    "papermill": {
     "duration": 0.51098,
     "end_time": "2021-12-18T18:22:32.328643",
     "exception": false,
     "start_time": "2021-12-18T18:22:31.817663",
     "status": "completed"
    },
    "tags": []
   },
   "outputs": [
    {
     "data": {
      "text/plain": [
       "count    2560.000000\n",
       "mean       -4.101403\n",
       "std        84.548019\n",
       "min     -2406.591553\n",
       "25%        -7.882828\n",
       "50%         0.523438\n",
       "75%         8.037037\n",
       "max       451.553009\n",
       "dtype: float64"
      ]
     },
     "execution_count": 94,
     "metadata": {},
     "output_type": "execute_result"
    }
   ],
   "source": [
    "d_series = pd.Series(d.detach())\n",
    "d_series.describe()"
   ]
  },
  {
   "cell_type": "code",
   "execution_count": null,
   "id": "cdc26aed",
   "metadata": {},
   "outputs": [],
   "source": []
  }
 ],
 "metadata": {
  "kernelspec": {
   "display_name": "Python 3 (ipykernel)",
   "language": "python",
   "name": "python3"
  },
  "language_info": {
   "codemirror_mode": {
    "name": "ipython",
    "version": 3
   },
   "file_extension": ".py",
   "mimetype": "text/x-python",
   "name": "python",
   "nbconvert_exporter": "python",
   "pygments_lexer": "ipython3",
   "version": "3.8.12"
  },
  "papermill": {
   "default_parameters": {},
   "duration": 2135.864617,
   "end_time": "2021-12-18T18:22:36.071666",
   "environment_variables": {},
   "exception": null,
   "input_path": "__notebook__.ipynb",
   "output_path": "__notebook__.ipynb",
   "parameters": {},
   "start_time": "2021-12-18T17:47:00.207049",
   "version": "2.3.3"
  }
 },
 "nbformat": 4,
 "nbformat_minor": 5
}
