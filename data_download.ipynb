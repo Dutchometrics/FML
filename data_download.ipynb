{
 "cells": [
  {
   "cell_type": "code",
   "execution_count": 24,
   "metadata": {},
   "outputs": [
    {
     "name": "stdout",
     "output_type": "stream",
     "text": [
      "The autoreload extension is already loaded. To reload it, use:\n",
      "  %reload_ext autoreload\n"
     ]
    }
   ],
   "source": [
    "%load_ext autoreload\n",
    "%autoreload 2\n",
    "\n",
    "import pandas as pd\n",
    "import numpy as np\n",
    "import datetime\n",
    "from get_data import get_option_data, get_best_options"
   ]
  },
  {
   "cell_type": "code",
   "execution_count": 25,
   "metadata": {},
   "outputs": [],
   "source": [
    "data = pd.read_csv(\"xeo option data 2000-2020.csv\")"
   ]
  },
  {
   "cell_type": "code",
   "execution_count": 26,
   "metadata": {
    "scrolled": false
   },
   "outputs": [],
   "source": [
    "_, best_options = get_best_options(data, pd.to_datetime('2018-01-01'), pd.to_datetime('2019-01-01'), 30, 120, 10)"
   ]
  },
  {
   "cell_type": "code",
   "execution_count": 27,
   "metadata": {},
   "outputs": [],
   "source": [
    "l = best_options.index.values.tolist()"
   ]
  },
  {
   "cell_type": "code",
   "execution_count": 28,
   "metadata": {},
   "outputs": [
    {
     "data": {
      "text/plain": [
       "[126693991,\n",
       " 119327510,\n",
       " 120514885,\n",
       " 124298668,\n",
       " 116458359,\n",
       " 124298667,\n",
       " 120514970,\n",
       " 119327507,\n",
       " 120514968,\n",
       " 118710695,\n",
       " 118878420,\n",
       " 120089665,\n",
       " 118710761,\n",
       " 124068728,\n",
       " 121415369,\n",
       " 121415366,\n",
       " 120514880,\n",
       " 120514882,\n",
       " 120514886,\n",
       " 116458357,\n",
       " 116458355,\n",
       " 116458356,\n",
       " 110253979,\n",
       " 124068765,\n",
       " 118667815,\n",
       " 126693757,\n",
       " 124068743,\n",
       " 124068733,\n",
       " 124068755,\n",
       " 124479705]"
      ]
     },
     "execution_count": 28,
     "metadata": {},
     "output_type": "execute_result"
    }
   ],
   "source": [
    "l"
   ]
  },
  {
   "cell_type": "code",
   "execution_count": 30,
   "metadata": {
    "scrolled": true
   },
   "outputs": [],
   "source": [
    "option_dfs = get_option_data(data, l, save_dfs=True);"
   ]
  },
  {
   "cell_type": "code",
   "execution_count": null,
   "metadata": {},
   "outputs": [],
   "source": []
  }
 ],
 "metadata": {
  "interpreter": {
   "hash": "9f5e567d87b18601037d8bd90b6477353143d668259048eee49a116983c03570"
  },
  "kernelspec": {
   "display_name": "Python 3 (ipykernel)",
   "language": "python",
   "name": "python3"
  },
  "language_info": {
   "codemirror_mode": {
    "name": "ipython",
    "version": 3
   },
   "file_extension": ".py",
   "mimetype": "text/x-python",
   "name": "python",
   "nbconvert_exporter": "python",
   "pygments_lexer": "ipython3",
   "version": "3.8.12"
  }
 },
 "nbformat": 4,
 "nbformat_minor": 2
}
