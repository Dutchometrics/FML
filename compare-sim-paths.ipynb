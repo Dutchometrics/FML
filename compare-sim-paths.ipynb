{
 "cells": [
  {
   "cell_type": "code",
   "execution_count": 1,
   "id": "668d4e79",
   "metadata": {
    "execution": {
     "iopub.execute_input": "2021-12-29T16:37:31.879604Z",
     "iopub.status.busy": "2021-12-29T16:37:31.878561Z",
     "iopub.status.idle": "2021-12-29T16:37:36.028068Z",
     "shell.execute_reply": "2021-12-29T16:37:36.027410Z",
     "shell.execute_reply.started": "2021-12-29T16:36:11.420490Z"
    },
    "papermill": {
     "duration": 4.163738,
     "end_time": "2021-12-29T16:37:36.028244",
     "exception": false,
     "start_time": "2021-12-29T16:37:31.864506",
     "status": "completed"
    },
    "tags": []
   },
   "outputs": [
    {
     "name": "stdout",
     "output_type": "stream",
     "text": [
      "rm: cannot remove '/kaggle/working/': Device or resource busy\r\n",
      "Cloning into 'FML'...\r\n",
      "remote: Enumerating objects: 479, done.\u001b[K\r\n",
      "remote: Counting objects: 100% (479/479), done.\u001b[K\r\n",
      "remote: Compressing objects: 100% (334/334), done.\u001b[K\r\n",
      "remote: Total 479 (delta 225), reused 369 (delta 133), pack-reused 0\u001b[K\r\n",
      "Receiving objects: 100% (479/479), 1.31 MiB | 1.49 MiB/s, done.\r\n",
      "Resolving deltas: 100% (225/225), done.\r\n"
     ]
    }
   ],
   "source": [
    "!rm -rf /kaggle/working/\n",
    "!git clone https://github.com/svenspa/FML.git"
   ]
  },
  {
   "cell_type": "code",
   "execution_count": 2,
   "id": "08585b90",
   "metadata": {
    "execution": {
     "iopub.execute_input": "2021-12-29T16:37:36.060551Z",
     "iopub.status.busy": "2021-12-29T16:37:36.059687Z",
     "iopub.status.idle": "2021-12-29T16:37:36.063402Z",
     "shell.execute_reply": "2021-12-29T16:37:36.063932Z",
     "shell.execute_reply.started": "2021-12-29T16:36:13.906933Z"
    },
    "papermill": {
     "duration": 0.020179,
     "end_time": "2021-12-29T16:37:36.064096",
     "exception": false,
     "start_time": "2021-12-29T16:37:36.043917",
     "status": "completed"
    },
    "tags": []
   },
   "outputs": [],
   "source": [
    "import os\n",
    "origin_path = \"/kaggle/working\"\n",
    "fml_path = \"/kaggle/working/FML\""
   ]
  },
  {
   "cell_type": "code",
   "execution_count": 3,
   "id": "deebbbd1",
   "metadata": {
    "execution": {
     "iopub.execute_input": "2021-12-29T16:37:36.094638Z",
     "iopub.status.busy": "2021-12-29T16:37:36.094101Z",
     "iopub.status.idle": "2021-12-29T16:38:13.758616Z",
     "shell.execute_reply": "2021-12-29T16:38:13.757985Z",
     "shell.execute_reply.started": "2021-12-29T16:36:13.970361Z"
    },
    "papermill": {
     "duration": 37.681911,
     "end_time": "2021-12-29T16:38:13.758758",
     "exception": false,
     "start_time": "2021-12-29T16:37:36.076847",
     "status": "completed"
    },
    "tags": []
   },
   "outputs": [
    {
     "name": "stdout",
     "output_type": "stream",
     "text": [
      "Collecting arch\r\n",
      "  Downloading arch-5.1.0-cp37-cp37m-manylinux_2_17_x86_64.manylinux2014_x86_64.whl (902 kB)\r\n",
      "     |████████████████████████████████| 902 kB 295 kB/s            \r\n",
      "\u001b[?25hRequirement already satisfied: statsmodels>=0.11 in /opt/conda/lib/python3.7/site-packages (from arch) (0.12.2)\r\n",
      "Requirement already satisfied: pandas>=1.0 in /opt/conda/lib/python3.7/site-packages (from arch) (1.3.4)\r\n",
      "Collecting property-cached>=1.6.4\r\n",
      "  Downloading property_cached-1.6.4-py2.py3-none-any.whl (7.8 kB)\r\n",
      "Requirement already satisfied: numpy>=1.17 in /opt/conda/lib/python3.7/site-packages (from arch) (1.19.5)\r\n",
      "Requirement already satisfied: scipy>=1.3 in /opt/conda/lib/python3.7/site-packages (from arch) (1.7.2)\r\n",
      "Requirement already satisfied: python-dateutil>=2.7.3 in /opt/conda/lib/python3.7/site-packages (from pandas>=1.0->arch) (2.8.0)\r\n",
      "Requirement already satisfied: pytz>=2017.3 in /opt/conda/lib/python3.7/site-packages (from pandas>=1.0->arch) (2021.3)\r\n",
      "Requirement already satisfied: patsy>=0.5 in /opt/conda/lib/python3.7/site-packages (from statsmodels>=0.11->arch) (0.5.2)\r\n",
      "Requirement already satisfied: six in /opt/conda/lib/python3.7/site-packages (from patsy>=0.5->statsmodels>=0.11->arch) (1.16.0)\r\n",
      "Installing collected packages: property-cached, arch\r\n",
      "Successfully installed arch-5.1.0 property-cached-1.6.4\r\n",
      "\u001b[33mWARNING: Running pip as the 'root' user can result in broken permissions and conflicting behaviour with the system package manager. It is recommended to use a virtual environment instead: https://pip.pypa.io/warnings/venv\u001b[0m\r\n",
      "Collecting yfinance\r\n",
      "  Downloading yfinance-0.1.67-py2.py3-none-any.whl (25 kB)\r\n",
      "Requirement already satisfied: numpy>=1.15 in /opt/conda/lib/python3.7/site-packages (from yfinance) (1.19.5)\r\n",
      "Requirement already satisfied: lxml>=4.5.1 in /opt/conda/lib/python3.7/site-packages (from yfinance) (4.6.4)\r\n",
      "Collecting multitasking>=0.0.7\r\n",
      "  Downloading multitasking-0.0.10.tar.gz (8.2 kB)\r\n",
      "  Preparing metadata (setup.py) ... \u001b[?25l-\b \bdone\r\n",
      "\u001b[?25hRequirement already satisfied: pandas>=0.24 in /opt/conda/lib/python3.7/site-packages (from yfinance) (1.3.4)\r\n",
      "Requirement already satisfied: requests>=2.20 in /opt/conda/lib/python3.7/site-packages (from yfinance) (2.25.1)\r\n",
      "Requirement already satisfied: python-dateutil>=2.7.3 in /opt/conda/lib/python3.7/site-packages (from pandas>=0.24->yfinance) (2.8.0)\r\n",
      "Requirement already satisfied: pytz>=2017.3 in /opt/conda/lib/python3.7/site-packages (from pandas>=0.24->yfinance) (2021.3)\r\n",
      "Requirement already satisfied: idna<3,>=2.5 in /opt/conda/lib/python3.7/site-packages (from requests>=2.20->yfinance) (2.10)\r\n",
      "Requirement already satisfied: certifi>=2017.4.17 in /opt/conda/lib/python3.7/site-packages (from requests>=2.20->yfinance) (2021.10.8)\r\n",
      "Requirement already satisfied: urllib3<1.27,>=1.21.1 in /opt/conda/lib/python3.7/site-packages (from requests>=2.20->yfinance) (1.26.7)\r\n",
      "Requirement already satisfied: chardet<5,>=3.0.2 in /opt/conda/lib/python3.7/site-packages (from requests>=2.20->yfinance) (4.0.0)\r\n",
      "Requirement already satisfied: six>=1.5 in /opt/conda/lib/python3.7/site-packages (from python-dateutil>=2.7.3->pandas>=0.24->yfinance) (1.16.0)\r\n",
      "Building wheels for collected packages: multitasking\r\n",
      "  Building wheel for multitasking (setup.py) ... \u001b[?25l-\b \b\\\b \bdone\r\n",
      "\u001b[?25h  Created wheel for multitasking: filename=multitasking-0.0.10-py3-none-any.whl size=8500 sha256=538a88e7cb7a210427d26a70b8dbcbd9066e58bef83622e5e403ec135844f6ee\r\n",
      "  Stored in directory: /root/.cache/pip/wheels/34/ba/79/c0260c6f1a03f420ec7673eff9981778f293b9107974679e36\r\n",
      "Successfully built multitasking\r\n",
      "Installing collected packages: multitasking, yfinance\r\n",
      "Successfully installed multitasking-0.0.10 yfinance-0.1.67\r\n",
      "\u001b[33mWARNING: Running pip as the 'root' user can result in broken permissions and conflicting behaviour with the system package manager. It is recommended to use a virtual environment instead: https://pip.pypa.io/warnings/venv\u001b[0m\r\n",
      "Collecting fastparquet\r\n",
      "  Downloading fastparquet-0.7.2-cp37-cp37m-manylinux2010_x86_64.whl (1.2 MB)\r\n",
      "     |████████████████████████████████| 1.2 MB 291 kB/s            \r\n",
      "\u001b[?25hRequirement already satisfied: numpy>=1.18 in /opt/conda/lib/python3.7/site-packages (from fastparquet) (1.19.5)\r\n",
      "Collecting thrift>=0.11.0\r\n",
      "  Downloading thrift-0.15.0.tar.gz (59 kB)\r\n",
      "     |████████████████████████████████| 59 kB 4.8 MB/s             \r\n",
      "\u001b[?25h  Preparing metadata (setup.py) ... \u001b[?25l-\b \bdone\r\n",
      "\u001b[?25hCollecting cramjam>=2.3.0\r\n",
      "  Downloading cramjam-2.5.0-cp37-cp37m-manylinux_2_5_x86_64.manylinux1_x86_64.whl (1.6 MB)\r\n",
      "     |████████████████████████████████| 1.6 MB 17.5 MB/s            \r\n",
      "\u001b[?25hRequirement already satisfied: pandas>=1.1.0 in /opt/conda/lib/python3.7/site-packages (from fastparquet) (1.3.4)\r\n",
      "Requirement already satisfied: fsspec in /opt/conda/lib/python3.7/site-packages (from fastparquet) (2021.11.1)\r\n",
      "Requirement already satisfied: python-dateutil>=2.7.3 in /opt/conda/lib/python3.7/site-packages (from pandas>=1.1.0->fastparquet) (2.8.0)\r\n",
      "Requirement already satisfied: pytz>=2017.3 in /opt/conda/lib/python3.7/site-packages (from pandas>=1.1.0->fastparquet) (2021.3)\r\n",
      "Requirement already satisfied: six>=1.7.2 in /opt/conda/lib/python3.7/site-packages (from thrift>=0.11.0->fastparquet) (1.16.0)\r\n",
      "Building wheels for collected packages: thrift\r\n",
      "  Building wheel for thrift (setup.py) ... \u001b[?25l-\b \b\\\b \b|\b \b/\b \b-\b \b\\\b \b|\b \b/\b \b-\b \bdone\r\n",
      "\u001b[?25h  Created wheel for thrift: filename=thrift-0.15.0-cp37-cp37m-linux_x86_64.whl size=413817 sha256=e8a54739ebe298cd1562a06ed4648e3d6c69d0c2929e1b6262628ee01fb7e1b5\r\n",
      "  Stored in directory: /root/.cache/pip/wheels/ba/1f/8e/e6fd36837eecf3d1f2b23f1729477e8e06558d8d60b7093f51\r\n",
      "Successfully built thrift\r\n",
      "Installing collected packages: thrift, cramjam, fastparquet\r\n",
      "Successfully installed cramjam-2.5.0 fastparquet-0.7.2 thrift-0.15.0\r\n",
      "\u001b[33mWARNING: Running pip as the 'root' user can result in broken permissions and conflicting behaviour with the system package manager. It is recommended to use a virtual environment instead: https://pip.pypa.io/warnings/venv\u001b[0m\r\n"
     ]
    }
   ],
   "source": [
    "!pip install arch\n",
    "!pip install yfinance\n",
    "!pip install fastparquet"
   ]
  },
  {
   "cell_type": "code",
   "execution_count": 4,
   "id": "9b0fcb64",
   "metadata": {
    "execution": {
     "iopub.execute_input": "2021-12-29T16:38:13.824428Z",
     "iopub.status.busy": "2021-12-29T16:38:13.823481Z",
     "iopub.status.idle": "2021-12-29T16:38:13.826092Z",
     "shell.execute_reply": "2021-12-29T16:38:13.825512Z",
     "shell.execute_reply.started": "2021-12-29T16:36:39.042609Z"
    },
    "papermill": {
     "duration": 0.037371,
     "end_time": "2021-12-29T16:38:13.826225",
     "exception": false,
     "start_time": "2021-12-29T16:38:13.788854",
     "status": "completed"
    },
    "tags": []
   },
   "outputs": [],
   "source": [
    "os.chdir(fml_path)"
   ]
  },
  {
   "cell_type": "code",
   "execution_count": 5,
   "id": "aba23d91",
   "metadata": {
    "execution": {
     "iopub.execute_input": "2021-12-29T16:38:13.896026Z",
     "iopub.status.busy": "2021-12-29T16:38:13.888289Z",
     "iopub.status.idle": "2021-12-29T16:38:17.287723Z",
     "shell.execute_reply": "2021-12-29T16:38:17.287248Z",
     "shell.execute_reply.started": "2021-12-29T16:36:39.102188Z"
    },
    "papermill": {
     "duration": 3.431846,
     "end_time": "2021-12-29T16:38:17.287860",
     "exception": false,
     "start_time": "2021-12-29T16:38:13.856014",
     "status": "completed"
    },
    "tags": []
   },
   "outputs": [],
   "source": [
    "%load_ext autoreload\n",
    "%autoreload 2\n",
    "\n",
    "import numpy as np\n",
    "import pandas as pd\n",
    "import matplotlib.pyplot as plt\n",
    "from matplotlib.lines import Line2D\n",
    "import yfinance as yf\n",
    "\n",
    "import torch\n",
    "from torch.optim import Adam\n",
    "from torch.optim.lr_scheduler import ExponentialLR\n",
    "\n",
    "from data import DataGJR, DataRes\n",
    "from market_dynamics import bs_call_price\n",
    "from models import ControlNet, EnsembleNet\n",
    "from train import train_val\n",
    "from risk_measures import median_loss\n",
    "from utils import call_payoff, stochastic_integral\n"
   ]
  },
  {
   "cell_type": "code",
   "execution_count": 6,
   "id": "fdafb3f8",
   "metadata": {
    "execution": {
     "iopub.execute_input": "2021-12-29T16:38:17.351221Z",
     "iopub.status.busy": "2021-12-29T16:38:17.350622Z",
     "iopub.status.idle": "2021-12-29T16:38:17.386582Z",
     "shell.execute_reply": "2021-12-29T16:38:17.387017Z",
     "shell.execute_reply.started": "2021-12-29T16:36:39.162497Z"
    },
    "papermill": {
     "duration": 0.069597,
     "end_time": "2021-12-29T16:38:17.387177",
     "exception": false,
     "start_time": "2021-12-29T16:38:17.317580",
     "status": "completed"
    },
    "tags": []
   },
   "outputs": [],
   "source": [
    "GJR_FOLDER = \"../input/gjr-vol/v2_2/v2/\"\n",
    "RES_FOLDER = \"../input/gjr-vol/ressim/resssim/\""
   ]
  },
  {
   "cell_type": "code",
   "execution_count": 7,
   "id": "e49faa2c",
   "metadata": {
    "execution": {
     "iopub.execute_input": "2021-12-29T16:38:17.450516Z",
     "iopub.status.busy": "2021-12-29T16:38:17.449319Z",
     "iopub.status.idle": "2021-12-29T16:38:17.487289Z",
     "shell.execute_reply": "2021-12-29T16:38:17.487696Z",
     "shell.execute_reply.started": "2021-12-29T16:36:39.213578Z"
    },
    "papermill": {
     "duration": 0.070608,
     "end_time": "2021-12-29T16:38:17.487856",
     "exception": false,
     "start_time": "2021-12-29T16:38:17.417248",
     "status": "completed"
    },
    "tags": []
   },
   "outputs": [],
   "source": [
    "os.chdir(origin_path)"
   ]
  },
  {
   "cell_type": "markdown",
   "id": "cbc20a5d",
   "metadata": {
    "papermill": {
     "duration": 0.029378,
     "end_time": "2021-12-29T16:38:17.548059",
     "exception": false,
     "start_time": "2021-12-29T16:38:17.518681",
     "status": "completed"
    },
    "tags": []
   },
   "source": [
    "## Data"
   ]
  },
  {
   "cell_type": "code",
   "execution_count": 8,
   "id": "d13ae7af",
   "metadata": {
    "execution": {
     "iopub.execute_input": "2021-12-29T16:38:17.610740Z",
     "iopub.status.busy": "2021-12-29T16:38:17.610202Z",
     "iopub.status.idle": "2021-12-29T16:38:19.054144Z",
     "shell.execute_reply": "2021-12-29T16:38:19.053643Z",
     "shell.execute_reply.started": "2021-12-29T16:36:39.265227Z"
    },
    "papermill": {
     "duration": 1.476226,
     "end_time": "2021-12-29T16:38:19.054279",
     "exception": false,
     "start_time": "2021-12-29T16:38:17.578053",
     "status": "completed"
    },
    "tags": []
   },
   "outputs": [
    {
     "data": {
      "image/png": "[encoded data removed]",
      "text/plain": [
       "<Figure size 432x288 with 1 Axes>"
      ]
     },
     "metadata": {
      "needs_background": "light"
     },
     "output_type": "display_data"
    }
   ],
   "source": [
    "ticker = yf.Ticker('^GSPC')\n",
    "hist = ticker.history(start='2007-06-11', end='2012-04-10').Close\n",
    "plt.plot(hist);"
   ]
  },
  {
   "cell_type": "code",
   "execution_count": 9,
   "id": "56eccf04",
   "metadata": {
    "execution": {
     "iopub.execute_input": "2021-12-29T16:38:19.122201Z",
     "iopub.status.busy": "2021-12-29T16:38:19.121585Z",
     "iopub.status.idle": "2021-12-29T16:38:19.159877Z",
     "shell.execute_reply": "2021-12-29T16:38:19.159412Z",
     "shell.execute_reply.started": "2021-12-29T16:36:40.164732Z"
    },
    "papermill": {
     "duration": 0.074831,
     "end_time": "2021-12-29T16:38:19.160039",
     "exception": false,
     "start_time": "2021-12-29T16:38:19.085208",
     "status": "completed"
    },
    "tags": []
   },
   "outputs": [],
   "source": [
    "# From fitting the GARCH model using R get following parameters\n",
    "\n",
    "SIGMA = 0.1221684\n",
    "MU = 0.056105\n",
    "\n",
    "SQRT_252 = 252 ** 0.5"
   ]
  },
  {
   "cell_type": "code",
   "execution_count": 10,
   "id": "f2e596e4",
   "metadata": {
    "execution": {
     "iopub.execute_input": "2021-12-29T16:38:19.225578Z",
     "iopub.status.busy": "2021-12-29T16:38:19.225031Z",
     "iopub.status.idle": "2021-12-29T16:38:19.262006Z",
     "shell.execute_reply": "2021-12-29T16:38:19.262419Z",
     "shell.execute_reply.started": "2021-12-29T16:36:40.217102Z"
    },
    "papermill": {
     "duration": 0.071868,
     "end_time": "2021-12-29T16:38:19.262580",
     "exception": false,
     "start_time": "2021-12-29T16:38:19.190712",
     "status": "completed"
    },
    "tags": []
   },
   "outputs": [],
   "source": [
    "h_params = {\"N_SIM\": 4000,\n",
    "            \"RF\": 0,\n",
    "            \"N_DIMS\": 2,\n",
    "            \"FC_DIM\": 20,\n",
    "            \"LR\": 0.005,\n",
    "            \"GAMMA\": 0.96,\n",
    "            \"EPOCHS\": 10,\n",
    "            \"BATCH_SIZE\": 256,}"
   ]
  },
  {
   "cell_type": "code",
   "execution_count": 11,
   "id": "520e21f7",
   "metadata": {
    "execution": {
     "iopub.execute_input": "2021-12-29T16:38:19.327173Z",
     "iopub.status.busy": "2021-12-29T16:38:19.326603Z",
     "iopub.status.idle": "2021-12-29T16:38:19.366365Z",
     "shell.execute_reply": "2021-12-29T16:38:19.365875Z",
     "shell.execute_reply.started": "2021-12-29T16:36:40.268065Z"
    },
    "papermill": {
     "duration": 0.073658,
     "end_time": "2021-12-29T16:38:19.366498",
     "exception": false,
     "start_time": "2021-12-29T16:38:19.292840",
     "status": "completed"
    },
    "tags": []
   },
   "outputs": [
    {
     "data": {
      "text/plain": [
       "(1509.1199951171875, 1509.1199951171875, 0.1221684, 21.0855397479188)"
      ]
     },
     "execution_count": 11,
     "metadata": {},
     "output_type": "execute_result"
    }
   ],
   "source": [
    "initial_value = hist.iloc[0]\n",
    "strike = initial_value\n",
    "n_steps = 30\n",
    "price = bs_call_price(n_steps, initial_value, SIGMA, h_params[\"RF\"], strike)\n",
    "initial_value, strike, SIGMA, price"
   ]
  },
  {
   "cell_type": "code",
   "execution_count": 12,
   "id": "9df804ef",
   "metadata": {
    "execution": {
     "iopub.execute_input": "2021-12-29T16:38:19.432021Z",
     "iopub.status.busy": "2021-12-29T16:38:19.431467Z",
     "iopub.status.idle": "2021-12-29T16:38:19.470224Z",
     "shell.execute_reply": "2021-12-29T16:38:19.470698Z",
     "shell.execute_reply.started": "2021-12-29T16:36:40.321129Z"
    },
    "papermill": {
     "duration": 0.073271,
     "end_time": "2021-12-29T16:38:19.470858",
     "exception": false,
     "start_time": "2021-12-29T16:38:19.397587",
     "status": "completed"
    },
    "tags": []
   },
   "outputs": [],
   "source": [
    "dt = DataGJR(GJR_FOLDER, price, call_payoff, {\"strike\": strike}, splits=h_params[\"N_SIM\"], S0=initial_value, sigma_0=SIGMA, mu_const=MU, take_log=True, vol_feature=False)\n",
    "res_dt = DataRes(RES_FOLDER, price, call_payoff, {\"strike\": strike}, splits=100, S0=initial_value, take_log=True)"
   ]
  },
  {
   "cell_type": "code",
   "execution_count": 13,
   "id": "5c9a2b59",
   "metadata": {
    "execution": {
     "iopub.execute_input": "2021-12-29T16:38:19.536005Z",
     "iopub.status.busy": "2021-12-29T16:38:19.535448Z",
     "iopub.status.idle": "2021-12-29T16:38:21.335240Z",
     "shell.execute_reply": "2021-12-29T16:38:21.334759Z",
     "shell.execute_reply.started": "2021-12-29T16:36:40.370532Z"
    },
    "papermill": {
     "duration": 1.833013,
     "end_time": "2021-12-29T16:38:21.335379",
     "exception": false,
     "start_time": "2021-12-29T16:38:19.502366",
     "status": "completed"
    },
    "tags": []
   },
   "outputs": [
    {
     "data": {
      "image/png": "[encoded data removed]",
      "text/plain": [
       "<Figure size 432x288 with 1 Axes>"
      ]
     },
     "metadata": {
      "needs_background": "light"
     },
     "output_type": "display_data"
    }
   ],
   "source": [
    "gjr_x, _, _, _, = dt[1]\n",
    "res_x, _, _, _, = res_dt[1]\n",
    "gjr_x, res_x = torch.exp(gjr_x), torch.exp(res_x)\n",
    "\n",
    "gjr_example_paths = gjr_x[:10]\n",
    "res_example_paths= res_x[:10]\n",
    "\n",
    "fut = ticker.history(start='2018-01-02', end='2019-01-02').Close\n",
    "m = np.floor(len(fut) / n_steps)\n",
    "real_example_paths = []\n",
    "\n",
    "for i in np.arange(start=0, stop=(m-1)*n_steps, step=n_steps):\n",
    "    i = int(i)\n",
    "    path = fut.iloc[i:i+n_steps].values\n",
    "    path = path / path[0]\n",
    "    real_example_paths.append(path)\n",
    "\n",
    "plt.plot(gjr_example_paths.T.squeeze(), c='blue');\n",
    "plt.plot(res_example_paths.T.squeeze(), c='orange');\n",
    "plt.plot(np.array(real_example_paths).T, c='black');\n",
    "\n",
    "# plt.legend(['GJR-GARCH', 'Reservoir Computing', 'Real paths'])\n",
    "gjrpath_leg = Line2D([0], [0], color='blue', label='GJR-GARCH')\n",
    "rc_leg = Line2D([0], [0], color='orange', label='Reservoir Computing')\n",
    "real_leg = Line2D([0], [0], color='black', label='Real paths')\n",
    "plt.legend(handles=[gjrpath_leg, rc_leg, real_leg])\n",
    "\n",
    "plt.savefig('compare_paths.eps', format='eps')\n",
    "\n",
    "plt.show()"
   ]
  },
  {
   "cell_type": "code",
   "execution_count": 14,
   "id": "a53ab597",
   "metadata": {
    "execution": {
     "iopub.execute_input": "2021-12-29T16:38:21.407055Z",
     "iopub.status.busy": "2021-12-29T16:38:21.406440Z",
     "iopub.status.idle": "2021-12-29T16:38:26.037622Z",
     "shell.execute_reply": "2021-12-29T16:38:26.036994Z",
     "shell.execute_reply.started": "2021-12-29T16:36:41.641154Z"
    },
    "papermill": {
     "duration": 4.668949,
     "end_time": "2021-12-29T16:38:26.037755",
     "exception": false,
     "start_time": "2021-12-29T16:38:21.368806",
     "status": "completed"
    },
    "tags": []
   },
   "outputs": [],
   "source": [
    "gjr, res = [], []\n",
    "\n",
    "for i in np.arange(1, 100):\n",
    "    gjr_x, _, _, _, = dt[i]\n",
    "    res_x, _, _, _, = res_dt[i]\n",
    "    gjr.append(gjr_x)\n",
    "    res.append(res_x)"
   ]
  },
  {
   "cell_type": "code",
   "execution_count": 15,
   "id": "e2c44325",
   "metadata": {
    "execution": {
     "iopub.execute_input": "2021-12-29T16:38:26.111355Z",
     "iopub.status.busy": "2021-12-29T16:38:26.110455Z",
     "iopub.status.idle": "2021-12-29T16:38:26.653180Z",
     "shell.execute_reply": "2021-12-29T16:38:26.652724Z",
     "shell.execute_reply.started": "2021-12-29T16:36:47.328610Z"
    },
    "papermill": {
     "duration": 0.581653,
     "end_time": "2021-12-29T16:38:26.653309",
     "exception": false,
     "start_time": "2021-12-29T16:38:26.071656",
     "status": "completed"
    },
    "tags": []
   },
   "outputs": [
    {
     "data": {
      "image/png": "[encoded data removed]",
      "text/plain": [
       "<Figure size 432x288 with 1 Axes>"
      ]
     },
     "metadata": {
      "needs_background": "light"
     },
     "output_type": "display_data"
    }
   ],
   "source": [
    "h1 = torch.cat(gjr).squeeze()[:, -1].numpy()\n",
    "h2 = torch.cat(res).squeeze()[:, -1].numpy()\n",
    "plt.hist([h1, h2], bins=50, label=[\"GJR\", \"Reservoir\"], range=(-0.2, 0.2))\n",
    "plt.legend();\n",
    "plt.savefig(\"marketfinaldistribution.eps\")"
   ]
  }
 ],
 "metadata": {
  "kernelspec": {
   "display_name": "Python 3",
   "language": "python",
   "name": "python3"
  },
  "language_info": {
   "codemirror_mode": {
    "name": "ipython",
    "version": 3
   },
   "file_extension": ".py",
   "mimetype": "text/x-python",
   "name": "python",
   "nbconvert_exporter": "python",
   "pygments_lexer": "ipython3",
   "version": "3.7.12"
  },
  "papermill": {
   "default_parameters": {},
   "duration": 63.862226,
   "end_time": "2021-12-29T16:38:27.596361",
   "environment_variables": {},
   "exception": null,
   "input_path": "__notebook__.ipynb",
   "output_path": "__notebook__.ipynb",
   "parameters": {},
   "start_time": "2021-12-29T16:37:23.734135",
   "version": "2.3.3"
  }
 },
 "nbformat": 4,
 "nbformat_minor": 5
}
