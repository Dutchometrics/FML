{
 "cells": [
  {
   "cell_type": "code",
   "execution_count": 1,
   "id": "2cbc1e19",
   "metadata": {
    "execution": {
     "iopub.execute_input": "2021-12-29T18:48:00.863192Z",
     "iopub.status.busy": "2021-12-29T18:48:00.862056Z",
     "iopub.status.idle": "2021-12-29T18:48:03.740067Z",
     "shell.execute_reply": "2021-12-29T18:48:03.739216Z",
     "shell.execute_reply.started": "2021-12-29T18:08:07.014208Z"
    },
    "papermill": {
     "duration": 2.897693,
     "end_time": "2021-12-29T18:48:03.740246",
     "exception": false,
     "start_time": "2021-12-29T18:48:00.842553",
     "status": "completed"
    },
    "tags": []
   },
   "outputs": [
    {
     "name": "stdout",
     "output_type": "stream",
     "text": [
      "rm: cannot remove '/kaggle/working/': Device or resource busy\r\n",
      "Cloning into 'FML'...\r\n",
      "remote: Enumerating objects: 484, done.\u001b[K\r\n",
      "remote: Counting objects: 100% (484/484), done.\u001b[K\r\n",
      "remote: Compressing objects: 100% (336/336), done.\u001b[K\r\n",
      "remote: Total 484 (delta 228), reused 374 (delta 136), pack-reused 0\u001b[K\r\n",
      "Receiving objects: 100% (484/484), 1.42 MiB | 5.19 MiB/s, done.\r\n",
      "Resolving deltas: 100% (228/228), done.\r\n"
     ]
    }
   ],
   "source": [
    "!rm -rf /kaggle/working/\n",
    "!git clone https://github.com/svenspa/FML.git"
   ]
  },
  {
   "cell_type": "code",
   "execution_count": 2,
   "id": "9b44167a",
   "metadata": {
    "execution": {
     "iopub.execute_input": "2021-12-29T18:48:03.783886Z",
     "iopub.status.busy": "2021-12-29T18:48:03.783209Z",
     "iopub.status.idle": "2021-12-29T18:48:03.785658Z",
     "shell.execute_reply": "2021-12-29T18:48:03.785140Z",
     "shell.execute_reply.started": "2021-12-29T18:08:10.989110Z"
    },
    "papermill": {
     "duration": 0.02592,
     "end_time": "2021-12-29T18:48:03.785788",
     "exception": false,
     "start_time": "2021-12-29T18:48:03.759868",
     "status": "completed"
    },
    "tags": []
   },
   "outputs": [],
   "source": [
    "import os\n",
    "origin_path = \"/kaggle/working\"\n",
    "fml_path = \"/kaggle/working/FML\""
   ]
  },
  {
   "cell_type": "code",
   "execution_count": 3,
   "id": "b8b1aeae",
   "metadata": {
    "execution": {
     "iopub.execute_input": "2021-12-29T18:48:03.827299Z",
     "iopub.status.busy": "2021-12-29T18:48:03.826615Z",
     "iopub.status.idle": "2021-12-29T18:48:43.021902Z",
     "shell.execute_reply": "2021-12-29T18:48:43.022389Z",
     "shell.execute_reply.started": "2021-12-29T18:08:10.995609Z"
    },
    "papermill": {
     "duration": 39.217598,
     "end_time": "2021-12-29T18:48:43.022570",
     "exception": false,
     "start_time": "2021-12-29T18:48:03.804972",
     "status": "completed"
    },
    "tags": []
   },
   "outputs": [
    {
     "name": "stdout",
     "output_type": "stream",
     "text": [
      "Collecting arch\r\n",
      "  Downloading arch-5.1.0-cp37-cp37m-manylinux_2_17_x86_64.manylinux2014_x86_64.whl (902 kB)\r\n",
      "     |████████████████████████████████| 902 kB 910 kB/s            \r\n",
      "\u001b[?25hRequirement already satisfied: scipy>=1.3 in /opt/conda/lib/python3.7/site-packages (from arch) (1.7.2)\r\n",
      "Requirement already satisfied: numpy>=1.17 in /opt/conda/lib/python3.7/site-packages (from arch) (1.19.5)\r\n",
      "Requirement already satisfied: pandas>=1.0 in /opt/conda/lib/python3.7/site-packages (from arch) (1.3.4)\r\n",
      "Collecting property-cached>=1.6.4\r\n",
      "  Downloading property_cached-1.6.4-py2.py3-none-any.whl (7.8 kB)\r\n",
      "Requirement already satisfied: statsmodels>=0.11 in /opt/conda/lib/python3.7/site-packages (from arch) (0.12.2)\r\n",
      "Requirement already satisfied: python-dateutil>=2.7.3 in /opt/conda/lib/python3.7/site-packages (from pandas>=1.0->arch) (2.8.0)\r\n",
      "Requirement already satisfied: pytz>=2017.3 in /opt/conda/lib/python3.7/site-packages (from pandas>=1.0->arch) (2021.3)\r\n",
      "Requirement already satisfied: patsy>=0.5 in /opt/conda/lib/python3.7/site-packages (from statsmodels>=0.11->arch) (0.5.2)\r\n",
      "Requirement already satisfied: six in /opt/conda/lib/python3.7/site-packages (from patsy>=0.5->statsmodels>=0.11->arch) (1.16.0)\r\n",
      "Installing collected packages: property-cached, arch\r\n",
      "Successfully installed arch-5.1.0 property-cached-1.6.4\r\n",
      "\u001b[33mWARNING: Running pip as the 'root' user can result in broken permissions and conflicting behaviour with the system package manager. It is recommended to use a virtual environment instead: https://pip.pypa.io/warnings/venv\u001b[0m\r\n",
      "Collecting yfinance\r\n",
      "  Downloading yfinance-0.1.67-py2.py3-none-any.whl (25 kB)\r\n",
      "Requirement already satisfied: pandas>=0.24 in /opt/conda/lib/python3.7/site-packages (from yfinance) (1.3.4)\r\n",
      "Requirement already satisfied: lxml>=4.5.1 in /opt/conda/lib/python3.7/site-packages (from yfinance) (4.6.4)\r\n",
      "Requirement already satisfied: numpy>=1.15 in /opt/conda/lib/python3.7/site-packages (from yfinance) (1.19.5)\r\n",
      "Collecting multitasking>=0.0.7\r\n",
      "  Downloading multitasking-0.0.10.tar.gz (8.2 kB)\r\n",
      "  Preparing metadata (setup.py) ... \u001b[?25l-\b \bdone\r\n",
      "\u001b[?25hRequirement already satisfied: requests>=2.20 in /opt/conda/lib/python3.7/site-packages (from yfinance) (2.25.1)\r\n",
      "Requirement already satisfied: python-dateutil>=2.7.3 in /opt/conda/lib/python3.7/site-packages (from pandas>=0.24->yfinance) (2.8.0)\r\n",
      "Requirement already satisfied: pytz>=2017.3 in /opt/conda/lib/python3.7/site-packages (from pandas>=0.24->yfinance) (2021.3)\r\n",
      "Requirement already satisfied: chardet<5,>=3.0.2 in /opt/conda/lib/python3.7/site-packages (from requests>=2.20->yfinance) (4.0.0)\r\n",
      "Requirement already satisfied: urllib3<1.27,>=1.21.1 in /opt/conda/lib/python3.7/site-packages (from requests>=2.20->yfinance) (1.26.7)\r\n",
      "Requirement already satisfied: certifi>=2017.4.17 in /opt/conda/lib/python3.7/site-packages (from requests>=2.20->yfinance) (2021.10.8)\r\n",
      "Requirement already satisfied: idna<3,>=2.5 in /opt/conda/lib/python3.7/site-packages (from requests>=2.20->yfinance) (2.10)\r\n",
      "Requirement already satisfied: six>=1.5 in /opt/conda/lib/python3.7/site-packages (from python-dateutil>=2.7.3->pandas>=0.24->yfinance) (1.16.0)\r\n",
      "Building wheels for collected packages: multitasking\r\n",
      "  Building wheel for multitasking (setup.py) ... \u001b[?25l-\b \b\\\b \bdone\r\n",
      "\u001b[?25h  Created wheel for multitasking: filename=multitasking-0.0.10-py3-none-any.whl size=8500 sha256=285149d21c9158b9b62ef68a1f6f03b26ec97b8c0ca32dccd146aa30eec022d5\r\n",
      "  Stored in directory: /root/.cache/pip/wheels/34/ba/79/c0260c6f1a03f420ec7673eff9981778f293b9107974679e36\r\n",
      "Successfully built multitasking\r\n",
      "Installing collected packages: multitasking, yfinance\r\n",
      "Successfully installed multitasking-0.0.10 yfinance-0.1.67\r\n",
      "\u001b[33mWARNING: Running pip as the 'root' user can result in broken permissions and conflicting behaviour with the system package manager. It is recommended to use a virtual environment instead: https://pip.pypa.io/warnings/venv\u001b[0m\r\n",
      "Collecting fastparquet\r\n",
      "  Downloading fastparquet-0.7.2-cp37-cp37m-manylinux2010_x86_64.whl (1.2 MB)\r\n",
      "     |████████████████████████████████| 1.2 MB 894 kB/s            \r\n",
      "\u001b[?25hCollecting thrift>=0.11.0\r\n",
      "  Downloading thrift-0.15.0.tar.gz (59 kB)\r\n",
      "     |████████████████████████████████| 59 kB 5.2 MB/s             \r\n",
      "\u001b[?25h  Preparing metadata (setup.py) ... \u001b[?25l-\b \bdone\r\n",
      "\u001b[?25hCollecting cramjam>=2.3.0\r\n",
      "  Downloading cramjam-2.5.0-cp37-cp37m-manylinux_2_5_x86_64.manylinux1_x86_64.whl (1.6 MB)\r\n",
      "     |████████████████████████████████| 1.6 MB 33.4 MB/s            \r\n",
      "\u001b[?25hRequirement already satisfied: numpy>=1.18 in /opt/conda/lib/python3.7/site-packages (from fastparquet) (1.19.5)\r\n",
      "Requirement already satisfied: pandas>=1.1.0 in /opt/conda/lib/python3.7/site-packages (from fastparquet) (1.3.4)\r\n",
      "Requirement already satisfied: fsspec in /opt/conda/lib/python3.7/site-packages (from fastparquet) (2021.11.1)\r\n",
      "Requirement already satisfied: python-dateutil>=2.7.3 in /opt/conda/lib/python3.7/site-packages (from pandas>=1.1.0->fastparquet) (2.8.0)\r\n",
      "Requirement already satisfied: pytz>=2017.3 in /opt/conda/lib/python3.7/site-packages (from pandas>=1.1.0->fastparquet) (2021.3)\r\n",
      "Requirement already satisfied: six>=1.7.2 in /opt/conda/lib/python3.7/site-packages (from thrift>=0.11.0->fastparquet) (1.16.0)\r\n",
      "Building wheels for collected packages: thrift\r\n",
      "  Building wheel for thrift (setup.py) ... \u001b[?25l-\b \b\\\b \b|\b \b/\b \b-\b \b\\\b \b|\b \b/\b \b-\b \bdone\r\n",
      "\u001b[?25h  Created wheel for thrift: filename=thrift-0.15.0-cp37-cp37m-linux_x86_64.whl size=413830 sha256=9c87cceab662b2f8cee204ffef14dcdcea9a6aeb98f171f10d6f7e3e6aa9f934\r\n",
      "  Stored in directory: /root/.cache/pip/wheels/ba/1f/8e/e6fd36837eecf3d1f2b23f1729477e8e06558d8d60b7093f51\r\n",
      "Successfully built thrift\r\n",
      "Installing collected packages: thrift, cramjam, fastparquet\r\n",
      "Successfully installed cramjam-2.5.0 fastparquet-0.7.2 thrift-0.15.0\r\n",
      "\u001b[33mWARNING: Running pip as the 'root' user can result in broken permissions and conflicting behaviour with the system package manager. It is recommended to use a virtual environment instead: https://pip.pypa.io/warnings/venv\u001b[0m\r\n"
     ]
    }
   ],
   "source": [
    "!pip install arch\n",
    "!pip install yfinance\n",
    "!pip install fastparquet"
   ]
  },
  {
   "cell_type": "code",
   "execution_count": 4,
   "id": "7c7593f7",
   "metadata": {
    "execution": {
     "iopub.execute_input": "2021-12-29T18:48:43.100827Z",
     "iopub.status.busy": "2021-12-29T18:48:43.100148Z",
     "iopub.status.idle": "2021-12-29T18:48:43.102544Z",
     "shell.execute_reply": "2021-12-29T18:48:43.101923Z",
     "shell.execute_reply.started": "2021-12-29T18:08:59.005224Z"
    },
    "papermill": {
     "duration": 0.043427,
     "end_time": "2021-12-29T18:48:43.102673",
     "exception": false,
     "start_time": "2021-12-29T18:48:43.059246",
     "status": "completed"
    },
    "tags": []
   },
   "outputs": [],
   "source": [
    "os.chdir(fml_path)"
   ]
  },
  {
   "cell_type": "code",
   "execution_count": 5,
   "id": "a6c23ec3",
   "metadata": {
    "execution": {
     "iopub.execute_input": "2021-12-29T18:48:43.189340Z",
     "iopub.status.busy": "2021-12-29T18:48:43.185511Z",
     "iopub.status.idle": "2021-12-29T18:48:46.931334Z",
     "shell.execute_reply": "2021-12-29T18:48:46.930753Z",
     "shell.execute_reply.started": "2021-12-29T18:08:59.014119Z"
    },
    "papermill": {
     "duration": 3.792581,
     "end_time": "2021-12-29T18:48:46.931493",
     "exception": false,
     "start_time": "2021-12-29T18:48:43.138912",
     "status": "completed"
    },
    "tags": []
   },
   "outputs": [],
   "source": [
    "%load_ext autoreload\n",
    "%autoreload 2\n",
    "\n",
    "import numpy as np\n",
    "import pandas as pd\n",
    "import matplotlib.pyplot as plt\n",
    "from matplotlib.lines import Line2D\n",
    "import yfinance as yf\n",
    "\n",
    "import torch\n",
    "from torch.optim import Adam\n",
    "from torch.optim.lr_scheduler import ExponentialLR\n",
    "\n",
    "from data import DataGJR, DataRes\n",
    "from market_dynamics import bs_call_price\n",
    "from models import ControlNet, EnsembleNet\n",
    "from train import train_val\n",
    "from risk_measures import median_loss\n",
    "from utils import call_payoff, stochastic_integral\n"
   ]
  },
  {
   "cell_type": "code",
   "execution_count": 6,
   "id": "6cb1f630",
   "metadata": {
    "execution": {
     "iopub.execute_input": "2021-12-29T18:48:47.009834Z",
     "iopub.status.busy": "2021-12-29T18:48:47.009145Z",
     "iopub.status.idle": "2021-12-29T18:48:47.054994Z",
     "shell.execute_reply": "2021-12-29T18:48:47.054429Z",
     "shell.execute_reply.started": "2021-12-29T18:09:03.624396Z"
    },
    "papermill": {
     "duration": 0.086834,
     "end_time": "2021-12-29T18:48:47.055144",
     "exception": false,
     "start_time": "2021-12-29T18:48:46.968310",
     "status": "completed"
    },
    "tags": []
   },
   "outputs": [],
   "source": [
    "GJR_FOLDER = \"../input/gjr-vol/v2_2/v2/\"\n",
    "RES_FOLDER = \"../input/gjr-vol/ressim/resssim/\""
   ]
  },
  {
   "cell_type": "code",
   "execution_count": 7,
   "id": "f3909029",
   "metadata": {
    "execution": {
     "iopub.execute_input": "2021-12-29T18:48:47.133350Z",
     "iopub.status.busy": "2021-12-29T18:48:47.132698Z",
     "iopub.status.idle": "2021-12-29T18:48:47.176272Z",
     "shell.execute_reply": "2021-12-29T18:48:47.176757Z",
     "shell.execute_reply.started": "2021-12-29T18:09:03.674923Z"
    },
    "papermill": {
     "duration": 0.08476,
     "end_time": "2021-12-29T18:48:47.176940",
     "exception": false,
     "start_time": "2021-12-29T18:48:47.092180",
     "status": "completed"
    },
    "tags": []
   },
   "outputs": [],
   "source": [
    "os.chdir(origin_path)"
   ]
  },
  {
   "cell_type": "markdown",
   "id": "d4b0ca87",
   "metadata": {
    "papermill": {
     "duration": 0.03621,
     "end_time": "2021-12-29T18:48:47.250920",
     "exception": false,
     "start_time": "2021-12-29T18:48:47.214710",
     "status": "completed"
    },
    "tags": []
   },
   "source": [
    "## Data"
   ]
  },
  {
   "cell_type": "code",
   "execution_count": 8,
   "id": "9c244112",
   "metadata": {
    "execution": {
     "iopub.execute_input": "2021-12-29T18:48:47.327652Z",
     "iopub.status.busy": "2021-12-29T18:48:47.327030Z",
     "iopub.status.idle": "2021-12-29T18:48:48.135822Z",
     "shell.execute_reply": "2021-12-29T18:48:48.136419Z",
     "shell.execute_reply.started": "2021-12-29T18:09:03.725095Z"
    },
    "papermill": {
     "duration": 0.849263,
     "end_time": "2021-12-29T18:48:48.136664",
     "exception": false,
     "start_time": "2021-12-29T18:48:47.287401",
     "status": "completed"
    },
    "tags": []
   },
   "outputs": [
    {
     "data": {
      "image/png": "[encoded data removed]",
      "text/plain": [
       "<Figure size 432x288 with 1 Axes>"
      ]
     },
     "metadata": {
      "needs_background": "light"
     },
     "output_type": "display_data"
    }
   ],
   "source": [
    "ticker = yf.Ticker('^GSPC')\n",
    "hist = ticker.history(start='2007-06-11', end='2012-04-10').Close\n",
    "plt.plot(hist);"
   ]
  },
  {
   "cell_type": "code",
   "execution_count": 9,
   "id": "4f5bd564",
   "metadata": {
    "execution": {
     "iopub.execute_input": "2021-12-29T18:48:48.217512Z",
     "iopub.status.busy": "2021-12-29T18:48:48.216891Z",
     "iopub.status.idle": "2021-12-29T18:48:48.263076Z",
     "shell.execute_reply": "2021-12-29T18:48:48.262525Z",
     "shell.execute_reply.started": "2021-12-29T18:18:58.904905Z"
    },
    "papermill": {
     "duration": 0.08778,
     "end_time": "2021-12-29T18:48:48.263264",
     "exception": false,
     "start_time": "2021-12-29T18:48:48.175484",
     "status": "completed"
    },
    "tags": []
   },
   "outputs": [],
   "source": [
    "# From fitting the GARCH model using R get following parameters\n",
    "\n",
    "SIGMA = 0.1221684\n",
    "MU = 0.056105\n",
    "\n",
    "SQRT_252 = 252 ** 0.5"
   ]
  },
  {
   "cell_type": "code",
   "execution_count": 10,
   "id": "e4d8ff9e",
   "metadata": {
    "execution": {
     "iopub.execute_input": "2021-12-29T18:48:48.341749Z",
     "iopub.status.busy": "2021-12-29T18:48:48.341088Z",
     "iopub.status.idle": "2021-12-29T18:48:48.388752Z",
     "shell.execute_reply": "2021-12-29T18:48:48.388032Z",
     "shell.execute_reply.started": "2021-12-29T18:18:59.199741Z"
    },
    "papermill": {
     "duration": 0.087971,
     "end_time": "2021-12-29T18:48:48.388906",
     "exception": false,
     "start_time": "2021-12-29T18:48:48.300935",
     "status": "completed"
    },
    "tags": []
   },
   "outputs": [],
   "source": [
    "h_params = {\"N_SIM\": 4000,\n",
    "            \"RF\": 0,\n",
    "            \"N_DIMS\": 2,\n",
    "            \"FC_DIM\": 20,\n",
    "            \"LR\": 0.005,\n",
    "            \"GAMMA\": 0.96,\n",
    "            \"EPOCHS\": 10,\n",
    "            \"BATCH_SIZE\": 256,}"
   ]
  },
  {
   "cell_type": "code",
   "execution_count": 11,
   "id": "5bab4d2c",
   "metadata": {
    "execution": {
     "iopub.execute_input": "2021-12-29T18:48:48.468468Z",
     "iopub.status.busy": "2021-12-29T18:48:48.467857Z",
     "iopub.status.idle": "2021-12-29T18:48:48.514824Z",
     "shell.execute_reply": "2021-12-29T18:48:48.515421Z",
     "shell.execute_reply.started": "2021-12-29T18:18:59.594952Z"
    },
    "papermill": {
     "duration": 0.089174,
     "end_time": "2021-12-29T18:48:48.515590",
     "exception": false,
     "start_time": "2021-12-29T18:48:48.426416",
     "status": "completed"
    },
    "tags": []
   },
   "outputs": [
    {
     "data": {
      "text/plain": [
       "(1509.1199951171875, 1509.1199951171875, 0.1221684, 21.0855397479188)"
      ]
     },
     "execution_count": 11,
     "metadata": {},
     "output_type": "execute_result"
    }
   ],
   "source": [
    "initial_value = hist.iloc[0]\n",
    "strike = initial_value\n",
    "n_steps = 30\n",
    "price = bs_call_price(n_steps, initial_value, SIGMA, h_params[\"RF\"], strike)\n",
    "initial_value, strike, SIGMA, price"
   ]
  },
  {
   "cell_type": "code",
   "execution_count": 12,
   "id": "efa39e4a",
   "metadata": {
    "execution": {
     "iopub.execute_input": "2021-12-29T18:48:48.602462Z",
     "iopub.status.busy": "2021-12-29T18:48:48.601772Z",
     "iopub.status.idle": "2021-12-29T18:48:48.650116Z",
     "shell.execute_reply": "2021-12-29T18:48:48.650648Z",
     "shell.execute_reply.started": "2021-12-29T18:22:40.921962Z"
    },
    "papermill": {
     "duration": 0.097349,
     "end_time": "2021-12-29T18:48:48.650828",
     "exception": false,
     "start_time": "2021-12-29T18:48:48.553479",
     "status": "completed"
    },
    "tags": []
   },
   "outputs": [],
   "source": [
    "dt = DataGJR(GJR_FOLDER, price, call_payoff, {\"strike\": strike}, splits=h_params[\"N_SIM\"], S0=initial_value, sigma_0=SIGMA, mu_const=MU, take_log=True, vol_feature=False, normalize=True)\n",
    "res_dt = DataRes(RES_FOLDER, price, call_payoff, {\"strike\": strike}, splits=100, S0=initial_value, take_log=True, normalize=True)"
   ]
  },
  {
   "cell_type": "code",
   "execution_count": 13,
   "id": "040aac74",
   "metadata": {
    "execution": {
     "iopub.execute_input": "2021-12-29T18:48:48.884968Z",
     "iopub.status.busy": "2021-12-29T18:48:48.878323Z",
     "iopub.status.idle": "2021-12-29T18:48:50.311590Z",
     "shell.execute_reply": "2021-12-29T18:48:50.310928Z",
     "shell.execute_reply.started": "2021-12-29T18:23:23.149345Z"
    },
    "papermill": {
     "duration": 1.622832,
     "end_time": "2021-12-29T18:48:50.311743",
     "exception": false,
     "start_time": "2021-12-29T18:48:48.688911",
     "status": "completed"
    },
    "tags": []
   },
   "outputs": [
    {
     "data": {
      "image/png": "[encoded data removed]",
      "text/plain": [
       "<Figure size 432x288 with 1 Axes>"
      ]
     },
     "metadata": {
      "needs_background": "light"
     },
     "output_type": "display_data"
    }
   ],
   "source": [
    "gjr_x, _, _, _, = dt[1]\n",
    "res_x, _, _, _, = res_dt[1]\n",
    "gjr_x, res_x = torch.exp(gjr_x), torch.exp(res_x)\n",
    "\n",
    "gjr_example_paths = gjr_x[:10]\n",
    "res_example_paths= res_x[:10]\n",
    "\n",
    "fut = ticker.history(start='2012-04-10', end='2021-04-10').Close\n",
    "m = np.floor(len(fut) / n_steps)\n",
    "real_example_paths = []\n",
    "\n",
    "for i in np.arange(start=0, stop=(m-1)*n_steps, step=n_steps):\n",
    "    i = int(i)\n",
    "    path = fut.iloc[i:i+n_steps].values\n",
    "    path = path / path[0]\n",
    "    real_example_paths.append(path)\n",
    "\n",
    "plt.plot(torch.exp(gjr_example_paths.T.squeeze()), c='blue');\n",
    "plt.plot(torch.exp(res_example_paths.T.squeeze()), c='orange');\n",
    "plt.plot(np.exp(np.array(real_example_paths)[:10].T), c='black');\n",
    "\n",
    "# plt.legend(['GJR-GARCH', 'Reservoir Computing', 'Real paths'])\n",
    "gjrpath_leg = Line2D([0], [0], color='blue', label='GJR-GARCH')\n",
    "rc_leg = Line2D([0], [0], color='orange', label='Reservoir Computing')\n",
    "real_leg = Line2D([0], [0], color='black', label='Real paths')\n",
    "plt.legend(handles=[gjrpath_leg, rc_leg, real_leg])\n",
    "\n",
    "plt.savefig('compare_paths.eps', format='eps')\n",
    "\n",
    "plt.show()"
   ]
  },
  {
   "cell_type": "code",
   "execution_count": 14,
   "id": "6bbed1ae",
   "metadata": {
    "execution": {
     "iopub.execute_input": "2021-12-29T18:48:50.399567Z",
     "iopub.status.busy": "2021-12-29T18:48:50.398623Z",
     "iopub.status.idle": "2021-12-29T18:48:54.794132Z",
     "shell.execute_reply": "2021-12-29T18:48:54.793533Z",
     "shell.execute_reply.started": "2021-12-29T18:23:40.492078Z"
    },
    "papermill": {
     "duration": 4.441408,
     "end_time": "2021-12-29T18:48:54.794323",
     "exception": false,
     "start_time": "2021-12-29T18:48:50.352915",
     "status": "completed"
    },
    "tags": []
   },
   "outputs": [],
   "source": [
    "gjr, res = [], []\n",
    "\n",
    "for i in np.arange(1, 100):\n",
    "    gjr_x, _, _, _, = dt[i]\n",
    "    res_x, _, _, _, = res_dt[i]\n",
    "    gjr.append(gjr_x)\n",
    "    res.append(res_x)"
   ]
  },
  {
   "cell_type": "code",
   "execution_count": 15,
   "id": "af057e60",
   "metadata": {
    "execution": {
     "iopub.execute_input": "2021-12-29T18:48:54.881065Z",
     "iopub.status.busy": "2021-12-29T18:48:54.880122Z",
     "iopub.status.idle": "2021-12-29T18:48:55.497800Z",
     "shell.execute_reply": "2021-12-29T18:48:55.497130Z",
     "shell.execute_reply.started": "2021-12-29T18:24:39.335464Z"
    },
    "papermill": {
     "duration": 0.662214,
     "end_time": "2021-12-29T18:48:55.497935",
     "exception": false,
     "start_time": "2021-12-29T18:48:54.835721",
     "status": "completed"
    },
    "tags": []
   },
   "outputs": [
    {
     "data": {
      "image/png": "[encoded data removed]",
      "text/plain": [
       "<Figure size 432x288 with 1 Axes>"
      ]
     },
     "metadata": {
      "needs_background": "light"
     },
     "output_type": "display_data"
    }
   ],
   "source": [
    "h1 = np.exp(torch.cat(gjr).squeeze()[:, -1].numpy())\n",
    "h2 = np.exp(torch.cat(res).squeeze()[:, -1].numpy())\n",
    "plt.hist([h1, h2], bins=50, label=[\"GJR\", \"Reservoir\"], )\n",
    "plt.legend();\n",
    "plt.savefig(\"marketfinaldistribution.eps\")"
   ]
  },
  {
   "cell_type": "code",
   "execution_count": 16,
   "id": "bc6c1169",
   "metadata": {
    "execution": {
     "iopub.execute_input": "2021-12-29T18:48:55.584668Z",
     "iopub.status.busy": "2021-12-29T18:48:55.583988Z",
     "iopub.status.idle": "2021-12-29T18:48:55.644173Z",
     "shell.execute_reply": "2021-12-29T18:48:55.644724Z",
     "shell.execute_reply.started": "2021-12-29T18:41:00.186394Z"
    },
    "papermill": {
     "duration": 0.106066,
     "end_time": "2021-12-29T18:48:55.644885",
     "exception": false,
     "start_time": "2021-12-29T18:48:55.538819",
     "status": "completed"
    },
    "tags": []
   },
   "outputs": [
    {
     "data": {
      "text/plain": [
       "0.08512352191965589"
      ]
     },
     "execution_count": 16,
     "metadata": {},
     "output_type": "execute_result"
    }
   ],
   "source": [
    "pd.DataFrame(np.exp(gjr_x.squeeze().numpy())).T.diff().dropna().std().mean() * np.sqrt(252)"
   ]
  },
  {
   "cell_type": "code",
   "execution_count": 17,
   "id": "38c93851",
   "metadata": {
    "execution": {
     "iopub.execute_input": "2021-12-29T18:48:55.752281Z",
     "iopub.status.busy": "2021-12-29T18:48:55.751610Z",
     "iopub.status.idle": "2021-12-29T18:48:55.803343Z",
     "shell.execute_reply": "2021-12-29T18:48:55.803787Z",
     "shell.execute_reply.started": "2021-12-29T18:41:21.364153Z"
    },
    "papermill": {
     "duration": 0.102592,
     "end_time": "2021-12-29T18:48:55.803951",
     "exception": false,
     "start_time": "2021-12-29T18:48:55.701359",
     "status": "completed"
    },
    "tags": []
   },
   "outputs": [
    {
     "data": {
      "text/plain": [
       "0.12930368926757077"
      ]
     },
     "execution_count": 17,
     "metadata": {},
     "output_type": "execute_result"
    }
   ],
   "source": [
    "pd.DataFrame(np.exp(res_x.squeeze().numpy())).T.diff().dropna().std().mean() * np.sqrt(252)"
   ]
  }
 ],
 "metadata": {
  "kernelspec": {
   "display_name": "Python 3",
   "language": "python",
   "name": "python3"
  },
  "language_info": {
   "codemirror_mode": {
    "name": "ipython",
    "version": 3
   },
   "file_extension": ".py",
   "mimetype": "text/x-python",
   "name": "python",
   "nbconvert_exporter": "python",
   "pygments_lexer": "ipython3",
   "version": "3.7.12"
  },
  "papermill": {
   "default_parameters": {},
   "duration": 65.62954,
   "end_time": "2021-12-29T18:48:56.857286",
   "environment_variables": {},
   "exception": null,
   "input_path": "__notebook__.ipynb",
   "output_path": "__notebook__.ipynb",
   "parameters": {},
   "start_time": "2021-12-29T18:47:51.227746",
   "version": "2.3.3"
  }
 },
 "nbformat": 4,
 "nbformat_minor": 5
}
