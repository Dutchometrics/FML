{
 "cells": [
  {
   "cell_type": "code",
   "execution_count": 350,
   "id": "b82c7632",
   "metadata": {
    "execution": {
     "iopub.execute_input": "2021-12-22T20:37:40.189947Z",
     "iopub.status.busy": "2021-12-22T20:37:40.189167Z",
     "iopub.status.idle": "2021-12-22T20:37:45.480256Z",
     "shell.execute_reply": "2021-12-22T20:37:45.481388Z",
     "shell.execute_reply.started": "2021-12-22T20:30:17.504743Z"
    },
    "papermill": {
     "duration": 5.349119,
     "end_time": "2021-12-22T20:37:45.481655",
     "exception": false,
     "start_time": "2021-12-22T20:37:40.132536",
     "status": "completed"
    },
    "tags": []
   },
   "outputs": [
    {
     "name": "stdout",
     "output_type": "stream",
     "text": [
      "The autoreload extension is already loaded. To reload it, use:\n",
      "  %reload_ext autoreload\n"
     ]
    }
   ],
   "source": [
    "%load_ext autoreload\n",
    "%autoreload 2\n",
    "\n",
    "import os\n",
    "from datetime import datetime\n",
    "import glob\n",
    "import pandas as pd\n",
    "import numpy as np\n",
    "import matplotlib.pyplot as plt\n",
    "import torch\n",
    "from torch.utils.data import Dataset, DataLoader\n",
    "from torch.optim import Adam\n",
    "from torch.optim.lr_scheduler import ExponentialLR\n",
    "from torch.utils.tensorboard import SummaryWriter\n",
    "\n",
    "from market_dynamics import bs_delta, bs_call_price\n",
    "\n",
    "from data import DataFromFolder\n",
    "from utils import call_payoff, stochastic_integral\n",
    "from models import ControlNet, EnsembleNet\n",
    "from train import train_val\n",
    "from evaluation import get_eval_data\n",
    "from risk_measures import median_loss\n",
    "\n",
    "import yfinance as yf\n",
    "from arch import arch_model\n",
    "import dask.dataframe as dd\n",
    "\n",
    "from tqdm import tqdm, trange\n",
    "\n",
    "from typing import Callable, Optional\n",
    "import multiprocessing\n",
    "import time"
   ]
  },
  {
   "cell_type": "markdown",
   "id": "4d8c19c8",
   "metadata": {
    "papermill": {
     "duration": 0.046862,
     "end_time": "2021-12-22T20:37:45.578033",
     "exception": false,
     "start_time": "2021-12-22T20:37:45.531171",
     "status": "completed"
    },
    "tags": []
   },
   "source": [
    "## Data"
   ]
  },
  {
   "cell_type": "code",
   "execution_count": 351,
   "id": "38867670",
   "metadata": {
    "execution": {
     "iopub.execute_input": "2021-12-22T20:37:45.676024Z",
     "iopub.status.busy": "2021-12-22T20:37:45.675013Z",
     "iopub.status.idle": "2021-12-22T20:37:46.456489Z",
     "shell.execute_reply": "2021-12-22T20:37:46.456999Z",
     "shell.execute_reply.started": "2021-12-22T20:30:17.578810Z"
    },
    "papermill": {
     "duration": 0.831514,
     "end_time": "2021-12-22T20:37:46.457204",
     "exception": false,
     "start_time": "2021-12-22T20:37:45.625690",
     "status": "completed"
    },
    "tags": []
   },
   "outputs": [
    {
     "data": {
      "text/plain": [
       "[<matplotlib.lines.Line2D at 0x7f9e18165490>]"
      ]
     },
     "execution_count": 351,
     "metadata": {},
     "output_type": "execute_result"
    },
    {
     "data": {
      "image/png": "[encoded data removed]",
      "text/plain": [
       "<Figure size 432x288 with 1 Axes>"
      ]
     },
     "metadata": {
      "needs_background": "light"
     },
     "output_type": "display_data"
    }
   ],
   "source": [
    "ticker = yf.Ticker('^GSPC')\n",
    "hist_v1 = ticker.history(start='2013-03-04', end='2018-01-02').Close\n",
    "hist_v2 = ticker.history(start='2007-06-11', end='2012-04-10').Close\n",
    "plt.plot(hist_v2);\n",
    "plt.plot(hist_v1)"
   ]
  },
  {
   "cell_type": "code",
   "execution_count": 352,
   "id": "1fedbb9e",
   "metadata": {
    "execution": {
     "iopub.execute_input": "2021-12-22T20:37:46.558773Z",
     "iopub.status.busy": "2021-12-22T20:37:46.557725Z",
     "iopub.status.idle": "2021-12-22T20:37:46.609697Z",
     "shell.execute_reply": "2021-12-22T20:37:46.609094Z",
     "shell.execute_reply.started": "2021-12-22T20:30:18.225323Z"
    },
    "papermill": {
     "duration": 0.104461,
     "end_time": "2021-12-22T20:37:46.609839",
     "exception": false,
     "start_time": "2021-12-22T20:37:46.505378",
     "status": "completed"
    },
    "tags": []
   },
   "outputs": [],
   "source": [
    "# From fitting the GARCH model using R get following parameters\n",
    "\n",
    "SIGMA_V1 = 0.0643661\n",
    "SIGMA_V2 = 0.1221684\n",
    "\n",
    "MU_V1 = 0.048758\n",
    "MU_V2 = 0.056105\n",
    "\n",
    "SQRT_252 = 252 ** 0.5"
   ]
  },
  {
   "cell_type": "code",
   "execution_count": 353,
   "id": "bf4c454d",
   "metadata": {
    "execution": {
     "iopub.execute_input": "2021-12-22T20:37:46.711056Z",
     "iopub.status.busy": "2021-12-22T20:37:46.709999Z",
     "iopub.status.idle": "2021-12-22T20:37:46.764182Z",
     "shell.execute_reply": "2021-12-22T20:37:46.763495Z",
     "shell.execute_reply.started": "2021-12-22T20:30:18.283758Z"
    },
    "papermill": {
     "duration": 0.105995,
     "end_time": "2021-12-22T20:37:46.764335",
     "exception": false,
     "start_time": "2021-12-22T20:37:46.658340",
     "status": "completed"
    },
    "tags": []
   },
   "outputs": [],
   "source": [
    "h_params = {\"N_SIM\": None,\n",
    "            \"RF\": 0,\n",
    "            \"N_DIMS\": 2,\n",
    "            \"FC_DIM\": 20,\n",
    "            \"LR\": 0.005,\n",
    "            \"GAMMA\": 0.96,\n",
    "            \"EPOCHS\": 10,\n",
    "            \"BATCH_SIZE\": 256,}"
   ]
  },
  {
   "cell_type": "markdown",
   "id": "0d2d95bf",
   "metadata": {
    "papermill": {
     "duration": 0.047617,
     "end_time": "2021-12-22T20:37:46.865480",
     "exception": false,
     "start_time": "2021-12-22T20:37:46.817863",
     "status": "completed"
    },
    "tags": []
   },
   "source": [
    "## V1: Simulation example"
   ]
  },
  {
   "cell_type": "code",
   "execution_count": 354,
   "id": "c5db7889",
   "metadata": {
    "execution": {
     "iopub.execute_input": "2021-12-22T20:37:46.968639Z",
     "iopub.status.busy": "2021-12-22T20:37:46.967941Z",
     "iopub.status.idle": "2021-12-22T20:37:47.020816Z",
     "shell.execute_reply": "2021-12-22T20:37:47.020074Z",
     "shell.execute_reply.started": "2021-12-22T20:30:18.344577Z"
    },
    "papermill": {
     "duration": 0.107166,
     "end_time": "2021-12-22T20:37:47.020967",
     "exception": false,
     "start_time": "2021-12-22T20:37:46.913801",
     "status": "completed"
    },
    "tags": []
   },
   "outputs": [
    {
     "data": {
      "text/plain": [
       "(1525.199951171875, 1525.199951171875, 0.0643661, 14.495137664357117)"
      ]
     },
     "execution_count": 354,
     "metadata": {},
     "output_type": "execute_result"
    }
   ],
   "source": [
    "initial_value = hist_v1.iloc[0]\n",
    "strike = initial_value\n",
    "n_steps = 50\n",
    "price = bs_call_price(n_steps, initial_value, SIGMA_V1, h_params[\"RF\"], strike)\n",
    "initial_value, strike, SIGMA_V1, price"
   ]
  },
  {
   "cell_type": "code",
   "execution_count": 355,
   "id": "5bc5a27d",
   "metadata": {
    "execution": {
     "iopub.execute_input": "2021-12-22T20:37:47.122762Z",
     "iopub.status.busy": "2021-12-22T20:37:47.122010Z",
     "iopub.status.idle": "2021-12-22T20:37:47.550973Z",
     "shell.execute_reply": "2021-12-22T20:37:47.549858Z",
     "shell.execute_reply.started": "2021-12-22T20:30:18.408761Z"
    },
    "papermill": {
     "duration": 0.48107,
     "end_time": "2021-12-22T20:37:47.551312",
     "exception": false,
     "start_time": "2021-12-22T20:37:47.070242",
     "status": "completed"
    },
    "tags": []
   },
   "outputs": [],
   "source": [
    "# files = os.listdir('v1')\n",
    "# h_params[\"N_SIM\"] = sorted([int(\"\".join([s for s in txt if s.isdigit()])) for txt in files])[-1]\n",
    "# print(f'Number of batches: {h_params[\"N_SIM\"]}')"
   ]
  },
  {
   "cell_type": "code",
   "execution_count": 356,
   "id": "9862afb3",
   "metadata": {
    "execution": {
     "iopub.execute_input": "2021-12-22T20:37:47.655714Z",
     "iopub.status.busy": "2021-12-22T20:37:47.654692Z",
     "iopub.status.idle": "2021-12-22T20:37:47.859735Z",
     "shell.execute_reply": "2021-12-22T20:37:47.859061Z",
     "shell.execute_reply.started": "2021-12-22T20:30:18.497486Z"
    },
    "papermill": {
     "duration": 0.257976,
     "end_time": "2021-12-22T20:37:47.859886",
     "exception": false,
     "start_time": "2021-12-22T20:37:47.601910",
     "status": "completed"
    },
    "tags": []
   },
   "outputs": [
    {
     "data": {
      "text/plain": [
       "(50, 256)"
      ]
     },
     "execution_count": 356,
     "metadata": {},
     "output_type": "execute_result"
    }
   ],
   "source": [
    "df_shape = pd.read_parquet('v1/gjrpath1.parquet').shape\n",
    "h_params[\"BATCH_SIZE\"] = df_shape[1]\n",
    "df_shape"
   ]
  },
  {
   "cell_type": "code",
   "execution_count": 357,
   "id": "f476a045",
   "metadata": {
    "execution": {
     "iopub.execute_input": "2021-12-22T20:37:47.966359Z",
     "iopub.status.busy": "2021-12-22T20:37:47.965346Z",
     "iopub.status.idle": "2021-12-22T20:37:48.015505Z",
     "shell.execute_reply": "2021-12-22T20:37:48.014896Z",
     "shell.execute_reply.started": "2021-12-22T20:30:18.580508Z"
    },
    "papermill": {
     "duration": 0.104709,
     "end_time": "2021-12-22T20:37:48.015669",
     "exception": false,
     "start_time": "2021-12-22T20:37:47.910960",
     "status": "completed"
    },
    "tags": []
   },
   "outputs": [],
   "source": [
    "dt = DataFromFolder(\"v1/\", price, call_payoff, {\"strike\": strike}, splits=h_params[\"N_SIM\"], S0=initial_value, sigma_0=SIGMA_V1, mu_const=MU_V1, take_log=True)"
   ]
  },
  {
   "cell_type": "code",
   "execution_count": 358,
   "id": "fc2454c2",
   "metadata": {
    "execution": {
     "iopub.execute_input": "2021-12-22T20:37:48.119551Z",
     "iopub.status.busy": "2021-12-22T20:37:48.118812Z",
     "iopub.status.idle": "2021-12-22T20:58:15.977457Z",
     "shell.execute_reply": "2021-12-22T20:58:15.978180Z",
     "shell.execute_reply.started": "2021-12-22T20:30:18.634647Z"
    },
    "papermill": {
     "duration": 1227.914442,
     "end_time": "2021-12-22T20:58:15.978388",
     "exception": false,
     "start_time": "2021-12-22T20:37:48.063946",
     "status": "completed"
    },
    "scrolled": true,
    "tags": []
   },
   "outputs": [
    {
     "name": "stderr",
     "output_type": "stream",
     "text": [
      "Epoch 0: 100%|████████████████████████████████████████████████████████████████████████████████████████████████████████| 334/334 [00:32<00:00, 10.37batch/s, loss=306, metric=50.1]\n"
     ]
    },
    {
     "name": "stdout",
     "output_type": "stream",
     "text": [
      "validation loss: 7615.508447265625\n"
     ]
    },
    {
     "name": "stderr",
     "output_type": "stream",
     "text": [
      "Epoch 1: 100%|████████████████████████████████████████████████████████████████████████████████████████████████████████| 334/334 [00:31<00:00, 10.76batch/s, loss=267, metric=42.7]\n",
      "Epoch 2: 100%|████████████████████████████████████████████████████████████████████████████████████████████████████████| 334/334 [00:31<00:00, 10.77batch/s, loss=225, metric=42.3]\n",
      "Epoch 3: 100%|████████████████████████████████████████████████████████████████████████████████████████████████████████| 334/334 [00:31<00:00, 10.76batch/s, loss=210, metric=30.9]\n",
      "Epoch 4: 100%|████████████████████████████████████████████████████████████████████████████████████████████████████████| 334/334 [00:31<00:00, 10.70batch/s, loss=205, metric=35.8]\n",
      "Epoch 5: 100%|████████████████████████████████████████████████████████████████████████████████████████████████████████| 334/334 [00:31<00:00, 10.60batch/s, loss=189, metric=31.8]\n"
     ]
    },
    {
     "name": "stdout",
     "output_type": "stream",
     "text": [
      "validation loss: 29069.05009765625\n"
     ]
    },
    {
     "name": "stderr",
     "output_type": "stream",
     "text": [
      "Epoch 6: 100%|██████████████████████████████████████████████████████████████████████████████████████████████████████████| 334/334 [00:31<00:00, 10.59batch/s, loss=194, metric=38]\n",
      "Epoch 7: 100%|████████████████████████████████████████████████████████████████████████████████████████████████████████| 334/334 [00:31<00:00, 10.73batch/s, loss=185, metric=38.7]\n",
      "Epoch 8: 100%|████████████████████████████████████████████████████████████████████████████████████████████████████████| 334/334 [00:31<00:00, 10.71batch/s, loss=195, metric=36.9]\n",
      "Epoch 9: 100%|██████████████████████████████████████████████████████████████████████████████████████████████████████████| 334/334 [00:31<00:00, 10.75batch/s, loss=189, metric=42]\n",
      "Epoch 0: 100%|████████████████████████████████████████████████████████████████████████████████████████████████████████| 333/333 [00:31<00:00, 10.73batch/s, loss=304, metric=56.7]\n"
     ]
    },
    {
     "name": "stdout",
     "output_type": "stream",
     "text": [
      "validation loss: 1380.848324584961\n"
     ]
    },
    {
     "name": "stderr",
     "output_type": "stream",
     "text": [
      "Epoch 1: 100%|████████████████████████████████████████████████████████████████████████████████████████████████████████| 333/333 [00:31<00:00, 10.69batch/s, loss=279, metric=43.1]\n",
      "Epoch 2: 100%|████████████████████████████████████████████████████████████████████████████████████████████████████████| 333/333 [00:31<00:00, 10.44batch/s, loss=319, metric=39.8]\n",
      "Epoch 3: 100%|████████████████████████████████████████████████████████████████████████████████████████████████████████| 333/333 [00:35<00:00,  9.48batch/s, loss=326, metric=44.9]\n",
      "Epoch 4: 100%|████████████████████████████████████████████████████████████████████████████████████████████████████████| 333/333 [00:31<00:00, 10.47batch/s, loss=327, metric=41.2]\n",
      "Epoch 5: 100%|████████████████████████████████████████████████████████████████████████████████████████████████████████| 333/333 [00:31<00:00, 10.42batch/s, loss=239, metric=41.7]\n"
     ]
    },
    {
     "name": "stdout",
     "output_type": "stream",
     "text": [
      "validation loss: 751.0408615112304\n"
     ]
    },
    {
     "name": "stderr",
     "output_type": "stream",
     "text": [
      "Epoch 6: 100%|████████████████████████████████████████████████████████████████████████████████████████████████████████| 333/333 [00:31<00:00, 10.74batch/s, loss=231, metric=37.4]\n",
      "Epoch 7: 100%|████████████████████████████████████████████████████████████████████████████████████████████████████████| 333/333 [00:30<00:00, 10.74batch/s, loss=243, metric=32.9]\n",
      "Epoch 8: 100%|████████████████████████████████████████████████████████████████████████████████████████████████████████| 333/333 [00:31<00:00, 10.74batch/s, loss=251, metric=32.9]\n",
      "Epoch 9: 100%|████████████████████████████████████████████████████████████████████████████████████████████████████████| 333/333 [00:31<00:00, 10.65batch/s, loss=240, metric=32.5]\n",
      "Epoch 0: 100%|████████████████████████████████████████████████████████████████████████████████████████████████████████| 333/333 [00:31<00:00, 10.62batch/s, loss=731, metric=51.8]\n"
     ]
    },
    {
     "name": "stdout",
     "output_type": "stream",
     "text": [
      "validation loss: 12874.102099609376\n"
     ]
    },
    {
     "name": "stderr",
     "output_type": "stream",
     "text": [
      "Epoch 1: 100%|████████████████████████████████████████████████████████████████████████████████████████████████████████| 333/333 [00:31<00:00, 10.72batch/s, loss=245, metric=44.4]\n",
      "Epoch 2: 100%|████████████████████████████████████████████████████████████████████████████████████████████████████████| 333/333 [00:31<00:00, 10.71batch/s, loss=287, metric=45.6]\n",
      "Epoch 3: 100%|████████████████████████████████████████████████████████████████████████████████████████████████████████| 333/333 [00:31<00:00, 10.63batch/s, loss=270, metric=48.8]\n",
      "Epoch 4: 100%|████████████████████████████████████████████████████████████████████████████████████████████████████████| 333/333 [00:31<00:00, 10.67batch/s, loss=227, metric=49.1]\n",
      "Epoch 5: 100%|██████████████████████████████████████████████████████████████████████████████████████████████████████████| 333/333 [00:32<00:00, 10.10batch/s, loss=211, metric=49]\n"
     ]
    },
    {
     "name": "stdout",
     "output_type": "stream",
     "text": [
      "validation loss: 5672.329431152344\n"
     ]
    },
    {
     "name": "stderr",
     "output_type": "stream",
     "text": [
      "Epoch 6: 100%|████████████████████████████████████████████████████████████████████████████████████████████████████████| 333/333 [00:32<00:00, 10.10batch/s, loss=214, metric=45.7]\n",
      "Epoch 7: 100%|████████████████████████████████████████████████████████████████████████████████████████████████████████| 333/333 [00:32<00:00, 10.37batch/s, loss=213, metric=44.7]\n",
      "Epoch 8: 100%|████████████████████████████████████████████████████████████████████████████████████████████████████████| 333/333 [00:31<00:00, 10.68batch/s, loss=214, metric=51.2]\n",
      "Epoch 9: 100%|████████████████████████████████████████████████████████████████████████████████████████████████████████| 333/333 [00:31<00:00, 10.71batch/s, loss=210, metric=47.4]"
     ]
    },
    {
     "name": "stdout",
     "output_type": "stream",
     "text": [
      "CPU times: user 18min 36s, sys: 3min 43s, total: 22min 20s\n",
      "Wall time: 15min 52s\n"
     ]
    },
    {
     "name": "stderr",
     "output_type": "stream",
     "text": [
      "\n"
     ]
    }
   ],
   "source": [
    "%%time\n",
    "\n",
    "# Training three models on different training paths\n",
    "\n",
    "n_models = 3\n",
    "models, optimizers, schedulers = [], [], []\n",
    "n = 1000\n",
    "val_n = 20\n",
    "criterion = torch.nn.MSELoss()\n",
    "\n",
    "for _ in range(n_models):\n",
    "    model = ControlNet(n_steps, 2, [20, 20], 1, learn_price=False)\n",
    "    models.append(model)\n",
    "    optimizer = Adam(model.parameters(), lr=h_params[\"LR\"])\n",
    "    optimizers.append(optimizer)\n",
    "    schedulers.append(ExponentialLR(optimizer, gamma=h_params[\"GAMMA\"]))\n",
    "\n",
    "idx_list = np.array_split(np.arange(n) + 1, 3)\n",
    "val_idx_list = [np.arange(start=idx[-1]+1, stop=idx[-1]+1+val_n) for idx in idx_list]\n",
    "\n",
    "# Training each model\n",
    "\n",
    "res_list = []\n",
    "for model, optimizer, scheduler, indices, val_indices in zip(models, optimizers, schedulers, idx_list, val_idx_list):\n",
    "    results = train_val(dt, model, criterion, optimizer, h_params[\"EPOCHS\"], indices, val_indices, scheduler, metric=median_loss, val_every=5)\n",
    "    res_list.append(results)\n",
    "\n",
    "ens = EnsembleNet(models)"
   ]
  },
  {
   "cell_type": "markdown",
   "id": "80891a9c",
   "metadata": {
    "execution": {
     "iopub.execute_input": "2021-12-21T14:26:13.976978Z",
     "iopub.status.busy": "2021-12-21T14:26:13.976323Z",
     "iopub.status.idle": "2021-12-21T14:26:14.025297Z",
     "shell.execute_reply": "2021-12-21T14:26:14.024673Z",
     "shell.execute_reply.started": "2021-12-21T14:26:13.976942Z"
    },
    "papermill": {
     "duration": 9.3328,
     "end_time": "2021-12-22T20:58:34.582080",
     "exception": false,
     "start_time": "2021-12-22T20:58:25.249280",
     "status": "completed"
    },
    "tags": []
   },
   "source": [
    "### Delta Hedging Benchmark"
   ]
  },
  {
   "cell_type": "code",
   "execution_count": 359,
   "id": "0d036673",
   "metadata": {
    "execution": {
     "iopub.execute_input": "2021-12-22T20:58:53.050788Z",
     "iopub.status.busy": "2021-12-22T20:58:53.049708Z",
     "iopub.status.idle": "2021-12-22T20:58:53.118438Z",
     "shell.execute_reply": "2021-12-22T20:58:53.117737Z",
     "shell.execute_reply.started": "2021-12-22T20:34:19.961733Z"
    },
    "papermill": {
     "duration": 9.383634,
     "end_time": "2021-12-22T20:58:53.118593",
     "exception": false,
     "start_time": "2021-12-22T20:58:43.734959",
     "status": "completed"
    },
    "tags": []
   },
   "outputs": [],
   "source": [
    "# Delta hedging benchmark\n",
    "# Does this make sense with constant vola???\n",
    "# n_steps not constant!!! I think we had this wrong the entire project!!\n",
    "\n",
    "# Cython code based on: https://github.com/JackJacquier/python-for-finance/blob/master/Session-7-Cython/Intro_to_Cython.ipynb"
   ]
  },
  {
   "cell_type": "code",
   "execution_count": 360,
   "id": "748452a6",
   "metadata": {
    "execution": {
     "iopub.execute_input": "2021-12-22T20:59:12.086461Z",
     "iopub.status.busy": "2021-12-22T20:59:12.085346Z",
     "iopub.status.idle": "2021-12-22T20:59:13.326344Z",
     "shell.execute_reply": "2021-12-22T20:59:13.325738Z",
     "shell.execute_reply.started": "2021-12-22T20:34:20.015115Z"
    },
    "papermill": {
     "duration": 10.830785,
     "end_time": "2021-12-22T20:59:13.326514",
     "exception": false,
     "start_time": "2021-12-22T20:59:02.495729",
     "status": "completed"
    },
    "tags": []
   },
   "outputs": [
    {
     "name": "stdout",
     "output_type": "stream",
     "text": [
      "The Cython extension is already loaded. To reload it, use:\n",
      "  %reload_ext Cython\n"
     ]
    }
   ],
   "source": [
    "%load_ext Cython"
   ]
  },
  {
   "cell_type": "code",
   "execution_count": 361,
   "id": "8a517935",
   "metadata": {
    "execution": {
     "iopub.execute_input": "2021-12-22T20:59:31.976098Z",
     "iopub.status.busy": "2021-12-22T20:59:31.975031Z",
     "iopub.status.idle": "2021-12-22T20:59:33.986530Z",
     "shell.execute_reply": "2021-12-22T20:59:33.987409Z",
     "shell.execute_reply.started": "2021-12-22T20:34:20.071462Z"
    },
    "papermill": {
     "duration": 11.337948,
     "end_time": "2021-12-22T20:59:33.987601",
     "exception": false,
     "start_time": "2021-12-22T20:59:22.649653",
     "status": "completed"
    },
    "tags": []
   },
   "outputs": [],
   "source": [
    "%%cython --compile-args=-O3\n",
    "cimport cython\n",
    "from libc.math cimport  sqrt,log,exp,erf\n",
    "cdef double ONE_OVER_SQRT_TWO=0.7071067811865476\n",
    "import numpy as np\n",
    "cimport numpy as cnp\n",
    "\n",
    "@cython.cdivision(True)\n",
    "@cython.boundscheck(False)\n",
    "@cython.wraparound(False)\n",
    "@cython.nonecheck(False)\n",
    "cdef double gaussian_cdf(double x) nogil:\n",
    "    return 0.5*(1+erf(x*ONE_OVER_SQRT_TWO))\n",
    "\n",
    "@cython.cdivision(True)\n",
    "@cython.boundscheck(False)\n",
    "@cython.wraparound(False)\n",
    "@cython.nonecheck(False)\n",
    "cpdef cnp.ndarray[cnp.double_t, ndim=1] cython_bs_delta(cnp.ndarray[cnp.double_t, ndim=1] sigma, cnp.ndarray[cnp.double_t, ndim=1] S0,double K, cnp.ndarray[cnp.double_t, ndim=1] T):\n",
    "    cdef int size=len(S0)\n",
    "    cdef double k, d1, sigmaT\n",
    "    cdef cnp.ndarray[cnp.double_t, ndim=1] result=np.zeros(size)\n",
    "        \n",
    "    with nogil:\n",
    "        for i in range(size):\n",
    "            sigmaT = sigma[i] * sqrt(T[i])\n",
    "            k = log(S0[i] / K)\n",
    "            d1 = k / sigmaT + 0.5*sigmaT\n",
    "            result[i] = gaussian_cdf(d1)\n",
    "        \n",
    "    return result"
   ]
  },
  {
   "cell_type": "code",
   "execution_count": 362,
   "id": "27e63ec1",
   "metadata": {
    "execution": {
     "iopub.execute_input": "2021-12-22T20:59:52.583498Z",
     "iopub.status.busy": "2021-12-22T20:59:52.582818Z",
     "iopub.status.idle": "2021-12-22T20:59:52.642959Z",
     "shell.execute_reply": "2021-12-22T20:59:52.643477Z",
     "shell.execute_reply.started": "2021-12-22T20:34:20.133971Z"
    },
    "papermill": {
     "duration": 9.318226,
     "end_time": "2021-12-22T20:59:52.643664",
     "exception": false,
     "start_time": "2021-12-22T20:59:43.325438",
     "status": "completed"
    },
    "tags": []
   },
   "outputs": [],
   "source": [
    "# make index to pass decreasing time to maturity to the bs_delta function\n",
    "idx = np.arange(n_steps) + 1\n",
    "idx = idx[::-1]"
   ]
  },
  {
   "cell_type": "code",
   "execution_count": 363,
   "id": "b8a91062",
   "metadata": {
    "execution": {
     "iopub.execute_input": "2021-12-22T21:00:11.384789Z",
     "iopub.status.busy": "2021-12-22T21:00:11.384071Z",
     "iopub.status.idle": "2021-12-22T21:00:11.435518Z",
     "shell.execute_reply": "2021-12-22T21:00:11.434913Z",
     "shell.execute_reply.started": "2021-12-22T20:34:20.190286Z"
    },
    "papermill": {
     "duration": 9.475651,
     "end_time": "2021-12-22T21:00:11.435663",
     "exception": false,
     "start_time": "2021-12-22T21:00:01.960012",
     "status": "completed"
    },
    "tags": []
   },
   "outputs": [],
   "source": [
    "def cython_d_hedge(x, vol):\n",
    "    return cython_bs_delta(vol.numpy().astype(np.float64), torch.exp(x).numpy().astype(np.float64), strike, idx.astype(np.float64) *  ( 1 / 365))"
   ]
  },
  {
   "cell_type": "code",
   "execution_count": 364,
   "id": "070d49db",
   "metadata": {
    "execution": {
     "iopub.execute_input": "2021-12-22T21:00:29.962527Z",
     "iopub.status.busy": "2021-12-22T21:00:29.961519Z",
     "iopub.status.idle": "2021-12-22T21:00:30.014969Z",
     "shell.execute_reply": "2021-12-22T21:00:30.014432Z",
     "shell.execute_reply.started": "2021-12-22T20:34:20.254340Z"
    },
    "papermill": {
     "duration": 9.351758,
     "end_time": "2021-12-22T21:00:30.015141",
     "exception": false,
     "start_time": "2021-12-22T21:00:20.663383",
     "status": "completed"
    },
    "tags": []
   },
   "outputs": [],
   "source": [
    "def hedge_diff(x, x1, x_inc, payoff, price, vol, model=ens):\n",
    "\n",
    "    # calculate delta hedge; assuming x is log price!\n",
    "    d_hedge_list = [cython_d_hedge(a.squeeze(), b.squeeze()) for a, b in zip(x, vol)]\n",
    "    si_delta = stochastic_integral(x_inc, torch.Tensor(d_hedge_list))\n",
    "    diff_delta = (price.squeeze() + si_delta).float() - payoff.float()\n",
    "\n",
    "    # calculating model hedge\n",
    "    if model.learn_price:\n",
    "        output, price = model(x, x1)\n",
    "    else:\n",
    "        output = model(x, x1)\n",
    "\n",
    "    si = stochastic_integral(x_inc, output)\n",
    "    diff = (price.squeeze() + si).float() - payoff.float()\n",
    "\n",
    "    return diff, diff_delta"
   ]
  },
  {
   "cell_type": "code",
   "execution_count": 365,
   "id": "9b5ab43b",
   "metadata": {
    "execution": {
     "iopub.execute_input": "2021-12-22T21:00:48.610948Z",
     "iopub.status.busy": "2021-12-22T21:00:48.610243Z",
     "iopub.status.idle": "2021-12-22T21:00:52.331925Z",
     "shell.execute_reply": "2021-12-22T21:00:52.330969Z",
     "shell.execute_reply.started": "2021-12-22T20:34:20.343787Z"
    },
    "papermill": {
     "duration": 13.079866,
     "end_time": "2021-12-22T21:00:52.332125",
     "exception": false,
     "start_time": "2021-12-22T21:00:39.252259",
     "status": "completed"
    },
    "tags": []
   },
   "outputs": [],
   "source": [
    "diffs, diffs_delta = [], []\n",
    "\n",
    "for i in val_indices:\n",
    "    \n",
    "    x, x1, x_inc, payoff, price = dt[i]\n",
    "    vol = dt.get_vol(i)\n",
    "    \n",
    "    diff, diff_delta = hedge_diff(x, x1, x_inc, payoff, price, vol)\n",
    "    diffs.append(diff)\n",
    "    diffs_delta.append(diff_delta)\n",
    "    \n",
    "d = torch.cat(diffs)\n",
    "d_delta = torch.cat(diffs_delta)"
   ]
  },
  {
   "cell_type": "code",
   "execution_count": 366,
   "id": "44852bbb",
   "metadata": {
    "execution": {
     "iopub.execute_input": "2021-12-22T21:01:10.900086Z",
     "iopub.status.busy": "2021-12-22T21:01:10.896884Z",
     "iopub.status.idle": "2021-12-22T21:01:10.958497Z",
     "shell.execute_reply": "2021-12-22T21:01:10.957896Z",
     "shell.execute_reply.started": "2021-12-22T20:34:23.507029Z"
    },
    "papermill": {
     "duration": 9.353787,
     "end_time": "2021-12-22T21:01:10.958659",
     "exception": false,
     "start_time": "2021-12-22T21:01:01.604872",
     "status": "completed"
    },
    "tags": []
   },
   "outputs": [
    {
     "name": "stdout",
     "output_type": "stream",
     "text": [
      "Model:\n",
      "RMSE 17.32305335998535\n",
      "Using median 6.253887176513672\n",
      "Using mode 1.6071319580078125\n",
      "Delta Hedge:\n",
      "RMSE 18.092449188232422\n",
      "Using median 7.240653991699219\n",
      "Using mode 0.10494232177734375\n"
     ]
    }
   ],
   "source": [
    "print('Model:')\n",
    "print(f\"RMSE {(d ** 2).mean() ** 0.5}\")\n",
    "print(f\"Using median {(d ** 2).median() ** 0.5}\")\n",
    "print(f\"Using mode {(d ** 2).mode()[0] ** 0.5}\")\n",
    "\n",
    "print('Delta Hedge:')\n",
    "print(f\"RMSE {(d_delta ** 2).mean() ** 0.5}\")\n",
    "print(f\"Using median {(d_delta ** 2).median() ** 0.5}\")\n",
    "print(f\"Using mode {(d_delta ** 2).mode()[0] ** 0.5}\")"
   ]
  },
  {
   "cell_type": "code",
   "execution_count": 367,
   "id": "6bd4f743",
   "metadata": {
    "execution": {
     "iopub.execute_input": "2021-12-22T21:01:29.605343Z",
     "iopub.status.busy": "2021-12-22T21:01:29.604328Z",
     "iopub.status.idle": "2021-12-22T21:01:30.186933Z",
     "shell.execute_reply": "2021-12-22T21:01:30.185914Z",
     "shell.execute_reply.started": "2021-12-22T20:34:23.573190Z"
    },
    "papermill": {
     "duration": 9.884444,
     "end_time": "2021-12-22T21:01:30.187116",
     "exception": false,
     "start_time": "2021-12-22T21:01:20.302672",
     "status": "completed"
    },
    "tags": []
   },
   "outputs": [
    {
     "data": {
      "image/png": "[encoded data removed]",
      "text/plain": [
       "<Figure size 432x288 with 1 Axes>"
      ]
     },
     "metadata": {
      "needs_background": "light"
     },
     "output_type": "display_data"
    }
   ],
   "source": [
    "plt.hist([d.detach().numpy(), d_delta.detach().numpy()], range=(-250, 100), bins=50, label=['Model', 'Delta'])\n",
    "plt.legend();"
   ]
  },
  {
   "cell_type": "code",
   "execution_count": 368,
   "id": "e299a066",
   "metadata": {
    "execution": {
     "iopub.execute_input": "2021-12-22T21:01:48.812643Z",
     "iopub.status.busy": "2021-12-22T21:01:48.810550Z",
     "iopub.status.idle": "2021-12-22T21:01:48.878194Z",
     "shell.execute_reply": "2021-12-22T21:01:48.877585Z",
     "shell.execute_reply.started": "2021-12-22T20:34:24.157222Z"
    },
    "papermill": {
     "duration": 9.382334,
     "end_time": "2021-12-22T21:01:48.878342",
     "exception": false,
     "start_time": "2021-12-22T21:01:39.496008",
     "status": "completed"
    },
    "tags": []
   },
   "outputs": [
    {
     "data": {
      "text/plain": [
       "count    5120.000000\n",
       "mean      -11.209102\n",
       "std        14.203241\n",
       "min      -221.973099\n",
       "25%       -14.602339\n",
       "50%        -7.241053\n",
       "75%        -3.001376\n",
       "max         5.435819\n",
       "dtype: float64"
      ]
     },
     "execution_count": 368,
     "metadata": {},
     "output_type": "execute_result"
    }
   ],
   "source": [
    "pd.Series(d_delta.detach()).describe()"
   ]
  },
  {
   "cell_type": "code",
   "execution_count": 369,
   "id": "f0bba389",
   "metadata": {
    "execution": {
     "iopub.execute_input": "2021-12-22T21:02:07.575431Z",
     "iopub.status.busy": "2021-12-22T21:02:07.574432Z",
     "iopub.status.idle": "2021-12-22T21:02:07.628414Z",
     "shell.execute_reply": "2021-12-22T21:02:07.627733Z",
     "shell.execute_reply.started": "2021-12-22T20:34:24.218142Z"
    },
    "papermill": {
     "duration": 9.375427,
     "end_time": "2021-12-22T21:02:07.628591",
     "exception": false,
     "start_time": "2021-12-22T21:01:58.253164",
     "status": "completed"
    },
    "tags": []
   },
   "outputs": [
    {
     "data": {
      "text/plain": [
       "count    5120.000000\n",
       "mean       -9.282535\n",
       "std        14.627513\n",
       "min      -200.542542\n",
       "25%       -13.079313\n",
       "50%        -5.770708\n",
       "75%        -1.014028\n",
       "max        15.422611\n",
       "dtype: float64"
      ]
     },
     "execution_count": 369,
     "metadata": {},
     "output_type": "execute_result"
    }
   ],
   "source": [
    "d_series = pd.Series(d.detach())\n",
    "d_series.describe()"
   ]
  },
  {
   "cell_type": "markdown",
   "id": "5c6deaaf",
   "metadata": {
    "execution": {
     "iopub.execute_input": "2021-12-22T13:24:36.048493Z",
     "iopub.status.busy": "2021-12-22T13:24:36.048204Z",
     "iopub.status.idle": "2021-12-22T13:24:36.091854Z",
     "shell.execute_reply": "2021-12-22T13:24:36.090771Z",
     "shell.execute_reply.started": "2021-12-22T13:24:36.048459Z"
    },
    "papermill": {
     "duration": 9.362769,
     "end_time": "2021-12-22T21:02:26.266038",
     "exception": false,
     "start_time": "2021-12-22T21:02:16.903269",
     "status": "completed"
    },
    "tags": []
   },
   "source": [
    "## Real data example"
   ]
  },
  {
   "cell_type": "code",
   "execution_count": 24,
   "id": "7eddf6c6",
   "metadata": {
    "execution": {
     "iopub.execute_input": "2021-12-22T21:02:44.775801Z",
     "iopub.status.busy": "2021-12-22T21:02:44.775045Z",
     "iopub.status.idle": "2021-12-22T21:02:44.827575Z",
     "shell.execute_reply": "2021-12-22T21:02:44.826968Z",
     "shell.execute_reply.started": "2021-12-22T20:34:24.277601Z"
    },
    "papermill": {
     "duration": 9.305221,
     "end_time": "2021-12-22T21:02:44.827724",
     "exception": false,
     "start_time": "2021-12-22T21:02:35.522503",
     "status": "completed"
    },
    "tags": []
   },
   "outputs": [],
   "source": [
    "initial_value = hist_v1.iloc[0]\n",
    "dt = DataFromFolder(\"../input/gjr-vol/v2_2/v2/\", price, call_payoff, {\"strike\": strike}, splits=h_params[\"N_SIM\"], S0=initial_value, sigma_0=SIGMA_V2, mu_const=MU_V2, take_log=True)"
   ]
  },
  {
   "cell_type": "code",
   "execution_count": 25,
   "id": "25cd95ed",
   "metadata": {
    "execution": {
     "iopub.execute_input": "2021-12-22T21:03:03.491828Z",
     "iopub.status.busy": "2021-12-22T21:03:03.491056Z",
     "iopub.status.idle": "2021-12-22T21:08:34.377989Z",
     "shell.execute_reply": "2021-12-22T21:08:34.378678Z",
     "shell.execute_reply.started": "2021-12-22T20:34:24.330544Z"
    },
    "papermill": {
     "duration": 340.312415,
     "end_time": "2021-12-22T21:08:34.378891",
     "exception": false,
     "start_time": "2021-12-22T21:02:54.066476",
     "status": "completed"
    },
    "tags": []
   },
   "outputs": [
    {
     "name": "stderr",
     "output_type": "stream",
     "text": [
      "Epoch 0: 100%|██████████| 334/334 [00:35<00:00,  9.48batch/s, loss=72.3, metric=15.5]\n"
     ]
    },
    {
     "name": "stdout",
     "output_type": "stream",
     "text": [
      "validation loss: 2831.59814453125\n"
     ]
    },
    {
     "name": "stderr",
     "output_type": "stream",
     "text": [
      "Epoch 1: 100%|██████████| 334/334 [00:33<00:00, 10.10batch/s, loss=66.4, metric=12.8]\n",
      "Epoch 2: 100%|██████████| 334/334 [00:32<00:00, 10.13batch/s, loss=61.8, metric=10.3]\n",
      "Epoch 3: 100%|██████████| 334/334 [00:32<00:00, 10.25batch/s, loss=59.7, metric=8.14]\n",
      "Epoch 4: 100%|██████████| 334/334 [00:32<00:00, 10.31batch/s, loss=57.6, metric=9.23]\n",
      "Epoch 5: 100%|██████████| 334/334 [00:31<00:00, 10.44batch/s, loss=56.6, metric=8.98]\n"
     ]
    },
    {
     "name": "stdout",
     "output_type": "stream",
     "text": [
      "validation loss: 943.96962890625\n"
     ]
    },
    {
     "name": "stderr",
     "output_type": "stream",
     "text": [
      "Epoch 6: 100%|██████████| 334/334 [00:32<00:00, 10.15batch/s, loss=55.8, metric=7.22]\n",
      "Epoch 7: 100%|██████████| 334/334 [00:32<00:00, 10.28batch/s, loss=54.4, metric=6.95]\n",
      "Epoch 8: 100%|██████████| 334/334 [00:33<00:00, 10.10batch/s, loss=53.4, metric=7.08]\n",
      "Epoch 9: 100%|██████████| 334/334 [00:31<00:00, 10.47batch/s, loss=52.7, metric=7.2]\n"
     ]
    }
   ],
   "source": [
    "n_steps = 30\n",
    "n_models = 1\n",
    "models, optimizers, schedulers = [], [], []\n",
    "n = 1000\n",
    "val_n = 20\n",
    "criterion = torch.nn.MSELoss()\n",
    "\n",
    "for _ in range(n_models):\n",
    "    model = ControlNet(n_steps, 1, [20, 20], 1, learn_price=False)\n",
    "    models.append(model)\n",
    "    optimizer = Adam(model.parameters(), lr=h_params[\"LR\"])\n",
    "    optimizers.append(optimizer)\n",
    "    schedulers.append(ExponentialLR(optimizer, gamma=h_params[\"GAMMA\"]))\n",
    "\n",
    "idx_list = np.array_split(np.arange(n) + 1, 3)\n",
    "val_idx_list = [np.arange(start=idx[-1]+1, stop=idx[-1]+1+val_n) for idx in idx_list]\n",
    "\n",
    "res_list = []\n",
    "for model, optimizer, scheduler, indices, val_indices in zip(models, optimizers, schedulers, idx_list, val_idx_list):\n",
    "    results = train_val(dt, model, criterion, optimizer, h_params[\"EPOCHS\"], indices, val_indices, scheduler, metric=median_loss, val_every=5)\n",
    "    res_list.append(results)\n",
    "    \n",
    "ens = EnsembleNet(models)"
   ]
  },
  {
   "cell_type": "code",
   "execution_count": 26,
   "id": "54093d50",
   "metadata": {
    "execution": {
     "iopub.execute_input": "2021-12-22T21:08:58.255955Z",
     "iopub.status.busy": "2021-12-22T21:08:58.254928Z",
     "iopub.status.idle": "2021-12-22T21:08:58.417062Z",
     "shell.execute_reply": "2021-12-22T21:08:58.416357Z",
     "shell.execute_reply.started": "2021-12-22T20:35:25.636283Z"
    },
    "papermill": {
     "duration": 12.14936,
     "end_time": "2021-12-22T21:08:58.417240",
     "exception": false,
     "start_time": "2021-12-22T21:08:46.267880",
     "status": "completed"
    },
    "tags": []
   },
   "outputs": [],
   "source": [
    "# Creating the validation paths\n",
    "\n",
    "n_steps = 30\n",
    "step = 5  # number of days by which to shift the window \n",
    "valid_paths, valid_prices, valid_strikes = [], [], []\n",
    "\n",
    "for i in np.arange(start=0, stop=len(hist_v2) - n_steps, step=step):\n",
    "    \n",
    "    valid_path = hist_v2[i:i+n_steps+1]\n",
    "    S0 = valid_path[0]\n",
    "    valid_price = bs_call_price(n_steps, S0, sigma=SIGMA_V2, rf=0, strike=S0)  # TODO: CORRECT SIGMA HERE    \n",
    "    \n",
    "    valid_paths.append(valid_path)\n",
    "    valid_strikes.append(S0)\n",
    "    valid_prices.append(valid_price)\n",
    "\n",
    "valid_paths = np.array(valid_paths)\n",
    "valid_paths = valid_paths.reshape(valid_paths.shape[0], valid_paths.shape[1], 1)\n",
    "valid_paths = torch.from_numpy(valid_paths).float()\n",
    "\n",
    "valid_prices = torch.Tensor(valid_prices)\n",
    "valid_strikes = torch.Tensor(valid_strikes)"
   ]
  },
  {
   "cell_type": "code",
   "execution_count": 27,
   "id": "852a8848",
   "metadata": {
    "execution": {
     "iopub.execute_input": "2021-12-22T21:09:22.383995Z",
     "iopub.status.busy": "2021-12-22T21:09:22.382956Z",
     "iopub.status.idle": "2021-12-22T21:09:22.433985Z",
     "shell.execute_reply": "2021-12-22T21:09:22.433358Z",
     "shell.execute_reply.started": "2021-12-22T20:35:25.827501Z"
    },
    "papermill": {
     "duration": 11.972467,
     "end_time": "2021-12-22T21:09:22.434153",
     "exception": false,
     "start_time": "2021-12-22T21:09:10.461686",
     "status": "completed"
    },
    "tags": []
   },
   "outputs": [],
   "source": [
    "if dt.take_log:\n",
    "    x = torch.log(valid_paths[:, :-1])\n",
    "    x_inc = valid_paths.squeeze().diff()\n",
    "    payoff = call_payoff(x.squeeze(), strike=valid_strikes)"
   ]
  },
  {
   "cell_type": "code",
   "execution_count": 28,
   "id": "0cd87067",
   "metadata": {
    "execution": {
     "iopub.execute_input": "2021-12-22T21:09:46.437224Z",
     "iopub.status.busy": "2021-12-22T21:09:46.436537Z",
     "iopub.status.idle": "2021-12-22T21:09:46.501653Z",
     "shell.execute_reply": "2021-12-22T21:09:46.501055Z",
     "shell.execute_reply.started": "2021-12-22T20:35:25.885077Z"
    },
    "papermill": {
     "duration": 12.109492,
     "end_time": "2021-12-22T21:09:46.501803",
     "exception": false,
     "start_time": "2021-12-22T21:09:34.392311",
     "status": "completed"
    },
    "tags": []
   },
   "outputs": [],
   "source": [
    "output = ens(x)\n",
    "si = stochastic_integral(x_inc, output)\n",
    "diff = (valid_prices.squeeze() + si).float() - payoff.float()\n",
    "d = diff"
   ]
  },
  {
   "cell_type": "code",
   "execution_count": 29,
   "id": "299ed2c6",
   "metadata": {
    "execution": {
     "iopub.execute_input": "2021-12-22T21:10:10.514767Z",
     "iopub.status.busy": "2021-12-22T21:10:10.513786Z",
     "iopub.status.idle": "2021-12-22T21:10:10.565287Z",
     "shell.execute_reply": "2021-12-22T21:10:10.564732Z",
     "shell.execute_reply.started": "2021-12-22T20:35:25.957139Z"
    },
    "papermill": {
     "duration": 12.220384,
     "end_time": "2021-12-22T21:10:10.565454",
     "exception": false,
     "start_time": "2021-12-22T21:09:58.345070",
     "status": "completed"
    },
    "tags": []
   },
   "outputs": [
    {
     "data": {
      "text/plain": [
       "torch.Size([238])"
      ]
     },
     "execution_count": 29,
     "metadata": {},
     "output_type": "execute_result"
    }
   ],
   "source": [
    "d.shape"
   ]
  },
  {
   "cell_type": "code",
   "execution_count": 30,
   "id": "bb371e42",
   "metadata": {
    "execution": {
     "iopub.execute_input": "2021-12-22T21:10:34.488136Z",
     "iopub.status.busy": "2021-12-22T21:10:34.485490Z",
     "iopub.status.idle": "2021-12-22T21:10:34.542231Z",
     "shell.execute_reply": "2021-12-22T21:10:34.542752Z",
     "shell.execute_reply.started": "2021-12-22T20:35:26.013729Z"
    },
    "papermill": {
     "duration": 12.021901,
     "end_time": "2021-12-22T21:10:34.542941",
     "exception": false,
     "start_time": "2021-12-22T21:10:22.521040",
     "status": "completed"
    },
    "tags": []
   },
   "outputs": [
    {
     "name": "stdout",
     "output_type": "stream",
     "text": [
      "Model:\n",
      "RMSE 68.84994506835938\n",
      "Using median 48.87608337402344\n"
     ]
    }
   ],
   "source": [
    "print('Model:')\n",
    "print(f\"RMSE {(d ** 2).mean() ** 0.5}\")\n",
    "print(f\"Using median {(d ** 2).median() ** 0.5}\")"
   ]
  },
  {
   "cell_type": "code",
   "execution_count": 31,
   "id": "0bbbd2d5",
   "metadata": {
    "execution": {
     "iopub.execute_input": "2021-12-22T21:10:58.410158Z",
     "iopub.status.busy": "2021-12-22T21:10:58.409163Z",
     "iopub.status.idle": "2021-12-22T21:10:58.857415Z",
     "shell.execute_reply": "2021-12-22T21:10:58.857979Z",
     "shell.execute_reply.started": "2021-12-22T20:35:26.070486Z"
    },
    "papermill": {
     "duration": 12.385238,
     "end_time": "2021-12-22T21:10:58.858178",
     "exception": false,
     "start_time": "2021-12-22T21:10:46.472940",
     "status": "completed"
    },
    "tags": []
   },
   "outputs": [
    {
     "data": {
      "image/png": "[encoded data removed]",
      "text/plain": [
       "<Figure size 432x288 with 1 Axes>"
      ]
     },
     "metadata": {
      "needs_background": "light"
     },
     "output_type": "display_data"
    }
   ],
   "source": [
    "plt.hist(d.detach().numpy(), range=(-250, 100), bins=50, label=['Model'])\n",
    "plt.legend();"
   ]
  },
  {
   "cell_type": "code",
   "execution_count": 32,
   "id": "596699b1",
   "metadata": {
    "execution": {
     "iopub.execute_input": "2021-12-22T21:11:22.810697Z",
     "iopub.status.busy": "2021-12-22T21:11:22.809987Z",
     "iopub.status.idle": "2021-12-22T21:11:22.864792Z",
     "shell.execute_reply": "2021-12-22T21:11:22.864164Z",
     "shell.execute_reply.started": "2021-12-22T20:35:26.547470Z"
    },
    "papermill": {
     "duration": 11.996473,
     "end_time": "2021-12-22T21:11:22.864933",
     "exception": false,
     "start_time": "2021-12-22T21:11:10.868460",
     "status": "completed"
    },
    "tags": []
   },
   "outputs": [
    {
     "data": {
      "text/plain": [
       "count    238.000000\n",
       "mean       8.370173\n",
       "std       68.483292\n",
       "min     -218.341400\n",
       "25%      -29.663028\n",
       "50%       21.870682\n",
       "75%       59.449477\n",
       "max      134.072174\n",
       "dtype: float64"
      ]
     },
     "execution_count": 32,
     "metadata": {},
     "output_type": "execute_result"
    }
   ],
   "source": [
    "d_series = pd.Series(d.detach())\n",
    "d_series.describe()"
   ]
  },
  {
   "cell_type": "code",
   "execution_count": null,
   "id": "854e5d80",
   "metadata": {
    "papermill": {
     "duration": 12.08977,
     "end_time": "2021-12-22T21:11:46.867154",
     "exception": false,
     "start_time": "2021-12-22T21:11:34.777384",
     "status": "completed"
    },
    "tags": []
   },
   "outputs": [],
   "source": []
  },
  {
   "cell_type": "code",
   "execution_count": 33,
   "id": "1f814f22",
   "metadata": {
    "execution": {
     "iopub.execute_input": "2021-12-22T21:12:10.790202Z",
     "iopub.status.busy": "2021-12-22T21:12:10.789456Z",
     "iopub.status.idle": "2021-12-22T21:12:10.840198Z",
     "shell.execute_reply": "2021-12-22T21:12:10.839642Z",
     "shell.execute_reply.started": "2021-12-22T20:35:26.608005Z"
    },
    "papermill": {
     "duration": 11.975849,
     "end_time": "2021-12-22T21:12:10.840354",
     "exception": false,
     "start_time": "2021-12-22T21:11:58.864505",
     "status": "completed"
    },
    "tags": []
   },
   "outputs": [],
   "source": [
    "# Sigma not correct yet that is used to caldulate the BS price\n",
    "# Would also need that to implement delte hedging"
   ]
  }
 ],
 "metadata": {
  "kernelspec": {
   "display_name": "Python 3 (ipykernel)",
   "language": "python",
   "name": "python3"
  },
  "language_info": {
   "codemirror_mode": {
    "name": "ipython",
    "version": 3
   },
   "file_extension": ".py",
   "mimetype": "text/x-python",
   "name": "python",
   "nbconvert_exporter": "python",
   "pygments_lexer": "ipython3",
   "version": "3.8.12"
  },
  "papermill": {
   "default_parameters": {},
   "duration": 2141.549211,
   "end_time": "2021-12-22T21:12:25.354424",
   "environment_variables": {},
   "exception": null,
   "input_path": "__notebook__.ipynb",
   "output_path": "__notebook__.ipynb",
   "parameters": {},
   "start_time": "2021-12-22T20:36:43.805213",
   "version": "2.3.3"
  }
 },
 "nbformat": 4,
 "nbformat_minor": 5
}
