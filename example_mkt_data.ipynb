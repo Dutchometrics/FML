{
 "cells": [
  {
   "cell_type": "code",
   "execution_count": 11,
   "metadata": {},
   "outputs": [
    {
     "name": "stdout",
     "output_type": "stream",
     "text": [
      "The autoreload extension is already loaded. To reload it, use:\n",
      "  %reload_ext autoreload\n"
     ]
    }
   ],
   "source": [
    "\n",
    "%load_ext autoreload\n",
    "%autoreload 2\n",
    "\n",
    "import os\n",
    "from datetime import datetime\n",
    "import glob\n",
    "import pandas as pd\n",
    "import matplotlib.pyplot as plt\n",
    "import torch\n",
    "from torch.utils.data import DataLoader\n",
    "from torch.optim import Adam\n",
    "from torch.optim.lr_scheduler import ExponentialLR\n",
    "from torch.utils.tensorboard import SummaryWriter\n",
    "\n",
    "from market_dynamics import bs_delta, bs_generator, bs_call_price\n",
    "from get_data import get_option_data\n",
    "from data import SimulationData\n",
    "from utils import call_payoff, stochastic_integral\n",
    "from models import ControlNet\n",
    "from train import train, test\n",
    "from evaluation import get_eval_data\n",
    "\n",
    "import seaborn as sns"
   ]
  },
  {
   "cell_type": "code",
   "execution_count": 2,
   "metadata": {},
   "outputs": [],
   "source": [
    "current_time = datetime.now().strftime('%b%d_%H-%M-%S')\n",
    "comment = \"\"\n",
    "log_dir = os.path.join('experiments', current_time + '_' + comment)\n",
    "writer = SummaryWriter(log_dir)"
   ]
  },
  {
   "cell_type": "code",
   "execution_count": 3,
   "metadata": {},
   "outputs": [],
   "source": [
    "option_dfs = {}\n",
    "for file_name in glob.glob(\"data/\"+'*.csv'):\n",
    "    option_id = file_name[5:-4]\n",
    "    option_dfs[option_id]  = pd.read_csv(file_name, index_col=0)"
   ]
  },
  {
   "cell_type": "code",
   "execution_count": 4,
   "metadata": {},
   "outputs": [
    {
     "data": {
      "text/html": [
       "<div>\n",
       "<style scoped>\n",
       "    .dataframe tbody tr th:only-of-type {\n",
       "        vertical-align: middle;\n",
       "    }\n",
       "\n",
       "    .dataframe tbody tr th {\n",
       "        vertical-align: top;\n",
       "    }\n",
       "\n",
       "    .dataframe thead th {\n",
       "        text-align: right;\n",
       "    }\n",
       "</style>\n",
       "<table border=\"1\" class=\"dataframe\">\n",
       "  <thead>\n",
       "    <tr style=\"text-align: right;\">\n",
       "      <th></th>\n",
       "      <th>secid</th>\n",
       "      <th>date</th>\n",
       "      <th>exdate</th>\n",
       "      <th>last_date</th>\n",
       "      <th>cp_flag</th>\n",
       "      <th>strike_price</th>\n",
       "      <th>best_bid</th>\n",
       "      <th>best_offer</th>\n",
       "      <th>volume</th>\n",
       "      <th>impl_volatility</th>\n",
       "      <th>optionid</th>\n",
       "      <th>forward_price</th>\n",
       "      <th>index_flag</th>\n",
       "      <th>issuer</th>\n",
       "      <th>exercise_style</th>\n",
       "      <th>S</th>\n",
       "    </tr>\n",
       "  </thead>\n",
       "  <tbody>\n",
       "    <tr>\n",
       "      <th>1580744</th>\n",
       "      <td>112878</td>\n",
       "      <td>2014-01-23</td>\n",
       "      <td>20140517</td>\n",
       "      <td>20140123.0</td>\n",
       "      <td>C</td>\n",
       "      <td>820000</td>\n",
       "      <td>13.8</td>\n",
       "      <td>16.3</td>\n",
       "      <td>1</td>\n",
       "      <td>0.116460</td>\n",
       "      <td>102586106</td>\n",
       "      <td>NaN</td>\n",
       "      <td>1</td>\n",
       "      <td>CBOE S&amp;P 100 INDEX</td>\n",
       "      <td>E</td>\n",
       "      <td>818.460022</td>\n",
       "    </tr>\n",
       "    <tr>\n",
       "      <th>1582036</th>\n",
       "      <td>112878</td>\n",
       "      <td>2014-01-24</td>\n",
       "      <td>20140517</td>\n",
       "      <td>20140123.0</td>\n",
       "      <td>C</td>\n",
       "      <td>820000</td>\n",
       "      <td>10.7</td>\n",
       "      <td>12.3</td>\n",
       "      <td>0</td>\n",
       "      <td>0.130208</td>\n",
       "      <td>102586106</td>\n",
       "      <td>NaN</td>\n",
       "      <td>1</td>\n",
       "      <td>CBOE S&amp;P 100 INDEX</td>\n",
       "      <td>E</td>\n",
       "      <td>812.130005</td>\n",
       "    </tr>\n",
       "    <tr>\n",
       "      <th>1583242</th>\n",
       "      <td>112878</td>\n",
       "      <td>2014-01-27</td>\n",
       "      <td>20140517</td>\n",
       "      <td>20140127.0</td>\n",
       "      <td>C</td>\n",
       "      <td>820000</td>\n",
       "      <td>8.6</td>\n",
       "      <td>10.8</td>\n",
       "      <td>1</td>\n",
       "      <td>0.127482</td>\n",
       "      <td>102586106</td>\n",
       "      <td>NaN</td>\n",
       "      <td>1</td>\n",
       "      <td>CBOE S&amp;P 100 INDEX</td>\n",
       "      <td>E</td>\n",
       "      <td>796.280029</td>\n",
       "    </tr>\n",
       "    <tr>\n",
       "      <th>1584448</th>\n",
       "      <td>112878</td>\n",
       "      <td>2014-01-28</td>\n",
       "      <td>20140517</td>\n",
       "      <td>20140127.0</td>\n",
       "      <td>C</td>\n",
       "      <td>820000</td>\n",
       "      <td>8.3</td>\n",
       "      <td>10.4</td>\n",
       "      <td>0</td>\n",
       "      <td>0.119698</td>\n",
       "      <td>102586106</td>\n",
       "      <td>NaN</td>\n",
       "      <td>1</td>\n",
       "      <td>CBOE S&amp;P 100 INDEX</td>\n",
       "      <td>E</td>\n",
       "      <td>792.510010</td>\n",
       "    </tr>\n",
       "    <tr>\n",
       "      <th>1585654</th>\n",
       "      <td>112878</td>\n",
       "      <td>2014-01-29</td>\n",
       "      <td>20140517</td>\n",
       "      <td>20140127.0</td>\n",
       "      <td>C</td>\n",
       "      <td>820000</td>\n",
       "      <td>6.4</td>\n",
       "      <td>8.4</td>\n",
       "      <td>0</td>\n",
       "      <td>0.122803</td>\n",
       "      <td>102586106</td>\n",
       "      <td>NaN</td>\n",
       "      <td>1</td>\n",
       "      <td>CBOE S&amp;P 100 INDEX</td>\n",
       "      <td>E</td>\n",
       "      <td>795.500000</td>\n",
       "    </tr>\n",
       "  </tbody>\n",
       "</table>\n",
       "</div>"
      ],
      "text/plain": [
       "          secid        date    exdate   last_date cp_flag  strike_price  \\\n",
       "1580744  112878  2014-01-23  20140517  20140123.0       C        820000   \n",
       "1582036  112878  2014-01-24  20140517  20140123.0       C        820000   \n",
       "1583242  112878  2014-01-27  20140517  20140127.0       C        820000   \n",
       "1584448  112878  2014-01-28  20140517  20140127.0       C        820000   \n",
       "1585654  112878  2014-01-29  20140517  20140127.0       C        820000   \n",
       "\n",
       "         best_bid  best_offer  volume  impl_volatility   optionid  \\\n",
       "1580744      13.8        16.3       1         0.116460  102586106   \n",
       "1582036      10.7        12.3       0         0.130208  102586106   \n",
       "1583242       8.6        10.8       1         0.127482  102586106   \n",
       "1584448       8.3        10.4       0         0.119698  102586106   \n",
       "1585654       6.4         8.4       0         0.122803  102586106   \n",
       "\n",
       "         forward_price  index_flag              issuer exercise_style  \\\n",
       "1580744            NaN           1  CBOE S&P 100 INDEX              E   \n",
       "1582036            NaN           1  CBOE S&P 100 INDEX              E   \n",
       "1583242            NaN           1  CBOE S&P 100 INDEX              E   \n",
       "1584448            NaN           1  CBOE S&P 100 INDEX              E   \n",
       "1585654            NaN           1  CBOE S&P 100 INDEX              E   \n",
       "\n",
       "                  S  \n",
       "1580744  818.460022  \n",
       "1582036  812.130005  \n",
       "1583242  796.280029  \n",
       "1584448  792.510010  \n",
       "1585654  795.500000  "
      ]
     },
     "execution_count": 4,
     "metadata": {},
     "output_type": "execute_result"
    }
   ],
   "source": [
    "option_df = option_dfs[option_id]\n",
    "option_df.head()"
   ]
  },
  {
   "cell_type": "code",
   "execution_count": 5,
   "metadata": {},
   "outputs": [
    {
     "data": {
      "text/plain": [
       "<matplotlib.lines.Line2D at 0x7fc3fbf50a90>"
      ]
     },
     "execution_count": 5,
     "metadata": {},
     "output_type": "execute_result"
    },
    {
     "data": {
      "image/png": "[encoded data removed]",
      "text/plain": [
       "<Figure size 432x288 with 1 Axes>"
      ]
     },
     "metadata": {
      "needs_background": "light"
     },
     "output_type": "display_data"
    }
   ],
   "source": [
    "option_df.S.plot()\n",
    "plt.axhline(y=option_df[\"strike_price\"].iloc[0] / 1000, color='r', linestyle='-')"
   ]
  },
  {
   "cell_type": "code",
   "execution_count": 6,
   "metadata": {},
   "outputs": [],
   "source": [
    "# Get params dependent on data\n",
    "strike, sigma, n_steps, initial_value, x, x_inc, payoff, price = get_eval_data(option_df)"
   ]
  },
  {
   "cell_type": "code",
   "execution_count": 10,
   "metadata": {},
   "outputs": [],
   "source": [
    "# Remaining params to determine\n",
    "n_simulations = 10_000\n",
    "rf = 0\n",
    "fc_dims = [32, 32, 32]\n",
    "LR = 0.005\n",
    "EPOCHS = 10\n",
    "BATCH_SIZE = 1000"
   ]
  },
  {
   "cell_type": "code",
   "execution_count": 8,
   "metadata": {},
   "outputs": [
    {
     "data": {
      "text/plain": [
       "(15.05, 20.54619183494765)"
      ]
     },
     "execution_count": 8,
     "metadata": {},
     "output_type": "execute_result"
    }
   ],
   "source": [
    "# Using implied volatility should give back market price \n",
    "price, bs_call_price(n_steps, initial_value, sigma, rf, strike)"
   ]
  },
  {
   "cell_type": "code",
   "execution_count": 12,
   "metadata": {},
   "outputs": [
    {
     "name": "stderr",
     "output_type": "stream",
     "text": [
      "Epoch 0: : 0batch [00:02, ?batch/s]/root/projects/uni/fml/FML/venv/lib/python3.8/site-packages/torch/nn/modules/loss.py:528: UserWarning: Using a target size (torch.Size([1000])) that is different to the input size (torch.Size([1000, 1000])). This will likely lead to incorrect results due to broadcasting. Please ensure they have the same size.\n",
      "  return F.mse_loss(input, target, reduction=self.reduction)\n",
      "Epoch 0: : 10batch [00:17,  1.71s/batch, loss=613]\n",
      "Epoch 1: : 10batch [00:13,  1.36s/batch, loss=418]\n",
      "Epoch 2: : 10batch [00:13,  1.35s/batch, loss=216]\n",
      "Epoch 3: : 10batch [00:11,  1.16s/batch, loss=33.4]\n",
      "Epoch 4: : 10batch [00:09,  1.11batch/s, loss=36.9]\n",
      "Epoch 5: : 10batch [00:09,  1.06batch/s, loss=9.49]\n",
      "Epoch 6: : 10batch [00:14,  1.42s/batch, loss=10.7]\n",
      "Epoch 7: : 10batch [00:09,  1.09batch/s, loss=7.85]\n",
      "Epoch 8: : 10batch [00:09,  1.09batch/s, loss=7.02]\n",
      "Epoch 9: : 10batch [00:08,  1.14batch/s, loss=6.2]\n",
      "Epoch 0: : 10batch [00:09,  1.08batch/s, loss=7.5]\n",
      "Epoch 1: : 10batch [00:09,  1.08batch/s, loss=5.92]\n",
      "Epoch 2: : 10batch [00:08,  1.11batch/s, loss=5.38]\n",
      "Epoch 3: : 10batch [00:08,  1.13batch/s, loss=5.3]\n",
      "Epoch 4: : 10batch [00:08,  1.13batch/s, loss=4.78]\n",
      "Epoch 5: : 10batch [00:08,  1.15batch/s, loss=5.9]\n",
      "Epoch 6: : 10batch [00:09,  1.10batch/s, loss=5.01]\n",
      "Epoch 7: : 10batch [00:08,  1.14batch/s, loss=4.95]\n",
      "Epoch 8: : 10batch [00:09,  1.08batch/s, loss=4.6]\n",
      "Epoch 9: : 10batch [00:11,  1.12s/batch, loss=5.56]\n",
      "Epoch 0: : 10batch [00:09,  1.04batch/s, loss=6.53]\n",
      "Epoch 1: : 10batch [00:09,  1.08batch/s, loss=5.1]\n",
      "Epoch 2: : 10batch [00:08,  1.15batch/s, loss=5.05]\n",
      "Epoch 3: : 10batch [00:09,  1.06batch/s, loss=4.99]\n",
      "Epoch 4: : 10batch [00:09,  1.08batch/s, loss=4.7]\n",
      "Epoch 5: : 10batch [00:09,  1.08batch/s, loss=4.55]\n",
      "Epoch 6: : 10batch [00:09,  1.04batch/s, loss=4.65]\n",
      "Epoch 7: : 10batch [00:09,  1.06batch/s, loss=4.67]\n",
      "Epoch 8: : 10batch [00:09,  1.10batch/s, loss=4.47]\n",
      "Epoch 9: : 10batch [00:09,  1.04batch/s, loss=4.27]\n"
     ]
    }
   ],
   "source": [
    "bs_params = {\"n_simulations\": n_simulations,\n",
    "             \"n_steps\": n_steps,\n",
    "             \"initial_value\": initial_value,\n",
    "             \"sigma\": sigma,\n",
    "             }\n",
    "\n",
    "price_params = {\"n_steps\": n_steps,\n",
    "                \"initial_value\": initial_value,\n",
    "                \"sigma\": sigma,\n",
    "                \"rf\": rf,\n",
    "                \"strike\": strike,\n",
    "                }\n",
    "\n",
    "payoff_params = {\"strike\": strike}\n",
    "\n",
    "cn = ControlNet(n_steps, 1, fc_dims, 1, learn_price=True)\n",
    "optimizer = Adam(cn.parameters(), lr=LR)\n",
    "scheduler = ExponentialLR(optimizer, gamma=0.95)\n",
    "criterion = torch.nn.MSELoss()\n",
    "\n",
    "for i in range(3):\n",
    "    \n",
    "    dt = SimulationData(bs_generator, bs_params, lambda x: x, {\"x\": price}, call_payoff, payoff_params)\n",
    "    data_loader_train = DataLoader(dt, batch_size=BATCH_SIZE, shuffle=True)\n",
    "    train(data_loader_train, cn, criterion , optimizer, EPOCHS, writer, scheduler)"
   ]
  },
  {
   "cell_type": "code",
   "execution_count": 13,
   "metadata": {},
   "outputs": [
    {
     "data": {
      "text/plain": [
       "<matplotlib.legend.Legend at 0x7fc375202df0>"
      ]
     },
     "execution_count": 13,
     "metadata": {},
     "output_type": "execute_result"
    },
    {
     "data": {
      "image/png": "[encoded data removed]",
      "text/plain": [
       "<Figure size 432x288 with 1 Axes>"
      ]
     },
     "metadata": {
      "needs_background": "light"
     },
     "output_type": "display_data"
    }
   ],
   "source": [
    "# Visualize an example training path and the true path\n",
    "\n",
    "a, b, c, d, = next(iter(data_loader_train))\n",
    "plt.plot(a[0], label=\"Training path\")\n",
    "plt.plot(x.squeeze(), label=\"True path\")\n",
    "plt.legend()"
   ]
  },
  {
   "cell_type": "code",
   "execution_count": 15,
   "metadata": {},
   "outputs": [
    {
     "data": {
      "text/plain": [
       "torch.Size([1, 79, 1])"
      ]
     },
     "execution_count": 15,
     "metadata": {},
     "output_type": "execute_result"
    }
   ],
   "source": [
    "x.shape"
   ]
  },
  {
   "cell_type": "code",
   "execution_count": 27,
   "metadata": {},
   "outputs": [
    {
     "name": "stdout",
     "output_type": "stream",
     "text": [
      "price=15.05\n",
      "learned_price=tensor([[20.1246]], grad_fn=<AddmmBackward>)\n",
      "ml_mkt_price=tensor(20.0895, grad_fn=<PowBackward0>)\n",
      "ml_learned_price=tensor([[0.3511]], grad_fn=<PowBackward0>)\n",
      "dl_mkt_price=tensor(1.7756)\n",
      "dl_learned_price=tensor([[41.0515]], grad_fn=<PowBackward0>)\n"
     ]
    }
   ],
   "source": [
    "print(f\"{price=}\")\n",
    "\n",
    "# Model\n",
    "cn.eval_mode()\n",
    "\n",
    "hedge, learned_price = cn(x)\n",
    "si = stochastic_integral(torch.Tensor(x_inc), hedge)\n",
    "\n",
    "print(f\"{learned_price=}\")  # this is roughly BS price using the imp. vola\n",
    "\n",
    "ml_mkt_price = (price + si - payoff) ** 2\n",
    "ml_learned_price = (learned_price + si - payoff) ** 2\n",
    "print(f\"{ml_mkt_price=}\")\n",
    "print(f\"{ml_learned_price=}\")\n",
    "\n",
    "# Delta hedge benchmark\n",
    "def delta(x):\n",
    "    return bs_delta(n_steps, x, sigma, rf, strike)\n",
    "\n",
    "d_hedge = torch.Tensor([delta(i) for i in x.squeeze()])\n",
    "si = stochastic_integral(x_inc, d_hedge)\n",
    "dl_mkt_price = (price + si - payoff) ** 2\n",
    "dl_learned_price = (learned_price + si - payoff) ** 2\n",
    " \n",
    "print(f\"{dl_mkt_price=}\")\n",
    "print(f\"{dl_learned_price=}\")"
   ]
  }
 ],
 "metadata": {
  "interpreter": {
   "hash": "9f5e567d87b18601037d8bd90b6477353143d668259048eee49a116983c03570"
  },
  "kernelspec": {
   "display_name": "Python 3.8.10 64-bit ('venv': venv)",
   "language": "python",
   "name": "python3"
  },
  "language_info": {
   "codemirror_mode": {
    "name": "ipython",
    "version": 3
   },
   "file_extension": ".py",
   "mimetype": "text/x-python",
   "name": "python",
   "nbconvert_exporter": "python",
   "pygments_lexer": "ipython3",
   "version": "3.8.10"
  },
  "orig_nbformat": 4
 },
 "nbformat": 4,
 "nbformat_minor": 2
}
