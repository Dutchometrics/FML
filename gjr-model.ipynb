{
 "cells": [
  {
   "cell_type": "code",
   "execution_count": 1,
   "id": "87d4b760",
   "metadata": {
    "execution": {
     "iopub.execute_input": "2021-12-29T16:27:04.738809Z",
     "iopub.status.busy": "2021-12-29T16:27:04.737181Z",
     "iopub.status.idle": "2021-12-29T16:27:07.897620Z",
     "shell.execute_reply": "2021-12-29T16:27:07.896952Z",
     "shell.execute_reply.started": "2021-12-29T16:24:58.384411Z"
    },
    "papermill": {
     "duration": 3.184499,
     "end_time": "2021-12-29T16:27:07.897791",
     "exception": false,
     "start_time": "2021-12-29T16:27:04.713292",
     "status": "completed"
    },
    "tags": []
   },
   "outputs": [
    {
     "name": "stdout",
     "output_type": "stream",
     "text": [
      "rm: cannot remove '/kaggle/working/': Device or resource busy\r\n",
      "Cloning into 'FML'...\r\n",
      "remote: Enumerating objects: 474, done.\u001b[K\r\n",
      "remote: Counting objects: 100% (474/474), done.\u001b[K\r\n",
      "remote: Compressing objects: 100% (330/330), done.\u001b[K\r\n",
      "remote: Total 474 (delta 221), reused 368 (delta 133), pack-reused 0\u001b[K\r\n",
      "Receiving objects: 100% (474/474), 1.22 MiB | 3.42 MiB/s, done.\r\n",
      "Resolving deltas: 100% (221/221), done.\r\n"
     ]
    }
   ],
   "source": [
    "!rm -rf /kaggle/working/\n",
    "!git clone https://github.com/svenspa/FML.git"
   ]
  },
  {
   "cell_type": "code",
   "execution_count": 2,
   "id": "1a36e490",
   "metadata": {
    "execution": {
     "iopub.execute_input": "2021-12-29T16:27:07.947948Z",
     "iopub.status.busy": "2021-12-29T16:27:07.946995Z",
     "iopub.status.idle": "2021-12-29T16:27:07.950678Z",
     "shell.execute_reply": "2021-12-29T16:27:07.951295Z",
     "shell.execute_reply.started": "2021-12-29T16:24:58.386207Z"
    },
    "papermill": {
     "duration": 0.030723,
     "end_time": "2021-12-29T16:27:07.951473",
     "exception": false,
     "start_time": "2021-12-29T16:27:07.920750",
     "status": "completed"
    },
    "tags": []
   },
   "outputs": [],
   "source": [
    "import os\n",
    "origin_path = \"/kaggle/working\"\n",
    "fml_path = \"/kaggle/working/FML\""
   ]
  },
  {
   "cell_type": "code",
   "execution_count": 3,
   "id": "c198f914",
   "metadata": {
    "execution": {
     "iopub.execute_input": "2021-12-29T16:27:07.999473Z",
     "iopub.status.busy": "2021-12-29T16:27:07.998558Z",
     "iopub.status.idle": "2021-12-29T16:27:43.868160Z",
     "shell.execute_reply": "2021-12-29T16:27:43.867555Z",
     "shell.execute_reply.started": "2021-12-29T16:24:58.400902Z"
    },
    "papermill": {
     "duration": 35.894942,
     "end_time": "2021-12-29T16:27:43.868301",
     "exception": false,
     "start_time": "2021-12-29T16:27:07.973359",
     "status": "completed"
    },
    "tags": []
   },
   "outputs": [
    {
     "name": "stdout",
     "output_type": "stream",
     "text": [
      "Collecting arch\r\n",
      "  Downloading arch-5.1.0-cp37-cp37m-manylinux_2_17_x86_64.manylinux2014_x86_64.whl (902 kB)\r\n",
      "     |████████████████████████████████| 902 kB 545 kB/s            \r\n",
      "\u001b[?25hRequirement already satisfied: statsmodels>=0.11 in /opt/conda/lib/python3.7/site-packages (from arch) (0.12.2)\r\n",
      "Requirement already satisfied: pandas>=1.0 in /opt/conda/lib/python3.7/site-packages (from arch) (1.3.4)\r\n",
      "Requirement already satisfied: scipy>=1.3 in /opt/conda/lib/python3.7/site-packages (from arch) (1.7.2)\r\n",
      "Collecting property-cached>=1.6.4\r\n",
      "  Downloading property_cached-1.6.4-py2.py3-none-any.whl (7.8 kB)\r\n",
      "Requirement already satisfied: numpy>=1.17 in /opt/conda/lib/python3.7/site-packages (from arch) (1.19.5)\r\n",
      "Requirement already satisfied: python-dateutil>=2.7.3 in /opt/conda/lib/python3.7/site-packages (from pandas>=1.0->arch) (2.8.0)\r\n",
      "Requirement already satisfied: pytz>=2017.3 in /opt/conda/lib/python3.7/site-packages (from pandas>=1.0->arch) (2021.3)\r\n",
      "Requirement already satisfied: patsy>=0.5 in /opt/conda/lib/python3.7/site-packages (from statsmodels>=0.11->arch) (0.5.2)\r\n",
      "Requirement already satisfied: six in /opt/conda/lib/python3.7/site-packages (from patsy>=0.5->statsmodels>=0.11->arch) (1.16.0)\r\n",
      "Installing collected packages: property-cached, arch\r\n",
      "Successfully installed arch-5.1.0 property-cached-1.6.4\r\n",
      "\u001b[33mWARNING: Running pip as the 'root' user can result in broken permissions and conflicting behaviour with the system package manager. It is recommended to use a virtual environment instead: https://pip.pypa.io/warnings/venv\u001b[0m\r\n",
      "Collecting yfinance\r\n",
      "  Downloading yfinance-0.1.67-py2.py3-none-any.whl (25 kB)\r\n",
      "Requirement already satisfied: lxml>=4.5.1 in /opt/conda/lib/python3.7/site-packages (from yfinance) (4.6.4)\r\n",
      "Requirement already satisfied: pandas>=0.24 in /opt/conda/lib/python3.7/site-packages (from yfinance) (1.3.4)\r\n",
      "Requirement already satisfied: numpy>=1.15 in /opt/conda/lib/python3.7/site-packages (from yfinance) (1.19.5)\r\n",
      "Requirement already satisfied: requests>=2.20 in /opt/conda/lib/python3.7/site-packages (from yfinance) (2.25.1)\r\n",
      "Collecting multitasking>=0.0.7\r\n",
      "  Downloading multitasking-0.0.10.tar.gz (8.2 kB)\r\n",
      "  Preparing metadata (setup.py) ... \u001b[?25l-\b \bdone\r\n",
      "\u001b[?25hRequirement already satisfied: python-dateutil>=2.7.3 in /opt/conda/lib/python3.7/site-packages (from pandas>=0.24->yfinance) (2.8.0)\r\n",
      "Requirement already satisfied: pytz>=2017.3 in /opt/conda/lib/python3.7/site-packages (from pandas>=0.24->yfinance) (2021.3)\r\n",
      "Requirement already satisfied: idna<3,>=2.5 in /opt/conda/lib/python3.7/site-packages (from requests>=2.20->yfinance) (2.10)\r\n",
      "Requirement already satisfied: chardet<5,>=3.0.2 in /opt/conda/lib/python3.7/site-packages (from requests>=2.20->yfinance) (4.0.0)\r\n",
      "Requirement already satisfied: certifi>=2017.4.17 in /opt/conda/lib/python3.7/site-packages (from requests>=2.20->yfinance) (2021.10.8)\r\n",
      "Requirement already satisfied: urllib3<1.27,>=1.21.1 in /opt/conda/lib/python3.7/site-packages (from requests>=2.20->yfinance) (1.26.7)\r\n",
      "Requirement already satisfied: six>=1.5 in /opt/conda/lib/python3.7/site-packages (from python-dateutil>=2.7.3->pandas>=0.24->yfinance) (1.16.0)\r\n",
      "Building wheels for collected packages: multitasking\r\n",
      "  Building wheel for multitasking (setup.py) ... \u001b[?25l-\b \b\\\b \bdone\r\n",
      "\u001b[?25h  Created wheel for multitasking: filename=multitasking-0.0.10-py3-none-any.whl size=8500 sha256=7fa8a2d30405c08876d54b009cc001f8ae4482a6be285d000b8ab3188148b717\r\n",
      "  Stored in directory: /root/.cache/pip/wheels/34/ba/79/c0260c6f1a03f420ec7673eff9981778f293b9107974679e36\r\n",
      "Successfully built multitasking\r\n",
      "Installing collected packages: multitasking, yfinance\r\n",
      "Successfully installed multitasking-0.0.10 yfinance-0.1.67\r\n",
      "\u001b[33mWARNING: Running pip as the 'root' user can result in broken permissions and conflicting behaviour with the system package manager. It is recommended to use a virtual environment instead: https://pip.pypa.io/warnings/venv\u001b[0m\r\n",
      "Collecting fastparquet\r\n",
      "  Downloading fastparquet-0.7.2-cp37-cp37m-manylinux2010_x86_64.whl (1.2 MB)\r\n",
      "     |████████████████████████████████| 1.2 MB 533 kB/s            \r\n",
      "\u001b[?25hCollecting thrift>=0.11.0\r\n",
      "  Downloading thrift-0.15.0.tar.gz (59 kB)\r\n",
      "     |████████████████████████████████| 59 kB 4.9 MB/s             \r\n",
      "\u001b[?25h  Preparing metadata (setup.py) ... \u001b[?25l-\b \bdone\r\n",
      "\u001b[?25hRequirement already satisfied: numpy>=1.18 in /opt/conda/lib/python3.7/site-packages (from fastparquet) (1.19.5)\r\n",
      "Requirement already satisfied: fsspec in /opt/conda/lib/python3.7/site-packages (from fastparquet) (2021.11.1)\r\n",
      "Collecting cramjam>=2.3.0\r\n",
      "  Downloading cramjam-2.5.0-cp37-cp37m-manylinux_2_5_x86_64.manylinux1_x86_64.whl (1.6 MB)\r\n",
      "     |████████████████████████████████| 1.6 MB 45.5 MB/s            \r\n",
      "\u001b[?25hRequirement already satisfied: pandas>=1.1.0 in /opt/conda/lib/python3.7/site-packages (from fastparquet) (1.3.4)\r\n",
      "Requirement already satisfied: python-dateutil>=2.7.3 in /opt/conda/lib/python3.7/site-packages (from pandas>=1.1.0->fastparquet) (2.8.0)\r\n",
      "Requirement already satisfied: pytz>=2017.3 in /opt/conda/lib/python3.7/site-packages (from pandas>=1.1.0->fastparquet) (2021.3)\r\n",
      "Requirement already satisfied: six>=1.7.2 in /opt/conda/lib/python3.7/site-packages (from thrift>=0.11.0->fastparquet) (1.16.0)\r\n",
      "Building wheels for collected packages: thrift\r\n",
      "  Building wheel for thrift (setup.py) ... \u001b[?25l-\b \b\\\b \b|\b \b/\b \b-\b \b\\\b \b|\b \b/\b \b-\b \bdone\r\n",
      "\u001b[?25h  Created wheel for thrift: filename=thrift-0.15.0-cp37-cp37m-linux_x86_64.whl size=413785 sha256=ef978895f84a9e2c979ffa50f8562fb14606e2557632a37977987e6bc65f17f9\r\n",
      "  Stored in directory: /root/.cache/pip/wheels/ba/1f/8e/e6fd36837eecf3d1f2b23f1729477e8e06558d8d60b7093f51\r\n",
      "Successfully built thrift\r\n",
      "Installing collected packages: thrift, cramjam, fastparquet\r\n",
      "Successfully installed cramjam-2.5.0 fastparquet-0.7.2 thrift-0.15.0\r\n",
      "\u001b[33mWARNING: Running pip as the 'root' user can result in broken permissions and conflicting behaviour with the system package manager. It is recommended to use a virtual environment instead: https://pip.pypa.io/warnings/venv\u001b[0m\r\n"
     ]
    }
   ],
   "source": [
    "!pip install arch\n",
    "!pip install yfinance\n",
    "!pip install fastparquet"
   ]
  },
  {
   "cell_type": "code",
   "execution_count": 4,
   "id": "02215b46",
   "metadata": {
    "execution": {
     "iopub.execute_input": "2021-12-29T16:27:43.949195Z",
     "iopub.status.busy": "2021-12-29T16:27:43.948266Z",
     "iopub.status.idle": "2021-12-29T16:27:43.950920Z",
     "shell.execute_reply": "2021-12-29T16:27:43.950421Z",
     "shell.execute_reply.started": "2021-12-29T16:25:38.285067Z"
    },
    "papermill": {
     "duration": 0.044653,
     "end_time": "2021-12-29T16:27:43.951060",
     "exception": false,
     "start_time": "2021-12-29T16:27:43.906407",
     "status": "completed"
    },
    "tags": []
   },
   "outputs": [],
   "source": [
    "os.chdir(fml_path)"
   ]
  },
  {
   "cell_type": "code",
   "execution_count": 5,
   "id": "f52ab951",
   "metadata": {
    "execution": {
     "iopub.execute_input": "2021-12-29T16:27:44.036276Z",
     "iopub.status.busy": "2021-12-29T16:27:44.035614Z",
     "iopub.status.idle": "2021-12-29T16:27:47.563198Z",
     "shell.execute_reply": "2021-12-29T16:27:47.563698Z",
     "shell.execute_reply.started": "2021-12-29T16:25:38.312244Z"
    },
    "papermill": {
     "duration": 3.574211,
     "end_time": "2021-12-29T16:27:47.563877",
     "exception": false,
     "start_time": "2021-12-29T16:27:43.989666",
     "status": "completed"
    },
    "tags": []
   },
   "outputs": [],
   "source": [
    "%load_ext autoreload\n",
    "%autoreload 2\n",
    "\n",
    "import numpy as np\n",
    "import pandas as pd\n",
    "import matplotlib.pyplot as plt\n",
    "from matplotlib.lines import Line2D\n",
    "import yfinance as yf\n",
    "\n",
    "import torch\n",
    "from torch.optim import Adam\n",
    "from torch.optim.lr_scheduler import ExponentialLR\n",
    "\n",
    "from data import DataGJR, DataRes\n",
    "from market_dynamics import bs_call_price\n",
    "from models import ControlNet, EnsembleNet\n",
    "from train import train_val\n",
    "from risk_measures import median_loss\n",
    "from utils import call_payoff, stochastic_integral\n"
   ]
  },
  {
   "cell_type": "code",
   "execution_count": 6,
   "id": "0e7ff21f",
   "metadata": {
    "execution": {
     "iopub.execute_input": "2021-12-29T16:27:47.642101Z",
     "iopub.status.busy": "2021-12-29T16:27:47.641517Z",
     "iopub.status.idle": "2021-12-29T16:27:47.680230Z",
     "shell.execute_reply": "2021-12-29T16:27:47.680712Z",
     "shell.execute_reply.started": "2021-12-29T16:25:38.314187Z"
    },
    "papermill": {
     "duration": 0.079739,
     "end_time": "2021-12-29T16:27:47.680874",
     "exception": false,
     "start_time": "2021-12-29T16:27:47.601135",
     "status": "completed"
    },
    "tags": []
   },
   "outputs": [],
   "source": [
    "GJR_FOLDER = \"../input/gjr-vol/v2_2/v2/\"\n",
    "RES_FOLDER = \"../input/gjr-vol/ressim/resssim/\""
   ]
  },
  {
   "cell_type": "code",
   "execution_count": 7,
   "id": "e1d5f3c9",
   "metadata": {
    "execution": {
     "iopub.execute_input": "2021-12-29T16:27:47.757620Z",
     "iopub.status.busy": "2021-12-29T16:27:47.757000Z",
     "iopub.status.idle": "2021-12-29T16:27:47.795408Z",
     "shell.execute_reply": "2021-12-29T16:27:47.795877Z",
     "shell.execute_reply.started": "2021-12-29T16:25:38.315723Z"
    },
    "papermill": {
     "duration": 0.078271,
     "end_time": "2021-12-29T16:27:47.796066",
     "exception": false,
     "start_time": "2021-12-29T16:27:47.717795",
     "status": "completed"
    },
    "tags": []
   },
   "outputs": [],
   "source": [
    "os.chdir(origin_path)"
   ]
  },
  {
   "cell_type": "markdown",
   "id": "01280a39",
   "metadata": {
    "papermill": {
     "duration": 0.037084,
     "end_time": "2021-12-29T16:27:47.870284",
     "exception": false,
     "start_time": "2021-12-29T16:27:47.833200",
     "status": "completed"
    },
    "tags": []
   },
   "source": [
    "## Data"
   ]
  },
  {
   "cell_type": "code",
   "execution_count": 8,
   "id": "cd4b9480",
   "metadata": {
    "execution": {
     "iopub.execute_input": "2021-12-29T16:27:47.946755Z",
     "iopub.status.busy": "2021-12-29T16:27:47.946138Z",
     "iopub.status.idle": "2021-12-29T16:27:48.797319Z",
     "shell.execute_reply": "2021-12-29T16:27:48.796690Z",
     "shell.execute_reply.started": "2021-12-29T16:25:38.317378Z"
    },
    "papermill": {
     "duration": 0.890493,
     "end_time": "2021-12-29T16:27:48.797506",
     "exception": false,
     "start_time": "2021-12-29T16:27:47.907013",
     "status": "completed"
    },
    "tags": []
   },
   "outputs": [
    {
     "data": {
      "image/png": "[encoded data removed]",
      "text/plain": [
       "<Figure size 432x288 with 1 Axes>"
      ]
     },
     "metadata": {
      "needs_background": "light"
     },
     "output_type": "display_data"
    }
   ],
   "source": [
    "ticker = yf.Ticker('^GSPC')\n",
    "hist = ticker.history(start='2007-06-11', end='2012-04-10').Close\n",
    "plt.plot(hist);"
   ]
  },
  {
   "cell_type": "code",
   "execution_count": 9,
   "id": "99425808",
   "metadata": {
    "execution": {
     "iopub.execute_input": "2021-12-29T16:27:48.880250Z",
     "iopub.status.busy": "2021-12-29T16:27:48.879615Z",
     "iopub.status.idle": "2021-12-29T16:27:48.967865Z",
     "shell.execute_reply": "2021-12-29T16:27:48.968314Z",
     "shell.execute_reply.started": "2021-12-29T16:25:38.319179Z"
    },
    "papermill": {
     "duration": 0.132667,
     "end_time": "2021-12-29T16:27:48.968486",
     "exception": false,
     "start_time": "2021-12-29T16:27:48.835819",
     "status": "completed"
    },
    "tags": []
   },
   "outputs": [],
   "source": [
    "# From fitting the GARCH model using R get following parameters\n",
    "\n",
    "SIGMA = 0.1221684\n",
    "MU = 0.056105\n",
    "\n",
    "SQRT_252 = 252 ** 0.5"
   ]
  },
  {
   "cell_type": "code",
   "execution_count": 10,
   "id": "9ca58634",
   "metadata": {
    "execution": {
     "iopub.execute_input": "2021-12-29T16:27:49.048051Z",
     "iopub.status.busy": "2021-12-29T16:27:49.047454Z",
     "iopub.status.idle": "2021-12-29T16:27:49.087004Z",
     "shell.execute_reply": "2021-12-29T16:27:49.087452Z",
     "shell.execute_reply.started": "2021-12-29T16:25:38.320965Z"
    },
    "papermill": {
     "duration": 0.08145,
     "end_time": "2021-12-29T16:27:49.087627",
     "exception": false,
     "start_time": "2021-12-29T16:27:49.006177",
     "status": "completed"
    },
    "tags": []
   },
   "outputs": [],
   "source": [
    "h_params = {\"N_SIM\": 4000,\n",
    "            \"RF\": 0,\n",
    "            \"N_DIMS\": 2,\n",
    "            \"FC_DIM\": 20,\n",
    "            \"LR\": 0.005,\n",
    "            \"GAMMA\": 0.96,\n",
    "            \"EPOCHS\": 10,\n",
    "            \"BATCH_SIZE\": 256,}"
   ]
  },
  {
   "cell_type": "code",
   "execution_count": 11,
   "id": "142c2e54",
   "metadata": {
    "execution": {
     "iopub.execute_input": "2021-12-29T16:27:49.167690Z",
     "iopub.status.busy": "2021-12-29T16:27:49.167115Z",
     "iopub.status.idle": "2021-12-29T16:27:49.207276Z",
     "shell.execute_reply": "2021-12-29T16:27:49.207682Z",
     "shell.execute_reply.started": "2021-12-29T16:25:38.322930Z"
    },
    "papermill": {
     "duration": 0.082237,
     "end_time": "2021-12-29T16:27:49.207850",
     "exception": false,
     "start_time": "2021-12-29T16:27:49.125613",
     "status": "completed"
    },
    "tags": []
   },
   "outputs": [
    {
     "data": {
      "text/plain": [
       "(1509.1199951171875, 1509.1199951171875, 0.1221684, 21.0855397479188)"
      ]
     },
     "execution_count": 11,
     "metadata": {},
     "output_type": "execute_result"
    }
   ],
   "source": [
    "initial_value = hist.iloc[0]\n",
    "strike = initial_value\n",
    "n_steps = 30\n",
    "price = bs_call_price(n_steps, initial_value, SIGMA, h_params[\"RF\"], strike)\n",
    "initial_value, strike, SIGMA, price"
   ]
  },
  {
   "cell_type": "code",
   "execution_count": 12,
   "id": "d01cc630",
   "metadata": {
    "execution": {
     "iopub.execute_input": "2021-12-29T16:27:49.286754Z",
     "iopub.status.busy": "2021-12-29T16:27:49.286153Z",
     "iopub.status.idle": "2021-12-29T16:27:49.325327Z",
     "shell.execute_reply": "2021-12-29T16:27:49.325789Z",
     "shell.execute_reply.started": "2021-12-29T16:25:38.325020Z"
    },
    "papermill": {
     "duration": 0.08025,
     "end_time": "2021-12-29T16:27:49.326000",
     "exception": false,
     "start_time": "2021-12-29T16:27:49.245750",
     "status": "completed"
    },
    "tags": []
   },
   "outputs": [],
   "source": [
    "dt = DataGJR(GJR_FOLDER, price, call_payoff, {\"strike\": strike}, splits=h_params[\"N_SIM\"], S0=initial_value, sigma_0=SIGMA, mu_const=MU, take_log=True, vol_feature=False)"
   ]
  },
  {
   "cell_type": "markdown",
   "id": "d2bddac7",
   "metadata": {
    "papermill": {
     "duration": 0.037257,
     "end_time": "2021-12-29T16:27:49.401105",
     "exception": false,
     "start_time": "2021-12-29T16:27:49.363848",
     "status": "completed"
    },
    "tags": []
   },
   "source": [
    "## Training"
   ]
  },
  {
   "cell_type": "code",
   "execution_count": 13,
   "id": "e0485731",
   "metadata": {
    "execution": {
     "iopub.execute_input": "2021-12-29T16:27:49.481779Z",
     "iopub.status.busy": "2021-12-29T16:27:49.481213Z",
     "iopub.status.idle": "2021-12-29T16:39:06.726975Z",
     "shell.execute_reply": "2021-12-29T16:39:06.726068Z",
     "shell.execute_reply.started": "2021-12-29T16:25:38.326708Z"
    },
    "papermill": {
     "duration": 677.287865,
     "end_time": "2021-12-29T16:39:06.727215",
     "exception": false,
     "start_time": "2021-12-29T16:27:49.439350",
     "status": "completed"
    },
    "tags": []
   },
   "outputs": [
    {
     "name": "stderr",
     "output_type": "stream",
     "text": [
      "Epoch 0: 100%|██████████| 334/334 [00:25<00:00, 13.27batch/s, loss=53.4, metric=19.7]\n"
     ]
    },
    {
     "name": "stdout",
     "output_type": "stream",
     "text": [
      "validation loss: 6469.90576171875\n"
     ]
    },
    {
     "name": "stderr",
     "output_type": "stream",
     "text": [
      "Epoch 1: 100%|██████████| 334/334 [00:21<00:00, 15.35batch/s, loss=52, metric=19.8]\n",
      "Epoch 2: 100%|██████████| 334/334 [00:21<00:00, 15.37batch/s, loss=47.1, metric=20.6]\n",
      "Epoch 3: 100%|██████████| 334/334 [00:21<00:00, 15.26batch/s, loss=46.4, metric=18.4]\n",
      "Epoch 4: 100%|██████████| 334/334 [00:21<00:00, 15.24batch/s, loss=45.9, metric=19.2]\n",
      "Epoch 5: 100%|██████████| 334/334 [00:21<00:00, 15.32batch/s, loss=43.5, metric=17.8]\n"
     ]
    },
    {
     "name": "stdout",
     "output_type": "stream",
     "text": [
      "validation loss: 51.587416076660155\n"
     ]
    },
    {
     "name": "stderr",
     "output_type": "stream",
     "text": [
      "Epoch 6: 100%|██████████| 334/334 [00:21<00:00, 15.20batch/s, loss=42.6, metric=16.8]\n",
      "Epoch 7: 100%|██████████| 334/334 [00:21<00:00, 15.20batch/s, loss=41.4, metric=16.8]\n",
      "Epoch 8: 100%|██████████| 334/334 [00:21<00:00, 15.28batch/s, loss=40.8, metric=15.7]\n",
      "Epoch 9: 100%|██████████| 334/334 [00:22<00:00, 14.80batch/s, loss=40.5, metric=16.3]\n",
      "Epoch 0: 100%|██████████| 333/333 [00:25<00:00, 13.13batch/s, loss=52.7, metric=19]\n"
     ]
    },
    {
     "name": "stdout",
     "output_type": "stream",
     "text": [
      "validation loss: 546.6262420654297\n"
     ]
    },
    {
     "name": "stderr",
     "output_type": "stream",
     "text": [
      "Epoch 1: 100%|██████████| 333/333 [00:22<00:00, 14.85batch/s, loss=48.8, metric=16.3]\n",
      "Epoch 2: 100%|██████████| 333/333 [00:22<00:00, 15.11batch/s, loss=48.1, metric=14]\n",
      "Epoch 3: 100%|██████████| 333/333 [00:21<00:00, 15.14batch/s, loss=46, metric=13.4]\n",
      "Epoch 4: 100%|██████████| 333/333 [00:22<00:00, 15.12batch/s, loss=45, metric=13.5]\n",
      "Epoch 5: 100%|██████████| 333/333 [00:21<00:00, 15.16batch/s, loss=44.6, metric=13.1]\n"
     ]
    },
    {
     "name": "stdout",
     "output_type": "stream",
     "text": [
      "validation loss: 49.617409324646\n"
     ]
    },
    {
     "name": "stderr",
     "output_type": "stream",
     "text": [
      "Epoch 6: 100%|██████████| 333/333 [00:22<00:00, 14.98batch/s, loss=44.5, metric=12.8]\n",
      "Epoch 7: 100%|██████████| 333/333 [00:21<00:00, 15.24batch/s, loss=44.7, metric=13.6]\n",
      "Epoch 8: 100%|██████████| 333/333 [00:21<00:00, 15.16batch/s, loss=44.7, metric=14]\n",
      "Epoch 9: 100%|██████████| 333/333 [00:21<00:00, 15.27batch/s, loss=44.7, metric=13.3]\n",
      "Epoch 0: 100%|██████████| 333/333 [00:25<00:00, 13.04batch/s, loss=36.7, metric=16.6]\n"
     ]
    },
    {
     "name": "stdout",
     "output_type": "stream",
     "text": [
      "validation loss: 5694.839184570313\n"
     ]
    },
    {
     "name": "stderr",
     "output_type": "stream",
     "text": [
      "Epoch 1: 100%|██████████| 333/333 [00:22<00:00, 14.94batch/s, loss=39.8, metric=14.7]\n",
      "Epoch 2: 100%|██████████| 333/333 [00:22<00:00, 14.78batch/s, loss=38.3, metric=15.6]\n",
      "Epoch 3: 100%|██████████| 333/333 [00:22<00:00, 15.05batch/s, loss=36.9, metric=15]\n",
      "Epoch 4: 100%|██████████| 333/333 [00:22<00:00, 14.80batch/s, loss=35.2, metric=16.1]\n",
      "Epoch 5: 100%|██████████| 333/333 [00:22<00:00, 14.99batch/s, loss=33.6, metric=15.1]\n"
     ]
    },
    {
     "name": "stdout",
     "output_type": "stream",
     "text": [
      "validation loss: 1043.6737579345704\n"
     ]
    },
    {
     "name": "stderr",
     "output_type": "stream",
     "text": [
      "Epoch 6: 100%|██████████| 333/333 [00:22<00:00, 14.92batch/s, loss=32.8, metric=16.3]\n",
      "Epoch 7: 100%|██████████| 333/333 [00:22<00:00, 15.05batch/s, loss=32.6, metric=15.4]\n",
      "Epoch 8: 100%|██████████| 333/333 [00:21<00:00, 15.20batch/s, loss=32.7, metric=15.3]\n",
      "Epoch 9: 100%|██████████| 333/333 [00:22<00:00, 14.66batch/s, loss=32.6, metric=15.5]"
     ]
    },
    {
     "name": "stdout",
     "output_type": "stream",
     "text": [
      "CPU times: user 15min 46s, sys: 41.5 s, total: 16min 28s\n",
      "Wall time: 11min 17s\n"
     ]
    },
    {
     "name": "stderr",
     "output_type": "stream",
     "text": [
      "\n"
     ]
    }
   ],
   "source": [
    "%%time\n",
    "\n",
    "# Training three models on different training paths\n",
    "\n",
    "n_models = 3\n",
    "models, optimizers, schedulers = [], [], []\n",
    "n = 1000\n",
    "val_n = 20\n",
    "criterion = torch.nn.MSELoss()\n",
    "\n",
    "for _ in range(n_models):\n",
    "    model = ControlNet(n_steps, 1, [20, 20], 1, learn_price=False, learn_vol=False)\n",
    "    models.append(model)\n",
    "    optimizer = Adam(model.parameters(), lr=h_params[\"LR\"])\n",
    "    optimizers.append(optimizer)\n",
    "    schedulers.append(ExponentialLR(optimizer, gamma=h_params[\"GAMMA\"]))\n",
    "\n",
    "idx_list = np.array_split(np.arange(n) + 1, 3)\n",
    "val_idx_list = [np.arange(start=idx[-1]+1, stop=idx[-1]+1+val_n) for idx in idx_list]\n",
    "\n",
    "# Training each model\n",
    "\n",
    "res_list = []\n",
    "for model, optimizer, scheduler, indices, val_indices in zip(models, optimizers, schedulers, idx_list, val_idx_list):\n",
    "    results = train_val(dt, model, criterion, optimizer, h_params[\"EPOCHS\"], indices, val_indices, scheduler, metric=median_loss, val_every=5)\n",
    "    res_list.append(results)\n",
    "\n",
    "ens = EnsembleNet(models)"
   ]
  },
  {
   "cell_type": "markdown",
   "id": "df3f718a",
   "metadata": {
    "execution": {
     "iopub.execute_input": "2021-12-21T14:26:13.976978Z",
     "iopub.status.busy": "2021-12-21T14:26:13.976323Z",
     "iopub.status.idle": "2021-12-21T14:26:14.025297Z",
     "shell.execute_reply": "2021-12-21T14:26:14.024673Z",
     "shell.execute_reply.started": "2021-12-21T14:26:13.976942Z"
    },
    "papermill": {
     "duration": 5.872474,
     "end_time": "2021-12-29T16:39:18.537182",
     "exception": false,
     "start_time": "2021-12-29T16:39:12.664708",
     "status": "completed"
    },
    "tags": []
   },
   "source": [
    "## Performance on GJR validation paths & Delta Hedging Benchmark"
   ]
  },
  {
   "cell_type": "code",
   "execution_count": 14,
   "id": "991caed0",
   "metadata": {
    "execution": {
     "iopub.execute_input": "2021-12-29T16:39:30.125098Z",
     "iopub.status.busy": "2021-12-29T16:39:30.124172Z",
     "iopub.status.idle": "2021-12-29T16:39:30.162012Z",
     "shell.execute_reply": "2021-12-29T16:39:30.161491Z",
     "shell.execute_reply.started": "2021-12-29T16:25:38.328453Z"
    },
    "papermill": {
     "duration": 5.879654,
     "end_time": "2021-12-29T16:39:30.162173",
     "exception": false,
     "start_time": "2021-12-29T16:39:24.282519",
     "status": "completed"
    },
    "tags": []
   },
   "outputs": [],
   "source": [
    "# Cython code based on: https://github.com/JackJacquier/python-for-finance/blob/master/Session-7-Cython/Intro_to_Cython.ipynb"
   ]
  },
  {
   "cell_type": "code",
   "execution_count": 15,
   "id": "0149bc67",
   "metadata": {
    "execution": {
     "iopub.execute_input": "2021-12-29T16:39:41.768040Z",
     "iopub.status.busy": "2021-12-29T16:39:41.767092Z",
     "iopub.status.idle": "2021-12-29T16:39:42.517106Z",
     "shell.execute_reply": "2021-12-29T16:39:42.516573Z",
     "shell.execute_reply.started": "2021-12-29T16:25:38.330518Z"
    },
    "papermill": {
     "duration": 6.493837,
     "end_time": "2021-12-29T16:39:42.517291",
     "exception": false,
     "start_time": "2021-12-29T16:39:36.023454",
     "status": "completed"
    },
    "tags": []
   },
   "outputs": [],
   "source": [
    "%load_ext Cython"
   ]
  },
  {
   "cell_type": "code",
   "execution_count": 16,
   "id": "5e1c97dc",
   "metadata": {
    "execution": {
     "iopub.execute_input": "2021-12-29T16:39:54.095157Z",
     "iopub.status.busy": "2021-12-29T16:39:54.094152Z",
     "iopub.status.idle": "2021-12-29T16:39:55.564464Z",
     "shell.execute_reply": "2021-12-29T16:39:55.563634Z",
     "shell.execute_reply.started": "2021-12-29T16:25:38.332336Z"
    },
    "papermill": {
     "duration": 7.300489,
     "end_time": "2021-12-29T16:39:55.564612",
     "exception": false,
     "start_time": "2021-12-29T16:39:48.264123",
     "status": "completed"
    },
    "tags": []
   },
   "outputs": [
    {
     "name": "stderr",
     "output_type": "stream",
     "text": [
      "In file included from /opt/conda/lib/python3.7/site-packages/numpy/core/include/numpy/ndarraytypes.h:1822,\n",
      "                 from /opt/conda/lib/python3.7/site-packages/numpy/core/include/numpy/ndarrayobject.h:12,\n",
      "                 from /opt/conda/lib/python3.7/site-packages/numpy/core/include/numpy/arrayobject.h:4,\n",
      "                 from /root/.cache/ipython/cython/_cython_magic_679ba82c68a37a119a6ddd02f3956e57.c:644:\n",
      "/opt/conda/lib/python3.7/site-packages/numpy/core/include/numpy/npy_1_7_deprecated_api.h:17:2: warning: #warning \"Using deprecated NumPy API, disable it with \" \"#define NPY_NO_DEPRECATED_API NPY_1_7_API_VERSION\" [-Wcpp]\n",
      "   17 | #warning \"Using deprecated NumPy API, disable it with \" \\\n",
      "      |  ^~~~~~~\n"
     ]
    }
   ],
   "source": [
    "%%cython --compile-args=-O3\n",
    "cimport cython\n",
    "from libc.math cimport  sqrt,log,exp,erf\n",
    "cdef double ONE_OVER_SQRT_TWO=0.7071067811865476\n",
    "import numpy as np\n",
    "cimport numpy as cnp\n",
    "\n",
    "@cython.cdivision(True)\n",
    "@cython.boundscheck(False)\n",
    "@cython.wraparound(False)\n",
    "@cython.nonecheck(False)\n",
    "cdef double gaussian_cdf(double x) nogil:\n",
    "    return 0.5*(1+erf(x*ONE_OVER_SQRT_TWO))\n",
    "\n",
    "@cython.cdivision(True)\n",
    "@cython.boundscheck(False)\n",
    "@cython.wraparound(False)\n",
    "@cython.nonecheck(False)\n",
    "cpdef cnp.ndarray[cnp.double_t, ndim=1] cython_bs_delta(cnp.ndarray[cnp.double_t, ndim=1] sigma, cnp.ndarray[cnp.double_t, ndim=1] S0,double K, cnp.ndarray[cnp.double_t, ndim=1] T):\n",
    "    cdef int size=len(S0)\n",
    "    cdef double k, d1, sigmaT\n",
    "    cdef cnp.ndarray[cnp.double_t, ndim=1] result=np.zeros(size)\n",
    "        \n",
    "    with nogil:\n",
    "        for i in range(size):\n",
    "            sigmaT = sigma[i] * sqrt(T[i])\n",
    "            k = log(S0[i] / K)\n",
    "            d1 = k / sigmaT + 0.5*sigmaT\n",
    "            result[i] = gaussian_cdf(d1)\n",
    "        \n",
    "    return result"
   ]
  },
  {
   "cell_type": "code",
   "execution_count": 17,
   "id": "564b20e7",
   "metadata": {
    "execution": {
     "iopub.execute_input": "2021-12-29T16:40:07.141036Z",
     "iopub.status.busy": "2021-12-29T16:40:07.139064Z",
     "iopub.status.idle": "2021-12-29T16:40:07.188592Z",
     "shell.execute_reply": "2021-12-29T16:40:07.188108Z",
     "shell.execute_reply.started": "2021-12-29T16:25:38.334132Z"
    },
    "papermill": {
     "duration": 5.865695,
     "end_time": "2021-12-29T16:40:07.188736",
     "exception": false,
     "start_time": "2021-12-29T16:40:01.323041",
     "status": "completed"
    },
    "tags": []
   },
   "outputs": [],
   "source": [
    "# make index to pass decreasing time to maturity to the bs_delta function\n",
    "idx = np.arange(n_steps) + 1\n",
    "idx = idx[::-1]"
   ]
  },
  {
   "cell_type": "code",
   "execution_count": 18,
   "id": "03f681f5",
   "metadata": {
    "execution": {
     "iopub.execute_input": "2021-12-29T16:40:18.957878Z",
     "iopub.status.busy": "2021-12-29T16:40:18.957200Z",
     "iopub.status.idle": "2021-12-29T16:40:19.007757Z",
     "shell.execute_reply": "2021-12-29T16:40:19.008650Z",
     "shell.execute_reply.started": "2021-12-29T16:25:38.335898Z"
    },
    "papermill": {
     "duration": 5.901698,
     "end_time": "2021-12-29T16:40:19.008935",
     "exception": false,
     "start_time": "2021-12-29T16:40:13.107237",
     "status": "completed"
    },
    "tags": []
   },
   "outputs": [],
   "source": [
    "def cython_d_hedge(x, vol):\n",
    "    return cython_bs_delta(vol.numpy().astype(np.float64), torch.exp(x).numpy().astype(np.float64), strike, idx.astype(np.float64) *  ( 1 / 365))\n",
    "\n",
    "def hedge_diff(x, x_inc, payoff, price, vol, model=ens, normalized=True, x1=None):\n",
    "\n",
    "    # calculate delta hedge; assuming x is log price!\n",
    "    if normalized:\n",
    "        path = initial_value * x\n",
    "    else:\n",
    "        path = x\n",
    "    \n",
    "    d_hedge_list = [cython_d_hedge(a.squeeze(), b.squeeze()) for a, b in zip(path, vol)]\n",
    "    si_delta = stochastic_integral(x_inc, torch.Tensor(d_hedge_list))\n",
    "    diff_delta = (price.squeeze() + si_delta).float() - payoff.float()\n",
    "\n",
    "    # calculating model hedge\n",
    "    if dt.vol_feature:\n",
    "        output = model(x, x1)\n",
    "    else:\n",
    "        output = model(x)\n",
    "\n",
    "    if model.learn_price:\n",
    "        output, price = output\n",
    "\n",
    "    si = stochastic_integral(x_inc, output)\n",
    "    diff = (price.squeeze() + si).float() - payoff.float()\n",
    "\n",
    "    return diff, diff_delta"
   ]
  },
  {
   "cell_type": "code",
   "execution_count": 19,
   "id": "44b62456",
   "metadata": {
    "execution": {
     "iopub.execute_input": "2021-12-29T16:40:30.458887Z",
     "iopub.status.busy": "2021-12-29T16:40:30.457861Z",
     "iopub.status.idle": "2021-12-29T16:40:55.028773Z",
     "shell.execute_reply": "2021-12-29T16:40:55.029429Z",
     "shell.execute_reply.started": "2021-12-29T16:25:38.337566Z"
    },
    "papermill": {
     "duration": 30.32195,
     "end_time": "2021-12-29T16:40:55.029601",
     "exception": false,
     "start_time": "2021-12-29T16:40:24.707651",
     "status": "completed"
    },
    "tags": []
   },
   "outputs": [],
   "source": [
    "diffs, diffs_delta = [], []\n",
    "\n",
    "for i in np.arange(start=3500, stop=3700):\n",
    "    \n",
    "    if dt.vol_feature:\n",
    "        x, x1, x_inc, payoff, price = dt[i]\n",
    "    else:\n",
    "        x, x_inc, payoff, price = dt[i]\n",
    "        x1 = None\n",
    "        \n",
    "    vol = dt.get_vol(i)\n",
    "    diff, diff_delta = hedge_diff(x, x_inc, payoff, price, vol, x1=x1)\n",
    "    diffs.append(diff)\n",
    "    diffs_delta.append(diff_delta)\n",
    "    \n",
    "d = torch.cat(diffs)\n",
    "d_delta = torch.cat(diffs_delta)"
   ]
  },
  {
   "cell_type": "code",
   "execution_count": 20,
   "id": "ed114103",
   "metadata": {
    "execution": {
     "iopub.execute_input": "2021-12-29T16:41:06.693151Z",
     "iopub.status.busy": "2021-12-29T16:41:06.692540Z",
     "iopub.status.idle": "2021-12-29T16:41:06.755101Z",
     "shell.execute_reply": "2021-12-29T16:41:06.755766Z",
     "shell.execute_reply.started": "2021-12-29T16:25:38.339413Z"
    },
    "papermill": {
     "duration": 5.89826,
     "end_time": "2021-12-29T16:41:06.756025",
     "exception": false,
     "start_time": "2021-12-29T16:41:00.857765",
     "status": "completed"
    },
    "tags": []
   },
   "outputs": [
    {
     "name": "stdout",
     "output_type": "stream",
     "text": [
      "Model:\n",
      "RMSE 6.7304182052612305\n",
      "Using median 3.3988037109375\n",
      "Using mode 0.4808349609375\n",
      "Delta Hedge:\n",
      "RMSE 15.667876243591309\n",
      "Using median 9.739227294921875\n",
      "Using mode 21.085538864135742\n"
     ]
    }
   ],
   "source": [
    "print('Model:')\n",
    "print(f\"RMSE {(d ** 2).mean() ** 0.5}\")\n",
    "print(f\"Using median {(d ** 2).median() ** 0.5}\")\n",
    "print(f\"Using mode {(d ** 2).mode()[0] ** 0.5}\")\n",
    "\n",
    "print('Delta Hedge:')\n",
    "print(f\"RMSE {(d_delta ** 2).mean() ** 0.5}\")\n",
    "print(f\"Using median {(d_delta ** 2).median() ** 0.5}\")\n",
    "print(f\"Using mode {(d_delta ** 2).mode()[0] ** 0.5}\")"
   ]
  },
  {
   "cell_type": "code",
   "execution_count": 21,
   "id": "6f1a1d5f",
   "metadata": {
    "execution": {
     "iopub.execute_input": "2021-12-29T16:41:18.342337Z",
     "iopub.status.busy": "2021-12-29T16:41:18.341672Z",
     "iopub.status.idle": "2021-12-29T16:41:18.828418Z",
     "shell.execute_reply": "2021-12-29T16:41:18.827820Z",
     "shell.execute_reply.started": "2021-12-29T16:25:38.341344Z"
    },
    "papermill": {
     "duration": 6.31303,
     "end_time": "2021-12-29T16:41:18.828556",
     "exception": false,
     "start_time": "2021-12-29T16:41:12.515526",
     "status": "completed"
    },
    "tags": []
   },
   "outputs": [
    {
     "data": {
      "image/png": "[encoded data removed]",
      "text/plain": [
       "<Figure size 432x288 with 1 Axes>"
      ]
     },
     "metadata": {
      "needs_background": "light"
     },
     "output_type": "display_data"
    }
   ],
   "source": [
    "plt.hist([d.detach().numpy(), d_delta.detach().numpy()], range=(-250, 100), bins=50, label=['Model', 'Delta'])\n",
    "plt.legend();"
   ]
  },
  {
   "cell_type": "code",
   "execution_count": 22,
   "id": "2caa1d74",
   "metadata": {
    "execution": {
     "iopub.execute_input": "2021-12-29T16:41:30.455475Z",
     "iopub.status.busy": "2021-12-29T16:41:30.454845Z",
     "iopub.status.idle": "2021-12-29T16:41:30.502392Z",
     "shell.execute_reply": "2021-12-29T16:41:30.501876Z",
     "shell.execute_reply.started": "2021-12-29T16:25:38.342969Z"
    },
    "papermill": {
     "duration": 5.842626,
     "end_time": "2021-12-29T16:41:30.502546",
     "exception": false,
     "start_time": "2021-12-29T16:41:24.659920",
     "status": "completed"
    },
    "tags": []
   },
   "outputs": [
    {
     "data": {
      "text/plain": [
       "count    51200.000000\n",
       "mean        -0.094304\n",
       "std         15.667855\n",
       "min       -204.078278\n",
       "25%         -7.247254\n",
       "50%          3.881438\n",
       "75%         10.595092\n",
       "max         21.085539\n",
       "dtype: float64"
      ]
     },
     "execution_count": 22,
     "metadata": {},
     "output_type": "execute_result"
    }
   ],
   "source": [
    "pd.Series(d_delta.detach()).describe()"
   ]
  },
  {
   "cell_type": "code",
   "execution_count": 23,
   "id": "48ed4eba",
   "metadata": {
    "execution": {
     "iopub.execute_input": "2021-12-29T16:41:42.047163Z",
     "iopub.status.busy": "2021-12-29T16:41:42.046413Z",
     "iopub.status.idle": "2021-12-29T16:41:42.100324Z",
     "shell.execute_reply": "2021-12-29T16:41:42.099705Z",
     "shell.execute_reply.started": "2021-12-29T16:25:38.345451Z"
    },
    "papermill": {
     "duration": 5.890538,
     "end_time": "2021-12-29T16:41:42.100478",
     "exception": false,
     "start_time": "2021-12-29T16:41:36.209940",
     "status": "completed"
    },
    "tags": []
   },
   "outputs": [
    {
     "data": {
      "text/plain": [
       "count    51200.000000\n",
       "mean         1.201535\n",
       "std          6.622326\n",
       "min       -140.333481\n",
       "25%         -1.447788\n",
       "50%          1.486037\n",
       "75%          4.880297\n",
       "max         18.932364\n",
       "dtype: float64"
      ]
     },
     "execution_count": 23,
     "metadata": {},
     "output_type": "execute_result"
    }
   ],
   "source": [
    "d_series = pd.Series(d.detach())\n",
    "d_series.describe()"
   ]
  },
  {
   "cell_type": "markdown",
   "id": "20101989",
   "metadata": {
    "execution": {
     "iopub.execute_input": "2021-12-22T13:24:36.048493Z",
     "iopub.status.busy": "2021-12-22T13:24:36.048204Z",
     "iopub.status.idle": "2021-12-22T13:24:36.091854Z",
     "shell.execute_reply": "2021-12-22T13:24:36.090771Z",
     "shell.execute_reply.started": "2021-12-22T13:24:36.048459Z"
    },
    "papermill": {
     "duration": 5.733745,
     "end_time": "2021-12-29T16:41:53.792697",
     "exception": false,
     "start_time": "2021-12-29T16:41:48.058952",
     "status": "completed"
    },
    "tags": []
   },
   "source": [
    "## Performance on real paths"
   ]
  },
  {
   "cell_type": "code",
   "execution_count": 24,
   "id": "8f86c68b",
   "metadata": {
    "execution": {
     "iopub.execute_input": "2021-12-29T16:42:05.247404Z",
     "iopub.status.busy": "2021-12-29T16:42:05.246626Z",
     "iopub.status.idle": "2021-12-29T16:42:05.508737Z",
     "shell.execute_reply": "2021-12-29T16:42:05.508058Z",
     "shell.execute_reply.started": "2021-12-29T16:25:38.347142Z"
    },
    "papermill": {
     "duration": 5.967711,
     "end_time": "2021-12-29T16:42:05.508876",
     "exception": false,
     "start_time": "2021-12-29T16:41:59.541165",
     "status": "completed"
    },
    "tags": []
   },
   "outputs": [],
   "source": [
    "# Creating the validation paths\n",
    "n_steps = 30# Creating the validation paths\n",
    "\n",
    "n_steps = 30\n",
    "step = 5  # number of days by which to shift the window\n",
    "sigma_est_period = 30\n",
    "valid_paths, valid_prices, valid_strikes, sigma_estimates = [], [], [], []\n",
    "\n",
    "for i in np.arange(start=sigma_est_period, stop=len(hist) - n_steps, step=step):\n",
    "    \n",
    "    valid_path = hist[i:i+n_steps+1]\n",
    "    simga_est_path = hist[i-sigma_est_period:i]\n",
    "    sigma_est = simga_est_path.diff().dropna().std() / 100\n",
    "    sigma_estimates.append(sigma_est)\n",
    "\n",
    "    S0 = valid_path[0]\n",
    "    valid_price = bs_call_price(n_steps, S0, sigma=sigma_est, rf=0, strike=S0)      \n",
    "\n",
    "    valid_paths.append(valid_path)\n",
    "    valid_strikes.append(S0)\n",
    "    valid_prices.append(valid_price)\n",
    "\n",
    "valid_paths = np.array(valid_paths)\n",
    "valid_paths = valid_paths.reshape(valid_paths.shape[0], valid_paths.shape[1], 1)\n",
    "valid_paths = torch.from_numpy(valid_paths).float()\n",
    "\n",
    "valid_prices = torch.Tensor(valid_prices)\n",
    "valid_strikes = torch.Tensor(valid_strikes)"
   ]
  },
  {
   "cell_type": "code",
   "execution_count": 25,
   "id": "3ba0062d",
   "metadata": {
    "execution": {
     "iopub.execute_input": "2021-12-29T16:42:17.209748Z",
     "iopub.status.busy": "2021-12-29T16:42:17.207009Z",
     "iopub.status.idle": "2021-12-29T16:42:17.250680Z",
     "shell.execute_reply": "2021-12-29T16:42:17.250081Z",
     "shell.execute_reply.started": "2021-12-29T16:25:38.349003Z"
    },
    "papermill": {
     "duration": 5.805616,
     "end_time": "2021-12-29T16:42:17.250812",
     "exception": false,
     "start_time": "2021-12-29T16:42:11.445196",
     "status": "completed"
    },
    "tags": []
   },
   "outputs": [],
   "source": [
    "if dt.take_log:\n",
    "    paths = valid_paths.squeeze().T /  valid_paths[:, 0].squeeze()\n",
    "    paths = paths.T\n",
    "    paths = torch.unsqueeze(paths, dim=2)\n",
    "    paths = torch.log(paths[:, :-1])\n",
    "    x_inc = valid_paths.squeeze().diff()\n",
    "\n",
    "    payoff = call_payoff(valid_paths.squeeze(), strike=valid_strikes)"
   ]
  },
  {
   "cell_type": "code",
   "execution_count": 26,
   "id": "a4a0b282",
   "metadata": {
    "execution": {
     "iopub.execute_input": "2021-12-29T16:42:28.631673Z",
     "iopub.status.busy": "2021-12-29T16:42:28.631039Z",
     "iopub.status.idle": "2021-12-29T16:42:28.708183Z",
     "shell.execute_reply": "2021-12-29T16:42:28.708767Z",
     "shell.execute_reply.started": "2021-12-29T16:25:38.350798Z"
    },
    "papermill": {
     "duration": 5.775088,
     "end_time": "2021-12-29T16:42:28.708986",
     "exception": false,
     "start_time": "2021-12-29T16:42:22.933898",
     "status": "completed"
    },
    "tags": []
   },
   "outputs": [],
   "source": [
    "output = ens(paths)\n",
    "si = stochastic_integral(x_inc, output)\n",
    "diff = (valid_prices.squeeze() + si).float() - payoff.float()\n",
    "d = diff"
   ]
  },
  {
   "cell_type": "code",
   "execution_count": 27,
   "id": "3cf4fa92",
   "metadata": {
    "execution": {
     "iopub.execute_input": "2021-12-29T16:42:40.345071Z",
     "iopub.status.busy": "2021-12-29T16:42:40.344466Z",
     "iopub.status.idle": "2021-12-29T16:42:40.387403Z",
     "shell.execute_reply": "2021-12-29T16:42:40.386837Z",
     "shell.execute_reply.started": "2021-12-29T16:25:38.352578Z"
    },
    "papermill": {
     "duration": 5.796863,
     "end_time": "2021-12-29T16:42:40.387535",
     "exception": false,
     "start_time": "2021-12-29T16:42:34.590672",
     "status": "completed"
    },
    "tags": []
   },
   "outputs": [
    {
     "name": "stdout",
     "output_type": "stream",
     "text": [
      "Model:\n",
      "RMSE 24.036222457885742\n",
      "Using median 11.96778392791748\n"
     ]
    }
   ],
   "source": [
    "print('Model:')\n",
    "print(f\"RMSE {(d ** 2).mean() ** 0.5}\")\n",
    "print(f\"Using median {(d ** 2).median() ** 0.5}\")"
   ]
  },
  {
   "cell_type": "code",
   "execution_count": 28,
   "id": "c3a9c06f",
   "metadata": {
    "execution": {
     "iopub.execute_input": "2021-12-29T16:42:51.883666Z",
     "iopub.status.busy": "2021-12-29T16:42:51.882723Z",
     "iopub.status.idle": "2021-12-29T16:42:52.242676Z",
     "shell.execute_reply": "2021-12-29T16:42:52.242203Z",
     "shell.execute_reply.started": "2021-12-29T16:25:38.354553Z"
    },
    "papermill": {
     "duration": 6.195019,
     "end_time": "2021-12-29T16:42:52.242815",
     "exception": false,
     "start_time": "2021-12-29T16:42:46.047796",
     "status": "completed"
    },
    "tags": []
   },
   "outputs": [
    {
     "data": {
      "image/png": "[encoded data removed]",
      "text/plain": [
       "<Figure size 432x288 with 1 Axes>"
      ]
     },
     "metadata": {
      "needs_background": "light"
     },
     "output_type": "display_data"
    }
   ],
   "source": [
    "plt.hist(d.detach().numpy(), range=(-250, 100), bins=50, label=['Model'])\n",
    "plt.legend();"
   ]
  },
  {
   "cell_type": "code",
   "execution_count": 29,
   "id": "0eef6357",
   "metadata": {
    "execution": {
     "iopub.execute_input": "2021-12-29T16:43:03.910671Z",
     "iopub.status.busy": "2021-12-29T16:43:03.909744Z",
     "iopub.status.idle": "2021-12-29T16:43:03.953501Z",
     "shell.execute_reply": "2021-12-29T16:43:03.954065Z",
     "shell.execute_reply.started": "2021-12-29T16:25:38.359853Z"
    },
    "papermill": {
     "duration": 5.771917,
     "end_time": "2021-12-29T16:43:03.954242",
     "exception": false,
     "start_time": "2021-12-29T16:42:58.182325",
     "status": "completed"
    },
    "tags": []
   },
   "outputs": [
    {
     "data": {
      "text/plain": [
       "count    232.000000\n",
       "mean     -12.832304\n",
       "std       20.368107\n",
       "min      -86.087708\n",
       "25%      -23.164063\n",
       "50%       -9.151287\n",
       "75%       -0.131922\n",
       "max       28.831291\n",
       "dtype: float64"
      ]
     },
     "execution_count": 29,
     "metadata": {},
     "output_type": "execute_result"
    }
   ],
   "source": [
    "d_series = pd.Series(d.detach())\n",
    "d_series.describe()"
   ]
  }
 ],
 "metadata": {
  "kernelspec": {
   "display_name": "Python 3",
   "language": "python",
   "name": "python3"
  },
  "language_info": {
   "codemirror_mode": {
    "name": "ipython",
    "version": 3
   },
   "file_extension": ".py",
   "mimetype": "text/x-python",
   "name": "python",
   "nbconvert_exporter": "python",
   "pygments_lexer": "ipython3",
   "version": "3.7.12"
  },
  "papermill": {
   "default_parameters": {},
   "duration": 974.547142,
   "end_time": "2021-12-29T16:43:11.115691",
   "environment_variables": {},
   "exception": null,
   "input_path": "__notebook__.ipynb",
   "output_path": "__notebook__.ipynb",
   "parameters": {},
   "start_time": "2021-12-29T16:26:56.568549",
   "version": "2.3.3"
  }
 },
 "nbformat": 4,
 "nbformat_minor": 5
}
