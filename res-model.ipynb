{
 "cells": [
  {
   "cell_type": "code",
   "execution_count": 1,
   "id": "0e99414a",
   "metadata": {
    "execution": {
     "iopub.execute_input": "2021-12-29T16:36:25.886835Z",
     "iopub.status.busy": "2021-12-29T16:36:25.885598Z",
     "iopub.status.idle": "2021-12-29T16:36:29.028286Z",
     "shell.execute_reply": "2021-12-29T16:36:29.027076Z",
     "shell.execute_reply.started": "2021-12-29T16:33:46.191266Z"
    },
    "papermill": {
     "duration": 3.167649,
     "end_time": "2021-12-29T16:36:29.028531",
     "exception": false,
     "start_time": "2021-12-29T16:36:25.860882",
     "status": "completed"
    },
    "tags": []
   },
   "outputs": [
    {
     "name": "stdout",
     "output_type": "stream",
     "text": [
      "rm: cannot remove '/kaggle/working/': Device or resource busy\r\n",
      "Cloning into 'FML'...\r\n",
      "remote: Enumerating objects: 479, done.\u001b[K\r\n",
      "remote: Counting objects: 100% (479/479), done.\u001b[K\r\n",
      "remote: Compressing objects: 100% (334/334), done.\u001b[K\r\n",
      "remote: Total 479 (delta 225), reused 369 (delta 133), pack-reused 0\u001b[K\r\n",
      "Receiving objects: 100% (479/479), 1.31 MiB | 3.61 MiB/s, done.\r\n",
      "Resolving deltas: 100% (225/225), done.\r\n"
     ]
    }
   ],
   "source": [
    "!rm -rf /kaggle/working/\n",
    "!git clone https://github.com/svenspa/FML.git"
   ]
  },
  {
   "cell_type": "code",
   "execution_count": 2,
   "id": "49fd3246",
   "metadata": {
    "execution": {
     "iopub.execute_input": "2021-12-29T16:36:29.081850Z",
     "iopub.status.busy": "2021-12-29T16:36:29.080910Z",
     "iopub.status.idle": "2021-12-29T16:36:29.084308Z",
     "shell.execute_reply": "2021-12-29T16:36:29.083796Z",
     "shell.execute_reply.started": "2021-12-29T16:33:48.245257Z"
    },
    "papermill": {
     "duration": 0.031717,
     "end_time": "2021-12-29T16:36:29.084470",
     "exception": false,
     "start_time": "2021-12-29T16:36:29.052753",
     "status": "completed"
    },
    "tags": []
   },
   "outputs": [],
   "source": [
    "import os\n",
    "origin_path = \"/kaggle/working\"\n",
    "fml_path = \"/kaggle/working/FML\""
   ]
  },
  {
   "cell_type": "code",
   "execution_count": 3,
   "id": "bd675b53",
   "metadata": {
    "execution": {
     "iopub.execute_input": "2021-12-29T16:36:29.135220Z",
     "iopub.status.busy": "2021-12-29T16:36:29.134568Z",
     "iopub.status.idle": "2021-12-29T16:37:11.194685Z",
     "shell.execute_reply": "2021-12-29T16:37:11.194003Z",
     "shell.execute_reply.started": "2021-12-29T16:33:48.251526Z"
    },
    "papermill": {
     "duration": 42.087028,
     "end_time": "2021-12-29T16:37:11.194827",
     "exception": false,
     "start_time": "2021-12-29T16:36:29.107799",
     "status": "completed"
    },
    "tags": []
   },
   "outputs": [
    {
     "name": "stdout",
     "output_type": "stream",
     "text": [
      "Collecting arch\r\n",
      "  Downloading arch-5.1.0-cp37-cp37m-manylinux_2_17_x86_64.manylinux2014_x86_64.whl (902 kB)\r\n",
      "     |████████████████████████████████| 902 kB 513 kB/s            \r\n",
      "\u001b[?25hCollecting property-cached>=1.6.4\r\n",
      "  Downloading property_cached-1.6.4-py2.py3-none-any.whl (7.8 kB)\r\n",
      "Requirement already satisfied: scipy>=1.3 in /opt/conda/lib/python3.7/site-packages (from arch) (1.7.2)\r\n",
      "Requirement already satisfied: statsmodels>=0.11 in /opt/conda/lib/python3.7/site-packages (from arch) (0.12.2)\r\n",
      "Requirement already satisfied: numpy>=1.17 in /opt/conda/lib/python3.7/site-packages (from arch) (1.19.5)\r\n",
      "Requirement already satisfied: pandas>=1.0 in /opt/conda/lib/python3.7/site-packages (from arch) (1.3.4)\r\n",
      "Requirement already satisfied: python-dateutil>=2.7.3 in /opt/conda/lib/python3.7/site-packages (from pandas>=1.0->arch) (2.8.0)\r\n",
      "Requirement already satisfied: pytz>=2017.3 in /opt/conda/lib/python3.7/site-packages (from pandas>=1.0->arch) (2021.3)\r\n",
      "Requirement already satisfied: patsy>=0.5 in /opt/conda/lib/python3.7/site-packages (from statsmodels>=0.11->arch) (0.5.2)\r\n",
      "Requirement already satisfied: six in /opt/conda/lib/python3.7/site-packages (from patsy>=0.5->statsmodels>=0.11->arch) (1.16.0)\r\n",
      "Installing collected packages: property-cached, arch\r\n",
      "Successfully installed arch-5.1.0 property-cached-1.6.4\r\n",
      "\u001b[33mWARNING: Running pip as the 'root' user can result in broken permissions and conflicting behaviour with the system package manager. It is recommended to use a virtual environment instead: https://pip.pypa.io/warnings/venv\u001b[0m\r\n",
      "Collecting yfinance\r\n",
      "  Downloading yfinance-0.1.67-py2.py3-none-any.whl (25 kB)\r\n",
      "Collecting multitasking>=0.0.7\r\n",
      "  Downloading multitasking-0.0.10.tar.gz (8.2 kB)\r\n",
      "  Preparing metadata (setup.py) ... \u001b[?25l-\b \bdone\r\n",
      "\u001b[?25hRequirement already satisfied: numpy>=1.15 in /opt/conda/lib/python3.7/site-packages (from yfinance) (1.19.5)\r\n",
      "Requirement already satisfied: requests>=2.20 in /opt/conda/lib/python3.7/site-packages (from yfinance) (2.25.1)\r\n",
      "Requirement already satisfied: lxml>=4.5.1 in /opt/conda/lib/python3.7/site-packages (from yfinance) (4.6.4)\r\n",
      "Requirement already satisfied: pandas>=0.24 in /opt/conda/lib/python3.7/site-packages (from yfinance) (1.3.4)\r\n",
      "Requirement already satisfied: python-dateutil>=2.7.3 in /opt/conda/lib/python3.7/site-packages (from pandas>=0.24->yfinance) (2.8.0)\r\n",
      "Requirement already satisfied: pytz>=2017.3 in /opt/conda/lib/python3.7/site-packages (from pandas>=0.24->yfinance) (2021.3)\r\n",
      "Requirement already satisfied: idna<3,>=2.5 in /opt/conda/lib/python3.7/site-packages (from requests>=2.20->yfinance) (2.10)\r\n",
      "Requirement already satisfied: certifi>=2017.4.17 in /opt/conda/lib/python3.7/site-packages (from requests>=2.20->yfinance) (2021.10.8)\r\n",
      "Requirement already satisfied: urllib3<1.27,>=1.21.1 in /opt/conda/lib/python3.7/site-packages (from requests>=2.20->yfinance) (1.26.7)\r\n",
      "Requirement already satisfied: chardet<5,>=3.0.2 in /opt/conda/lib/python3.7/site-packages (from requests>=2.20->yfinance) (4.0.0)\r\n",
      "Requirement already satisfied: six>=1.5 in /opt/conda/lib/python3.7/site-packages (from python-dateutil>=2.7.3->pandas>=0.24->yfinance) (1.16.0)\r\n",
      "Building wheels for collected packages: multitasking\r\n",
      "  Building wheel for multitasking (setup.py) ... \u001b[?25l-\b \b\\\b \bdone\r\n",
      "\u001b[?25h  Created wheel for multitasking: filename=multitasking-0.0.10-py3-none-any.whl size=8500 sha256=07110a420a62d8bb48dd83d3e57d4e6e2f4d950057c6940f108b6943579e81d7\r\n",
      "  Stored in directory: /root/.cache/pip/wheels/34/ba/79/c0260c6f1a03f420ec7673eff9981778f293b9107974679e36\r\n",
      "Successfully built multitasking\r\n",
      "Installing collected packages: multitasking, yfinance\r\n",
      "Successfully installed multitasking-0.0.10 yfinance-0.1.67\r\n",
      "\u001b[33mWARNING: Running pip as the 'root' user can result in broken permissions and conflicting behaviour with the system package manager. It is recommended to use a virtual environment instead: https://pip.pypa.io/warnings/venv\u001b[0m\r\n",
      "Collecting fastparquet\r\n",
      "  Downloading fastparquet-0.7.2-cp37-cp37m-manylinux2010_x86_64.whl (1.2 MB)\r\n",
      "     |████████████████████████████████| 1.2 MB 517 kB/s            \r\n",
      "\u001b[?25hCollecting thrift>=0.11.0\r\n",
      "  Downloading thrift-0.15.0.tar.gz (59 kB)\r\n",
      "     |████████████████████████████████| 59 kB 4.8 MB/s             \r\n",
      "\u001b[?25h  Preparing metadata (setup.py) ... \u001b[?25l-\b \bdone\r\n",
      "\u001b[?25hRequirement already satisfied: numpy>=1.18 in /opt/conda/lib/python3.7/site-packages (from fastparquet) (1.19.5)\r\n",
      "Requirement already satisfied: fsspec in /opt/conda/lib/python3.7/site-packages (from fastparquet) (2021.11.1)\r\n",
      "Requirement already satisfied: pandas>=1.1.0 in /opt/conda/lib/python3.7/site-packages (from fastparquet) (1.3.4)\r\n",
      "Collecting cramjam>=2.3.0\r\n",
      "  Downloading cramjam-2.5.0-cp37-cp37m-manylinux_2_5_x86_64.manylinux1_x86_64.whl (1.6 MB)\r\n",
      "     |████████████████████████████████| 1.6 MB 35.3 MB/s            \r\n",
      "\u001b[?25hRequirement already satisfied: python-dateutil>=2.7.3 in /opt/conda/lib/python3.7/site-packages (from pandas>=1.1.0->fastparquet) (2.8.0)\r\n",
      "Requirement already satisfied: pytz>=2017.3 in /opt/conda/lib/python3.7/site-packages (from pandas>=1.1.0->fastparquet) (2021.3)\r\n",
      "Requirement already satisfied: six>=1.7.2 in /opt/conda/lib/python3.7/site-packages (from thrift>=0.11.0->fastparquet) (1.16.0)\r\n",
      "Building wheels for collected packages: thrift\r\n",
      "  Building wheel for thrift (setup.py) ... \u001b[?25l-\b \b\\\b \b|\b \b/\b \b-\b \b\\\b \b|\b \b/\b \b-\b \bdone\r\n",
      "\u001b[?25h  Created wheel for thrift: filename=thrift-0.15.0-cp37-cp37m-linux_x86_64.whl size=413806 sha256=d3051eef4287cae6126fee057836cbcb5dc7d7cd628e88626715172fb56c06e2\r\n",
      "  Stored in directory: /root/.cache/pip/wheels/ba/1f/8e/e6fd36837eecf3d1f2b23f1729477e8e06558d8d60b7093f51\r\n",
      "Successfully built thrift\r\n",
      "Installing collected packages: thrift, cramjam, fastparquet\r\n",
      "Successfully installed cramjam-2.5.0 fastparquet-0.7.2 thrift-0.15.0\r\n",
      "\u001b[33mWARNING: Running pip as the 'root' user can result in broken permissions and conflicting behaviour with the system package manager. It is recommended to use a virtual environment instead: https://pip.pypa.io/warnings/venv\u001b[0m\r\n"
     ]
    }
   ],
   "source": [
    "!pip install arch\n",
    "!pip install yfinance\n",
    "!pip install fastparquet"
   ]
  },
  {
   "cell_type": "code",
   "execution_count": 4,
   "id": "4b9d3b9e",
   "metadata": {
    "execution": {
     "iopub.execute_input": "2021-12-29T16:37:11.284925Z",
     "iopub.status.busy": "2021-12-29T16:37:11.284243Z",
     "iopub.status.idle": "2021-12-29T16:37:11.287047Z",
     "shell.execute_reply": "2021-12-29T16:37:11.286392Z",
     "shell.execute_reply.started": "2021-12-29T16:34:14.198813Z"
    },
    "papermill": {
     "duration": 0.050048,
     "end_time": "2021-12-29T16:37:11.287189",
     "exception": false,
     "start_time": "2021-12-29T16:37:11.237141",
     "status": "completed"
    },
    "tags": []
   },
   "outputs": [],
   "source": [
    "os.chdir(fml_path)"
   ]
  },
  {
   "cell_type": "code",
   "execution_count": 5,
   "id": "47a554d9",
   "metadata": {
    "execution": {
     "iopub.execute_input": "2021-12-29T16:37:11.383539Z",
     "iopub.status.busy": "2021-12-29T16:37:11.382824Z",
     "iopub.status.idle": "2021-12-29T16:37:15.812755Z",
     "shell.execute_reply": "2021-12-29T16:37:15.813283Z",
     "shell.execute_reply.started": "2021-12-29T16:34:14.204212Z"
    },
    "papermill": {
     "duration": 4.483389,
     "end_time": "2021-12-29T16:37:15.813509",
     "exception": false,
     "start_time": "2021-12-29T16:37:11.330120",
     "status": "completed"
    },
    "tags": []
   },
   "outputs": [],
   "source": [
    "%load_ext autoreload\n",
    "%autoreload 2\n",
    "\n",
    "import numpy as np\n",
    "import pandas as pd\n",
    "import matplotlib.pyplot as plt\n",
    "from matplotlib.lines import Line2D\n",
    "import yfinance as yf\n",
    "\n",
    "import torch\n",
    "from torch.optim import Adam\n",
    "from torch.optim.lr_scheduler import ExponentialLR\n",
    "\n",
    "from data import DataGJR, DataRes\n",
    "from market_dynamics import bs_call_price\n",
    "from models import ControlNet, EnsembleNet\n",
    "from train import train_val\n",
    "from risk_measures import median_loss\n",
    "from utils import call_payoff, stochastic_integral\n"
   ]
  },
  {
   "cell_type": "code",
   "execution_count": 6,
   "id": "8e6bad57",
   "metadata": {
    "execution": {
     "iopub.execute_input": "2021-12-29T16:37:15.902069Z",
     "iopub.status.busy": "2021-12-29T16:37:15.901436Z",
     "iopub.status.idle": "2021-12-29T16:37:15.946777Z",
     "shell.execute_reply": "2021-12-29T16:37:15.946036Z",
     "shell.execute_reply.started": "2021-12-29T16:34:18.293496Z"
    },
    "papermill": {
     "duration": 0.090613,
     "end_time": "2021-12-29T16:37:15.946925",
     "exception": false,
     "start_time": "2021-12-29T16:37:15.856312",
     "status": "completed"
    },
    "tags": []
   },
   "outputs": [],
   "source": [
    "GJR_FOLDER = \"../input/gjr-vol/v2_2/v2/\"\n",
    "RES_FOLDER = \"../input/gjr-vol/ressim/resssim/\""
   ]
  },
  {
   "cell_type": "code",
   "execution_count": 7,
   "id": "50fc8704",
   "metadata": {
    "execution": {
     "iopub.execute_input": "2021-12-29T16:37:16.039310Z",
     "iopub.status.busy": "2021-12-29T16:37:16.038620Z",
     "iopub.status.idle": "2021-12-29T16:37:16.084531Z",
     "shell.execute_reply": "2021-12-29T16:37:16.083830Z",
     "shell.execute_reply.started": "2021-12-29T16:34:18.340730Z"
    },
    "papermill": {
     "duration": 0.094876,
     "end_time": "2021-12-29T16:37:16.084675",
     "exception": false,
     "start_time": "2021-12-29T16:37:15.989799",
     "status": "completed"
    },
    "tags": []
   },
   "outputs": [],
   "source": [
    "os.chdir(origin_path)"
   ]
  },
  {
   "cell_type": "markdown",
   "id": "df3f6dd1",
   "metadata": {
    "papermill": {
     "duration": 0.041809,
     "end_time": "2021-12-29T16:37:16.168823",
     "exception": false,
     "start_time": "2021-12-29T16:37:16.127014",
     "status": "completed"
    },
    "tags": []
   },
   "source": [
    "## Data"
   ]
  },
  {
   "cell_type": "code",
   "execution_count": 8,
   "id": "fa13f2f4",
   "metadata": {
    "execution": {
     "iopub.execute_input": "2021-12-29T16:37:16.258813Z",
     "iopub.status.busy": "2021-12-29T16:37:16.258153Z",
     "iopub.status.idle": "2021-12-29T16:37:17.181522Z",
     "shell.execute_reply": "2021-12-29T16:37:17.180916Z",
     "shell.execute_reply.started": "2021-12-29T16:34:18.389455Z"
    },
    "papermill": {
     "duration": 0.969862,
     "end_time": "2021-12-29T16:37:17.181670",
     "exception": false,
     "start_time": "2021-12-29T16:37:16.211808",
     "status": "completed"
    },
    "tags": []
   },
   "outputs": [
    {
     "data": {
      "image/png": "[encoded data removed]",
      "text/plain": [
       "<Figure size 432x288 with 1 Axes>"
      ]
     },
     "metadata": {
      "needs_background": "light"
     },
     "output_type": "display_data"
    }
   ],
   "source": [
    "ticker = yf.Ticker('^GSPC')\n",
    "hist = ticker.history(start='2007-06-11', end='2012-04-10').Close\n",
    "plt.plot(hist);"
   ]
  },
  {
   "cell_type": "code",
   "execution_count": 9,
   "id": "b32072af",
   "metadata": {
    "execution": {
     "iopub.execute_input": "2021-12-29T16:37:17.273451Z",
     "iopub.status.busy": "2021-12-29T16:37:17.272504Z",
     "iopub.status.idle": "2021-12-29T16:37:17.319731Z",
     "shell.execute_reply": "2021-12-29T16:37:17.319107Z",
     "shell.execute_reply.started": "2021-12-29T16:34:18.983562Z"
    },
    "papermill": {
     "duration": 0.094076,
     "end_time": "2021-12-29T16:37:17.319896",
     "exception": false,
     "start_time": "2021-12-29T16:37:17.225820",
     "status": "completed"
    },
    "tags": []
   },
   "outputs": [],
   "source": [
    "# From fitting the GARCH model using R get following parameters\n",
    "\n",
    "SIGMA = 0.1221684\n",
    "MU = 0.056105\n",
    "\n",
    "SQRT_252 = 252 ** 0.5"
   ]
  },
  {
   "cell_type": "code",
   "execution_count": 10,
   "id": "a717f545",
   "metadata": {
    "execution": {
     "iopub.execute_input": "2021-12-29T16:37:17.410654Z",
     "iopub.status.busy": "2021-12-29T16:37:17.409937Z",
     "iopub.status.idle": "2021-12-29T16:37:17.455694Z",
     "shell.execute_reply": "2021-12-29T16:37:17.456235Z",
     "shell.execute_reply.started": "2021-12-29T16:34:19.031824Z"
    },
    "papermill": {
     "duration": 0.092322,
     "end_time": "2021-12-29T16:37:17.456426",
     "exception": false,
     "start_time": "2021-12-29T16:37:17.364104",
     "status": "completed"
    },
    "tags": []
   },
   "outputs": [],
   "source": [
    "h_params = {\"N_SIM\": 4000,\n",
    "            \"RF\": 0,\n",
    "            \"N_DIMS\": 2,\n",
    "            \"FC_DIM\": 20,\n",
    "            \"LR\": 0.005,\n",
    "            \"GAMMA\": 0.96,\n",
    "            \"EPOCHS\": 10,\n",
    "            \"BATCH_SIZE\": 256,}"
   ]
  },
  {
   "cell_type": "code",
   "execution_count": 11,
   "id": "8c68f765",
   "metadata": {
    "execution": {
     "iopub.execute_input": "2021-12-29T16:37:17.549157Z",
     "iopub.status.busy": "2021-12-29T16:37:17.548441Z",
     "iopub.status.idle": "2021-12-29T16:37:17.596020Z",
     "shell.execute_reply": "2021-12-29T16:37:17.596494Z",
     "shell.execute_reply.started": "2021-12-29T16:34:19.084183Z"
    },
    "papermill": {
     "duration": 0.096093,
     "end_time": "2021-12-29T16:37:17.596667",
     "exception": false,
     "start_time": "2021-12-29T16:37:17.500574",
     "status": "completed"
    },
    "tags": []
   },
   "outputs": [
    {
     "data": {
      "text/plain": [
       "(1509.1199951171875, 1509.1199951171875, 0.1221684, 21.0855397479188)"
      ]
     },
     "execution_count": 11,
     "metadata": {},
     "output_type": "execute_result"
    }
   ],
   "source": [
    "initial_value = hist.iloc[0]\n",
    "strike = initial_value\n",
    "n_steps = 30\n",
    "price = bs_call_price(n_steps, initial_value, SIGMA, h_params[\"RF\"], strike)\n",
    "initial_value, strike, SIGMA, price"
   ]
  },
  {
   "cell_type": "code",
   "execution_count": 12,
   "id": "c472572b",
   "metadata": {
    "execution": {
     "iopub.execute_input": "2021-12-29T16:37:17.687946Z",
     "iopub.status.busy": "2021-12-29T16:37:17.687277Z",
     "iopub.status.idle": "2021-12-29T16:37:17.733724Z",
     "shell.execute_reply": "2021-12-29T16:37:17.734267Z",
     "shell.execute_reply.started": "2021-12-29T16:34:19.138181Z"
    },
    "papermill": {
     "duration": 0.094167,
     "end_time": "2021-12-29T16:37:17.734474",
     "exception": false,
     "start_time": "2021-12-29T16:37:17.640307",
     "status": "completed"
    },
    "tags": []
   },
   "outputs": [],
   "source": [
    "dt = DataGJR(GJR_FOLDER, price, call_payoff, {\"strike\": strike}, splits=h_params[\"N_SIM\"], S0=initial_value, sigma_0=SIGMA, mu_const=MU, take_log=True, vol_feature=False)\n",
    "res_dt = DataRes(RES_FOLDER, price, call_payoff, {\"strike\": strike}, splits=100, S0=initial_value, take_log=True)"
   ]
  },
  {
   "cell_type": "markdown",
   "id": "51405878",
   "metadata": {
    "papermill": {
     "duration": 0.044271,
     "end_time": "2021-12-29T16:37:17.822510",
     "exception": false,
     "start_time": "2021-12-29T16:37:17.778239",
     "status": "completed"
    },
    "tags": []
   },
   "source": [
    "## Training"
   ]
  },
  {
   "cell_type": "code",
   "execution_count": 13,
   "id": "e705b0b7",
   "metadata": {
    "execution": {
     "iopub.execute_input": "2021-12-29T16:37:17.912704Z",
     "iopub.status.busy": "2021-12-29T16:37:17.912048Z",
     "iopub.status.idle": "2021-12-29T16:46:27.941022Z",
     "shell.execute_reply": "2021-12-29T16:46:27.941777Z",
     "shell.execute_reply.started": "2021-12-29T16:34:19.192315Z"
    },
    "papermill": {
     "duration": 550.076553,
     "end_time": "2021-12-29T16:46:27.942556",
     "exception": false,
     "start_time": "2021-12-29T16:37:17.866003",
     "status": "completed"
    },
    "tags": []
   },
   "outputs": [
    {
     "name": "stderr",
     "output_type": "stream",
     "text": [
      "Epoch 0: 100%|██████████| 300/300 [00:21<00:00, 14.27batch/s, loss=92.3, metric=50.2]\n"
     ]
    },
    {
     "name": "stdout",
     "output_type": "stream",
     "text": [
      "validation loss: 67566.8005859375\n"
     ]
    },
    {
     "name": "stderr",
     "output_type": "stream",
     "text": [
      "Epoch 1: 100%|██████████| 300/300 [00:17<00:00, 16.74batch/s, loss=89.2, metric=47.5]\n",
      "Epoch 2: 100%|██████████| 300/300 [00:18<00:00, 16.64batch/s, loss=88.3, metric=48.8]\n",
      "Epoch 3: 100%|██████████| 300/300 [00:17<00:00, 16.70batch/s, loss=86.9, metric=48.8]\n",
      "Epoch 4: 100%|██████████| 300/300 [00:17<00:00, 16.75batch/s, loss=86, metric=48.6]\n",
      "Epoch 5: 100%|██████████| 300/300 [00:17<00:00, 16.81batch/s, loss=84.6, metric=49]\n"
     ]
    },
    {
     "name": "stdout",
     "output_type": "stream",
     "text": [
      "validation loss: 6534.01025390625\n"
     ]
    },
    {
     "name": "stderr",
     "output_type": "stream",
     "text": [
      "Epoch 6: 100%|██████████| 300/300 [00:17<00:00, 16.91batch/s, loss=83.6, metric=48.5]\n",
      "Epoch 7: 100%|██████████| 300/300 [00:18<00:00, 16.59batch/s, loss=82.9, metric=47]\n",
      "Epoch 8: 100%|██████████| 300/300 [00:17<00:00, 16.72batch/s, loss=82.4, metric=47.7]\n",
      "Epoch 9: 100%|██████████| 300/300 [00:17<00:00, 16.88batch/s, loss=81.8, metric=49.7]\n",
      "Epoch 0: 100%|██████████| 300/300 [00:20<00:00, 14.68batch/s, loss=93.2, metric=60.9]\n"
     ]
    },
    {
     "name": "stdout",
     "output_type": "stream",
     "text": [
      "validation loss: 43368.84375\n"
     ]
    },
    {
     "name": "stderr",
     "output_type": "stream",
     "text": [
      "Epoch 1: 100%|██████████| 300/300 [00:17<00:00, 16.70batch/s, loss=89.5, metric=54.5]\n",
      "Epoch 2: 100%|██████████| 300/300 [00:17<00:00, 16.80batch/s, loss=87.5, metric=53]\n",
      "Epoch 3: 100%|██████████| 300/300 [00:18<00:00, 16.57batch/s, loss=85.9, metric=49.4]\n",
      "Epoch 4: 100%|██████████| 300/300 [00:17<00:00, 16.78batch/s, loss=84.6, metric=47.6]\n",
      "Epoch 5: 100%|██████████| 300/300 [00:18<00:00, 16.46batch/s, loss=83.6, metric=49.1]\n"
     ]
    },
    {
     "name": "stdout",
     "output_type": "stream",
     "text": [
      "validation loss: 10035.874609375\n"
     ]
    },
    {
     "name": "stderr",
     "output_type": "stream",
     "text": [
      "Epoch 6: 100%|██████████| 300/300 [00:17<00:00, 16.92batch/s, loss=83, metric=48.2]\n",
      "Epoch 7: 100%|██████████| 300/300 [00:17<00:00, 16.92batch/s, loss=82, metric=48.2]\n",
      "Epoch 8: 100%|██████████| 300/300 [00:17<00:00, 16.83batch/s, loss=81.1, metric=48.1]\n",
      "Epoch 9: 100%|██████████| 300/300 [00:18<00:00, 16.59batch/s, loss=80.5, metric=47.6]\n",
      "Epoch 0: 100%|██████████| 300/300 [00:20<00:00, 14.93batch/s, loss=93.8, metric=54.5]\n"
     ]
    },
    {
     "name": "stdout",
     "output_type": "stream",
     "text": [
      "validation loss: 49106.8009765625\n"
     ]
    },
    {
     "name": "stderr",
     "output_type": "stream",
     "text": [
      "Epoch 1: 100%|██████████| 300/300 [00:18<00:00, 16.16batch/s, loss=86.2, metric=47.3]\n",
      "Epoch 2: 100%|██████████| 300/300 [00:17<00:00, 16.79batch/s, loss=81.8, metric=47.7]\n",
      "Epoch 3: 100%|██████████| 300/300 [00:18<00:00, 16.25batch/s, loss=79.2, metric=43.8]\n",
      "Epoch 4: 100%|██████████| 300/300 [00:17<00:00, 17.14batch/s, loss=77.2, metric=42.9]\n",
      "Epoch 5: 100%|██████████| 300/300 [00:18<00:00, 16.13batch/s, loss=76, metric=44.2]\n"
     ]
    },
    {
     "name": "stdout",
     "output_type": "stream",
     "text": [
      "validation loss: 22911.30576171875\n"
     ]
    },
    {
     "name": "stderr",
     "output_type": "stream",
     "text": [
      "Epoch 6: 100%|██████████| 300/300 [00:17<00:00, 17.15batch/s, loss=75.2, metric=44.6]\n",
      "Epoch 7: 100%|██████████| 300/300 [00:18<00:00, 16.54batch/s, loss=74.8, metric=46.6]\n",
      "Epoch 8: 100%|██████████| 300/300 [00:17<00:00, 17.08batch/s, loss=73.8, metric=47.3]\n",
      "Epoch 9: 100%|██████████| 300/300 [00:18<00:00, 16.14batch/s, loss=73.5, metric=46]"
     ]
    },
    {
     "name": "stdout",
     "output_type": "stream",
     "text": [
      "CPU times: user 14min 52s, sys: 18.8 s, total: 15min 11s\n",
      "Wall time: 9min 9s\n"
     ]
    },
    {
     "name": "stderr",
     "output_type": "stream",
     "text": [
      "\n"
     ]
    }
   ],
   "source": [
    "%%time\n",
    "\n",
    "# Training three models on different training paths\n",
    "\n",
    "n_models = 3\n",
    "models, optimizers, schedulers = [], [], []\n",
    "n = 900\n",
    "val_n = 20\n",
    "criterion = torch.nn.MSELoss()\n",
    "\n",
    "for _ in range(n_models):\n",
    "    model = ControlNet(n_steps, 1, [20, 20], 1, learn_price=False, learn_vol=False)\n",
    "    models.append(model)\n",
    "    optimizer = Adam(model.parameters(), lr=h_params[\"LR\"])\n",
    "    optimizers.append(optimizer)\n",
    "    schedulers.append(ExponentialLR(optimizer, gamma=h_params[\"GAMMA\"]))\n",
    "\n",
    "idx_list = np.array_split(np.arange(n) + 1, 3)\n",
    "val_idx_list = [np.arange(start=idx[-1]+1, stop=idx[-1]+1+val_n) for idx in idx_list]\n",
    "\n",
    "# Training each model\n",
    "\n",
    "res_list = []\n",
    "for model, optimizer, scheduler, indices, val_indices in zip(models, optimizers, schedulers, idx_list, val_idx_list):\n",
    "    results = train_val(res_dt, model, criterion, optimizer, h_params[\"EPOCHS\"], indices, val_indices, scheduler, metric=median_loss, val_every=5)\n",
    "    res_list.append(results)\n",
    "\n",
    "ens = EnsembleNet(models)"
   ]
  },
  {
   "cell_type": "markdown",
   "id": "c9ee273d",
   "metadata": {
    "papermill": {
     "duration": 6.903785,
     "end_time": "2021-12-29T16:46:42.589462",
     "exception": false,
     "start_time": "2021-12-29T16:46:35.685677",
     "status": "completed"
    },
    "tags": []
   },
   "source": [
    "## Out of sample validation"
   ]
  },
  {
   "cell_type": "code",
   "execution_count": 14,
   "id": "fc0ca415",
   "metadata": {
    "execution": {
     "iopub.execute_input": "2021-12-29T16:46:56.380392Z",
     "iopub.status.busy": "2021-12-29T16:46:56.379744Z",
     "iopub.status.idle": "2021-12-29T16:47:02.909093Z",
     "shell.execute_reply": "2021-12-29T16:47:02.909758Z",
     "shell.execute_reply.started": "2021-12-29T16:35:21.515107Z"
    },
    "papermill": {
     "duration": 13.455097,
     "end_time": "2021-12-29T16:47:02.909964",
     "exception": false,
     "start_time": "2021-12-29T16:46:49.454867",
     "status": "completed"
    },
    "tags": []
   },
   "outputs": [
    {
     "name": "stdout",
     "output_type": "stream",
     "text": [
      "Model:\n",
      "RMSE 8.993037223815918\n",
      "Using median 7.257210731506348\n",
      "Using mode 0.07483673095703125\n"
     ]
    }
   ],
   "source": [
    "diffs = []\n",
    "\n",
    "for i in np.arange(n+10,1000):\n",
    "    x, x_inc, payoff, price = res_dt[i]\n",
    "    output = ens(x)\n",
    "    si = stochastic_integral(x_inc, output)\n",
    "    diff = (price.squeeze() + si).float() - payoff.float()\n",
    "    diffs.append(diff)\n",
    "    \n",
    "d = torch.cat(diffs)\n",
    "\n",
    "print('Model:')\n",
    "print(f\"RMSE {(d ** 2).mean() ** 0.5}\")\n",
    "print(f\"Using median {(d ** 2).median() ** 0.5}\")\n",
    "print(f\"Using mode {(d ** 2).mode()[0] ** 0.5}\")"
   ]
  },
  {
   "cell_type": "code",
   "execution_count": 15,
   "id": "3ae3c7a8",
   "metadata": {
    "execution": {
     "iopub.execute_input": "2021-12-29T16:47:16.695060Z",
     "iopub.status.busy": "2021-12-29T16:47:16.694341Z",
     "iopub.status.idle": "2021-12-29T16:47:17.126670Z",
     "shell.execute_reply": "2021-12-29T16:47:17.123585Z",
     "shell.execute_reply.started": "2021-12-29T16:35:25.672988Z"
    },
    "papermill": {
     "duration": 7.318778,
     "end_time": "2021-12-29T16:47:17.126842",
     "exception": false,
     "start_time": "2021-12-29T16:47:09.808064",
     "status": "completed"
    },
    "tags": []
   },
   "outputs": [
    {
     "data": {
      "image/png": "[encoded data removed]",
      "text/plain": [
       "<Figure size 432x288 with 1 Axes>"
      ]
     },
     "metadata": {
      "needs_background": "light"
     },
     "output_type": "display_data"
    }
   ],
   "source": [
    "plt.hist(d.detach().numpy(), range=(-250, 100), bins=50, label=['Model'])\n",
    "plt.legend();"
   ]
  },
  {
   "cell_type": "markdown",
   "id": "6eb7280e",
   "metadata": {
    "execution": {
     "iopub.execute_input": "2021-12-29T16:31:11.251481Z",
     "iopub.status.busy": "2021-12-29T16:31:11.251148Z",
     "iopub.status.idle": "2021-12-29T16:31:11.255956Z",
     "shell.execute_reply": "2021-12-29T16:31:11.255305Z",
     "shell.execute_reply.started": "2021-12-29T16:31:11.251445Z"
    },
    "papermill": {
     "duration": 6.872378,
     "end_time": "2021-12-29T16:47:30.990397",
     "exception": false,
     "start_time": "2021-12-29T16:47:24.118019",
     "status": "completed"
    },
    "tags": []
   },
   "source": [
    "## Validation on real data (Same time period)"
   ]
  },
  {
   "cell_type": "code",
   "execution_count": 16,
   "id": "8cb8dc89",
   "metadata": {
    "execution": {
     "iopub.execute_input": "2021-12-29T16:47:44.715602Z",
     "iopub.status.busy": "2021-12-29T16:47:44.714613Z",
     "iopub.status.idle": "2021-12-29T16:47:44.990557Z",
     "shell.execute_reply": "2021-12-29T16:47:44.989980Z",
     "shell.execute_reply.started": "2021-12-29T16:35:26.074992Z"
    },
    "papermill": {
     "duration": 7.13952,
     "end_time": "2021-12-29T16:47:44.990709",
     "exception": false,
     "start_time": "2021-12-29T16:47:37.851189",
     "status": "completed"
    },
    "tags": []
   },
   "outputs": [],
   "source": [
    "# Creating the validation paths\n",
    "n_steps = 30\n",
    "\n",
    "n_steps = 30\n",
    "step = 5  # number of days by which to shift the window\n",
    "sigma_est_period = 30\n",
    "valid_paths, valid_prices, valid_strikes, sigma_estimates = [], [], [], []\n",
    "\n",
    "for i in np.arange(start=sigma_est_period, stop=len(hist) - n_steps, step=step):\n",
    "    \n",
    "    valid_path = hist[i:i+n_steps+1]\n",
    "    simga_est_path = hist[i-sigma_est_period:i]\n",
    "    sigma_est = simga_est_path.diff().dropna().std() / 100\n",
    "    sigma_estimates.append(sigma_est)\n",
    "\n",
    "    S0 = valid_path[0]\n",
    "    valid_price = bs_call_price(n_steps, S0, sigma=sigma_est, rf=0, strike=S0)      \n",
    "\n",
    "    valid_paths.append(valid_path)\n",
    "    valid_strikes.append(S0)\n",
    "    valid_prices.append(valid_price)\n",
    "\n",
    "valid_paths = np.array(valid_paths)\n",
    "valid_paths = valid_paths.reshape(valid_paths.shape[0], valid_paths.shape[1], 1)\n",
    "valid_paths = torch.from_numpy(valid_paths).float()\n",
    "\n",
    "valid_prices = torch.Tensor(valid_prices)\n",
    "valid_strikes = torch.Tensor(valid_strikes)"
   ]
  },
  {
   "cell_type": "code",
   "execution_count": 17,
   "id": "0259ecf9",
   "metadata": {
    "execution": {
     "iopub.execute_input": "2021-12-29T16:47:58.944776Z",
     "iopub.status.busy": "2021-12-29T16:47:58.944051Z",
     "iopub.status.idle": "2021-12-29T16:47:59.034347Z",
     "shell.execute_reply": "2021-12-29T16:47:59.033805Z",
     "shell.execute_reply.started": "2021-12-29T16:35:26.381397Z"
    },
    "papermill": {
     "duration": 7.024449,
     "end_time": "2021-12-29T16:47:59.034529",
     "exception": false,
     "start_time": "2021-12-29T16:47:52.010080",
     "status": "completed"
    },
    "tags": []
   },
   "outputs": [
    {
     "name": "stdout",
     "output_type": "stream",
     "text": [
      "Model:\n",
      "RMSE 20.301376342773438\n",
      "Using median 12.281146049499512\n",
      "Using mode 0.003604888916015625\n"
     ]
    }
   ],
   "source": [
    "if dt.take_log:\n",
    "    paths = valid_paths.squeeze().T /  valid_paths[:, 0].squeeze()\n",
    "    paths = paths.T\n",
    "    paths = torch.unsqueeze(paths, dim=2)\n",
    "    paths = torch.log(paths[:, :-1])\n",
    "    x_inc = valid_paths.squeeze().diff()\n",
    "    payoff = call_payoff(valid_paths.squeeze(), strike=valid_strikes)\n",
    "    \n",
    "    \n",
    "output = ens(paths)\n",
    "si = stochastic_integral(x_inc, output)\n",
    "diff = (valid_prices.squeeze() + si).float() - payoff.float()\n",
    "d = diff\n",
    "\n",
    "print('Model:')\n",
    "print(f\"RMSE {(d ** 2).mean() ** 0.5}\")\n",
    "print(f\"Using median {(d ** 2).median() ** 0.5}\")\n",
    "print(f\"Using mode {(d ** 2).mode()[0] ** 0.5}\")"
   ]
  },
  {
   "cell_type": "code",
   "execution_count": 18,
   "id": "f5ca661f",
   "metadata": {
    "execution": {
     "iopub.execute_input": "2021-12-29T16:48:12.831166Z",
     "iopub.status.busy": "2021-12-29T16:48:12.830475Z",
     "iopub.status.idle": "2021-12-29T16:48:13.237706Z",
     "shell.execute_reply": "2021-12-29T16:48:13.236949Z",
     "shell.execute_reply.started": "2021-12-29T16:35:26.473651Z"
    },
    "papermill": {
     "duration": 7.293164,
     "end_time": "2021-12-29T16:48:13.237853",
     "exception": false,
     "start_time": "2021-12-29T16:48:05.944689",
     "status": "completed"
    },
    "tags": []
   },
   "outputs": [
    {
     "data": {
      "image/png": "[encoded data removed]",
      "text/plain": [
       "<Figure size 432x288 with 1 Axes>"
      ]
     },
     "metadata": {
      "needs_background": "light"
     },
     "output_type": "display_data"
    }
   ],
   "source": [
    "plt.hist(d.detach().numpy(), range=(-250, 100), bins=50, label=['Model'])\n",
    "plt.legend();"
   ]
  },
  {
   "cell_type": "markdown",
   "id": "f25038e3",
   "metadata": {
    "papermill": {
     "duration": 6.853426,
     "end_time": "2021-12-29T16:48:26.988165",
     "exception": false,
     "start_time": "2021-12-29T16:48:20.134739",
     "status": "completed"
    },
    "tags": []
   },
   "source": [
    "## Validation on real data (Future time period)"
   ]
  },
  {
   "cell_type": "code",
   "execution_count": 19,
   "id": "452e84ed",
   "metadata": {
    "execution": {
     "iopub.execute_input": "2021-12-29T16:48:40.748322Z",
     "iopub.status.busy": "2021-12-29T16:48:40.747660Z",
     "iopub.status.idle": "2021-12-29T16:48:41.373006Z",
     "shell.execute_reply": "2021-12-29T16:48:41.372373Z",
     "shell.execute_reply.started": "2021-12-29T16:35:26.890161Z"
    },
    "papermill": {
     "duration": 7.461961,
     "end_time": "2021-12-29T16:48:41.373155",
     "exception": false,
     "start_time": "2021-12-29T16:48:33.911194",
     "status": "completed"
    },
    "tags": []
   },
   "outputs": [],
   "source": [
    "hist_oos = ticker.history(start='2012-04-10', end='2014-04-10').Close\n",
    "\n",
    "# Creating the validation paths\n",
    "n_steps = 30\n",
    "\n",
    "n_steps = 30\n",
    "step = 5  # number of days by which to shift the window\n",
    "sigma_est_period = 30\n",
    "valid_paths, valid_prices, valid_strikes, sigma_estimates = [], [], [], []\n",
    "\n",
    "for i in np.arange(start=sigma_est_period, stop=len(hist_oos) - n_steps, step=step):\n",
    "    \n",
    "    valid_path = hist_oos[i:i+n_steps+1]\n",
    "    simga_est_path = hist_oos[i-sigma_est_period:i]\n",
    "    sigma_est = simga_est_path.diff().dropna().std() / 100\n",
    "    sigma_estimates.append(sigma_est)\n",
    "\n",
    "    S0 = valid_path[0]\n",
    "    valid_price = bs_call_price(n_steps, S0, sigma=sigma_est, rf=0, strike=S0)      \n",
    "\n",
    "    valid_paths.append(valid_path)\n",
    "    valid_strikes.append(S0)\n",
    "    valid_prices.append(valid_price)\n",
    "\n",
    "valid_paths = np.array(valid_paths)\n",
    "valid_paths = valid_paths.reshape(valid_paths.shape[0], valid_paths.shape[1], 1)\n",
    "valid_paths = torch.from_numpy(valid_paths).float()\n",
    "\n",
    "valid_prices = torch.Tensor(valid_prices)\n",
    "valid_strikes = torch.Tensor(valid_strikes)"
   ]
  },
  {
   "cell_type": "code",
   "execution_count": 20,
   "id": "31300f66",
   "metadata": {
    "execution": {
     "iopub.execute_input": "2021-12-29T16:48:55.107109Z",
     "iopub.status.busy": "2021-12-29T16:48:55.106382Z",
     "iopub.status.idle": "2021-12-29T16:48:55.191293Z",
     "shell.execute_reply": "2021-12-29T16:48:55.191982Z",
     "shell.execute_reply.started": "2021-12-29T16:35:27.175603Z"
    },
    "papermill": {
     "duration": 6.957598,
     "end_time": "2021-12-29T16:48:55.192231",
     "exception": false,
     "start_time": "2021-12-29T16:48:48.234633",
     "status": "completed"
    },
    "tags": []
   },
   "outputs": [
    {
     "name": "stdout",
     "output_type": "stream",
     "text": [
      "Model:\n",
      "RMSE 18.253767013549805\n",
      "Using median 13.790689468383789\n",
      "Using mode 0.9316787719726562\n"
     ]
    }
   ],
   "source": [
    "if dt.take_log:\n",
    "    paths = valid_paths.squeeze().T /  valid_paths[:, 0].squeeze()\n",
    "    paths = paths.T\n",
    "    paths = torch.unsqueeze(paths, dim=2)\n",
    "    paths = torch.log(paths[:, :-1])\n",
    "    x_inc = valid_paths.squeeze().diff()\n",
    "    payoff = call_payoff(valid_paths.squeeze(), strike=valid_strikes)\n",
    "    \n",
    "    \n",
    "output = ens(paths)\n",
    "si = stochastic_integral(x_inc, output)\n",
    "diff = (valid_prices.squeeze() + si).float() - payoff.float()\n",
    "d = diff\n",
    "\n",
    "print('Model:')\n",
    "print(f\"RMSE {(d ** 2).mean() ** 0.5}\")\n",
    "print(f\"Using median {(d ** 2).median() ** 0.5}\")\n",
    "print(f\"Using mode {(d ** 2).mode()[0] ** 0.5}\")"
   ]
  }
 ],
 "metadata": {
  "kernelspec": {
   "display_name": "Python 3",
   "language": "python",
   "name": "python3"
  },
  "language_info": {
   "codemirror_mode": {
    "name": "ipython",
    "version": 3
   },
   "file_extension": ".py",
   "mimetype": "text/x-python",
   "name": "python",
   "nbconvert_exporter": "python",
   "pygments_lexer": "ipython3",
   "version": "3.7.12"
  },
  "papermill": {
   "default_parameters": {},
   "duration": 768.072431,
   "end_time": "2021-12-29T16:49:03.483055",
   "environment_variables": {},
   "exception": null,
   "input_path": "__notebook__.ipynb",
   "output_path": "__notebook__.ipynb",
   "parameters": {},
   "start_time": "2021-12-29T16:36:15.410624",
   "version": "2.3.3"
  }
 },
 "nbformat": 4,
 "nbformat_minor": 5
}
