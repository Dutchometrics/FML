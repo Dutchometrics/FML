{
 "cells": [
  {
   "cell_type": "code",
   "execution_count": 1,
   "metadata": {},
   "outputs": [],
   "source": [
    "%load_ext autoreload\n",
    "%autoreload 2\n",
    "\n",
    "import os\n",
    "from datetime import datetime\n",
    "import matplotlib.pyplot as plt\n",
    "import pandas as pd\n",
    "import torch\n",
    "from torch.utils.data import DataLoader\n",
    "from torch.optim import Adam\n",
    "from torch.optim.lr_scheduler import ExponentialLR\n",
    "from torch.utils.tensorboard import SummaryWriter\n",
    "\n",
    "from market_dynamics import bs_delta, bs_generator, bs_call_price\n",
    "from data import SimulationData\n",
    "from utils import call_payoff, stochastic_integral\n",
    "from models import ControlNet\n",
    "from train import train, test"
   ]
  },
  {
   "cell_type": "code",
   "execution_count": 2,
   "metadata": {},
   "outputs": [],
   "source": [
    "current_time = datetime.now().strftime('%b%d_%H-%M-%S')\n",
    "comment = \"\"\n",
    "log_dir = os.path.join('experiments', current_time + '_' + comment)\n",
    "writer = SummaryWriter(log_dir)"
   ]
  },
  {
   "cell_type": "code",
   "execution_count": 26,
   "metadata": {},
   "outputs": [
    {
     "name": "stderr",
     "output_type": "stream",
     "text": [
      "Epoch 0: : 0batch [00:00, ?batch/s]/root/projects/uni/fml/FML/venv/lib/python3.8/site-packages/torch/nn/modules/loss.py:528: UserWarning: Using a target size (torch.Size([1000])) that is different to the input size (torch.Size([1000, 1000])). This will likely lead to incorrect results due to broadcasting. Please ensure they have the same size.\n",
      "  return F.mse_loss(input, target, reduction=self.reduction)\n",
      "Epoch 0: : 10batch [00:05,  1.67batch/s, loss=268]\n",
      "Epoch 1: : 10batch [00:05,  1.69batch/s, loss=170]\n",
      "Epoch 2: : 10batch [00:07,  1.33batch/s, loss=47.4]\n",
      "Epoch 3: : 10batch [00:08,  1.24batch/s, loss=20.2]\n",
      "Epoch 4: : 10batch [00:09,  1.09batch/s, loss=6.53]\n",
      "Epoch 5: : 10batch [00:07,  1.41batch/s, loss=8.81]\n",
      "Epoch 6: : 10batch [00:05,  1.70batch/s, loss=5.29]\n",
      "Epoch 7: : 10batch [00:06,  1.52batch/s, loss=6.09]\n",
      "Epoch 8: : 10batch [00:06,  1.50batch/s, loss=4.54]\n",
      "Epoch 9: : 10batch [00:07,  1.26batch/s, loss=6.83]\n",
      "Epoch 0: : 10batch [00:06,  1.50batch/s, loss=4.99]\n",
      "Epoch 1: : 10batch [00:05,  1.68batch/s, loss=4.44]\n",
      "Epoch 2: : 10batch [00:07,  1.40batch/s, loss=4.84]\n",
      "Epoch 3: : 10batch [00:05,  1.71batch/s, loss=4.96]\n",
      "Epoch 4: : 10batch [00:05,  1.67batch/s, loss=4.73]\n",
      "Epoch 5: : 10batch [00:05,  1.67batch/s, loss=5.01]\n",
      "Epoch 6: : 10batch [00:05,  1.74batch/s, loss=3.9]\n",
      "Epoch 7: : 10batch [00:05,  1.95batch/s, loss=4.63]\n",
      "Epoch 8: : 10batch [00:05,  1.77batch/s, loss=5.3]\n",
      "Epoch 9: : 10batch [00:05,  1.84batch/s, loss=4.65]\n",
      "Epoch 0: : 10batch [00:05,  1.94batch/s, loss=4.39]\n",
      "Epoch 1: : 10batch [00:05,  1.97batch/s, loss=4.2]\n",
      "Epoch 2: : 10batch [00:05,  1.90batch/s, loss=4.32]\n",
      "Epoch 3: : 10batch [00:04,  2.08batch/s, loss=4]\n",
      "Epoch 4: : 10batch [00:05,  1.97batch/s, loss=4.19]\n",
      "Epoch 5: : 10batch [00:04,  2.05batch/s, loss=4.23]\n",
      "Epoch 6: : 10batch [00:04,  2.12batch/s, loss=4.7]\n",
      "Epoch 7: : 10batch [00:04,  2.03batch/s, loss=4.78]\n",
      "Epoch 8: : 10batch [00:05,  1.77batch/s, loss=3.48]\n",
      "Epoch 9: : 10batch [00:05,  1.67batch/s, loss=3.76]\n"
     ]
    }
   ],
   "source": [
    "strike = 820\n",
    "n_simulations = 10_000\n",
    "initial_value = 818\n",
    "sigma = 0.11\n",
    "n_steps = 50\n",
    "rf = 0\n",
    "fc_dims = [32, 32, 32]\n",
    "LR = 0.005\n",
    "EPOCHS = 10\n",
    "BATCH_SIZE = 1000\n",
    "\n",
    "\n",
    "bs_params = {\"n_simulations\": n_simulations,\n",
    "             \"n_steps\": n_steps,\n",
    "             \"initial_value\": initial_value,\n",
    "             \"sigma\": sigma,\n",
    "             }\n",
    "\n",
    "price_params = {\"n_steps\": n_steps,\n",
    "                \"initial_value\": initial_value,\n",
    "                \"sigma\": sigma,\n",
    "                \"rf\": rf,\n",
    "                \"strike\": strike,\n",
    "                }\n",
    "\n",
    "payoff_params = {\"strike\": strike}\n",
    "\n",
    "cn = ControlNet(n_steps, 1, fc_dims, 1, learn_price=True)\n",
    "optimizer = Adam(cn.parameters(), lr=LR)\n",
    "scheduler = ExponentialLR(optimizer, gamma=0.95)\n",
    "criterion = torch.nn.MSELoss()\n",
    "\n",
    "for i in range(3):\n",
    "    \n",
    "    dt = SimulationData(bs_generator, bs_params, bs_call_price, price_params, call_payoff, payoff_params)\n",
    "    data_loader_train = DataLoader(dt, batch_size=BATCH_SIZE, shuffle=True)\n",
    "    train(data_loader_train, cn, criterion , optimizer, EPOCHS, writer, scheduler)"
   ]
  },
  {
   "cell_type": "code",
   "execution_count": 27,
   "metadata": {},
   "outputs": [
    {
     "name": "stdout",
     "output_type": "stream",
     "text": [
      "tensor([15.6873], grad_fn=<SelectBackward>) tensor(4.2100, grad_fn=<MseLossBackward>)\n"
     ]
    },
    {
     "name": "stderr",
     "output_type": "stream",
     "text": [
      "/root/projects/uni/fml/FML/venv/lib/python3.8/site-packages/torch/nn/modules/loss.py:528: UserWarning: Using a target size (torch.Size([10000])) that is different to the input size (torch.Size([10000, 10000])). This will likely lead to incorrect results due to broadcasting. Please ensure they have the same size.\n",
      "  return F.mse_loss(input, target, reduction=self.reduction)\n"
     ]
    }
   ],
   "source": [
    "# Evaluation In-Sample\n",
    "\n",
    "model_output ,learned_price, model_loss = test(data_loader_train, cn, criterion)\n",
    "print(learned_price[0], model_loss)"
   ]
  },
  {
   "cell_type": "code",
   "execution_count": 40,
   "metadata": {},
   "outputs": [
    {
     "data": {
      "text/plain": [
       "torch.Size([10000, 50])"
      ]
     },
     "execution_count": 40,
     "metadata": {},
     "output_type": "execute_result"
    }
   ],
   "source": [
    "model_output.shape"
   ]
  },
  {
   "cell_type": "code",
   "execution_count": 41,
   "metadata": {},
   "outputs": [
    {
     "data": {
      "text/plain": [
       "count    50.000000\n",
       "mean      0.423659\n",
       "std       0.225911\n",
       "min       0.183667\n",
       "25%       0.282414\n",
       "50%       0.339995\n",
       "75%       0.493648\n",
       "max       1.015232\n",
       "dtype: float64"
      ]
     },
     "execution_count": 41,
     "metadata": {},
     "output_type": "execute_result"
    }
   ],
   "source": [
    "pd.Series(model_output[0].squeeze().detach().numpy()).describe()"
   ]
  },
  {
   "cell_type": "code",
   "execution_count": 29,
   "metadata": {},
   "outputs": [
    {
     "name": "stdout",
     "output_type": "stream",
     "text": [
      "tensor([15.0275])\n"
     ]
    }
   ],
   "source": [
    "x, x_inc, payoff, price = data_loader_train.dataset[:]\n",
    "x_copy = torch.clone(x)\n",
    "print(price)"
   ]
  },
  {
   "cell_type": "code",
   "execution_count": 30,
   "metadata": {},
   "outputs": [
    {
     "name": "stdout",
     "output_type": "stream",
     "text": [
      "tensor(19.0946)\n"
     ]
    }
   ],
   "source": [
    "# Comparison with delta hedging\n",
    "\n",
    "def delta(x):\n",
    "    return bs_delta(n_steps, x, sigma, rf, strike)\n",
    "\n",
    "d_hedge = x.apply_(delta)\n",
    "si = stochastic_integral(x_inc, d_hedge)\n",
    "delta_loss = criterion(price + si, payoff)\n",
    "\n",
    "print(delta_loss)"
   ]
  },
  {
   "cell_type": "code",
   "execution_count": 31,
   "metadata": {},
   "outputs": [
    {
     "data": {
      "text/plain": [
       "torch.Size([10000, 50, 1])"
      ]
     },
     "execution_count": 31,
     "metadata": {},
     "output_type": "execute_result"
    }
   ],
   "source": [
    "d_hedge.shape"
   ]
  },
  {
   "cell_type": "code",
   "execution_count": 43,
   "metadata": {},
   "outputs": [
    {
     "data": {
      "text/plain": [
       "count    50.000000\n",
       "mean      0.434933\n",
       "std       0.124021\n",
       "min       0.284442\n",
       "25%       0.346725\n",
       "50%       0.387335\n",
       "75%       0.498164\n",
       "max       0.751412\n",
       "dtype: float64"
      ]
     },
     "execution_count": 43,
     "metadata": {},
     "output_type": "execute_result"
    }
   ],
   "source": [
    "pd.Series(d_hedge[0].squeeze().numpy()).describe()"
   ]
  },
  {
   "cell_type": "code",
   "execution_count": 33,
   "metadata": {},
   "outputs": [
    {
     "data": {
      "text/plain": [
       "<matplotlib.legend.Legend at 0x7f607fe64970>"
      ]
     },
     "execution_count": 33,
     "metadata": {},
     "output_type": "execute_result"
    },
    {
     "data": {
      "image/png": "[encoded data removed]",
      "text/plain": [
       "<Figure size 432x288 with 1 Axes>"
      ]
     },
     "metadata": {
      "needs_background": "light"
     },
     "output_type": "display_data"
    }
   ],
   "source": [
    "# Plot without underlying\n",
    "\n",
    "plt.plot(d_hedge[0], label=\"Delta Hedge\", c='r')\n",
    "plt.plot(model_output[0].detach().numpy(), label=\"Model Hedge\", c='orange')\n",
    "plt.legend()"
   ]
  },
  {
   "cell_type": "code",
   "execution_count": 34,
   "metadata": {},
   "outputs": [
    {
     "data": {
      "image/png": "[encoded data removed]",
      "text/plain": [
       "<Figure size 432x288 with 2 Axes>"
      ]
     },
     "metadata": {
      "needs_background": "light"
     },
     "output_type": "display_data"
    }
   ],
   "source": [
    "# Plot with underlying\n",
    "fig, ax1 = plt.subplots()\n",
    "\n",
    "ax1.set_ylabel('Hedge')\n",
    "ax1.plot(d_hedge[0], label=\"Delta Hedge\", c='r')\n",
    "ax1.plot(model_output[0].detach().numpy(), label=\"Model Hedge\", c='orange')\n",
    "ax1.tick_params(axis='y')\n",
    "\n",
    "ax2 = ax1.twinx()\n",
    "ax2.set_ylabel('Underlying') \n",
    "ax2.plot(x_copy[0].squeeze(), label=\"S\")\n",
    "ax2.tick_params(axis='y')\n",
    "\n",
    "\n",
    "handles, labels = ax2.get_legend_handles_labels()\n",
    "\n",
    "\n",
    "lines_labels = [ax.get_legend_handles_labels() for ax in fig.axes]\n",
    "lines, labels = [sum(lol, []) for lol in zip(*lines_labels)]\n",
    "fig.legend(lines, labels, loc = 'lower left')\n",
    "\n",
    "plt.show()\n"
   ]
  },
  {
   "cell_type": "code",
   "execution_count": 9,
   "metadata": {
    "scrolled": true
   },
   "outputs": [
    {
     "name": "stdout",
     "output_type": "stream",
     "text": [
      "tensor(4.4090, grad_fn=<MseLossBackward>)\n",
      "tensor(19.4370)\n"
     ]
    }
   ],
   "source": [
    "# Evaluation Out-of-Sample\n",
    "# Not Implemented at the moment; but also not really relevant\n",
    "\n",
    "#data_loader_test = DataLoader(dt_test, batch_size=20, shuffle=True)\n",
    "#_ , learned_price, model_loss = test(data_loader_test, cn, criterion)\n",
    "#\n",
    "#l = len(data_loader_test.dataset)\n",
    "#x, x_inc, payoff, price = data_loader_test.dataset[:l]\n",
    "#\n",
    "#d_hedge = x.apply_(delta)\n",
    "#si = stochastic_integral(x_inc, d_hedge)\n",
    "#delta_loss = criterion(price + si, payoff)\n",
    "#\n",
    "#print(model_loss)\n",
    "#print(delta_loss)"
   ]
  },
  {
   "cell_type": "code",
   "execution_count": 10,
   "metadata": {},
   "outputs": [
    {
     "data": {
      "text/plain": [
       "[<matplotlib.lines.Line2D at 0x7f608c45b4f0>]"
      ]
     },
     "execution_count": 10,
     "metadata": {},
     "output_type": "execute_result"
    },
    {
     "data": {
      "image/png": "[encoded data removed]",
      "text/plain": [
       "<Figure size 432x288 with 1 Axes>"
      ]
     },
     "metadata": {
      "needs_background": "light"
     },
     "output_type": "display_data"
    }
   ],
   "source": [
    "# Useful stuff for inspecting the model\n",
    "\n",
    "# print gradients of first FNN's first layer\n",
    "\n",
    "m = cn.nets[0].model\n",
    "m[0].weight.grad\n",
    "\n",
    "# Plot a training trajectory\n",
    "a, b, c, d = next(iter(data_loader_train))\n",
    "plt.plot(a[0])"
   ]
  },
  {
   "cell_type": "code",
   "execution_count": 11,
   "metadata": {},
   "outputs": [
    {
     "data": {
      "text/plain": [
       "0.0"
      ]
     },
     "execution_count": 11,
     "metadata": {},
     "output_type": "execute_result"
    }
   ],
   "source": [
    "# At the moment: Don't use scaling\n",
    "\n",
    "# Important note regarding scaling: Note that BS price is homogenous wrt. stock and strike price\n",
    "# i.e., C(aS, aK) = a * C(S, K)\n",
    "# Is this satisfied when we move to real prices? Is it even relevant? (esp. when learning the price)\n",
    "\n",
    "round(bs_call_price(n_steps, 100, sigma, 0, 80) - 80 * bs_call_price(n_steps, 100 / 80, sigma, 0, 1), 8)"
   ]
  }
 ],
 "metadata": {
  "interpreter": {
   "hash": "9f5e567d87b18601037d8bd90b6477353143d668259048eee49a116983c03570"
  },
  "kernelspec": {
   "display_name": "Python [conda env:deep_hedging]",
   "language": "python",
   "name": "python3"
  },
  "language_info": {
   "codemirror_mode": {
    "name": "ipython",
    "version": 3
   },
   "file_extension": ".py",
   "mimetype": "text/x-python",
   "name": "python",
   "nbconvert_exporter": "python",
   "pygments_lexer": "ipython3",
   "version": "3.8.10"
  }
 },
 "nbformat": 4,
 "nbformat_minor": 2
}
