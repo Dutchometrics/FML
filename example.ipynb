{
 "cells": [
  {
   "cell_type": "code",
   "execution_count": 44,
   "metadata": {},
   "outputs": [
    {
     "name": "stdout",
     "output_type": "stream",
     "text": [
      "The autoreload extension is already loaded. To reload it, use:\n",
      "  %reload_ext autoreload\n"
     ]
    },
    {
     "name": "stderr",
     "output_type": "stream",
     "text": [
      "Epoch 0: : 23batch [00:00, 41.83batch/s, loss=5.78]\n",
      "Epoch 1: : 23batch [00:00, 42.49batch/s, loss=3.87]\n",
      "Epoch 2: : 23batch [00:00, 42.28batch/s, loss=1.66]\n",
      "Epoch 3: : 23batch [00:00, 43.23batch/s, loss=1.91]\n",
      "Epoch 4: : 23batch [00:00, 43.64batch/s, loss=3.32]\n",
      "Epoch 5: : 23batch [00:00, 42.85batch/s, loss=0.554]\n",
      "Epoch 6: : 23batch [00:00, 43.89batch/s, loss=2.98]\n",
      "Epoch 7: : 23batch [00:00, 43.92batch/s, loss=2.46]\n",
      "Epoch 8: : 23batch [00:00, 42.62batch/s, loss=2.5] \n",
      "Epoch 9: : 23batch [00:00, 43.57batch/s, loss=2.99]\n",
      "Epoch 10: : 23batch [00:00, 41.74batch/s, loss=1.81]\n",
      "Epoch 11: : 23batch [00:00, 42.93batch/s, loss=2.26]\n",
      "Epoch 12: : 23batch [00:00, 42.61batch/s, loss=2]   \n",
      "Epoch 13: : 23batch [00:00, 42.65batch/s, loss=1.85]\n",
      "Epoch 14: : 23batch [00:00, 42.43batch/s, loss=2.57]\n",
      "Epoch 15: : 23batch [00:00, 43.13batch/s, loss=2.13] \n",
      "Epoch 16: : 23batch [00:00, 43.32batch/s, loss=3.41]\n",
      "Epoch 17: : 23batch [00:00, 40.61batch/s, loss=2.76]\n",
      "Epoch 18: : 23batch [00:00, 38.54batch/s, loss=1.91]\n",
      "Epoch 19: : 23batch [00:00, 42.73batch/s, loss=1.88]\n"
     ]
    }
   ],
   "source": [
    "%load_ext autoreload\n",
    "%autoreload 2\n",
    "\n",
    "import os\n",
    "from datetime import datetime\n",
    "import torch\n",
    "from torch.utils.data import DataLoader\n",
    "from torch.optim import Adam\n",
    "from torch.utils.tensorboard import SummaryWriter\n",
    "\n",
    "from market_dynamics import bs_delta, bs_generator, bs_call_price\n",
    "from data import SimulationData\n",
    "from utils import call_payoff, stochastic_integral\n",
    "from models import ControlNet\n",
    "from train import train, test\n",
    "\n",
    "import seaborn as sns\n",
    "\n",
    "current_time = datetime.now().strftime('%b%d_%H-%M-%S')\n",
    "comment = \"\"\n",
    "log_dir = os.path.join('experiments', current_time + '_' + comment)\n",
    "writer = SummaryWriter(log_dir)\n",
    "\n",
    "n_simulations = 500 \n",
    "initial_value = 100\n",
    "sigma = 0.2\n",
    "n_steps = 50\n",
    "rf = 0\n",
    "strike = 95\n",
    "fc_dims = [16, 16]\n",
    "LR = 0.01\n",
    "EPOCHS = 20\n",
    "p_train = 0.9\n",
    "\n",
    "bs_params = {\"n_simulations\": n_simulations,\n",
    "             \"n_steps\": n_steps,\n",
    "             \"initial_value\": initial_value,\n",
    "             \"sigma\": sigma,\n",
    "             }\n",
    "\n",
    "price_params = {\"n_steps\": n_steps,\n",
    "                \"initial_value\": initial_value,\n",
    "                \"sigma\": sigma,\n",
    "                \"rf\": rf,\n",
    "                \"strike\": strike,\n",
    "                }\n",
    "\n",
    "payoff_params = {\"strike\": strike}\n",
    "\n",
    "n_train = int(p_train * n_simulations)\n",
    "n_test = n_simulations - n_train\n",
    "\n",
    "dt = SimulationData(bs_generator, bs_params, bs_call_price, price_params, call_payoff, payoff_params)\n",
    "dt_train, dt_test = torch.utils.data.random_split(dt, [n_train, n_test])\n",
    "data_loader_train = DataLoader(dt_train, batch_size=20, shuffle=True)\n",
    "cn = ControlNet(n_steps, 1, fc_dims, 1)\n",
    "\n",
    "optimizer = Adam(cn.parameters(), lr=LR)\n",
    "criterion = torch.nn.MSELoss()\n",
    "train(data_loader_train, cn, criterion , optimizer, EPOCHS, writer)"
   ]
  },
  {
   "cell_type": "code",
   "execution_count": 45,
   "metadata": {},
   "outputs": [],
   "source": [
    "def delta(x):\n",
    "    return bs_delta(n_steps, x, sigma, rf, strike)"
   ]
  },
  {
   "cell_type": "code",
   "execution_count": 46,
   "metadata": {},
   "outputs": [
    {
     "name": "stdout",
     "output_type": "stream",
     "text": [
      "tensor(1.5993, grad_fn=<MseLossBackward>)\n",
      "tensor(2.8343)\n"
     ]
    }
   ],
   "source": [
    "# Evaluation In-Sample\n",
    "\n",
    "_ ,model_loss = test(data_loader_train, cn, criterion)\n",
    "\n",
    "l = len(data_loader_train.dataset)\n",
    "x, x_inc, payoff, price = data_loader_train.dataset[:l]\n",
    "\n",
    "d_hedge = x.apply_(delta)\n",
    "si = stochastic_integral(x_inc, d_hedge)\n",
    "delta_loss = criterion(price + si, payoff)\n",
    "\n",
    "print(model_loss)\n",
    "print(delta_loss)"
   ]
  },
  {
   "cell_type": "code",
   "execution_count": 47,
   "metadata": {
    "scrolled": true
   },
   "outputs": [
    {
     "name": "stdout",
     "output_type": "stream",
     "text": [
      "tensor(1.3253, grad_fn=<MseLossBackward>)\n",
      "tensor(3.0624)\n"
     ]
    }
   ],
   "source": [
    "# Evaluation Out-Sample\n",
    "data_loader_test = DataLoader(dt_test, batch_size=20, shuffle=True)\n",
    "\n",
    "_ ,model_loss = test(data_loader_test, cn, criterion)\n",
    "\n",
    "l = len(data_loader_test.dataset)\n",
    "x, x_inc, payoff, price = data_loader_test.dataset[:l]\n",
    "\n",
    "d_hedge = x.apply_(delta)\n",
    "si = stochastic_integral(x_inc, d_hedge)\n",
    "delta_loss = criterion(price + si, payoff)\n",
    "\n",
    "print(model_loss)\n",
    "print(delta_loss)"
   ]
  },
  {
   "cell_type": "code",
   "execution_count": null,
   "metadata": {},
   "outputs": [],
   "source": []
  }
 ],
 "metadata": {
  "interpreter": {
   "hash": "9f5e567d87b18601037d8bd90b6477353143d668259048eee49a116983c03570"
  },
  "kernelspec": {
   "display_name": "Python [conda env:deep_hedging]",
   "language": "python",
   "name": "conda-env-deep_hedging-py"
  },
  "language_info": {
   "codemirror_mode": {
    "name": "ipython",
    "version": 3
   },
   "file_extension": ".py",
   "mimetype": "text/x-python",
   "name": "python",
   "nbconvert_exporter": "python",
   "pygments_lexer": "ipython3",
   "version": "3.8.12"
  }
 },
 "nbformat": 4,
 "nbformat_minor": 2
}
