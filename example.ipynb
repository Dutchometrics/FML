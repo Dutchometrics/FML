{
 "cells": [
  {
   "cell_type": "code",
   "execution_count": 2,
   "metadata": {},
   "outputs": [],
   "source": [
    "%load_ext autoreload\n",
    "%autoreload 2\n",
    "\n",
    "import os\n",
    "from datetime import datetime\n",
    "import matplotlib.pyplot as plt\n",
    "import torch\n",
    "from torch.utils.data import DataLoader\n",
    "from torch.optim import Adam\n",
    "from torch.utils.tensorboard import SummaryWriter\n",
    "\n",
    "from market_dynamics import bs_delta, bs_generator, bs_call_price\n",
    "from data import SimulationData\n",
    "from utils import call_payoff, stochastic_integral\n",
    "from models import ControlNet\n",
    "from train import train, test"
   ]
  },
  {
   "cell_type": "code",
   "execution_count": 3,
   "metadata": {},
   "outputs": [],
   "source": [
    "current_time = datetime.now().strftime('%b%d_%H-%M-%S')\n",
    "comment = \"\"\n",
    "log_dir = os.path.join('experiments', current_time + '_' + comment)\n",
    "writer = SummaryWriter(log_dir)"
   ]
  },
  {
   "cell_type": "code",
   "execution_count": 8,
   "metadata": {},
   "outputs": [
    {
     "name": "stderr",
     "output_type": "stream",
     "text": [
      "Epoch 0: : 23batch [00:00, 27.22batch/s, loss=7.71e+5]\n",
      "Epoch 1: : 23batch [00:00, 28.26batch/s, loss=7.06e+4]\n",
      "Epoch 2: : 23batch [00:00, 25.41batch/s, loss=4.36e+4]\n",
      "Epoch 3: : 23batch [00:00, 34.54batch/s, loss=7.19e+3]\n",
      "Epoch 4: : 23batch [00:00, 38.12batch/s, loss=6.75e+3]\n",
      "Epoch 5: : 23batch [00:00, 38.36batch/s, loss=1.4e+3]\n",
      "Epoch 6: : 23batch [00:00, 35.66batch/s, loss=533]\n",
      "Epoch 7: : 23batch [00:00, 35.08batch/s, loss=797]\n",
      "Epoch 8: : 23batch [00:00, 35.27batch/s, loss=238]\n",
      "Epoch 9: : 23batch [00:00, 36.36batch/s, loss=418]\n",
      "Epoch 10: : 23batch [00:00, 36.85batch/s, loss=376]\n",
      "Epoch 11: : 23batch [00:00, 32.96batch/s, loss=393]\n",
      "Epoch 12: : 23batch [00:00, 29.72batch/s, loss=270]\n",
      "Epoch 13: : 23batch [00:00, 26.61batch/s, loss=513]\n",
      "Epoch 14: : 23batch [00:00, 24.64batch/s, loss=440]\n",
      "Epoch 15: : 23batch [00:00, 31.58batch/s, loss=516]\n",
      "Epoch 16: : 23batch [00:00, 33.54batch/s, loss=508]\n",
      "Epoch 17: : 23batch [00:00, 34.38batch/s, loss=162]\n",
      "Epoch 18: : 23batch [00:00, 35.32batch/s, loss=492]\n",
      "Epoch 19: : 23batch [00:00, 26.58batch/s, loss=753]\n",
      "Epoch 20: : 23batch [00:00, 27.97batch/s, loss=449]\n",
      "Epoch 21: : 23batch [00:00, 29.19batch/s, loss=1.68e+3]\n",
      "Epoch 22: : 23batch [00:00, 35.11batch/s, loss=1.18e+3]\n",
      "Epoch 23: : 23batch [00:00, 34.79batch/s, loss=1.07e+3]\n",
      "Epoch 24: : 23batch [00:00, 35.18batch/s, loss=942]\n",
      "Epoch 25: : 23batch [00:00, 36.58batch/s, loss=1.02e+3]\n",
      "Epoch 26: : 23batch [00:00, 31.81batch/s, loss=8.02e+3]\n",
      "Epoch 27: : 23batch [00:00, 34.92batch/s, loss=7.35e+3]\n",
      "Epoch 28: : 23batch [00:00, 36.42batch/s, loss=1.1e+4]\n",
      "Epoch 29: : 23batch [00:00, 31.71batch/s, loss=9.99e+3]\n"
     ]
    }
   ],
   "source": [
    "n_simulations = 500 \n",
    "initial_value = 818\n",
    "sigma = 0.11\n",
    "n_steps = 50\n",
    "rf = 0\n",
    "strike = 820\n",
    "fc_dims = [16, 16]\n",
    "LR = 0.01\n",
    "EPOCHS = 30\n",
    "p_train = 0.9\n",
    "\n",
    "bs_params = {\"n_simulations\": n_simulations,\n",
    "             \"n_steps\": n_steps,\n",
    "             \"initial_value\": initial_value,\n",
    "             \"sigma\": sigma,\n",
    "             }\n",
    "\n",
    "price_params = {\"n_steps\": n_steps,\n",
    "                \"initial_value\": initial_value,\n",
    "                \"sigma\": sigma,\n",
    "                \"rf\": rf,\n",
    "                \"strike\": strike,\n",
    "                }\n",
    "\n",
    "payoff_params = {\"strike\": strike}\n",
    "\n",
    "n_train = int(p_train * n_simulations)\n",
    "n_test = n_simulations - n_train\n",
    "\n",
    "dt = SimulationData(bs_generator, bs_params, bs_call_price, price_params, call_payoff, payoff_params)\n",
    "dt_train, dt_test = torch.utils.data.random_split(dt, [n_train, n_test])\n",
    "data_loader_train = DataLoader(dt_train, batch_size=20, shuffle=True)\n",
    "cn = ControlNet(n_steps, 1, fc_dims, 1)\n",
    "\n",
    "optimizer = Adam(cn.parameters(), lr=LR)\n",
    "criterion = torch.nn.MSELoss()\n",
    "train(data_loader_train, cn, criterion , optimizer, EPOCHS, writer)"
   ]
  },
  {
   "cell_type": "code",
   "execution_count": 5,
   "metadata": {},
   "outputs": [
    {
     "data": {
      "text/plain": [
       "[<matplotlib.lines.Line2D at 0x7fefacf0b6a0>]"
      ]
     },
     "execution_count": 5,
     "metadata": {},
     "output_type": "execute_result"
    },
    {
     "data": {
      "image/png": "[encoded data removed]",
      "text/plain": [
       "<Figure size 432x288 with 1 Axes>"
      ]
     },
     "metadata": {
      "needs_background": "light"
     },
     "output_type": "display_data"
    }
   ],
   "source": [
    "a, b, c, d = next(iter(data_loader_train))\n",
    "plt.plot(a[0])"
   ]
  },
  {
   "cell_type": "code",
   "execution_count": 4,
   "metadata": {},
   "outputs": [],
   "source": [
    "def delta(x):\n",
    "    return bs_delta(n_steps, x, sigma, rf, strike)"
   ]
  },
  {
   "cell_type": "code",
   "execution_count": 5,
   "metadata": {},
   "outputs": [
    {
     "name": "stdout",
     "output_type": "stream",
     "text": [
      "tensor(1.5849, grad_fn=<MseLossBackward>)\n",
      "tensor(2.8651)\n"
     ]
    }
   ],
   "source": [
    "# Evaluation In-Sample\n",
    "\n",
    "_ ,model_loss = test(data_loader_train, cn, criterion)\n",
    "\n",
    "l = len(data_loader_train.dataset)\n",
    "x, x_inc, payoff, price = data_loader_train.dataset[:l]\n",
    "\n",
    "d_hedge = x.apply_(delta)\n",
    "si = stochastic_integral(x_inc, d_hedge)\n",
    "delta_loss = criterion(price + si, payoff)\n",
    "\n",
    "print(model_loss)\n",
    "print(delta_loss)"
   ]
  },
  {
   "cell_type": "code",
   "execution_count": 6,
   "metadata": {
    "scrolled": true
   },
   "outputs": [
    {
     "name": "stdout",
     "output_type": "stream",
     "text": [
      "tensor(1.9028, grad_fn=<MseLossBackward>)\n",
      "tensor(2.7848)\n"
     ]
    }
   ],
   "source": [
    "# Evaluation Out-Sample\n",
    "data_loader_test = DataLoader(dt_test, batch_size=20, shuffle=True)\n",
    "\n",
    "_ ,model_loss = test(data_loader_test, cn, criterion)\n",
    "\n",
    "l = len(data_loader_test.dataset)\n",
    "x, x_inc, payoff, price = data_loader_test.dataset[:l]\n",
    "\n",
    "d_hedge = x.apply_(delta)\n",
    "si = stochastic_integral(x_inc, d_hedge)\n",
    "delta_loss = criterion(price + si, payoff)\n",
    "\n",
    "print(model_loss)\n",
    "print(delta_loss)"
   ]
  }
 ],
 "metadata": {
  "interpreter": {
   "hash": "9f5e567d87b18601037d8bd90b6477353143d668259048eee49a116983c03570"
  },
  "kernelspec": {
   "display_name": "Python [conda env:deep_hedging]",
   "language": "python",
   "name": "python3"
  },
  "language_info": {
   "codemirror_mode": {
    "name": "ipython",
    "version": 3
   },
   "file_extension": ".py",
   "mimetype": "text/x-python",
   "name": "python",
   "nbconvert_exporter": "python",
   "pygments_lexer": "ipython3",
   "version": "3.8.10"
  }
 },
 "nbformat": 4,
 "nbformat_minor": 2
}
