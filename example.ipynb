{
 "cells": [
  {
   "cell_type": "code",
   "execution_count": 1,
   "metadata": {},
   "outputs": [],
   "source": [
    "%load_ext autoreload\n",
    "%autoreload 2\n",
    "\n",
    "import os\n",
    "from datetime import datetime\n",
    "import torch\n",
    "from torch.utils.data import DataLoader\n",
    "from torch.optim import Adam\n",
    "from torch.utils.tensorboard import SummaryWriter\n",
    "\n",
    "from market_dynamics import bs_delta, bs_generator, bs_call_price\n",
    "from sim_data import SimulationData\n",
    "from utils import call_payoff, stochastic_integral\n",
    "from models import ControlNet\n",
    "from train import train, test"
   ]
  },
  {
   "cell_type": "code",
   "execution_count": 2,
   "metadata": {},
   "outputs": [],
   "source": [
    "current_time = datetime.now().strftime('%b%d_%H-%M-%S')\n",
    "comment = \"\"\n",
    "log_dir = os.path.join('experiments', current_time + '_' + comment)\n",
    "writer = SummaryWriter(log_dir)"
   ]
  },
  {
   "cell_type": "code",
   "execution_count": 3,
   "metadata": {},
   "outputs": [
    {
     "name": "stderr",
     "output_type": "stream",
     "text": [
      "Epoch 0: : 0batch [00:00, ?batch/s]/root/projects/uni/fml/FML/venv/lib/python3.8/site-packages/torch/nn/modules/loss.py:528: UserWarning: Using a target size (torch.Size([20])) that is different to the input size (torch.Size([20, 20])). This will likely lead to incorrect results due to broadcasting. Please ensure they have the same size.\n",
      "  return F.mse_loss(input, target, reduction=self.reduction)\n",
      "Epoch 0: : 22batch [00:01, 16.04batch/s, loss=8.14]/root/projects/uni/fml/FML/venv/lib/python3.8/site-packages/torch/nn/modules/loss.py:528: UserWarning: Using a target size (torch.Size([10])) that is different to the input size (torch.Size([10, 10])). This will likely lead to incorrect results due to broadcasting. Please ensure they have the same size.\n",
      "  return F.mse_loss(input, target, reduction=self.reduction)\n",
      "Epoch 0: : 23batch [00:01, 15.79batch/s, loss=7.95]\n",
      "Epoch 1: : 23batch [00:01, 18.77batch/s, loss=4.09]\n",
      "Epoch 2: : 23batch [00:01, 19.61batch/s, loss=2.43]\n",
      "Epoch 3: : 23batch [00:01, 19.87batch/s, loss=1.77]\n",
      "Epoch 4: : 23batch [00:00, 23.27batch/s, loss=3.34]\n",
      "Epoch 5: : 23batch [00:01, 22.33batch/s, loss=2.51]\n",
      "Epoch 6: : 23batch [00:01, 19.85batch/s, loss=0.997]\n",
      "Epoch 7: : 23batch [00:01, 19.82batch/s, loss=1.19]\n",
      "Epoch 8: : 23batch [00:01, 17.65batch/s, loss=0.751]\n",
      "Epoch 9: : 23batch [00:01, 19.64batch/s, loss=1.65]\n",
      "Epoch 10: : 23batch [00:00, 25.12batch/s, loss=2.11]\n",
      "Epoch 11: : 23batch [00:01, 20.92batch/s, loss=2.78]\n",
      "Epoch 12: : 23batch [00:01, 21.51batch/s, loss=1.97]\n",
      "Epoch 13: : 23batch [00:00, 30.00batch/s, loss=3.12]\n",
      "Epoch 14: : 23batch [00:00, 24.55batch/s, loss=2.79]\n",
      "Epoch 15: : 23batch [00:01, 21.11batch/s, loss=1.12]\n",
      "Epoch 16: : 23batch [00:01, 21.34batch/s, loss=1.31]\n",
      "Epoch 17: : 23batch [00:00, 23.78batch/s, loss=3.14]\n",
      "Epoch 18: : 23batch [00:00, 23.58batch/s, loss=2.32]\n",
      "Epoch 19: : 23batch [00:00, 24.40batch/s, loss=1.77]\n"
     ]
    }
   ],
   "source": [
    "n_simulations = 500 \n",
    "initial_value = 100\n",
    "sigma = 0.2\n",
    "n_steps = 50\n",
    "rf = 0\n",
    "strike = 95\n",
    "fc_dims = [16, 16]\n",
    "LR = 0.01\n",
    "EPOCHS = 20\n",
    "p_train = 0.9\n",
    "\n",
    "bs_params = {\"n_simulations\": n_simulations,\n",
    "             \"n_steps\": n_steps,\n",
    "             \"initial_value\": initial_value,\n",
    "             \"sigma\": sigma,\n",
    "             }\n",
    "\n",
    "price_params = {\"n_steps\": n_steps,\n",
    "                \"initial_value\": initial_value,\n",
    "                \"sigma\": sigma,\n",
    "                \"rf\": rf,\n",
    "                \"strike\": strike,\n",
    "                }\n",
    "\n",
    "payoff_params = {\"strike\": strike}\n",
    "\n",
    "n_train = int(p_train * n_simulations)\n",
    "n_test = n_simulations - n_train\n",
    "\n",
    "dt = SimulationData(bs_generator, bs_params, bs_call_price, price_params, call_payoff, payoff_params)\n",
    "dt_train, dt_test = torch.utils.data.random_split(dt, [n_train, n_test])\n",
    "data_loader_train = DataLoader(dt_train, batch_size=20, shuffle=True)\n",
    "cn = ControlNet(n_steps, 1, fc_dims, 1)\n",
    "\n",
    "optimizer = Adam(cn.parameters(), lr=LR)\n",
    "criterion = torch.nn.MSELoss()\n",
    "train(data_loader_train, cn, criterion , optimizer, EPOCHS, writer)"
   ]
  },
  {
   "cell_type": "code",
   "execution_count": 4,
   "metadata": {},
   "outputs": [],
   "source": [
    "def delta(x):\n",
    "    return bs_delta(n_steps, x, sigma, rf, strike)"
   ]
  },
  {
   "cell_type": "code",
   "execution_count": 5,
   "metadata": {},
   "outputs": [
    {
     "name": "stdout",
     "output_type": "stream",
     "text": [
      "tensor(1.5849, grad_fn=<MseLossBackward>)\n",
      "tensor(2.8651)\n"
     ]
    }
   ],
   "source": [
    "# Evaluation In-Sample\n",
    "\n",
    "_ ,model_loss = test(data_loader_train, cn, criterion)\n",
    "\n",
    "l = len(data_loader_train.dataset)\n",
    "x, x_inc, payoff, price = data_loader_train.dataset[:l]\n",
    "\n",
    "d_hedge = x.apply_(delta)\n",
    "si = stochastic_integral(x_inc, d_hedge)\n",
    "delta_loss = criterion(price + si, payoff)\n",
    "\n",
    "print(model_loss)\n",
    "print(delta_loss)"
   ]
  },
  {
   "cell_type": "code",
   "execution_count": 6,
   "metadata": {
    "scrolled": true
   },
   "outputs": [
    {
     "name": "stdout",
     "output_type": "stream",
     "text": [
      "tensor(1.9028, grad_fn=<MseLossBackward>)\n",
      "tensor(2.7848)\n"
     ]
    }
   ],
   "source": [
    "# Evaluation Out-Sample\n",
    "data_loader_test = DataLoader(dt_test, batch_size=20, shuffle=True)\n",
    "\n",
    "_ ,model_loss = test(data_loader_test, cn, criterion)\n",
    "\n",
    "l = len(data_loader_test.dataset)\n",
    "x, x_inc, payoff, price = data_loader_test.dataset[:l]\n",
    "\n",
    "d_hedge = x.apply_(delta)\n",
    "si = stochastic_integral(x_inc, d_hedge)\n",
    "delta_loss = criterion(price + si, payoff)\n",
    "\n",
    "print(model_loss)\n",
    "print(delta_loss)"
   ]
  }
 ],
 "metadata": {
  "interpreter": {
   "hash": "9f5e567d87b18601037d8bd90b6477353143d668259048eee49a116983c03570"
  },
  "kernelspec": {
   "display_name": "Python [conda env:deep_hedging]",
   "language": "python",
   "name": "python3"
  },
  "language_info": {
   "codemirror_mode": {
    "name": "ipython",
    "version": 3
   },
   "file_extension": ".py",
   "mimetype": "text/x-python",
   "name": "python",
   "nbconvert_exporter": "python",
   "pygments_lexer": "ipython3",
   "version": "3.8.10"
  }
 },
 "nbformat": 4,
 "nbformat_minor": 2
}
