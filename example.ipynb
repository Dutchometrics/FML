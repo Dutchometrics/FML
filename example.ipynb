{
 "cells": [
  {
   "cell_type": "code",
   "execution_count": 21,
   "metadata": {},
   "outputs": [
    {
     "name": "stdout",
     "output_type": "stream",
     "text": [
      "The autoreload extension is already loaded. To reload it, use:\n",
      "  %reload_ext autoreload\n"
     ]
    }
   ],
   "source": [
    "%load_ext autoreload\n",
    "%autoreload 2\n",
    "\n",
    "import os\n",
    "from datetime import datetime\n",
    "import matplotlib.pyplot as plt\n",
    "import torch\n",
    "from torch.utils.data import DataLoader\n",
    "from torch.optim import Adam\n",
    "from torch.utils.tensorboard import SummaryWriter\n",
    "\n",
    "from market_dynamics import bs_delta, bs_generator, bs_call_price\n",
    "from data import SimulationData\n",
    "from utils import call_payoff, stochastic_integral\n",
    "from models import ControlNet\n",
    "from train import train, test"
   ]
  },
  {
   "cell_type": "code",
   "execution_count": 22,
   "metadata": {},
   "outputs": [],
   "source": [
    "current_time = datetime.now().strftime('%b%d_%H-%M-%S')\n",
    "comment = \"\"\n",
    "log_dir = os.path.join('experiments', current_time + '_' + comment)\n",
    "writer = SummaryWriter(log_dir)"
   ]
  },
  {
   "cell_type": "code",
   "execution_count": 27,
   "metadata": {},
   "outputs": [
    {
     "name": "stderr",
     "output_type": "stream",
     "text": [
      "Epoch 0: : 0batch [04:25, ?batch/s]/root/projects/uni/fml/FML/venv/lib/python3.8/site-packages/torch/nn/modules/loss.py:528: UserWarning: Using a target size (torch.Size([1000])) that is different to the input size (torch.Size([1000, 1000])). This will likely lead to incorrect results due to broadcasting. Please ensure they have the same size.\n",
      "  return F.mse_loss(input, target, reduction=self.reduction)\n",
      "Epoch 0: : 45batch [17:52, 23.83s/batch, loss=2.69]\n",
      "Epoch 1: : 45batch [07:26,  9.93s/batch, loss=2.13]\n",
      "Epoch 2: : 45batch [09:40, 12.89s/batch, loss=1.82]\n",
      "Epoch 3: : 45batch [05:34,  7.44s/batch, loss=2.04]\n",
      "Epoch 4: : 45batch [08:04, 10.76s/batch, loss=2.16]\n",
      "Epoch 5: : 45batch [02:33,  3.42s/batch, loss=1.89]\n",
      "Epoch 6: : 45batch [05:24,  7.22s/batch, loss=2.08]\n",
      "Epoch 7: : 45batch [04:14,  5.64s/batch, loss=1.95]\n",
      "Epoch 8: : 45batch [02:55,  3.91s/batch, loss=2.12]\n",
      "Epoch 9: : 45batch [02:38,  3.53s/batch, loss=2.03]\n",
      "Epoch 10: : 45batch [02:32,  3.39s/batch, loss=2.05]\n",
      "Epoch 11: : 45batch [51:26, 68.60s/batch, loss=2.2]\n",
      "Epoch 12: : 16batch [05:05,  7.34s/batch, loss=1.94]"
     ]
    }
   ],
   "source": [
    "strike = 820\n",
    "n_simulations = 50_000\n",
    "initial_value = (818 / strike) * 100\n",
    "sigma = 0.11\n",
    "n_steps = 50\n",
    "rf = 0\n",
    "fc_dims = [32, 32, 32]\n",
    "LR = 0.001\n",
    "EPOCHS = 20\n",
    "BATCH_SIZE = 1000\n",
    "p_train = 0.9\n",
    "\n",
    "strike = (strike / strike) * 100\n",
    "\n",
    "bs_params = {\"n_simulations\": n_simulations,\n",
    "             \"n_steps\": n_steps,\n",
    "             \"initial_value\": initial_value,\n",
    "             \"sigma\": sigma,\n",
    "             }\n",
    "\n",
    "price_params = {\"n_steps\": n_steps,\n",
    "                \"initial_value\": initial_value,\n",
    "                \"sigma\": sigma,\n",
    "                \"rf\": rf,\n",
    "                \"strike\": strike,\n",
    "                }\n",
    "\n",
    "payoff_params = {\"strike\": strike}\n",
    "\n",
    "n_train = int(p_train * n_simulations)\n",
    "n_test = n_simulations - n_train\n",
    "\n",
    "dt = SimulationData(bs_generator, bs_params, bs_call_price, price_params, call_payoff, payoff_params)\n",
    "dt_train, dt_test = torch.utils.data.random_split(dt, [n_train, n_test])\n",
    "data_loader_train = DataLoader(dt_train, batch_size=BATCH_SIZE, shuffle=True)\n",
    "cn = ControlNet(n_steps, 1, fc_dims, 1)\n",
    "\n",
    "optimizer = Adam(cn.parameters(), lr=LR)\n",
    "criterion = torch.nn.MSELoss()\n",
    "train(data_loader_train, cn, criterion , optimizer, EPOCHS, writer)"
   ]
  },
  {
   "cell_type": "code",
   "execution_count": 24,
   "metadata": {},
   "outputs": [
    {
     "data": {
      "text/plain": [
       "[<matplotlib.lines.Line2D at 0x7f7e76099970>]"
      ]
     },
     "execution_count": 24,
     "metadata": {},
     "output_type": "execute_result"
    },
    {
     "data": {
      "image/png": "[encoded data removed]",
      "text/plain": [
       "<Figure size 432x288 with 1 Axes>"
      ]
     },
     "metadata": {
      "needs_background": "light"
     },
     "output_type": "display_data"
    }
   ],
   "source": [
    "a, b, c, d = next(iter(data_loader_train))\n",
    "plt.plot(a[0])"
   ]
  },
  {
   "cell_type": "code",
   "execution_count": 25,
   "metadata": {},
   "outputs": [],
   "source": [
    "def delta(x):\n",
    "    return bs_delta(n_steps, x, sigma, rf, strike)"
   ]
  },
  {
   "cell_type": "code",
   "execution_count": 26,
   "metadata": {},
   "outputs": [
    {
     "name": "stdout",
     "output_type": "stream",
     "text": [
      "tensor(1.9985, grad_fn=<MseLossBackward>)\n",
      "tensor(0.2765)\n"
     ]
    }
   ],
   "source": [
    "# Evaluation In-Sample\n",
    "\n",
    "_ ,model_loss = test(data_loader_train, cn, criterion)\n",
    "\n",
    "l = len(data_loader_train.dataset)\n",
    "x, x_inc, payoff, price = data_loader_train.dataset[:l]\n",
    "\n",
    "d_hedge = x.apply_(delta)\n",
    "si = stochastic_integral(x_inc, d_hedge)\n",
    "delta_loss = criterion(price + si, payoff)\n",
    "\n",
    "print(model_loss)\n",
    "print(delta_loss)"
   ]
  },
  {
   "cell_type": "code",
   "execution_count": 11,
   "metadata": {
    "scrolled": true
   },
   "outputs": [
    {
     "name": "stdout",
     "output_type": "stream",
     "text": [
      "tensor(1.9803, grad_fn=<MseLossBackward>)\n",
      "tensor(0.2702)\n"
     ]
    }
   ],
   "source": [
    "# Evaluation Out-Sample\n",
    "data_loader_test = DataLoader(dt_test, batch_size=20, shuffle=True)\n",
    "\n",
    "_ ,model_loss = test(data_loader_test, cn, criterion)\n",
    "\n",
    "l = len(data_loader_test.dataset)\n",
    "x, x_inc, payoff, price = data_loader_test.dataset[:l]\n",
    "\n",
    "d_hedge = x.apply_(delta)\n",
    "si = stochastic_integral(x_inc, d_hedge)\n",
    "delta_loss = criterion(price + si, payoff)\n",
    "\n",
    "print(model_loss)\n",
    "print(delta_loss)"
   ]
  },
  {
   "cell_type": "code",
   "execution_count": 23,
   "metadata": {},
   "outputs": [
    {
     "data": {
      "text/plain": [
       "0.9975609756097561"
      ]
     },
     "execution_count": 23,
     "metadata": {},
     "output_type": "execute_result"
    }
   ],
   "source": [
    "# normalize everything by the strike\n",
    "initial_value / strike"
   ]
  },
  {
   "cell_type": "code",
   "execution_count": null,
   "metadata": {},
   "outputs": [],
   "source": []
  }
 ],
 "metadata": {
  "interpreter": {
   "hash": "9f5e567d87b18601037d8bd90b6477353143d668259048eee49a116983c03570"
  },
  "kernelspec": {
   "display_name": "Python [conda env:deep_hedging]",
   "language": "python",
   "name": "python3"
  },
  "language_info": {
   "codemirror_mode": {
    "name": "ipython",
    "version": 3
   },
   "file_extension": ".py",
   "mimetype": "text/x-python",
   "name": "python",
   "nbconvert_exporter": "python",
   "pygments_lexer": "ipython3",
   "version": "3.8.10"
  }
 },
 "nbformat": 4,
 "nbformat_minor": 2
}
